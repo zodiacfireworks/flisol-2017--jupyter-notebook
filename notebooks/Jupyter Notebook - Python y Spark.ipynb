{
 "cells": [
  {
   "cell_type": "markdown",
   "metadata": {},
   "source": [
    "<div class=\"clearfix\" style=\"padding: 10px; padding-left: 0px\">\n",
    "<img src=\"resources/img/softbutterfly-logo.png\" class=\"pull-left\" style=\"display: block; height: 40px; margin: 0;\"><img src=\"resources/img/jupyter-logo.png\" class=\"pull-right\"  style=\"display: block; height: 20px; margin-top: 10px;\">\n",
    "</div>"
   ]
  },
  {
   "cell_type": "markdown",
   "metadata": {},
   "source": [
    "<h1>Jupyter Notebok: Un entorno de programación interactivo<br><small>Parte II: Monitoreo de tareas de Spark en Jupyter Notebook</small></h1>\n"
   ]
  },
  {
   "cell_type": "markdown",
   "metadata": {},
   "source": [
    "<b>Martín Josemaría Vuelta Rojas</b><br><br>\n",
    "<i>Universidad Nacional Mayor de San Marcos</i><br>\n",
    "<span>Facultad de Ciencias Físicas</span><br><br>\n",
    "<i>SoftButterfly</i><br>\n",
    "<span>Cofundador y Líder del Área de Desarrollo</span>"
   ]
  },
  {
   "cell_type": "markdown",
   "metadata": {},
   "source": [
    "# Ejemplos"
   ]
  },
  {
   "cell_type": "markdown",
   "metadata": {},
   "source": [
    "<div style=\"padding: 16px; border: 1px solid #dedede; border-left: 5px solid #1b809e; border-radius: 4px;margin:0;\">\n",
    "<h3 style=\"color:#1b809e; margin: 0; font-weight: normal;\">Suma de números</h3>\n",
    "\n",
    "<p>\n",
    "Obtener la suma de una lista un millon de números aleatrios.\n",
    "</p>\n",
    "</div>"
   ]
  },
  {
   "cell_type": "code",
   "execution_count": 1,
   "metadata": {
    "collapsed": true
   },
   "outputs": [],
   "source": [
    "from IPython.display import HTML\n",
    "from IPython.display import Javascript\n",
    "from IPython.display import display_javascript\n",
    "from IPython.display import display_html\n",
    "\n",
    "from urllib import request\n",
    "from time import sleep\n",
    "from uuid import uuid4\n",
    "\n",
    "import threading\n",
    "import json\n",
    "\n",
    "\n",
    "class SparkNumberSum(object):\n",
    "    widget = open(\"spark_monitor_widget.html\").read()\n",
    "\n",
    "    def __init__(self, ):\n",
    "        self.uuid = uuid4().hex\n",
    "        self.is_widget_displayed = False\n",
    "        self.sum = 0\n",
    "        self.rdd = None\n",
    "        self.monitoring = threading.Thread(target=self.monitor)\n",
    "        self.jobID = None\n",
    "        self.appID = None\n",
    "        \n",
    "    def _display_html(self):\n",
    "        if not self.is_widget_displayed:\n",
    "            self.widget = self.widget % {\n",
    "                'uuid': self.uuid,\n",
    "                'appid': self.rdd.ctx.applicationId\n",
    "            }\n",
    "            \n",
    "            display_html(\n",
    "                HTML(self.widget)\n",
    "            )\n",
    "            \n",
    "            self.is_widget_displayed = True\n",
    "    \n",
    "    def monitor(self):\n",
    "        url_base = \"http://127.0.0.1:4040/api/v1/applications/\"\n",
    "        url_pattern = url_base + '%(appid)s/jobs'\n",
    "        \n",
    "        if self.appID is None:\n",
    "            response = request.urlopen(url_base)\n",
    "            response = json.loads(response.read().decode(\"utf8\"))\n",
    "            response = response[0]\n",
    "            self.appID = response[\"id\"]\n",
    "            \n",
    "            response = json.dumps(response)\n",
    "            \n",
    "            jso = Javascript(\"getApplicationData_%(uuid)s(%(data)s)\" % {'uuid': self.uuid, 'data': response})\n",
    "            display_javascript(jso)\n",
    "        \n",
    "        numCompletedTasks = 0\n",
    "        numTasks = 0\n",
    "\n",
    "        sleep(0.05)\n",
    "        url = url_pattern % {'appid': self.appID}\n",
    "        \n",
    "        while True:\n",
    "            response = request.urlopen(url)\n",
    "            response = json.loads(response.read().decode(\"utf8\"))\n",
    "\n",
    "            if self.jobID is None:\n",
    "                response = response[0]\n",
    "                \n",
    "                if (response[\"status\"] == \"SUCCEEDED\"):\n",
    "                    sleep(0.05)\n",
    "                    continue\n",
    "                    \n",
    "                self.jobID = response[\"jobId\"]\n",
    "            else:\n",
    "                response = response[- self.jobID - 1]\n",
    "            \n",
    "            numCompletedTasks = response[\"numCompletedTasks\"]\n",
    "            numTasks = response[\"numTasks\"]\n",
    "            \n",
    "            response = json.dumps(response)\n",
    "            \n",
    "            jso = Javascript(\"refreshJobProgress_%(uuid)s(%(data)s)\" % {'uuid': self.uuid, 'data': response})\n",
    "            display_javascript(jso)\n",
    "            \n",
    "            if numCompletedTasks >= numTasks:\n",
    "                break\n",
    "            \n",
    "            sleep(0.005)\n",
    "      \n",
    "    \n",
    "    def apply(self, data, numSlices=20):\n",
    "        self.rdd = sc.parallelize(data, numSlices=numSlices)\n",
    "        \n",
    "        self._display_html()\n",
    "        self.monitoring.start()\n",
    "        \n",
    "        self.sum = self.rdd.flatMap(lambda t: t[1]).sum()\n",
    "\n",
    "        return self.sum"
   ]
  },
  {
   "cell_type": "code",
   "execution_count": 2,
   "metadata": {
    "collapsed": false
   },
   "outputs": [
    {
     "data": {
      "text/html": [
       "<html>\n",
       "    <head>\n",
       "        <meta charset=\"utf-8\">\n",
       "        <title>Test</title>\n",
       "        <link type=\"styleshet/css\" src=\"https://maxcdn.bootstrapcdn.com/font-awesome/4.7.0/css/font-awesome.min.css\">\n",
       "        <style>\n",
       "            .spark.panel {\n",
       "                background-color: #fafafa;\n",
       "                border: 1px solid orange;\n",
       "                border-left: 0.4rem solid orange;\n",
       "                border-radius: 0.4rem;\n",
       "                margin-left: -0.4rem;\n",
       "                margin-right: -0.4rem;\n",
       "                padding: 1rem;\n",
       "            }\n",
       "\n",
       "            .spark .title {\n",
       "                margin: 0 0 2rem 0;\n",
       "                font-size: 1.5rem;\n",
       "                line-height: 1.5rem;\n",
       "            }\n",
       "\n",
       "            .spark .subtitle {\n",
       "                margin: 0 0 2rem 0;\n",
       "                font-size: 1.4rem;\n",
       "                line-height: 1.4rem;\n",
       "            }\n",
       "\n",
       "            .spark .panel .title {\n",
       "                font-weight: bold;\n",
       "                margin: -1rem -1rem 1rem;\n",
       "                padding: 1rem;\n",
       "                font-size: 1.35rem;\n",
       "                line-height: 1.35rem;\n",
       "                border-bottom: 1px solid #dedede;\n",
       "            }\n",
       "\n",
       "            .spark .panel .title:after {\n",
       "                content: \":\";\n",
       "            }\n",
       "            .spark dl.app.panel {\n",
       "                padding: 1rem;\n",
       "                font-size: 1.25rem;\n",
       "                line-height: 1.25rem;\n",
       "                margin: 0 0 1rem 0;\n",
       "            }\n",
       "\n",
       "            .spark dl.progress.panel {\n",
       "                padding: 1rem;\n",
       "                font-size: 1.25rem;\n",
       "                line-height: 1.25rem;\n",
       "                height: auto;\n",
       "                background-color: #ffffff;\n",
       "                -webkit-box-shadow: 0 1px 1px rgba(0, 0, 0, 0.05);\n",
       "                box-shadow: 0 1px 1px rgba(0, 0, 0, 0.05);\n",
       "                margin: 0;\n",
       "            }\n",
       "\n",
       "            .spark dl.progress.panel .bar  {\n",
       "                position: relative;\n",
       "                height: 2rem;\n",
       "                display: block;\n",
       "                width: 100%;\n",
       "                background-color: #dedede;\n",
       "                overflow: hidden;\n",
       "                border-radius: 0.5rem;\n",
       "            }\n",
       "\n",
       "            .spark dl.progress.panel .bar .fill {\n",
       "                background-color: orange;\n",
       "                height: 2rem;\n",
       "                line-height: 2rem;\n",
       "                position: absolute;\n",
       "                left: 0;\n",
       "                top: 0;\n",
       "            }\n",
       "\n",
       "            .spark dl.progress.panel .bar .text {\n",
       "                height: 2rem;\n",
       "                line-height: 2rem;\n",
       "                padding: 0 0.5rem;\n",
       "                position: absolute;\n",
       "                right: 0;\n",
       "                top: 0;\n",
       "            }\n",
       "\n",
       "            .spark dl.panel dt:after {\n",
       "                content: \":\";\n",
       "            }\n",
       "\n",
       "            .spark dl.panel dd {\n",
       "                padding-left: 1.5rem;\n",
       "            }\n",
       "\n",
       "            .spark dl.panel dd + dt {\n",
       "                margin-top: 0.5rem;\n",
       "            }\n",
       "        </style>\n",
       "        <script type=\"text/javascript\">\n",
       "            function getApplicationData_a54d2004adc94211abb8f40b66adb7ae(data){\n",
       "                $('#app-panel-a54d2004adc94211abb8f40b66adb7ae')\n",
       "                    .append($('<dt></dt>').text(\"Application ID\"))\n",
       "                    .append($('<dd id=\"application-id-a54d2004adc94211abb8f40b66adb7ae\"></dd>').text(data[\"id\"]))\n",
       "                    .append($('<dt></dt>').text(\"Application Name\"))\n",
       "                    .append($('<dd id=\"application-name-a54d2004adc94211abb8f40b66adb7ae\"></dd>').text(data[\"name\"]));\n",
       "            }\n",
       "\n",
       "            function refreshJobProgress_a54d2004adc94211abb8f40b66adb7ae(data) {\n",
       "                progress = parseFloat(data[\"numCompletedTasks\"])/parseFloat(data[\"numTasks\"]);\n",
       "                progress = Number(Math.round(progress+'e2')).toFixed(2);\n",
       "\n",
       "                $('#progress-panel-a54d2004adc94211abb8f40b66adb7ae .text').text(progress + \"%\");\n",
       "                $('#progress-panel-a54d2004adc94211abb8f40b66adb7ae .fill').css('width', progress + \"%\");\n",
       "\n",
       "                $('#progress-panel-a54d2004adc94211abb8f40b66adb7ae .job.id').text(data[\"jobId\"]);\n",
       "                $('#progress-panel-a54d2004adc94211abb8f40b66adb7ae .job.name').text(data[\"name\"]);\n",
       "                $('#progress-panel-a54d2004adc94211abb8f40b66adb7ae .total.task').text(data[\"numTasks\"]);\n",
       "                $('#progress-panel-a54d2004adc94211abb8f40b66adb7ae .completed.task').text(data[\"numCompletedTasks\"]);                    \n",
       "            }\n",
       "        </script>\n",
       "    </head>\n",
       "    <body>\n",
       "        <div class=\"spark panel\">\n",
       "            <h1 class=\"title\" id=\"a54d2004adc94211abb8f40b66adb7ae\">\n",
       "                <i class=\"fa fa-fw fa-star-o\"></i> Spark Process Monitor\n",
       "            </h1>\n",
       "            <h2 class=\"subtitle\">\n",
       "                Process UUID: \"a54d2004adc94211abb8f40b66adb7ae\"\n",
       "            </h2>\n",
       "            <dl class=\"app panel\" id=\"app-panel-a54d2004adc94211abb8f40b66adb7ae\">\n",
       "                <dt class=\"title\">Application Detail</dt>\n",
       "            </dl>\n",
       "            <dl class=\"progress panel\" id=\"progress-panel-a54d2004adc94211abb8f40b66adb7ae\">\n",
       "                <dt class=\"title\">Progress Detail</dt>\n",
       "                <dt>Job ID</dt>\n",
       "                <dd class=\"job id\"></dd>\n",
       "                <dt>Job Name</dt>\n",
       "                <dd class=\"job name\"></dd>\n",
       "                <dt>Total Tasks</dt>\n",
       "                <dd class=\"total task\"></dd>\n",
       "                <dt>Completed Tasks</dt>\n",
       "                <dd class=\"completed task\"></dd>\n",
       "                <dt>Progress</dt>\n",
       "                <dd>\n",
       "                    <div class=\"bar\">\n",
       "                        <div class=\"fill\"></div>\n",
       "                        <div class=\"text\"></div>\n",
       "                    </div>\n",
       "                </dd>\n",
       "            </dl>\n",
       "        </div>\n",
       "    </body>\n",
       "</html>\n"
      ]
     },
     "metadata": {},
     "output_type": "display_data"
    },
    {
     "data": {
      "application/javascript": [
       "getApplicationData_a54d2004adc94211abb8f40b66adb7ae({\"id\": \"local-1493602964790\", \"name\": \"PySparkShell\", \"attempts\": [{\"startTime\": \"2017-05-01T01:42:14.466GMT\", \"endTime\": \"1969-12-31T23:59:59.999GMT\", \"lastUpdated\": \"2017-05-01T01:42:14.466GMT\", \"duration\": 0, \"sparkUser\": \"\", \"completed\": false, \"startTimeEpoch\": 1493602934466, \"endTimeEpoch\": -1, \"lastUpdatedEpoch\": 1493602934466}]})"
      ]
     },
     "metadata": {},
     "output_type": "display_data"
    },
    {
     "data": {
      "application/javascript": [
       "refreshJobProgress_a54d2004adc94211abb8f40b66adb7ae({\"jobId\": 0, \"name\": \"sum at <ipython-input-1-58c4354088ce>:95\", \"submissionTime\": \"2017-05-01T01:43:42.975GMT\", \"stageIds\": [0], \"status\": \"RUNNING\", \"numTasks\": 50, \"numActiveTasks\": 2, \"numCompletedTasks\": 9, \"numSkippedTasks\": 0, \"numFailedTasks\": 0, \"numActiveStages\": 1, \"numCompletedStages\": 0, \"numSkippedStages\": 0, \"numFailedStages\": 0})"
      ]
     },
     "metadata": {},
     "output_type": "display_data"
    },
    {
     "data": {
      "application/javascript": [
       "refreshJobProgress_a54d2004adc94211abb8f40b66adb7ae({\"jobId\": 0, \"name\": \"sum at <ipython-input-1-58c4354088ce>:95\", \"submissionTime\": \"2017-05-01T01:43:42.975GMT\", \"stageIds\": [0], \"status\": \"RUNNING\", \"numTasks\": 50, \"numActiveTasks\": 1, \"numCompletedTasks\": 14, \"numSkippedTasks\": 0, \"numFailedTasks\": 0, \"numActiveStages\": 1, \"numCompletedStages\": 0, \"numSkippedStages\": 0, \"numFailedStages\": 0})"
      ]
     },
     "metadata": {},
     "output_type": "display_data"
    },
    {
     "data": {
      "application/javascript": [
       "refreshJobProgress_a54d2004adc94211abb8f40b66adb7ae({\"jobId\": 0, \"name\": \"sum at <ipython-input-1-58c4354088ce>:95\", \"submissionTime\": \"2017-05-01T01:43:42.975GMT\", \"stageIds\": [0], \"status\": \"RUNNING\", \"numTasks\": 50, \"numActiveTasks\": 1, \"numCompletedTasks\": 14, \"numSkippedTasks\": 0, \"numFailedTasks\": 0, \"numActiveStages\": 1, \"numCompletedStages\": 0, \"numSkippedStages\": 0, \"numFailedStages\": 0})"
      ]
     },
     "metadata": {},
     "output_type": "display_data"
    },
    {
     "data": {
      "application/javascript": [
       "refreshJobProgress_a54d2004adc94211abb8f40b66adb7ae({\"jobId\": 0, \"name\": \"sum at <ipython-input-1-58c4354088ce>:95\", \"submissionTime\": \"2017-05-01T01:43:42.975GMT\", \"stageIds\": [0], \"status\": \"RUNNING\", \"numTasks\": 50, \"numActiveTasks\": 1, \"numCompletedTasks\": 14, \"numSkippedTasks\": 0, \"numFailedTasks\": 0, \"numActiveStages\": 1, \"numCompletedStages\": 0, \"numSkippedStages\": 0, \"numFailedStages\": 0})"
      ]
     },
     "metadata": {},
     "output_type": "display_data"
    },
    {
     "data": {
      "application/javascript": [
       "refreshJobProgress_a54d2004adc94211abb8f40b66adb7ae({\"jobId\": 0, \"name\": \"sum at <ipython-input-1-58c4354088ce>:95\", \"submissionTime\": \"2017-05-01T01:43:42.975GMT\", \"stageIds\": [0], \"status\": \"RUNNING\", \"numTasks\": 50, \"numActiveTasks\": 1, \"numCompletedTasks\": 15, \"numSkippedTasks\": 0, \"numFailedTasks\": 0, \"numActiveStages\": 1, \"numCompletedStages\": 0, \"numSkippedStages\": 0, \"numFailedStages\": 0})"
      ]
     },
     "metadata": {},
     "output_type": "display_data"
    },
    {
     "data": {
      "application/javascript": [
       "refreshJobProgress_a54d2004adc94211abb8f40b66adb7ae({\"jobId\": 0, \"name\": \"sum at <ipython-input-1-58c4354088ce>:95\", \"submissionTime\": \"2017-05-01T01:43:42.975GMT\", \"stageIds\": [0], \"status\": \"RUNNING\", \"numTasks\": 50, \"numActiveTasks\": 1, \"numCompletedTasks\": 16, \"numSkippedTasks\": 0, \"numFailedTasks\": 0, \"numActiveStages\": 1, \"numCompletedStages\": 0, \"numSkippedStages\": 0, \"numFailedStages\": 0})"
      ]
     },
     "metadata": {},
     "output_type": "display_data"
    },
    {
     "data": {
      "application/javascript": [
       "refreshJobProgress_a54d2004adc94211abb8f40b66adb7ae({\"jobId\": 0, \"name\": \"sum at <ipython-input-1-58c4354088ce>:95\", \"submissionTime\": \"2017-05-01T01:43:42.975GMT\", \"stageIds\": [0], \"status\": \"RUNNING\", \"numTasks\": 50, \"numActiveTasks\": 1, \"numCompletedTasks\": 16, \"numSkippedTasks\": 0, \"numFailedTasks\": 0, \"numActiveStages\": 1, \"numCompletedStages\": 0, \"numSkippedStages\": 0, \"numFailedStages\": 0})"
      ]
     },
     "metadata": {},
     "output_type": "display_data"
    },
    {
     "data": {
      "application/javascript": [
       "refreshJobProgress_a54d2004adc94211abb8f40b66adb7ae({\"jobId\": 0, \"name\": \"sum at <ipython-input-1-58c4354088ce>:95\", \"submissionTime\": \"2017-05-01T01:43:42.975GMT\", \"stageIds\": [0], \"status\": \"RUNNING\", \"numTasks\": 50, \"numActiveTasks\": 1, \"numCompletedTasks\": 17, \"numSkippedTasks\": 0, \"numFailedTasks\": 0, \"numActiveStages\": 1, \"numCompletedStages\": 0, \"numSkippedStages\": 0, \"numFailedStages\": 0})"
      ]
     },
     "metadata": {},
     "output_type": "display_data"
    },
    {
     "data": {
      "application/javascript": [
       "refreshJobProgress_a54d2004adc94211abb8f40b66adb7ae({\"jobId\": 0, \"name\": \"sum at <ipython-input-1-58c4354088ce>:95\", \"submissionTime\": \"2017-05-01T01:43:42.975GMT\", \"stageIds\": [0], \"status\": \"RUNNING\", \"numTasks\": 50, \"numActiveTasks\": 1, \"numCompletedTasks\": 18, \"numSkippedTasks\": 0, \"numFailedTasks\": 0, \"numActiveStages\": 1, \"numCompletedStages\": 0, \"numSkippedStages\": 0, \"numFailedStages\": 0})"
      ]
     },
     "metadata": {},
     "output_type": "display_data"
    },
    {
     "data": {
      "application/javascript": [
       "refreshJobProgress_a54d2004adc94211abb8f40b66adb7ae({\"jobId\": 0, \"name\": \"sum at <ipython-input-1-58c4354088ce>:95\", \"submissionTime\": \"2017-05-01T01:43:42.975GMT\", \"stageIds\": [0], \"status\": \"RUNNING\", \"numTasks\": 50, \"numActiveTasks\": 1, \"numCompletedTasks\": 19, \"numSkippedTasks\": 0, \"numFailedTasks\": 0, \"numActiveStages\": 1, \"numCompletedStages\": 0, \"numSkippedStages\": 0, \"numFailedStages\": 0})"
      ]
     },
     "metadata": {},
     "output_type": "display_data"
    },
    {
     "data": {
      "application/javascript": [
       "refreshJobProgress_a54d2004adc94211abb8f40b66adb7ae({\"jobId\": 0, \"name\": \"sum at <ipython-input-1-58c4354088ce>:95\", \"submissionTime\": \"2017-05-01T01:43:42.975GMT\", \"stageIds\": [0], \"status\": \"RUNNING\", \"numTasks\": 50, \"numActiveTasks\": 1, \"numCompletedTasks\": 19, \"numSkippedTasks\": 0, \"numFailedTasks\": 0, \"numActiveStages\": 1, \"numCompletedStages\": 0, \"numSkippedStages\": 0, \"numFailedStages\": 0})"
      ]
     },
     "metadata": {},
     "output_type": "display_data"
    },
    {
     "data": {
      "application/javascript": [
       "refreshJobProgress_a54d2004adc94211abb8f40b66adb7ae({\"jobId\": 0, \"name\": \"sum at <ipython-input-1-58c4354088ce>:95\", \"submissionTime\": \"2017-05-01T01:43:42.975GMT\", \"stageIds\": [0], \"status\": \"RUNNING\", \"numTasks\": 50, \"numActiveTasks\": 1, \"numCompletedTasks\": 20, \"numSkippedTasks\": 0, \"numFailedTasks\": 0, \"numActiveStages\": 1, \"numCompletedStages\": 0, \"numSkippedStages\": 0, \"numFailedStages\": 0})"
      ]
     },
     "metadata": {},
     "output_type": "display_data"
    },
    {
     "data": {
      "application/javascript": [
       "refreshJobProgress_a54d2004adc94211abb8f40b66adb7ae({\"jobId\": 0, \"name\": \"sum at <ipython-input-1-58c4354088ce>:95\", \"submissionTime\": \"2017-05-01T01:43:42.975GMT\", \"stageIds\": [0], \"status\": \"RUNNING\", \"numTasks\": 50, \"numActiveTasks\": 2, \"numCompletedTasks\": 21, \"numSkippedTasks\": 0, \"numFailedTasks\": 0, \"numActiveStages\": 1, \"numCompletedStages\": 0, \"numSkippedStages\": 0, \"numFailedStages\": 0})"
      ]
     },
     "metadata": {},
     "output_type": "display_data"
    },
    {
     "data": {
      "application/javascript": [
       "refreshJobProgress_a54d2004adc94211abb8f40b66adb7ae({\"jobId\": 0, \"name\": \"sum at <ipython-input-1-58c4354088ce>:95\", \"submissionTime\": \"2017-05-01T01:43:42.975GMT\", \"stageIds\": [0], \"status\": \"RUNNING\", \"numTasks\": 50, \"numActiveTasks\": 1, \"numCompletedTasks\": 22, \"numSkippedTasks\": 0, \"numFailedTasks\": 0, \"numActiveStages\": 1, \"numCompletedStages\": 0, \"numSkippedStages\": 0, \"numFailedStages\": 0})"
      ]
     },
     "metadata": {},
     "output_type": "display_data"
    },
    {
     "data": {
      "application/javascript": [
       "refreshJobProgress_a54d2004adc94211abb8f40b66adb7ae({\"jobId\": 0, \"name\": \"sum at <ipython-input-1-58c4354088ce>:95\", \"submissionTime\": \"2017-05-01T01:43:42.975GMT\", \"stageIds\": [0], \"status\": \"RUNNING\", \"numTasks\": 50, \"numActiveTasks\": 1, \"numCompletedTasks\": 23, \"numSkippedTasks\": 0, \"numFailedTasks\": 0, \"numActiveStages\": 1, \"numCompletedStages\": 0, \"numSkippedStages\": 0, \"numFailedStages\": 0})"
      ]
     },
     "metadata": {},
     "output_type": "display_data"
    },
    {
     "data": {
      "application/javascript": [
       "refreshJobProgress_a54d2004adc94211abb8f40b66adb7ae({\"jobId\": 0, \"name\": \"sum at <ipython-input-1-58c4354088ce>:95\", \"submissionTime\": \"2017-05-01T01:43:42.975GMT\", \"stageIds\": [0], \"status\": \"RUNNING\", \"numTasks\": 50, \"numActiveTasks\": 1, \"numCompletedTasks\": 23, \"numSkippedTasks\": 0, \"numFailedTasks\": 0, \"numActiveStages\": 1, \"numCompletedStages\": 0, \"numSkippedStages\": 0, \"numFailedStages\": 0})"
      ]
     },
     "metadata": {},
     "output_type": "display_data"
    },
    {
     "data": {
      "application/javascript": [
       "refreshJobProgress_a54d2004adc94211abb8f40b66adb7ae({\"jobId\": 0, \"name\": \"sum at <ipython-input-1-58c4354088ce>:95\", \"submissionTime\": \"2017-05-01T01:43:42.975GMT\", \"stageIds\": [0], \"status\": \"RUNNING\", \"numTasks\": 50, \"numActiveTasks\": 1, \"numCompletedTasks\": 24, \"numSkippedTasks\": 0, \"numFailedTasks\": 0, \"numActiveStages\": 1, \"numCompletedStages\": 0, \"numSkippedStages\": 0, \"numFailedStages\": 0})"
      ]
     },
     "metadata": {},
     "output_type": "display_data"
    },
    {
     "data": {
      "application/javascript": [
       "refreshJobProgress_a54d2004adc94211abb8f40b66adb7ae({\"jobId\": 0, \"name\": \"sum at <ipython-input-1-58c4354088ce>:95\", \"submissionTime\": \"2017-05-01T01:43:42.975GMT\", \"stageIds\": [0], \"status\": \"RUNNING\", \"numTasks\": 50, \"numActiveTasks\": 1, \"numCompletedTasks\": 25, \"numSkippedTasks\": 0, \"numFailedTasks\": 0, \"numActiveStages\": 1, \"numCompletedStages\": 0, \"numSkippedStages\": 0, \"numFailedStages\": 0})"
      ]
     },
     "metadata": {},
     "output_type": "display_data"
    },
    {
     "data": {
      "application/javascript": [
       "refreshJobProgress_a54d2004adc94211abb8f40b66adb7ae({\"jobId\": 0, \"name\": \"sum at <ipython-input-1-58c4354088ce>:95\", \"submissionTime\": \"2017-05-01T01:43:42.975GMT\", \"stageIds\": [0], \"status\": \"RUNNING\", \"numTasks\": 50, \"numActiveTasks\": 1, \"numCompletedTasks\": 26, \"numSkippedTasks\": 0, \"numFailedTasks\": 0, \"numActiveStages\": 1, \"numCompletedStages\": 0, \"numSkippedStages\": 0, \"numFailedStages\": 0})"
      ]
     },
     "metadata": {},
     "output_type": "display_data"
    },
    {
     "data": {
      "application/javascript": [
       "refreshJobProgress_a54d2004adc94211abb8f40b66adb7ae({\"jobId\": 0, \"name\": \"sum at <ipython-input-1-58c4354088ce>:95\", \"submissionTime\": \"2017-05-01T01:43:42.975GMT\", \"stageIds\": [0], \"status\": \"RUNNING\", \"numTasks\": 50, \"numActiveTasks\": 1, \"numCompletedTasks\": 27, \"numSkippedTasks\": 0, \"numFailedTasks\": 0, \"numActiveStages\": 1, \"numCompletedStages\": 0, \"numSkippedStages\": 0, \"numFailedStages\": 0})"
      ]
     },
     "metadata": {},
     "output_type": "display_data"
    },
    {
     "data": {
      "application/javascript": [
       "refreshJobProgress_a54d2004adc94211abb8f40b66adb7ae({\"jobId\": 0, \"name\": \"sum at <ipython-input-1-58c4354088ce>:95\", \"submissionTime\": \"2017-05-01T01:43:42.975GMT\", \"stageIds\": [0], \"status\": \"RUNNING\", \"numTasks\": 50, \"numActiveTasks\": 1, \"numCompletedTasks\": 28, \"numSkippedTasks\": 0, \"numFailedTasks\": 0, \"numActiveStages\": 1, \"numCompletedStages\": 0, \"numSkippedStages\": 0, \"numFailedStages\": 0})"
      ]
     },
     "metadata": {},
     "output_type": "display_data"
    },
    {
     "data": {
      "application/javascript": [
       "refreshJobProgress_a54d2004adc94211abb8f40b66adb7ae({\"jobId\": 0, \"name\": \"sum at <ipython-input-1-58c4354088ce>:95\", \"submissionTime\": \"2017-05-01T01:43:42.975GMT\", \"stageIds\": [0], \"status\": \"RUNNING\", \"numTasks\": 50, \"numActiveTasks\": 1, \"numCompletedTasks\": 29, \"numSkippedTasks\": 0, \"numFailedTasks\": 0, \"numActiveStages\": 1, \"numCompletedStages\": 0, \"numSkippedStages\": 0, \"numFailedStages\": 0})"
      ]
     },
     "metadata": {},
     "output_type": "display_data"
    },
    {
     "data": {
      "application/javascript": [
       "refreshJobProgress_a54d2004adc94211abb8f40b66adb7ae({\"jobId\": 0, \"name\": \"sum at <ipython-input-1-58c4354088ce>:95\", \"submissionTime\": \"2017-05-01T01:43:42.975GMT\", \"stageIds\": [0], \"status\": \"RUNNING\", \"numTasks\": 50, \"numActiveTasks\": 1, \"numCompletedTasks\": 30, \"numSkippedTasks\": 0, \"numFailedTasks\": 0, \"numActiveStages\": 1, \"numCompletedStages\": 0, \"numSkippedStages\": 0, \"numFailedStages\": 0})"
      ]
     },
     "metadata": {},
     "output_type": "display_data"
    },
    {
     "data": {
      "application/javascript": [
       "refreshJobProgress_a54d2004adc94211abb8f40b66adb7ae({\"jobId\": 0, \"name\": \"sum at <ipython-input-1-58c4354088ce>:95\", \"submissionTime\": \"2017-05-01T01:43:42.975GMT\", \"stageIds\": [0], \"status\": \"RUNNING\", \"numTasks\": 50, \"numActiveTasks\": 1, \"numCompletedTasks\": 30, \"numSkippedTasks\": 0, \"numFailedTasks\": 0, \"numActiveStages\": 1, \"numCompletedStages\": 0, \"numSkippedStages\": 0, \"numFailedStages\": 0})"
      ]
     },
     "metadata": {},
     "output_type": "display_data"
    },
    {
     "data": {
      "application/javascript": [
       "refreshJobProgress_a54d2004adc94211abb8f40b66adb7ae({\"jobId\": 0, \"name\": \"sum at <ipython-input-1-58c4354088ce>:95\", \"submissionTime\": \"2017-05-01T01:43:42.975GMT\", \"stageIds\": [0], \"status\": \"RUNNING\", \"numTasks\": 50, \"numActiveTasks\": 1, \"numCompletedTasks\": 30, \"numSkippedTasks\": 0, \"numFailedTasks\": 0, \"numActiveStages\": 1, \"numCompletedStages\": 0, \"numSkippedStages\": 0, \"numFailedStages\": 0})"
      ]
     },
     "metadata": {},
     "output_type": "display_data"
    },
    {
     "data": {
      "application/javascript": [
       "refreshJobProgress_a54d2004adc94211abb8f40b66adb7ae({\"jobId\": 0, \"name\": \"sum at <ipython-input-1-58c4354088ce>:95\", \"submissionTime\": \"2017-05-01T01:43:42.975GMT\", \"stageIds\": [0], \"status\": \"RUNNING\", \"numTasks\": 50, \"numActiveTasks\": 1, \"numCompletedTasks\": 30, \"numSkippedTasks\": 0, \"numFailedTasks\": 0, \"numActiveStages\": 1, \"numCompletedStages\": 0, \"numSkippedStages\": 0, \"numFailedStages\": 0})"
      ]
     },
     "metadata": {},
     "output_type": "display_data"
    },
    {
     "data": {
      "application/javascript": [
       "refreshJobProgress_a54d2004adc94211abb8f40b66adb7ae({\"jobId\": 0, \"name\": \"sum at <ipython-input-1-58c4354088ce>:95\", \"submissionTime\": \"2017-05-01T01:43:42.975GMT\", \"stageIds\": [0], \"status\": \"RUNNING\", \"numTasks\": 50, \"numActiveTasks\": 1, \"numCompletedTasks\": 30, \"numSkippedTasks\": 0, \"numFailedTasks\": 0, \"numActiveStages\": 1, \"numCompletedStages\": 0, \"numSkippedStages\": 0, \"numFailedStages\": 0})"
      ]
     },
     "metadata": {},
     "output_type": "display_data"
    },
    {
     "data": {
      "application/javascript": [
       "refreshJobProgress_a54d2004adc94211abb8f40b66adb7ae({\"jobId\": 0, \"name\": \"sum at <ipython-input-1-58c4354088ce>:95\", \"submissionTime\": \"2017-05-01T01:43:42.975GMT\", \"stageIds\": [0], \"status\": \"RUNNING\", \"numTasks\": 50, \"numActiveTasks\": 1, \"numCompletedTasks\": 31, \"numSkippedTasks\": 0, \"numFailedTasks\": 0, \"numActiveStages\": 1, \"numCompletedStages\": 0, \"numSkippedStages\": 0, \"numFailedStages\": 0})"
      ]
     },
     "metadata": {},
     "output_type": "display_data"
    },
    {
     "data": {
      "application/javascript": [
       "refreshJobProgress_a54d2004adc94211abb8f40b66adb7ae({\"jobId\": 0, \"name\": \"sum at <ipython-input-1-58c4354088ce>:95\", \"submissionTime\": \"2017-05-01T01:43:42.975GMT\", \"stageIds\": [0], \"status\": \"RUNNING\", \"numTasks\": 50, \"numActiveTasks\": 1, \"numCompletedTasks\": 32, \"numSkippedTasks\": 0, \"numFailedTasks\": 0, \"numActiveStages\": 1, \"numCompletedStages\": 0, \"numSkippedStages\": 0, \"numFailedStages\": 0})"
      ]
     },
     "metadata": {},
     "output_type": "display_data"
    },
    {
     "data": {
      "application/javascript": [
       "refreshJobProgress_a54d2004adc94211abb8f40b66adb7ae({\"jobId\": 0, \"name\": \"sum at <ipython-input-1-58c4354088ce>:95\", \"submissionTime\": \"2017-05-01T01:43:42.975GMT\", \"stageIds\": [0], \"status\": \"RUNNING\", \"numTasks\": 50, \"numActiveTasks\": 1, \"numCompletedTasks\": 32, \"numSkippedTasks\": 0, \"numFailedTasks\": 0, \"numActiveStages\": 1, \"numCompletedStages\": 0, \"numSkippedStages\": 0, \"numFailedStages\": 0})"
      ]
     },
     "metadata": {},
     "output_type": "display_data"
    },
    {
     "data": {
      "application/javascript": [
       "refreshJobProgress_a54d2004adc94211abb8f40b66adb7ae({\"jobId\": 0, \"name\": \"sum at <ipython-input-1-58c4354088ce>:95\", \"submissionTime\": \"2017-05-01T01:43:42.975GMT\", \"stageIds\": [0], \"status\": \"RUNNING\", \"numTasks\": 50, \"numActiveTasks\": 1, \"numCompletedTasks\": 32, \"numSkippedTasks\": 0, \"numFailedTasks\": 0, \"numActiveStages\": 1, \"numCompletedStages\": 0, \"numSkippedStages\": 0, \"numFailedStages\": 0})"
      ]
     },
     "metadata": {},
     "output_type": "display_data"
    },
    {
     "data": {
      "application/javascript": [
       "refreshJobProgress_a54d2004adc94211abb8f40b66adb7ae({\"jobId\": 0, \"name\": \"sum at <ipython-input-1-58c4354088ce>:95\", \"submissionTime\": \"2017-05-01T01:43:42.975GMT\", \"stageIds\": [0], \"status\": \"RUNNING\", \"numTasks\": 50, \"numActiveTasks\": 1, \"numCompletedTasks\": 33, \"numSkippedTasks\": 0, \"numFailedTasks\": 0, \"numActiveStages\": 1, \"numCompletedStages\": 0, \"numSkippedStages\": 0, \"numFailedStages\": 0})"
      ]
     },
     "metadata": {},
     "output_type": "display_data"
    },
    {
     "data": {
      "application/javascript": [
       "refreshJobProgress_a54d2004adc94211abb8f40b66adb7ae({\"jobId\": 0, \"name\": \"sum at <ipython-input-1-58c4354088ce>:95\", \"submissionTime\": \"2017-05-01T01:43:42.975GMT\", \"stageIds\": [0], \"status\": \"RUNNING\", \"numTasks\": 50, \"numActiveTasks\": 1, \"numCompletedTasks\": 33, \"numSkippedTasks\": 0, \"numFailedTasks\": 0, \"numActiveStages\": 1, \"numCompletedStages\": 0, \"numSkippedStages\": 0, \"numFailedStages\": 0})"
      ]
     },
     "metadata": {},
     "output_type": "display_data"
    },
    {
     "data": {
      "application/javascript": [
       "refreshJobProgress_a54d2004adc94211abb8f40b66adb7ae({\"jobId\": 0, \"name\": \"sum at <ipython-input-1-58c4354088ce>:95\", \"submissionTime\": \"2017-05-01T01:43:42.975GMT\", \"stageIds\": [0], \"status\": \"RUNNING\", \"numTasks\": 50, \"numActiveTasks\": 1, \"numCompletedTasks\": 34, \"numSkippedTasks\": 0, \"numFailedTasks\": 0, \"numActiveStages\": 1, \"numCompletedStages\": 0, \"numSkippedStages\": 0, \"numFailedStages\": 0})"
      ]
     },
     "metadata": {},
     "output_type": "display_data"
    },
    {
     "data": {
      "application/javascript": [
       "refreshJobProgress_a54d2004adc94211abb8f40b66adb7ae({\"jobId\": 0, \"name\": \"sum at <ipython-input-1-58c4354088ce>:95\", \"submissionTime\": \"2017-05-01T01:43:42.975GMT\", \"stageIds\": [0], \"status\": \"RUNNING\", \"numTasks\": 50, \"numActiveTasks\": 1, \"numCompletedTasks\": 35, \"numSkippedTasks\": 0, \"numFailedTasks\": 0, \"numActiveStages\": 1, \"numCompletedStages\": 0, \"numSkippedStages\": 0, \"numFailedStages\": 0})"
      ]
     },
     "metadata": {},
     "output_type": "display_data"
    },
    {
     "data": {
      "application/javascript": [
       "refreshJobProgress_a54d2004adc94211abb8f40b66adb7ae({\"jobId\": 0, \"name\": \"sum at <ipython-input-1-58c4354088ce>:95\", \"submissionTime\": \"2017-05-01T01:43:42.975GMT\", \"stageIds\": [0], \"status\": \"RUNNING\", \"numTasks\": 50, \"numActiveTasks\": 2, \"numCompletedTasks\": 35, \"numSkippedTasks\": 0, \"numFailedTasks\": 0, \"numActiveStages\": 1, \"numCompletedStages\": 0, \"numSkippedStages\": 0, \"numFailedStages\": 0})"
      ]
     },
     "metadata": {},
     "output_type": "display_data"
    },
    {
     "data": {
      "application/javascript": [
       "refreshJobProgress_a54d2004adc94211abb8f40b66adb7ae({\"jobId\": 0, \"name\": \"sum at <ipython-input-1-58c4354088ce>:95\", \"submissionTime\": \"2017-05-01T01:43:42.975GMT\", \"stageIds\": [0], \"status\": \"RUNNING\", \"numTasks\": 50, \"numActiveTasks\": 2, \"numCompletedTasks\": 35, \"numSkippedTasks\": 0, \"numFailedTasks\": 0, \"numActiveStages\": 1, \"numCompletedStages\": 0, \"numSkippedStages\": 0, \"numFailedStages\": 0})"
      ]
     },
     "metadata": {},
     "output_type": "display_data"
    },
    {
     "data": {
      "application/javascript": [
       "refreshJobProgress_a54d2004adc94211abb8f40b66adb7ae({\"jobId\": 0, \"name\": \"sum at <ipython-input-1-58c4354088ce>:95\", \"submissionTime\": \"2017-05-01T01:43:42.975GMT\", \"stageIds\": [0], \"status\": \"RUNNING\", \"numTasks\": 50, \"numActiveTasks\": 1, \"numCompletedTasks\": 36, \"numSkippedTasks\": 0, \"numFailedTasks\": 0, \"numActiveStages\": 1, \"numCompletedStages\": 0, \"numSkippedStages\": 0, \"numFailedStages\": 0})"
      ]
     },
     "metadata": {},
     "output_type": "display_data"
    },
    {
     "data": {
      "application/javascript": [
       "refreshJobProgress_a54d2004adc94211abb8f40b66adb7ae({\"jobId\": 0, \"name\": \"sum at <ipython-input-1-58c4354088ce>:95\", \"submissionTime\": \"2017-05-01T01:43:42.975GMT\", \"stageIds\": [0], \"status\": \"RUNNING\", \"numTasks\": 50, \"numActiveTasks\": 1, \"numCompletedTasks\": 37, \"numSkippedTasks\": 0, \"numFailedTasks\": 0, \"numActiveStages\": 1, \"numCompletedStages\": 0, \"numSkippedStages\": 0, \"numFailedStages\": 0})"
      ]
     },
     "metadata": {},
     "output_type": "display_data"
    },
    {
     "data": {
      "application/javascript": [
       "refreshJobProgress_a54d2004adc94211abb8f40b66adb7ae({\"jobId\": 0, \"name\": \"sum at <ipython-input-1-58c4354088ce>:95\", \"submissionTime\": \"2017-05-01T01:43:42.975GMT\", \"stageIds\": [0], \"status\": \"RUNNING\", \"numTasks\": 50, \"numActiveTasks\": 1, \"numCompletedTasks\": 38, \"numSkippedTasks\": 0, \"numFailedTasks\": 0, \"numActiveStages\": 1, \"numCompletedStages\": 0, \"numSkippedStages\": 0, \"numFailedStages\": 0})"
      ]
     },
     "metadata": {},
     "output_type": "display_data"
    },
    {
     "data": {
      "application/javascript": [
       "refreshJobProgress_a54d2004adc94211abb8f40b66adb7ae({\"jobId\": 0, \"name\": \"sum at <ipython-input-1-58c4354088ce>:95\", \"submissionTime\": \"2017-05-01T01:43:42.975GMT\", \"stageIds\": [0], \"status\": \"RUNNING\", \"numTasks\": 50, \"numActiveTasks\": 1, \"numCompletedTasks\": 38, \"numSkippedTasks\": 0, \"numFailedTasks\": 0, \"numActiveStages\": 1, \"numCompletedStages\": 0, \"numSkippedStages\": 0, \"numFailedStages\": 0})"
      ]
     },
     "metadata": {},
     "output_type": "display_data"
    },
    {
     "data": {
      "application/javascript": [
       "refreshJobProgress_a54d2004adc94211abb8f40b66adb7ae({\"jobId\": 0, \"name\": \"sum at <ipython-input-1-58c4354088ce>:95\", \"submissionTime\": \"2017-05-01T01:43:42.975GMT\", \"stageIds\": [0], \"status\": \"RUNNING\", \"numTasks\": 50, \"numActiveTasks\": 1, \"numCompletedTasks\": 39, \"numSkippedTasks\": 0, \"numFailedTasks\": 0, \"numActiveStages\": 1, \"numCompletedStages\": 0, \"numSkippedStages\": 0, \"numFailedStages\": 0})"
      ]
     },
     "metadata": {},
     "output_type": "display_data"
    },
    {
     "data": {
      "application/javascript": [
       "refreshJobProgress_a54d2004adc94211abb8f40b66adb7ae({\"jobId\": 0, \"name\": \"sum at <ipython-input-1-58c4354088ce>:95\", \"submissionTime\": \"2017-05-01T01:43:42.975GMT\", \"stageIds\": [0], \"status\": \"RUNNING\", \"numTasks\": 50, \"numActiveTasks\": 1, \"numCompletedTasks\": 39, \"numSkippedTasks\": 0, \"numFailedTasks\": 0, \"numActiveStages\": 1, \"numCompletedStages\": 0, \"numSkippedStages\": 0, \"numFailedStages\": 0})"
      ]
     },
     "metadata": {},
     "output_type": "display_data"
    },
    {
     "data": {
      "application/javascript": [
       "refreshJobProgress_a54d2004adc94211abb8f40b66adb7ae({\"jobId\": 0, \"name\": \"sum at <ipython-input-1-58c4354088ce>:95\", \"submissionTime\": \"2017-05-01T01:43:42.975GMT\", \"stageIds\": [0], \"status\": \"RUNNING\", \"numTasks\": 50, \"numActiveTasks\": 1, \"numCompletedTasks\": 39, \"numSkippedTasks\": 0, \"numFailedTasks\": 0, \"numActiveStages\": 1, \"numCompletedStages\": 0, \"numSkippedStages\": 0, \"numFailedStages\": 0})"
      ]
     },
     "metadata": {},
     "output_type": "display_data"
    },
    {
     "data": {
      "application/javascript": [
       "refreshJobProgress_a54d2004adc94211abb8f40b66adb7ae({\"jobId\": 0, \"name\": \"sum at <ipython-input-1-58c4354088ce>:95\", \"submissionTime\": \"2017-05-01T01:43:42.975GMT\", \"stageIds\": [0], \"status\": \"RUNNING\", \"numTasks\": 50, \"numActiveTasks\": 1, \"numCompletedTasks\": 40, \"numSkippedTasks\": 0, \"numFailedTasks\": 0, \"numActiveStages\": 1, \"numCompletedStages\": 0, \"numSkippedStages\": 0, \"numFailedStages\": 0})"
      ]
     },
     "metadata": {},
     "output_type": "display_data"
    },
    {
     "data": {
      "application/javascript": [
       "refreshJobProgress_a54d2004adc94211abb8f40b66adb7ae({\"jobId\": 0, \"name\": \"sum at <ipython-input-1-58c4354088ce>:95\", \"submissionTime\": \"2017-05-01T01:43:42.975GMT\", \"stageIds\": [0], \"status\": \"RUNNING\", \"numTasks\": 50, \"numActiveTasks\": 1, \"numCompletedTasks\": 40, \"numSkippedTasks\": 0, \"numFailedTasks\": 0, \"numActiveStages\": 1, \"numCompletedStages\": 0, \"numSkippedStages\": 0, \"numFailedStages\": 0})"
      ]
     },
     "metadata": {},
     "output_type": "display_data"
    },
    {
     "data": {
      "application/javascript": [
       "refreshJobProgress_a54d2004adc94211abb8f40b66adb7ae({\"jobId\": 0, \"name\": \"sum at <ipython-input-1-58c4354088ce>:95\", \"submissionTime\": \"2017-05-01T01:43:42.975GMT\", \"stageIds\": [0], \"status\": \"RUNNING\", \"numTasks\": 50, \"numActiveTasks\": 1, \"numCompletedTasks\": 40, \"numSkippedTasks\": 0, \"numFailedTasks\": 0, \"numActiveStages\": 1, \"numCompletedStages\": 0, \"numSkippedStages\": 0, \"numFailedStages\": 0})"
      ]
     },
     "metadata": {},
     "output_type": "display_data"
    },
    {
     "data": {
      "application/javascript": [
       "refreshJobProgress_a54d2004adc94211abb8f40b66adb7ae({\"jobId\": 0, \"name\": \"sum at <ipython-input-1-58c4354088ce>:95\", \"submissionTime\": \"2017-05-01T01:43:42.975GMT\", \"stageIds\": [0], \"status\": \"RUNNING\", \"numTasks\": 50, \"numActiveTasks\": 1, \"numCompletedTasks\": 41, \"numSkippedTasks\": 0, \"numFailedTasks\": 0, \"numActiveStages\": 1, \"numCompletedStages\": 0, \"numSkippedStages\": 0, \"numFailedStages\": 0})"
      ]
     },
     "metadata": {},
     "output_type": "display_data"
    },
    {
     "data": {
      "application/javascript": [
       "refreshJobProgress_a54d2004adc94211abb8f40b66adb7ae({\"jobId\": 0, \"name\": \"sum at <ipython-input-1-58c4354088ce>:95\", \"submissionTime\": \"2017-05-01T01:43:42.975GMT\", \"stageIds\": [0], \"status\": \"RUNNING\", \"numTasks\": 50, \"numActiveTasks\": 1, \"numCompletedTasks\": 41, \"numSkippedTasks\": 0, \"numFailedTasks\": 0, \"numActiveStages\": 1, \"numCompletedStages\": 0, \"numSkippedStages\": 0, \"numFailedStages\": 0})"
      ]
     },
     "metadata": {},
     "output_type": "display_data"
    },
    {
     "data": {
      "application/javascript": [
       "refreshJobProgress_a54d2004adc94211abb8f40b66adb7ae({\"jobId\": 0, \"name\": \"sum at <ipython-input-1-58c4354088ce>:95\", \"submissionTime\": \"2017-05-01T01:43:42.975GMT\", \"stageIds\": [0], \"status\": \"RUNNING\", \"numTasks\": 50, \"numActiveTasks\": 1, \"numCompletedTasks\": 41, \"numSkippedTasks\": 0, \"numFailedTasks\": 0, \"numActiveStages\": 1, \"numCompletedStages\": 0, \"numSkippedStages\": 0, \"numFailedStages\": 0})"
      ]
     },
     "metadata": {},
     "output_type": "display_data"
    },
    {
     "data": {
      "application/javascript": [
       "refreshJobProgress_a54d2004adc94211abb8f40b66adb7ae({\"jobId\": 0, \"name\": \"sum at <ipython-input-1-58c4354088ce>:95\", \"submissionTime\": \"2017-05-01T01:43:42.975GMT\", \"stageIds\": [0], \"status\": \"RUNNING\", \"numTasks\": 50, \"numActiveTasks\": 1, \"numCompletedTasks\": 42, \"numSkippedTasks\": 0, \"numFailedTasks\": 0, \"numActiveStages\": 1, \"numCompletedStages\": 0, \"numSkippedStages\": 0, \"numFailedStages\": 0})"
      ]
     },
     "metadata": {},
     "output_type": "display_data"
    },
    {
     "data": {
      "application/javascript": [
       "refreshJobProgress_a54d2004adc94211abb8f40b66adb7ae({\"jobId\": 0, \"name\": \"sum at <ipython-input-1-58c4354088ce>:95\", \"submissionTime\": \"2017-05-01T01:43:42.975GMT\", \"stageIds\": [0], \"status\": \"RUNNING\", \"numTasks\": 50, \"numActiveTasks\": 1, \"numCompletedTasks\": 42, \"numSkippedTasks\": 0, \"numFailedTasks\": 0, \"numActiveStages\": 1, \"numCompletedStages\": 0, \"numSkippedStages\": 0, \"numFailedStages\": 0})"
      ]
     },
     "metadata": {},
     "output_type": "display_data"
    },
    {
     "data": {
      "application/javascript": [
       "refreshJobProgress_a54d2004adc94211abb8f40b66adb7ae({\"jobId\": 0, \"name\": \"sum at <ipython-input-1-58c4354088ce>:95\", \"submissionTime\": \"2017-05-01T01:43:42.975GMT\", \"stageIds\": [0], \"status\": \"RUNNING\", \"numTasks\": 50, \"numActiveTasks\": 1, \"numCompletedTasks\": 43, \"numSkippedTasks\": 0, \"numFailedTasks\": 0, \"numActiveStages\": 1, \"numCompletedStages\": 0, \"numSkippedStages\": 0, \"numFailedStages\": 0})"
      ]
     },
     "metadata": {},
     "output_type": "display_data"
    },
    {
     "data": {
      "application/javascript": [
       "refreshJobProgress_a54d2004adc94211abb8f40b66adb7ae({\"jobId\": 0, \"name\": \"sum at <ipython-input-1-58c4354088ce>:95\", \"submissionTime\": \"2017-05-01T01:43:42.975GMT\", \"stageIds\": [0], \"status\": \"RUNNING\", \"numTasks\": 50, \"numActiveTasks\": 1, \"numCompletedTasks\": 43, \"numSkippedTasks\": 0, \"numFailedTasks\": 0, \"numActiveStages\": 1, \"numCompletedStages\": 0, \"numSkippedStages\": 0, \"numFailedStages\": 0})"
      ]
     },
     "metadata": {},
     "output_type": "display_data"
    },
    {
     "data": {
      "application/javascript": [
       "refreshJobProgress_a54d2004adc94211abb8f40b66adb7ae({\"jobId\": 0, \"name\": \"sum at <ipython-input-1-58c4354088ce>:95\", \"submissionTime\": \"2017-05-01T01:43:42.975GMT\", \"stageIds\": [0], \"status\": \"RUNNING\", \"numTasks\": 50, \"numActiveTasks\": 1, \"numCompletedTasks\": 45, \"numSkippedTasks\": 0, \"numFailedTasks\": 0, \"numActiveStages\": 1, \"numCompletedStages\": 0, \"numSkippedStages\": 0, \"numFailedStages\": 0})"
      ]
     },
     "metadata": {},
     "output_type": "display_data"
    },
    {
     "data": {
      "application/javascript": [
       "refreshJobProgress_a54d2004adc94211abb8f40b66adb7ae({\"jobId\": 0, \"name\": \"sum at <ipython-input-1-58c4354088ce>:95\", \"submissionTime\": \"2017-05-01T01:43:42.975GMT\", \"stageIds\": [0], \"status\": \"RUNNING\", \"numTasks\": 50, \"numActiveTasks\": 1, \"numCompletedTasks\": 45, \"numSkippedTasks\": 0, \"numFailedTasks\": 0, \"numActiveStages\": 1, \"numCompletedStages\": 0, \"numSkippedStages\": 0, \"numFailedStages\": 0})"
      ]
     },
     "metadata": {},
     "output_type": "display_data"
    },
    {
     "data": {
      "application/javascript": [
       "refreshJobProgress_a54d2004adc94211abb8f40b66adb7ae({\"jobId\": 0, \"name\": \"sum at <ipython-input-1-58c4354088ce>:95\", \"submissionTime\": \"2017-05-01T01:43:42.975GMT\", \"stageIds\": [0], \"status\": \"RUNNING\", \"numTasks\": 50, \"numActiveTasks\": 1, \"numCompletedTasks\": 45, \"numSkippedTasks\": 0, \"numFailedTasks\": 0, \"numActiveStages\": 1, \"numCompletedStages\": 0, \"numSkippedStages\": 0, \"numFailedStages\": 0})"
      ]
     },
     "metadata": {},
     "output_type": "display_data"
    },
    {
     "data": {
      "application/javascript": [
       "refreshJobProgress_a54d2004adc94211abb8f40b66adb7ae({\"jobId\": 0, \"name\": \"sum at <ipython-input-1-58c4354088ce>:95\", \"submissionTime\": \"2017-05-01T01:43:42.975GMT\", \"stageIds\": [0], \"status\": \"RUNNING\", \"numTasks\": 50, \"numActiveTasks\": 1, \"numCompletedTasks\": 46, \"numSkippedTasks\": 0, \"numFailedTasks\": 0, \"numActiveStages\": 1, \"numCompletedStages\": 0, \"numSkippedStages\": 0, \"numFailedStages\": 0})"
      ]
     },
     "metadata": {},
     "output_type": "display_data"
    },
    {
     "data": {
      "application/javascript": [
       "refreshJobProgress_a54d2004adc94211abb8f40b66adb7ae({\"jobId\": 0, \"name\": \"sum at <ipython-input-1-58c4354088ce>:95\", \"submissionTime\": \"2017-05-01T01:43:42.975GMT\", \"stageIds\": [0], \"status\": \"RUNNING\", \"numTasks\": 50, \"numActiveTasks\": 1, \"numCompletedTasks\": 47, \"numSkippedTasks\": 0, \"numFailedTasks\": 0, \"numActiveStages\": 1, \"numCompletedStages\": 0, \"numSkippedStages\": 0, \"numFailedStages\": 0})"
      ]
     },
     "metadata": {},
     "output_type": "display_data"
    },
    {
     "data": {
      "application/javascript": [
       "refreshJobProgress_a54d2004adc94211abb8f40b66adb7ae({\"jobId\": 0, \"name\": \"sum at <ipython-input-1-58c4354088ce>:95\", \"submissionTime\": \"2017-05-01T01:43:42.975GMT\", \"stageIds\": [0], \"status\": \"RUNNING\", \"numTasks\": 50, \"numActiveTasks\": 1, \"numCompletedTasks\": 47, \"numSkippedTasks\": 0, \"numFailedTasks\": 0, \"numActiveStages\": 1, \"numCompletedStages\": 0, \"numSkippedStages\": 0, \"numFailedStages\": 0})"
      ]
     },
     "metadata": {},
     "output_type": "display_data"
    },
    {
     "data": {
      "application/javascript": [
       "refreshJobProgress_a54d2004adc94211abb8f40b66adb7ae({\"jobId\": 0, \"name\": \"sum at <ipython-input-1-58c4354088ce>:95\", \"submissionTime\": \"2017-05-01T01:43:42.975GMT\", \"stageIds\": [0], \"status\": \"RUNNING\", \"numTasks\": 50, \"numActiveTasks\": 1, \"numCompletedTasks\": 48, \"numSkippedTasks\": 0, \"numFailedTasks\": 0, \"numActiveStages\": 1, \"numCompletedStages\": 0, \"numSkippedStages\": 0, \"numFailedStages\": 0})"
      ]
     },
     "metadata": {},
     "output_type": "display_data"
    },
    {
     "data": {
      "application/javascript": [
       "refreshJobProgress_a54d2004adc94211abb8f40b66adb7ae({\"jobId\": 0, \"name\": \"sum at <ipython-input-1-58c4354088ce>:95\", \"submissionTime\": \"2017-05-01T01:43:42.975GMT\", \"stageIds\": [0], \"status\": \"RUNNING\", \"numTasks\": 50, \"numActiveTasks\": 1, \"numCompletedTasks\": 48, \"numSkippedTasks\": 0, \"numFailedTasks\": 0, \"numActiveStages\": 1, \"numCompletedStages\": 0, \"numSkippedStages\": 0, \"numFailedStages\": 0})"
      ]
     },
     "metadata": {},
     "output_type": "display_data"
    },
    {
     "data": {
      "application/javascript": [
       "refreshJobProgress_a54d2004adc94211abb8f40b66adb7ae({\"jobId\": 0, \"name\": \"sum at <ipython-input-1-58c4354088ce>:95\", \"submissionTime\": \"2017-05-01T01:43:42.975GMT\", \"stageIds\": [0], \"status\": \"RUNNING\", \"numTasks\": 50, \"numActiveTasks\": 1, \"numCompletedTasks\": 49, \"numSkippedTasks\": 0, \"numFailedTasks\": 0, \"numActiveStages\": 1, \"numCompletedStages\": 0, \"numSkippedStages\": 0, \"numFailedStages\": 0})"
      ]
     },
     "metadata": {},
     "output_type": "display_data"
    },
    {
     "data": {
      "application/javascript": [
       "refreshJobProgress_a54d2004adc94211abb8f40b66adb7ae({\"jobId\": 0, \"name\": \"sum at <ipython-input-1-58c4354088ce>:95\", \"submissionTime\": \"2017-05-01T01:43:42.975GMT\", \"stageIds\": [0], \"status\": \"RUNNING\", \"numTasks\": 50, \"numActiveTasks\": 1, \"numCompletedTasks\": 49, \"numSkippedTasks\": 0, \"numFailedTasks\": 0, \"numActiveStages\": 1, \"numCompletedStages\": 0, \"numSkippedStages\": 0, \"numFailedStages\": 0})"
      ]
     },
     "metadata": {},
     "output_type": "display_data"
    },
    {
     "data": {
      "application/javascript": [
       "refreshJobProgress_a54d2004adc94211abb8f40b66adb7ae({\"jobId\": 0, \"name\": \"sum at <ipython-input-1-58c4354088ce>:95\", \"submissionTime\": \"2017-05-01T01:43:42.975GMT\", \"stageIds\": [0], \"status\": \"RUNNING\", \"numTasks\": 50, \"numActiveTasks\": 1, \"numCompletedTasks\": 49, \"numSkippedTasks\": 0, \"numFailedTasks\": 0, \"numActiveStages\": 1, \"numCompletedStages\": 0, \"numSkippedStages\": 0, \"numFailedStages\": 0})"
      ]
     },
     "metadata": {},
     "output_type": "display_data"
    },
    {
     "data": {
      "application/javascript": [
       "refreshJobProgress_a54d2004adc94211abb8f40b66adb7ae({\"jobId\": 0, \"name\": \"sum at <ipython-input-1-58c4354088ce>:95\", \"submissionTime\": \"2017-05-01T01:43:42.975GMT\", \"stageIds\": [0], \"status\": \"RUNNING\", \"numTasks\": 50, \"numActiveTasks\": 0, \"numCompletedTasks\": 50, \"numSkippedTasks\": 0, \"numFailedTasks\": 0, \"numActiveStages\": 1, \"numCompletedStages\": 0, \"numSkippedStages\": 0, \"numFailedStages\": 0})"
      ]
     },
     "metadata": {},
     "output_type": "display_data"
    },
    {
     "data": {
      "text/plain": [
       "500201.90756127838"
      ]
     },
     "execution_count": 2,
     "metadata": {},
     "output_type": "execute_result"
    }
   ],
   "source": [
    "from numpy import random\n",
    "\n",
    "spark_job = SparkNumberSum()\n",
    "data = [(i, random.random(1000)) for i in range(1000)]\n",
    "\n",
    "spark_job.apply(data, numSlices=50)"
   ]
  },
  {
   "cell_type": "code",
   "execution_count": 3,
   "metadata": {
    "collapsed": false
   },
   "outputs": [
    {
     "data": {
      "text/html": [
       "<html>\n",
       "    <head>\n",
       "        <meta charset=\"utf-8\">\n",
       "        <title>Test</title>\n",
       "        <link type=\"styleshet/css\" src=\"https://maxcdn.bootstrapcdn.com/font-awesome/4.7.0/css/font-awesome.min.css\">\n",
       "        <style>\n",
       "            .spark.panel {\n",
       "                background-color: #fafafa;\n",
       "                border: 1px solid orange;\n",
       "                border-left: 0.4rem solid orange;\n",
       "                border-radius: 0.4rem;\n",
       "                margin-left: -0.4rem;\n",
       "                margin-right: -0.4rem;\n",
       "                padding: 1rem;\n",
       "            }\n",
       "\n",
       "            .spark .title {\n",
       "                margin: 0 0 2rem 0;\n",
       "                font-size: 1.5rem;\n",
       "                line-height: 1.5rem;\n",
       "            }\n",
       "\n",
       "            .spark .subtitle {\n",
       "                margin: 0 0 2rem 0;\n",
       "                font-size: 1.4rem;\n",
       "                line-height: 1.4rem;\n",
       "            }\n",
       "\n",
       "            .spark .panel .title {\n",
       "                font-weight: bold;\n",
       "                margin: -1rem -1rem 1rem;\n",
       "                padding: 1rem;\n",
       "                font-size: 1.35rem;\n",
       "                line-height: 1.35rem;\n",
       "                border-bottom: 1px solid #dedede;\n",
       "            }\n",
       "\n",
       "            .spark .panel .title:after {\n",
       "                content: \":\";\n",
       "            }\n",
       "            .spark dl.app.panel {\n",
       "                padding: 1rem;\n",
       "                font-size: 1.25rem;\n",
       "                line-height: 1.25rem;\n",
       "                margin: 0 0 1rem 0;\n",
       "            }\n",
       "\n",
       "            .spark dl.progress.panel {\n",
       "                padding: 1rem;\n",
       "                font-size: 1.25rem;\n",
       "                line-height: 1.25rem;\n",
       "                height: auto;\n",
       "                background-color: #ffffff;\n",
       "                -webkit-box-shadow: 0 1px 1px rgba(0, 0, 0, 0.05);\n",
       "                box-shadow: 0 1px 1px rgba(0, 0, 0, 0.05);\n",
       "                margin: 0;\n",
       "            }\n",
       "\n",
       "            .spark dl.progress.panel .bar  {\n",
       "                position: relative;\n",
       "                height: 2rem;\n",
       "                display: block;\n",
       "                width: 100%;\n",
       "                background-color: #dedede;\n",
       "                overflow: hidden;\n",
       "                border-radius: 0.5rem;\n",
       "            }\n",
       "\n",
       "            .spark dl.progress.panel .bar .fill {\n",
       "                background-color: orange;\n",
       "                height: 2rem;\n",
       "                line-height: 2rem;\n",
       "                position: absolute;\n",
       "                left: 0;\n",
       "                top: 0;\n",
       "            }\n",
       "\n",
       "            .spark dl.progress.panel .bar .text {\n",
       "                height: 2rem;\n",
       "                line-height: 2rem;\n",
       "                padding: 0 0.5rem;\n",
       "                position: absolute;\n",
       "                right: 0;\n",
       "                top: 0;\n",
       "            }\n",
       "\n",
       "            .spark dl.panel dt:after {\n",
       "                content: \":\";\n",
       "            }\n",
       "\n",
       "            .spark dl.panel dd {\n",
       "                padding-left: 1.5rem;\n",
       "            }\n",
       "\n",
       "            .spark dl.panel dd + dt {\n",
       "                margin-top: 0.5rem;\n",
       "            }\n",
       "        </style>\n",
       "        <script type=\"text/javascript\">\n",
       "            function getApplicationData_8fd36f33cbe045e582f7174d315c4950(data){\n",
       "                $('#app-panel-8fd36f33cbe045e582f7174d315c4950')\n",
       "                    .append($('<dt></dt>').text(\"Application ID\"))\n",
       "                    .append($('<dd id=\"application-id-8fd36f33cbe045e582f7174d315c4950\"></dd>').text(data[\"id\"]))\n",
       "                    .append($('<dt></dt>').text(\"Application Name\"))\n",
       "                    .append($('<dd id=\"application-name-8fd36f33cbe045e582f7174d315c4950\"></dd>').text(data[\"name\"]));\n",
       "            }\n",
       "\n",
       "            function refreshJobProgress_8fd36f33cbe045e582f7174d315c4950(data) {\n",
       "                progress = parseFloat(data[\"numCompletedTasks\"])/parseFloat(data[\"numTasks\"]);\n",
       "                progress = Number(Math.round(progress+'e2')).toFixed(2);\n",
       "\n",
       "                $('#progress-panel-8fd36f33cbe045e582f7174d315c4950 .text').text(progress + \"%\");\n",
       "                $('#progress-panel-8fd36f33cbe045e582f7174d315c4950 .fill').css('width', progress + \"%\");\n",
       "\n",
       "                $('#progress-panel-8fd36f33cbe045e582f7174d315c4950 .job.id').text(data[\"jobId\"]);\n",
       "                $('#progress-panel-8fd36f33cbe045e582f7174d315c4950 .job.name').text(data[\"name\"]);\n",
       "                $('#progress-panel-8fd36f33cbe045e582f7174d315c4950 .total.task').text(data[\"numTasks\"]);\n",
       "                $('#progress-panel-8fd36f33cbe045e582f7174d315c4950 .completed.task').text(data[\"numCompletedTasks\"]);                    \n",
       "            }\n",
       "        </script>\n",
       "    </head>\n",
       "    <body>\n",
       "        <div class=\"spark panel\">\n",
       "            <h1 class=\"title\" id=\"8fd36f33cbe045e582f7174d315c4950\">\n",
       "                <i class=\"fa fa-fw fa-star-o\"></i> Spark Process Monitor\n",
       "            </h1>\n",
       "            <h2 class=\"subtitle\">\n",
       "                Process UUID: \"8fd36f33cbe045e582f7174d315c4950\"\n",
       "            </h2>\n",
       "            <dl class=\"app panel\" id=\"app-panel-8fd36f33cbe045e582f7174d315c4950\">\n",
       "                <dt class=\"title\">Application Detail</dt>\n",
       "            </dl>\n",
       "            <dl class=\"progress panel\" id=\"progress-panel-8fd36f33cbe045e582f7174d315c4950\">\n",
       "                <dt class=\"title\">Progress Detail</dt>\n",
       "                <dt>Job ID</dt>\n",
       "                <dd class=\"job id\"></dd>\n",
       "                <dt>Job Name</dt>\n",
       "                <dd class=\"job name\"></dd>\n",
       "                <dt>Total Tasks</dt>\n",
       "                <dd class=\"total task\"></dd>\n",
       "                <dt>Completed Tasks</dt>\n",
       "                <dd class=\"completed task\"></dd>\n",
       "                <dt>Progress</dt>\n",
       "                <dd>\n",
       "                    <div class=\"bar\">\n",
       "                        <div class=\"fill\"></div>\n",
       "                        <div class=\"text\"></div>\n",
       "                    </div>\n",
       "                </dd>\n",
       "            </dl>\n",
       "        </div>\n",
       "    </body>\n",
       "</html>\n"
      ]
     },
     "metadata": {},
     "output_type": "display_data"
    },
    {
     "data": {
      "application/javascript": [
       "getApplicationData_8fd36f33cbe045e582f7174d315c4950({\"id\": \"local-1493602964790\", \"name\": \"PySparkShell\", \"attempts\": [{\"startTime\": \"2017-05-01T01:42:14.466GMT\", \"endTime\": \"1969-12-31T23:59:59.999GMT\", \"lastUpdated\": \"2017-05-01T01:42:14.466GMT\", \"duration\": 0, \"sparkUser\": \"\", \"completed\": false, \"startTimeEpoch\": 1493602934466, \"endTimeEpoch\": -1, \"lastUpdatedEpoch\": 1493602934466}]})"
      ]
     },
     "metadata": {},
     "output_type": "display_data"
    },
    {
     "data": {
      "application/javascript": [
       "refreshJobProgress_8fd36f33cbe045e582f7174d315c4950({\"jobId\": 1, \"name\": \"sum at <ipython-input-1-58c4354088ce>:95\", \"submissionTime\": \"2017-05-01T01:43:54.277GMT\", \"stageIds\": [1], \"status\": \"RUNNING\", \"numTasks\": 50, \"numActiveTasks\": 0, \"numCompletedTasks\": 0, \"numSkippedTasks\": 0, \"numFailedTasks\": 0, \"numActiveStages\": 1, \"numCompletedStages\": 0, \"numSkippedStages\": 0, \"numFailedStages\": 0})"
      ]
     },
     "metadata": {},
     "output_type": "display_data"
    },
    {
     "data": {
      "application/javascript": [
       "refreshJobProgress_8fd36f33cbe045e582f7174d315c4950({\"jobId\": 1, \"name\": \"sum at <ipython-input-1-58c4354088ce>:95\", \"submissionTime\": \"2017-05-01T01:43:54.277GMT\", \"stageIds\": [1], \"status\": \"RUNNING\", \"numTasks\": 50, \"numActiveTasks\": 0, \"numCompletedTasks\": 0, \"numSkippedTasks\": 0, \"numFailedTasks\": 0, \"numActiveStages\": 1, \"numCompletedStages\": 0, \"numSkippedStages\": 0, \"numFailedStages\": 0})"
      ]
     },
     "metadata": {},
     "output_type": "display_data"
    },
    {
     "data": {
      "application/javascript": [
       "refreshJobProgress_8fd36f33cbe045e582f7174d315c4950({\"jobId\": 1, \"name\": \"sum at <ipython-input-1-58c4354088ce>:95\", \"submissionTime\": \"2017-05-01T01:43:54.277GMT\", \"stageIds\": [1], \"status\": \"RUNNING\", \"numTasks\": 50, \"numActiveTasks\": 0, \"numCompletedTasks\": 0, \"numSkippedTasks\": 0, \"numFailedTasks\": 0, \"numActiveStages\": 1, \"numCompletedStages\": 0, \"numSkippedStages\": 0, \"numFailedStages\": 0})"
      ]
     },
     "metadata": {},
     "output_type": "display_data"
    },
    {
     "data": {
      "application/javascript": [
       "refreshJobProgress_8fd36f33cbe045e582f7174d315c4950({\"jobId\": 1, \"name\": \"sum at <ipython-input-1-58c4354088ce>:95\", \"submissionTime\": \"2017-05-01T01:43:54.277GMT\", \"stageIds\": [1], \"status\": \"RUNNING\", \"numTasks\": 50, \"numActiveTasks\": 0, \"numCompletedTasks\": 0, \"numSkippedTasks\": 0, \"numFailedTasks\": 0, \"numActiveStages\": 1, \"numCompletedStages\": 0, \"numSkippedStages\": 0, \"numFailedStages\": 0})"
      ]
     },
     "metadata": {},
     "output_type": "display_data"
    },
    {
     "data": {
      "application/javascript": [
       "refreshJobProgress_8fd36f33cbe045e582f7174d315c4950({\"jobId\": 1, \"name\": \"sum at <ipython-input-1-58c4354088ce>:95\", \"submissionTime\": \"2017-05-01T01:43:54.277GMT\", \"stageIds\": [1], \"status\": \"RUNNING\", \"numTasks\": 50, \"numActiveTasks\": 1, \"numCompletedTasks\": 0, \"numSkippedTasks\": 0, \"numFailedTasks\": 0, \"numActiveStages\": 1, \"numCompletedStages\": 0, \"numSkippedStages\": 0, \"numFailedStages\": 0})"
      ]
     },
     "metadata": {},
     "output_type": "display_data"
    },
    {
     "data": {
      "application/javascript": [
       "refreshJobProgress_8fd36f33cbe045e582f7174d315c4950({\"jobId\": 1, \"name\": \"sum at <ipython-input-1-58c4354088ce>:95\", \"submissionTime\": \"2017-05-01T01:43:54.277GMT\", \"stageIds\": [1], \"status\": \"RUNNING\", \"numTasks\": 50, \"numActiveTasks\": 1, \"numCompletedTasks\": 0, \"numSkippedTasks\": 0, \"numFailedTasks\": 0, \"numActiveStages\": 1, \"numCompletedStages\": 0, \"numSkippedStages\": 0, \"numFailedStages\": 0})"
      ]
     },
     "metadata": {},
     "output_type": "display_data"
    },
    {
     "data": {
      "application/javascript": [
       "refreshJobProgress_8fd36f33cbe045e582f7174d315c4950({\"jobId\": 1, \"name\": \"sum at <ipython-input-1-58c4354088ce>:95\", \"submissionTime\": \"2017-05-01T01:43:54.277GMT\", \"stageIds\": [1], \"status\": \"RUNNING\", \"numTasks\": 50, \"numActiveTasks\": 1, \"numCompletedTasks\": 0, \"numSkippedTasks\": 0, \"numFailedTasks\": 0, \"numActiveStages\": 1, \"numCompletedStages\": 0, \"numSkippedStages\": 0, \"numFailedStages\": 0})"
      ]
     },
     "metadata": {},
     "output_type": "display_data"
    },
    {
     "data": {
      "application/javascript": [
       "refreshJobProgress_8fd36f33cbe045e582f7174d315c4950({\"jobId\": 1, \"name\": \"sum at <ipython-input-1-58c4354088ce>:95\", \"submissionTime\": \"2017-05-01T01:43:54.277GMT\", \"stageIds\": [1], \"status\": \"RUNNING\", \"numTasks\": 50, \"numActiveTasks\": 1, \"numCompletedTasks\": 1, \"numSkippedTasks\": 0, \"numFailedTasks\": 0, \"numActiveStages\": 1, \"numCompletedStages\": 0, \"numSkippedStages\": 0, \"numFailedStages\": 0})"
      ]
     },
     "metadata": {},
     "output_type": "display_data"
    },
    {
     "data": {
      "application/javascript": [
       "refreshJobProgress_8fd36f33cbe045e582f7174d315c4950({\"jobId\": 1, \"name\": \"sum at <ipython-input-1-58c4354088ce>:95\", \"submissionTime\": \"2017-05-01T01:43:54.277GMT\", \"stageIds\": [1], \"status\": \"RUNNING\", \"numTasks\": 50, \"numActiveTasks\": 1, \"numCompletedTasks\": 1, \"numSkippedTasks\": 0, \"numFailedTasks\": 0, \"numActiveStages\": 1, \"numCompletedStages\": 0, \"numSkippedStages\": 0, \"numFailedStages\": 0})"
      ]
     },
     "metadata": {},
     "output_type": "display_data"
    },
    {
     "data": {
      "application/javascript": [
       "refreshJobProgress_8fd36f33cbe045e582f7174d315c4950({\"jobId\": 1, \"name\": \"sum at <ipython-input-1-58c4354088ce>:95\", \"submissionTime\": \"2017-05-01T01:43:54.277GMT\", \"stageIds\": [1], \"status\": \"RUNNING\", \"numTasks\": 50, \"numActiveTasks\": 1, \"numCompletedTasks\": 1, \"numSkippedTasks\": 0, \"numFailedTasks\": 0, \"numActiveStages\": 1, \"numCompletedStages\": 0, \"numSkippedStages\": 0, \"numFailedStages\": 0})"
      ]
     },
     "metadata": {},
     "output_type": "display_data"
    },
    {
     "data": {
      "application/javascript": [
       "refreshJobProgress_8fd36f33cbe045e582f7174d315c4950({\"jobId\": 1, \"name\": \"sum at <ipython-input-1-58c4354088ce>:95\", \"submissionTime\": \"2017-05-01T01:43:54.277GMT\", \"stageIds\": [1], \"status\": \"RUNNING\", \"numTasks\": 50, \"numActiveTasks\": 1, \"numCompletedTasks\": 1, \"numSkippedTasks\": 0, \"numFailedTasks\": 0, \"numActiveStages\": 1, \"numCompletedStages\": 0, \"numSkippedStages\": 0, \"numFailedStages\": 0})"
      ]
     },
     "metadata": {},
     "output_type": "display_data"
    },
    {
     "data": {
      "application/javascript": [
       "refreshJobProgress_8fd36f33cbe045e582f7174d315c4950({\"jobId\": 1, \"name\": \"sum at <ipython-input-1-58c4354088ce>:95\", \"submissionTime\": \"2017-05-01T01:43:54.277GMT\", \"stageIds\": [1], \"status\": \"RUNNING\", \"numTasks\": 50, \"numActiveTasks\": 1, \"numCompletedTasks\": 2, \"numSkippedTasks\": 0, \"numFailedTasks\": 0, \"numActiveStages\": 1, \"numCompletedStages\": 0, \"numSkippedStages\": 0, \"numFailedStages\": 0})"
      ]
     },
     "metadata": {},
     "output_type": "display_data"
    },
    {
     "data": {
      "application/javascript": [
       "refreshJobProgress_8fd36f33cbe045e582f7174d315c4950({\"jobId\": 1, \"name\": \"sum at <ipython-input-1-58c4354088ce>:95\", \"submissionTime\": \"2017-05-01T01:43:54.277GMT\", \"stageIds\": [1], \"status\": \"RUNNING\", \"numTasks\": 50, \"numActiveTasks\": 1, \"numCompletedTasks\": 2, \"numSkippedTasks\": 0, \"numFailedTasks\": 0, \"numActiveStages\": 1, \"numCompletedStages\": 0, \"numSkippedStages\": 0, \"numFailedStages\": 0})"
      ]
     },
     "metadata": {},
     "output_type": "display_data"
    },
    {
     "data": {
      "application/javascript": [
       "refreshJobProgress_8fd36f33cbe045e582f7174d315c4950({\"jobId\": 1, \"name\": \"sum at <ipython-input-1-58c4354088ce>:95\", \"submissionTime\": \"2017-05-01T01:43:54.277GMT\", \"stageIds\": [1], \"status\": \"RUNNING\", \"numTasks\": 50, \"numActiveTasks\": 1, \"numCompletedTasks\": 2, \"numSkippedTasks\": 0, \"numFailedTasks\": 0, \"numActiveStages\": 1, \"numCompletedStages\": 0, \"numSkippedStages\": 0, \"numFailedStages\": 0})"
      ]
     },
     "metadata": {},
     "output_type": "display_data"
    },
    {
     "data": {
      "application/javascript": [
       "refreshJobProgress_8fd36f33cbe045e582f7174d315c4950({\"jobId\": 1, \"name\": \"sum at <ipython-input-1-58c4354088ce>:95\", \"submissionTime\": \"2017-05-01T01:43:54.277GMT\", \"stageIds\": [1], \"status\": \"RUNNING\", \"numTasks\": 50, \"numActiveTasks\": 1, \"numCompletedTasks\": 2, \"numSkippedTasks\": 0, \"numFailedTasks\": 0, \"numActiveStages\": 1, \"numCompletedStages\": 0, \"numSkippedStages\": 0, \"numFailedStages\": 0})"
      ]
     },
     "metadata": {},
     "output_type": "display_data"
    },
    {
     "data": {
      "application/javascript": [
       "refreshJobProgress_8fd36f33cbe045e582f7174d315c4950({\"jobId\": 1, \"name\": \"sum at <ipython-input-1-58c4354088ce>:95\", \"submissionTime\": \"2017-05-01T01:43:54.277GMT\", \"stageIds\": [1], \"status\": \"RUNNING\", \"numTasks\": 50, \"numActiveTasks\": 1, \"numCompletedTasks\": 2, \"numSkippedTasks\": 0, \"numFailedTasks\": 0, \"numActiveStages\": 1, \"numCompletedStages\": 0, \"numSkippedStages\": 0, \"numFailedStages\": 0})"
      ]
     },
     "metadata": {},
     "output_type": "display_data"
    },
    {
     "data": {
      "application/javascript": [
       "refreshJobProgress_8fd36f33cbe045e582f7174d315c4950({\"jobId\": 1, \"name\": \"sum at <ipython-input-1-58c4354088ce>:95\", \"submissionTime\": \"2017-05-01T01:43:54.277GMT\", \"stageIds\": [1], \"status\": \"RUNNING\", \"numTasks\": 50, \"numActiveTasks\": 1, \"numCompletedTasks\": 3, \"numSkippedTasks\": 0, \"numFailedTasks\": 0, \"numActiveStages\": 1, \"numCompletedStages\": 0, \"numSkippedStages\": 0, \"numFailedStages\": 0})"
      ]
     },
     "metadata": {},
     "output_type": "display_data"
    },
    {
     "data": {
      "application/javascript": [
       "refreshJobProgress_8fd36f33cbe045e582f7174d315c4950({\"jobId\": 1, \"name\": \"sum at <ipython-input-1-58c4354088ce>:95\", \"submissionTime\": \"2017-05-01T01:43:54.277GMT\", \"stageIds\": [1], \"status\": \"RUNNING\", \"numTasks\": 50, \"numActiveTasks\": 1, \"numCompletedTasks\": 3, \"numSkippedTasks\": 0, \"numFailedTasks\": 0, \"numActiveStages\": 1, \"numCompletedStages\": 0, \"numSkippedStages\": 0, \"numFailedStages\": 0})"
      ]
     },
     "metadata": {},
     "output_type": "display_data"
    },
    {
     "data": {
      "application/javascript": [
       "refreshJobProgress_8fd36f33cbe045e582f7174d315c4950({\"jobId\": 1, \"name\": \"sum at <ipython-input-1-58c4354088ce>:95\", \"submissionTime\": \"2017-05-01T01:43:54.277GMT\", \"stageIds\": [1], \"status\": \"RUNNING\", \"numTasks\": 50, \"numActiveTasks\": 1, \"numCompletedTasks\": 3, \"numSkippedTasks\": 0, \"numFailedTasks\": 0, \"numActiveStages\": 1, \"numCompletedStages\": 0, \"numSkippedStages\": 0, \"numFailedStages\": 0})"
      ]
     },
     "metadata": {},
     "output_type": "display_data"
    },
    {
     "data": {
      "application/javascript": [
       "refreshJobProgress_8fd36f33cbe045e582f7174d315c4950({\"jobId\": 1, \"name\": \"sum at <ipython-input-1-58c4354088ce>:95\", \"submissionTime\": \"2017-05-01T01:43:54.277GMT\", \"stageIds\": [1], \"status\": \"RUNNING\", \"numTasks\": 50, \"numActiveTasks\": 1, \"numCompletedTasks\": 4, \"numSkippedTasks\": 0, \"numFailedTasks\": 0, \"numActiveStages\": 1, \"numCompletedStages\": 0, \"numSkippedStages\": 0, \"numFailedStages\": 0})"
      ]
     },
     "metadata": {},
     "output_type": "display_data"
    },
    {
     "data": {
      "application/javascript": [
       "refreshJobProgress_8fd36f33cbe045e582f7174d315c4950({\"jobId\": 1, \"name\": \"sum at <ipython-input-1-58c4354088ce>:95\", \"submissionTime\": \"2017-05-01T01:43:54.277GMT\", \"stageIds\": [1], \"status\": \"RUNNING\", \"numTasks\": 50, \"numActiveTasks\": 1, \"numCompletedTasks\": 4, \"numSkippedTasks\": 0, \"numFailedTasks\": 0, \"numActiveStages\": 1, \"numCompletedStages\": 0, \"numSkippedStages\": 0, \"numFailedStages\": 0})"
      ]
     },
     "metadata": {},
     "output_type": "display_data"
    },
    {
     "data": {
      "application/javascript": [
       "refreshJobProgress_8fd36f33cbe045e582f7174d315c4950({\"jobId\": 1, \"name\": \"sum at <ipython-input-1-58c4354088ce>:95\", \"submissionTime\": \"2017-05-01T01:43:54.277GMT\", \"stageIds\": [1], \"status\": \"RUNNING\", \"numTasks\": 50, \"numActiveTasks\": 1, \"numCompletedTasks\": 4, \"numSkippedTasks\": 0, \"numFailedTasks\": 0, \"numActiveStages\": 1, \"numCompletedStages\": 0, \"numSkippedStages\": 0, \"numFailedStages\": 0})"
      ]
     },
     "metadata": {},
     "output_type": "display_data"
    },
    {
     "data": {
      "application/javascript": [
       "refreshJobProgress_8fd36f33cbe045e582f7174d315c4950({\"jobId\": 1, \"name\": \"sum at <ipython-input-1-58c4354088ce>:95\", \"submissionTime\": \"2017-05-01T01:43:54.277GMT\", \"stageIds\": [1], \"status\": \"RUNNING\", \"numTasks\": 50, \"numActiveTasks\": 1, \"numCompletedTasks\": 4, \"numSkippedTasks\": 0, \"numFailedTasks\": 0, \"numActiveStages\": 1, \"numCompletedStages\": 0, \"numSkippedStages\": 0, \"numFailedStages\": 0})"
      ]
     },
     "metadata": {},
     "output_type": "display_data"
    },
    {
     "data": {
      "application/javascript": [
       "refreshJobProgress_8fd36f33cbe045e582f7174d315c4950({\"jobId\": 1, \"name\": \"sum at <ipython-input-1-58c4354088ce>:95\", \"submissionTime\": \"2017-05-01T01:43:54.277GMT\", \"stageIds\": [1], \"status\": \"RUNNING\", \"numTasks\": 50, \"numActiveTasks\": 1, \"numCompletedTasks\": 5, \"numSkippedTasks\": 0, \"numFailedTasks\": 0, \"numActiveStages\": 1, \"numCompletedStages\": 0, \"numSkippedStages\": 0, \"numFailedStages\": 0})"
      ]
     },
     "metadata": {},
     "output_type": "display_data"
    },
    {
     "data": {
      "application/javascript": [
       "refreshJobProgress_8fd36f33cbe045e582f7174d315c4950({\"jobId\": 1, \"name\": \"sum at <ipython-input-1-58c4354088ce>:95\", \"submissionTime\": \"2017-05-01T01:43:54.277GMT\", \"stageIds\": [1], \"status\": \"RUNNING\", \"numTasks\": 50, \"numActiveTasks\": 1, \"numCompletedTasks\": 5, \"numSkippedTasks\": 0, \"numFailedTasks\": 0, \"numActiveStages\": 1, \"numCompletedStages\": 0, \"numSkippedStages\": 0, \"numFailedStages\": 0})"
      ]
     },
     "metadata": {},
     "output_type": "display_data"
    },
    {
     "data": {
      "application/javascript": [
       "refreshJobProgress_8fd36f33cbe045e582f7174d315c4950({\"jobId\": 1, \"name\": \"sum at <ipython-input-1-58c4354088ce>:95\", \"submissionTime\": \"2017-05-01T01:43:54.277GMT\", \"stageIds\": [1], \"status\": \"RUNNING\", \"numTasks\": 50, \"numActiveTasks\": 1, \"numCompletedTasks\": 5, \"numSkippedTasks\": 0, \"numFailedTasks\": 0, \"numActiveStages\": 1, \"numCompletedStages\": 0, \"numSkippedStages\": 0, \"numFailedStages\": 0})"
      ]
     },
     "metadata": {},
     "output_type": "display_data"
    },
    {
     "data": {
      "application/javascript": [
       "refreshJobProgress_8fd36f33cbe045e582f7174d315c4950({\"jobId\": 1, \"name\": \"sum at <ipython-input-1-58c4354088ce>:95\", \"submissionTime\": \"2017-05-01T01:43:54.277GMT\", \"stageIds\": [1], \"status\": \"RUNNING\", \"numTasks\": 50, \"numActiveTasks\": 1, \"numCompletedTasks\": 5, \"numSkippedTasks\": 0, \"numFailedTasks\": 0, \"numActiveStages\": 1, \"numCompletedStages\": 0, \"numSkippedStages\": 0, \"numFailedStages\": 0})"
      ]
     },
     "metadata": {},
     "output_type": "display_data"
    },
    {
     "data": {
      "application/javascript": [
       "refreshJobProgress_8fd36f33cbe045e582f7174d315c4950({\"jobId\": 1, \"name\": \"sum at <ipython-input-1-58c4354088ce>:95\", \"submissionTime\": \"2017-05-01T01:43:54.277GMT\", \"stageIds\": [1], \"status\": \"RUNNING\", \"numTasks\": 50, \"numActiveTasks\": 1, \"numCompletedTasks\": 6, \"numSkippedTasks\": 0, \"numFailedTasks\": 0, \"numActiveStages\": 1, \"numCompletedStages\": 0, \"numSkippedStages\": 0, \"numFailedStages\": 0})"
      ]
     },
     "metadata": {},
     "output_type": "display_data"
    },
    {
     "data": {
      "application/javascript": [
       "refreshJobProgress_8fd36f33cbe045e582f7174d315c4950({\"jobId\": 1, \"name\": \"sum at <ipython-input-1-58c4354088ce>:95\", \"submissionTime\": \"2017-05-01T01:43:54.277GMT\", \"stageIds\": [1], \"status\": \"RUNNING\", \"numTasks\": 50, \"numActiveTasks\": 1, \"numCompletedTasks\": 6, \"numSkippedTasks\": 0, \"numFailedTasks\": 0, \"numActiveStages\": 1, \"numCompletedStages\": 0, \"numSkippedStages\": 0, \"numFailedStages\": 0})"
      ]
     },
     "metadata": {},
     "output_type": "display_data"
    },
    {
     "data": {
      "application/javascript": [
       "refreshJobProgress_8fd36f33cbe045e582f7174d315c4950({\"jobId\": 1, \"name\": \"sum at <ipython-input-1-58c4354088ce>:95\", \"submissionTime\": \"2017-05-01T01:43:54.277GMT\", \"stageIds\": [1], \"status\": \"RUNNING\", \"numTasks\": 50, \"numActiveTasks\": 1, \"numCompletedTasks\": 6, \"numSkippedTasks\": 0, \"numFailedTasks\": 0, \"numActiveStages\": 1, \"numCompletedStages\": 0, \"numSkippedStages\": 0, \"numFailedStages\": 0})"
      ]
     },
     "metadata": {},
     "output_type": "display_data"
    },
    {
     "data": {
      "application/javascript": [
       "refreshJobProgress_8fd36f33cbe045e582f7174d315c4950({\"jobId\": 1, \"name\": \"sum at <ipython-input-1-58c4354088ce>:95\", \"submissionTime\": \"2017-05-01T01:43:54.277GMT\", \"stageIds\": [1], \"status\": \"RUNNING\", \"numTasks\": 50, \"numActiveTasks\": 1, \"numCompletedTasks\": 6, \"numSkippedTasks\": 0, \"numFailedTasks\": 0, \"numActiveStages\": 1, \"numCompletedStages\": 0, \"numSkippedStages\": 0, \"numFailedStages\": 0})"
      ]
     },
     "metadata": {},
     "output_type": "display_data"
    },
    {
     "data": {
      "application/javascript": [
       "refreshJobProgress_8fd36f33cbe045e582f7174d315c4950({\"jobId\": 1, \"name\": \"sum at <ipython-input-1-58c4354088ce>:95\", \"submissionTime\": \"2017-05-01T01:43:54.277GMT\", \"stageIds\": [1], \"status\": \"RUNNING\", \"numTasks\": 50, \"numActiveTasks\": 1, \"numCompletedTasks\": 7, \"numSkippedTasks\": 0, \"numFailedTasks\": 0, \"numActiveStages\": 1, \"numCompletedStages\": 0, \"numSkippedStages\": 0, \"numFailedStages\": 0})"
      ]
     },
     "metadata": {},
     "output_type": "display_data"
    },
    {
     "data": {
      "application/javascript": [
       "refreshJobProgress_8fd36f33cbe045e582f7174d315c4950({\"jobId\": 1, \"name\": \"sum at <ipython-input-1-58c4354088ce>:95\", \"submissionTime\": \"2017-05-01T01:43:54.277GMT\", \"stageIds\": [1], \"status\": \"RUNNING\", \"numTasks\": 50, \"numActiveTasks\": 1, \"numCompletedTasks\": 7, \"numSkippedTasks\": 0, \"numFailedTasks\": 0, \"numActiveStages\": 1, \"numCompletedStages\": 0, \"numSkippedStages\": 0, \"numFailedStages\": 0})"
      ]
     },
     "metadata": {},
     "output_type": "display_data"
    },
    {
     "data": {
      "application/javascript": [
       "refreshJobProgress_8fd36f33cbe045e582f7174d315c4950({\"jobId\": 1, \"name\": \"sum at <ipython-input-1-58c4354088ce>:95\", \"submissionTime\": \"2017-05-01T01:43:54.277GMT\", \"stageIds\": [1], \"status\": \"RUNNING\", \"numTasks\": 50, \"numActiveTasks\": 1, \"numCompletedTasks\": 7, \"numSkippedTasks\": 0, \"numFailedTasks\": 0, \"numActiveStages\": 1, \"numCompletedStages\": 0, \"numSkippedStages\": 0, \"numFailedStages\": 0})"
      ]
     },
     "metadata": {},
     "output_type": "display_data"
    },
    {
     "data": {
      "application/javascript": [
       "refreshJobProgress_8fd36f33cbe045e582f7174d315c4950({\"jobId\": 1, \"name\": \"sum at <ipython-input-1-58c4354088ce>:95\", \"submissionTime\": \"2017-05-01T01:43:54.277GMT\", \"stageIds\": [1], \"status\": \"RUNNING\", \"numTasks\": 50, \"numActiveTasks\": 1, \"numCompletedTasks\": 7, \"numSkippedTasks\": 0, \"numFailedTasks\": 0, \"numActiveStages\": 1, \"numCompletedStages\": 0, \"numSkippedStages\": 0, \"numFailedStages\": 0})"
      ]
     },
     "metadata": {},
     "output_type": "display_data"
    },
    {
     "data": {
      "application/javascript": [
       "refreshJobProgress_8fd36f33cbe045e582f7174d315c4950({\"jobId\": 1, \"name\": \"sum at <ipython-input-1-58c4354088ce>:95\", \"submissionTime\": \"2017-05-01T01:43:54.277GMT\", \"stageIds\": [1], \"status\": \"RUNNING\", \"numTasks\": 50, \"numActiveTasks\": 1, \"numCompletedTasks\": 8, \"numSkippedTasks\": 0, \"numFailedTasks\": 0, \"numActiveStages\": 1, \"numCompletedStages\": 0, \"numSkippedStages\": 0, \"numFailedStages\": 0})"
      ]
     },
     "metadata": {},
     "output_type": "display_data"
    },
    {
     "data": {
      "application/javascript": [
       "refreshJobProgress_8fd36f33cbe045e582f7174d315c4950({\"jobId\": 1, \"name\": \"sum at <ipython-input-1-58c4354088ce>:95\", \"submissionTime\": \"2017-05-01T01:43:54.277GMT\", \"stageIds\": [1], \"status\": \"RUNNING\", \"numTasks\": 50, \"numActiveTasks\": 1, \"numCompletedTasks\": 8, \"numSkippedTasks\": 0, \"numFailedTasks\": 0, \"numActiveStages\": 1, \"numCompletedStages\": 0, \"numSkippedStages\": 0, \"numFailedStages\": 0})"
      ]
     },
     "metadata": {},
     "output_type": "display_data"
    },
    {
     "data": {
      "application/javascript": [
       "refreshJobProgress_8fd36f33cbe045e582f7174d315c4950({\"jobId\": 1, \"name\": \"sum at <ipython-input-1-58c4354088ce>:95\", \"submissionTime\": \"2017-05-01T01:43:54.277GMT\", \"stageIds\": [1], \"status\": \"RUNNING\", \"numTasks\": 50, \"numActiveTasks\": 2, \"numCompletedTasks\": 8, \"numSkippedTasks\": 0, \"numFailedTasks\": 0, \"numActiveStages\": 1, \"numCompletedStages\": 0, \"numSkippedStages\": 0, \"numFailedStages\": 0})"
      ]
     },
     "metadata": {},
     "output_type": "display_data"
    },
    {
     "data": {
      "application/javascript": [
       "refreshJobProgress_8fd36f33cbe045e582f7174d315c4950({\"jobId\": 1, \"name\": \"sum at <ipython-input-1-58c4354088ce>:95\", \"submissionTime\": \"2017-05-01T01:43:54.277GMT\", \"stageIds\": [1], \"status\": \"RUNNING\", \"numTasks\": 50, \"numActiveTasks\": 1, \"numCompletedTasks\": 9, \"numSkippedTasks\": 0, \"numFailedTasks\": 0, \"numActiveStages\": 1, \"numCompletedStages\": 0, \"numSkippedStages\": 0, \"numFailedStages\": 0})"
      ]
     },
     "metadata": {},
     "output_type": "display_data"
    },
    {
     "data": {
      "application/javascript": [
       "refreshJobProgress_8fd36f33cbe045e582f7174d315c4950({\"jobId\": 1, \"name\": \"sum at <ipython-input-1-58c4354088ce>:95\", \"submissionTime\": \"2017-05-01T01:43:54.277GMT\", \"stageIds\": [1], \"status\": \"RUNNING\", \"numTasks\": 50, \"numActiveTasks\": 1, \"numCompletedTasks\": 9, \"numSkippedTasks\": 0, \"numFailedTasks\": 0, \"numActiveStages\": 1, \"numCompletedStages\": 0, \"numSkippedStages\": 0, \"numFailedStages\": 0})"
      ]
     },
     "metadata": {},
     "output_type": "display_data"
    },
    {
     "data": {
      "application/javascript": [
       "refreshJobProgress_8fd36f33cbe045e582f7174d315c4950({\"jobId\": 1, \"name\": \"sum at <ipython-input-1-58c4354088ce>:95\", \"submissionTime\": \"2017-05-01T01:43:54.277GMT\", \"stageIds\": [1], \"status\": \"RUNNING\", \"numTasks\": 50, \"numActiveTasks\": 1, \"numCompletedTasks\": 9, \"numSkippedTasks\": 0, \"numFailedTasks\": 0, \"numActiveStages\": 1, \"numCompletedStages\": 0, \"numSkippedStages\": 0, \"numFailedStages\": 0})"
      ]
     },
     "metadata": {},
     "output_type": "display_data"
    },
    {
     "data": {
      "application/javascript": [
       "refreshJobProgress_8fd36f33cbe045e582f7174d315c4950({\"jobId\": 1, \"name\": \"sum at <ipython-input-1-58c4354088ce>:95\", \"submissionTime\": \"2017-05-01T01:43:54.277GMT\", \"stageIds\": [1], \"status\": \"RUNNING\", \"numTasks\": 50, \"numActiveTasks\": 1, \"numCompletedTasks\": 9, \"numSkippedTasks\": 0, \"numFailedTasks\": 0, \"numActiveStages\": 1, \"numCompletedStages\": 0, \"numSkippedStages\": 0, \"numFailedStages\": 0})"
      ]
     },
     "metadata": {},
     "output_type": "display_data"
    },
    {
     "data": {
      "application/javascript": [
       "refreshJobProgress_8fd36f33cbe045e582f7174d315c4950({\"jobId\": 1, \"name\": \"sum at <ipython-input-1-58c4354088ce>:95\", \"submissionTime\": \"2017-05-01T01:43:54.277GMT\", \"stageIds\": [1], \"status\": \"RUNNING\", \"numTasks\": 50, \"numActiveTasks\": 1, \"numCompletedTasks\": 9, \"numSkippedTasks\": 0, \"numFailedTasks\": 0, \"numActiveStages\": 1, \"numCompletedStages\": 0, \"numSkippedStages\": 0, \"numFailedStages\": 0})"
      ]
     },
     "metadata": {},
     "output_type": "display_data"
    },
    {
     "data": {
      "application/javascript": [
       "refreshJobProgress_8fd36f33cbe045e582f7174d315c4950({\"jobId\": 1, \"name\": \"sum at <ipython-input-1-58c4354088ce>:95\", \"submissionTime\": \"2017-05-01T01:43:54.277GMT\", \"stageIds\": [1], \"status\": \"RUNNING\", \"numTasks\": 50, \"numActiveTasks\": 1, \"numCompletedTasks\": 9, \"numSkippedTasks\": 0, \"numFailedTasks\": 0, \"numActiveStages\": 1, \"numCompletedStages\": 0, \"numSkippedStages\": 0, \"numFailedStages\": 0})"
      ]
     },
     "metadata": {},
     "output_type": "display_data"
    },
    {
     "data": {
      "application/javascript": [
       "refreshJobProgress_8fd36f33cbe045e582f7174d315c4950({\"jobId\": 1, \"name\": \"sum at <ipython-input-1-58c4354088ce>:95\", \"submissionTime\": \"2017-05-01T01:43:54.277GMT\", \"stageIds\": [1], \"status\": \"RUNNING\", \"numTasks\": 50, \"numActiveTasks\": 1, \"numCompletedTasks\": 9, \"numSkippedTasks\": 0, \"numFailedTasks\": 0, \"numActiveStages\": 1, \"numCompletedStages\": 0, \"numSkippedStages\": 0, \"numFailedStages\": 0})"
      ]
     },
     "metadata": {},
     "output_type": "display_data"
    },
    {
     "data": {
      "application/javascript": [
       "refreshJobProgress_8fd36f33cbe045e582f7174d315c4950({\"jobId\": 1, \"name\": \"sum at <ipython-input-1-58c4354088ce>:95\", \"submissionTime\": \"2017-05-01T01:43:54.277GMT\", \"stageIds\": [1], \"status\": \"RUNNING\", \"numTasks\": 50, \"numActiveTasks\": 1, \"numCompletedTasks\": 10, \"numSkippedTasks\": 0, \"numFailedTasks\": 0, \"numActiveStages\": 1, \"numCompletedStages\": 0, \"numSkippedStages\": 0, \"numFailedStages\": 0})"
      ]
     },
     "metadata": {},
     "output_type": "display_data"
    },
    {
     "data": {
      "application/javascript": [
       "refreshJobProgress_8fd36f33cbe045e582f7174d315c4950({\"jobId\": 1, \"name\": \"sum at <ipython-input-1-58c4354088ce>:95\", \"submissionTime\": \"2017-05-01T01:43:54.277GMT\", \"stageIds\": [1], \"status\": \"RUNNING\", \"numTasks\": 50, \"numActiveTasks\": 1, \"numCompletedTasks\": 10, \"numSkippedTasks\": 0, \"numFailedTasks\": 0, \"numActiveStages\": 1, \"numCompletedStages\": 0, \"numSkippedStages\": 0, \"numFailedStages\": 0})"
      ]
     },
     "metadata": {},
     "output_type": "display_data"
    },
    {
     "data": {
      "application/javascript": [
       "refreshJobProgress_8fd36f33cbe045e582f7174d315c4950({\"jobId\": 1, \"name\": \"sum at <ipython-input-1-58c4354088ce>:95\", \"submissionTime\": \"2017-05-01T01:43:54.277GMT\", \"stageIds\": [1], \"status\": \"RUNNING\", \"numTasks\": 50, \"numActiveTasks\": 1, \"numCompletedTasks\": 10, \"numSkippedTasks\": 0, \"numFailedTasks\": 0, \"numActiveStages\": 1, \"numCompletedStages\": 0, \"numSkippedStages\": 0, \"numFailedStages\": 0})"
      ]
     },
     "metadata": {},
     "output_type": "display_data"
    },
    {
     "data": {
      "application/javascript": [
       "refreshJobProgress_8fd36f33cbe045e582f7174d315c4950({\"jobId\": 1, \"name\": \"sum at <ipython-input-1-58c4354088ce>:95\", \"submissionTime\": \"2017-05-01T01:43:54.277GMT\", \"stageIds\": [1], \"status\": \"RUNNING\", \"numTasks\": 50, \"numActiveTasks\": 1, \"numCompletedTasks\": 10, \"numSkippedTasks\": 0, \"numFailedTasks\": 0, \"numActiveStages\": 1, \"numCompletedStages\": 0, \"numSkippedStages\": 0, \"numFailedStages\": 0})"
      ]
     },
     "metadata": {},
     "output_type": "display_data"
    },
    {
     "data": {
      "application/javascript": [
       "refreshJobProgress_8fd36f33cbe045e582f7174d315c4950({\"jobId\": 1, \"name\": \"sum at <ipython-input-1-58c4354088ce>:95\", \"submissionTime\": \"2017-05-01T01:43:54.277GMT\", \"stageIds\": [1], \"status\": \"RUNNING\", \"numTasks\": 50, \"numActiveTasks\": 1, \"numCompletedTasks\": 10, \"numSkippedTasks\": 0, \"numFailedTasks\": 0, \"numActiveStages\": 1, \"numCompletedStages\": 0, \"numSkippedStages\": 0, \"numFailedStages\": 0})"
      ]
     },
     "metadata": {},
     "output_type": "display_data"
    },
    {
     "data": {
      "application/javascript": [
       "refreshJobProgress_8fd36f33cbe045e582f7174d315c4950({\"jobId\": 1, \"name\": \"sum at <ipython-input-1-58c4354088ce>:95\", \"submissionTime\": \"2017-05-01T01:43:54.277GMT\", \"stageIds\": [1], \"status\": \"RUNNING\", \"numTasks\": 50, \"numActiveTasks\": 1, \"numCompletedTasks\": 10, \"numSkippedTasks\": 0, \"numFailedTasks\": 0, \"numActiveStages\": 1, \"numCompletedStages\": 0, \"numSkippedStages\": 0, \"numFailedStages\": 0})"
      ]
     },
     "metadata": {},
     "output_type": "display_data"
    },
    {
     "data": {
      "application/javascript": [
       "refreshJobProgress_8fd36f33cbe045e582f7174d315c4950({\"jobId\": 1, \"name\": \"sum at <ipython-input-1-58c4354088ce>:95\", \"submissionTime\": \"2017-05-01T01:43:54.277GMT\", \"stageIds\": [1], \"status\": \"RUNNING\", \"numTasks\": 50, \"numActiveTasks\": 1, \"numCompletedTasks\": 10, \"numSkippedTasks\": 0, \"numFailedTasks\": 0, \"numActiveStages\": 1, \"numCompletedStages\": 0, \"numSkippedStages\": 0, \"numFailedStages\": 0})"
      ]
     },
     "metadata": {},
     "output_type": "display_data"
    },
    {
     "data": {
      "application/javascript": [
       "refreshJobProgress_8fd36f33cbe045e582f7174d315c4950({\"jobId\": 1, \"name\": \"sum at <ipython-input-1-58c4354088ce>:95\", \"submissionTime\": \"2017-05-01T01:43:54.277GMT\", \"stageIds\": [1], \"status\": \"RUNNING\", \"numTasks\": 50, \"numActiveTasks\": 1, \"numCompletedTasks\": 10, \"numSkippedTasks\": 0, \"numFailedTasks\": 0, \"numActiveStages\": 1, \"numCompletedStages\": 0, \"numSkippedStages\": 0, \"numFailedStages\": 0})"
      ]
     },
     "metadata": {},
     "output_type": "display_data"
    },
    {
     "data": {
      "application/javascript": [
       "refreshJobProgress_8fd36f33cbe045e582f7174d315c4950({\"jobId\": 1, \"name\": \"sum at <ipython-input-1-58c4354088ce>:95\", \"submissionTime\": \"2017-05-01T01:43:54.277GMT\", \"stageIds\": [1], \"status\": \"RUNNING\", \"numTasks\": 50, \"numActiveTasks\": 1, \"numCompletedTasks\": 11, \"numSkippedTasks\": 0, \"numFailedTasks\": 0, \"numActiveStages\": 1, \"numCompletedStages\": 0, \"numSkippedStages\": 0, \"numFailedStages\": 0})"
      ]
     },
     "metadata": {},
     "output_type": "display_data"
    },
    {
     "data": {
      "application/javascript": [
       "refreshJobProgress_8fd36f33cbe045e582f7174d315c4950({\"jobId\": 1, \"name\": \"sum at <ipython-input-1-58c4354088ce>:95\", \"submissionTime\": \"2017-05-01T01:43:54.277GMT\", \"stageIds\": [1], \"status\": \"RUNNING\", \"numTasks\": 50, \"numActiveTasks\": 1, \"numCompletedTasks\": 11, \"numSkippedTasks\": 0, \"numFailedTasks\": 0, \"numActiveStages\": 1, \"numCompletedStages\": 0, \"numSkippedStages\": 0, \"numFailedStages\": 0})"
      ]
     },
     "metadata": {},
     "output_type": "display_data"
    },
    {
     "data": {
      "application/javascript": [
       "refreshJobProgress_8fd36f33cbe045e582f7174d315c4950({\"jobId\": 1, \"name\": \"sum at <ipython-input-1-58c4354088ce>:95\", \"submissionTime\": \"2017-05-01T01:43:54.277GMT\", \"stageIds\": [1], \"status\": \"RUNNING\", \"numTasks\": 50, \"numActiveTasks\": 1, \"numCompletedTasks\": 11, \"numSkippedTasks\": 0, \"numFailedTasks\": 0, \"numActiveStages\": 1, \"numCompletedStages\": 0, \"numSkippedStages\": 0, \"numFailedStages\": 0})"
      ]
     },
     "metadata": {},
     "output_type": "display_data"
    },
    {
     "data": {
      "application/javascript": [
       "refreshJobProgress_8fd36f33cbe045e582f7174d315c4950({\"jobId\": 1, \"name\": \"sum at <ipython-input-1-58c4354088ce>:95\", \"submissionTime\": \"2017-05-01T01:43:54.277GMT\", \"stageIds\": [1], \"status\": \"RUNNING\", \"numTasks\": 50, \"numActiveTasks\": 1, \"numCompletedTasks\": 12, \"numSkippedTasks\": 0, \"numFailedTasks\": 0, \"numActiveStages\": 1, \"numCompletedStages\": 0, \"numSkippedStages\": 0, \"numFailedStages\": 0})"
      ]
     },
     "metadata": {},
     "output_type": "display_data"
    },
    {
     "data": {
      "application/javascript": [
       "refreshJobProgress_8fd36f33cbe045e582f7174d315c4950({\"jobId\": 1, \"name\": \"sum at <ipython-input-1-58c4354088ce>:95\", \"submissionTime\": \"2017-05-01T01:43:54.277GMT\", \"stageIds\": [1], \"status\": \"RUNNING\", \"numTasks\": 50, \"numActiveTasks\": 1, \"numCompletedTasks\": 12, \"numSkippedTasks\": 0, \"numFailedTasks\": 0, \"numActiveStages\": 1, \"numCompletedStages\": 0, \"numSkippedStages\": 0, \"numFailedStages\": 0})"
      ]
     },
     "metadata": {},
     "output_type": "display_data"
    },
    {
     "data": {
      "application/javascript": [
       "refreshJobProgress_8fd36f33cbe045e582f7174d315c4950({\"jobId\": 1, \"name\": \"sum at <ipython-input-1-58c4354088ce>:95\", \"submissionTime\": \"2017-05-01T01:43:54.277GMT\", \"stageIds\": [1], \"status\": \"RUNNING\", \"numTasks\": 50, \"numActiveTasks\": 1, \"numCompletedTasks\": 12, \"numSkippedTasks\": 0, \"numFailedTasks\": 0, \"numActiveStages\": 1, \"numCompletedStages\": 0, \"numSkippedStages\": 0, \"numFailedStages\": 0})"
      ]
     },
     "metadata": {},
     "output_type": "display_data"
    },
    {
     "data": {
      "application/javascript": [
       "refreshJobProgress_8fd36f33cbe045e582f7174d315c4950({\"jobId\": 1, \"name\": \"sum at <ipython-input-1-58c4354088ce>:95\", \"submissionTime\": \"2017-05-01T01:43:54.277GMT\", \"stageIds\": [1], \"status\": \"RUNNING\", \"numTasks\": 50, \"numActiveTasks\": 1, \"numCompletedTasks\": 13, \"numSkippedTasks\": 0, \"numFailedTasks\": 0, \"numActiveStages\": 1, \"numCompletedStages\": 0, \"numSkippedStages\": 0, \"numFailedStages\": 0})"
      ]
     },
     "metadata": {},
     "output_type": "display_data"
    },
    {
     "data": {
      "application/javascript": [
       "refreshJobProgress_8fd36f33cbe045e582f7174d315c4950({\"jobId\": 1, \"name\": \"sum at <ipython-input-1-58c4354088ce>:95\", \"submissionTime\": \"2017-05-01T01:43:54.277GMT\", \"stageIds\": [1], \"status\": \"RUNNING\", \"numTasks\": 50, \"numActiveTasks\": 1, \"numCompletedTasks\": 13, \"numSkippedTasks\": 0, \"numFailedTasks\": 0, \"numActiveStages\": 1, \"numCompletedStages\": 0, \"numSkippedStages\": 0, \"numFailedStages\": 0})"
      ]
     },
     "metadata": {},
     "output_type": "display_data"
    },
    {
     "data": {
      "application/javascript": [
       "refreshJobProgress_8fd36f33cbe045e582f7174d315c4950({\"jobId\": 1, \"name\": \"sum at <ipython-input-1-58c4354088ce>:95\", \"submissionTime\": \"2017-05-01T01:43:54.277GMT\", \"stageIds\": [1], \"status\": \"RUNNING\", \"numTasks\": 50, \"numActiveTasks\": 1, \"numCompletedTasks\": 13, \"numSkippedTasks\": 0, \"numFailedTasks\": 0, \"numActiveStages\": 1, \"numCompletedStages\": 0, \"numSkippedStages\": 0, \"numFailedStages\": 0})"
      ]
     },
     "metadata": {},
     "output_type": "display_data"
    },
    {
     "data": {
      "application/javascript": [
       "refreshJobProgress_8fd36f33cbe045e582f7174d315c4950({\"jobId\": 1, \"name\": \"sum at <ipython-input-1-58c4354088ce>:95\", \"submissionTime\": \"2017-05-01T01:43:54.277GMT\", \"stageIds\": [1], \"status\": \"RUNNING\", \"numTasks\": 50, \"numActiveTasks\": 1, \"numCompletedTasks\": 13, \"numSkippedTasks\": 0, \"numFailedTasks\": 0, \"numActiveStages\": 1, \"numCompletedStages\": 0, \"numSkippedStages\": 0, \"numFailedStages\": 0})"
      ]
     },
     "metadata": {},
     "output_type": "display_data"
    },
    {
     "data": {
      "application/javascript": [
       "refreshJobProgress_8fd36f33cbe045e582f7174d315c4950({\"jobId\": 1, \"name\": \"sum at <ipython-input-1-58c4354088ce>:95\", \"submissionTime\": \"2017-05-01T01:43:54.277GMT\", \"stageIds\": [1], \"status\": \"RUNNING\", \"numTasks\": 50, \"numActiveTasks\": 1, \"numCompletedTasks\": 14, \"numSkippedTasks\": 0, \"numFailedTasks\": 0, \"numActiveStages\": 1, \"numCompletedStages\": 0, \"numSkippedStages\": 0, \"numFailedStages\": 0})"
      ]
     },
     "metadata": {},
     "output_type": "display_data"
    },
    {
     "data": {
      "application/javascript": [
       "refreshJobProgress_8fd36f33cbe045e582f7174d315c4950({\"jobId\": 1, \"name\": \"sum at <ipython-input-1-58c4354088ce>:95\", \"submissionTime\": \"2017-05-01T01:43:54.277GMT\", \"stageIds\": [1], \"status\": \"RUNNING\", \"numTasks\": 50, \"numActiveTasks\": 1, \"numCompletedTasks\": 14, \"numSkippedTasks\": 0, \"numFailedTasks\": 0, \"numActiveStages\": 1, \"numCompletedStages\": 0, \"numSkippedStages\": 0, \"numFailedStages\": 0})"
      ]
     },
     "metadata": {},
     "output_type": "display_data"
    },
    {
     "data": {
      "application/javascript": [
       "refreshJobProgress_8fd36f33cbe045e582f7174d315c4950({\"jobId\": 1, \"name\": \"sum at <ipython-input-1-58c4354088ce>:95\", \"submissionTime\": \"2017-05-01T01:43:54.277GMT\", \"stageIds\": [1], \"status\": \"RUNNING\", \"numTasks\": 50, \"numActiveTasks\": 1, \"numCompletedTasks\": 14, \"numSkippedTasks\": 0, \"numFailedTasks\": 0, \"numActiveStages\": 1, \"numCompletedStages\": 0, \"numSkippedStages\": 0, \"numFailedStages\": 0})"
      ]
     },
     "metadata": {},
     "output_type": "display_data"
    },
    {
     "data": {
      "application/javascript": [
       "refreshJobProgress_8fd36f33cbe045e582f7174d315c4950({\"jobId\": 1, \"name\": \"sum at <ipython-input-1-58c4354088ce>:95\", \"submissionTime\": \"2017-05-01T01:43:54.277GMT\", \"stageIds\": [1], \"status\": \"RUNNING\", \"numTasks\": 50, \"numActiveTasks\": 1, \"numCompletedTasks\": 14, \"numSkippedTasks\": 0, \"numFailedTasks\": 0, \"numActiveStages\": 1, \"numCompletedStages\": 0, \"numSkippedStages\": 0, \"numFailedStages\": 0})"
      ]
     },
     "metadata": {},
     "output_type": "display_data"
    },
    {
     "data": {
      "application/javascript": [
       "refreshJobProgress_8fd36f33cbe045e582f7174d315c4950({\"jobId\": 1, \"name\": \"sum at <ipython-input-1-58c4354088ce>:95\", \"submissionTime\": \"2017-05-01T01:43:54.277GMT\", \"stageIds\": [1], \"status\": \"RUNNING\", \"numTasks\": 50, \"numActiveTasks\": 1, \"numCompletedTasks\": 14, \"numSkippedTasks\": 0, \"numFailedTasks\": 0, \"numActiveStages\": 1, \"numCompletedStages\": 0, \"numSkippedStages\": 0, \"numFailedStages\": 0})"
      ]
     },
     "metadata": {},
     "output_type": "display_data"
    },
    {
     "data": {
      "application/javascript": [
       "refreshJobProgress_8fd36f33cbe045e582f7174d315c4950({\"jobId\": 1, \"name\": \"sum at <ipython-input-1-58c4354088ce>:95\", \"submissionTime\": \"2017-05-01T01:43:54.277GMT\", \"stageIds\": [1], \"status\": \"RUNNING\", \"numTasks\": 50, \"numActiveTasks\": 1, \"numCompletedTasks\": 14, \"numSkippedTasks\": 0, \"numFailedTasks\": 0, \"numActiveStages\": 1, \"numCompletedStages\": 0, \"numSkippedStages\": 0, \"numFailedStages\": 0})"
      ]
     },
     "metadata": {},
     "output_type": "display_data"
    },
    {
     "data": {
      "application/javascript": [
       "refreshJobProgress_8fd36f33cbe045e582f7174d315c4950({\"jobId\": 1, \"name\": \"sum at <ipython-input-1-58c4354088ce>:95\", \"submissionTime\": \"2017-05-01T01:43:54.277GMT\", \"stageIds\": [1], \"status\": \"RUNNING\", \"numTasks\": 50, \"numActiveTasks\": 1, \"numCompletedTasks\": 14, \"numSkippedTasks\": 0, \"numFailedTasks\": 0, \"numActiveStages\": 1, \"numCompletedStages\": 0, \"numSkippedStages\": 0, \"numFailedStages\": 0})"
      ]
     },
     "metadata": {},
     "output_type": "display_data"
    },
    {
     "data": {
      "application/javascript": [
       "refreshJobProgress_8fd36f33cbe045e582f7174d315c4950({\"jobId\": 1, \"name\": \"sum at <ipython-input-1-58c4354088ce>:95\", \"submissionTime\": \"2017-05-01T01:43:54.277GMT\", \"stageIds\": [1], \"status\": \"RUNNING\", \"numTasks\": 50, \"numActiveTasks\": 1, \"numCompletedTasks\": 14, \"numSkippedTasks\": 0, \"numFailedTasks\": 0, \"numActiveStages\": 1, \"numCompletedStages\": 0, \"numSkippedStages\": 0, \"numFailedStages\": 0})"
      ]
     },
     "metadata": {},
     "output_type": "display_data"
    },
    {
     "data": {
      "application/javascript": [
       "refreshJobProgress_8fd36f33cbe045e582f7174d315c4950({\"jobId\": 1, \"name\": \"sum at <ipython-input-1-58c4354088ce>:95\", \"submissionTime\": \"2017-05-01T01:43:54.277GMT\", \"stageIds\": [1], \"status\": \"RUNNING\", \"numTasks\": 50, \"numActiveTasks\": 1, \"numCompletedTasks\": 14, \"numSkippedTasks\": 0, \"numFailedTasks\": 0, \"numActiveStages\": 1, \"numCompletedStages\": 0, \"numSkippedStages\": 0, \"numFailedStages\": 0})"
      ]
     },
     "metadata": {},
     "output_type": "display_data"
    },
    {
     "data": {
      "application/javascript": [
       "refreshJobProgress_8fd36f33cbe045e582f7174d315c4950({\"jobId\": 1, \"name\": \"sum at <ipython-input-1-58c4354088ce>:95\", \"submissionTime\": \"2017-05-01T01:43:54.277GMT\", \"stageIds\": [1], \"status\": \"RUNNING\", \"numTasks\": 50, \"numActiveTasks\": 1, \"numCompletedTasks\": 14, \"numSkippedTasks\": 0, \"numFailedTasks\": 0, \"numActiveStages\": 1, \"numCompletedStages\": 0, \"numSkippedStages\": 0, \"numFailedStages\": 0})"
      ]
     },
     "metadata": {},
     "output_type": "display_data"
    },
    {
     "data": {
      "application/javascript": [
       "refreshJobProgress_8fd36f33cbe045e582f7174d315c4950({\"jobId\": 1, \"name\": \"sum at <ipython-input-1-58c4354088ce>:95\", \"submissionTime\": \"2017-05-01T01:43:54.277GMT\", \"stageIds\": [1], \"status\": \"RUNNING\", \"numTasks\": 50, \"numActiveTasks\": 1, \"numCompletedTasks\": 14, \"numSkippedTasks\": 0, \"numFailedTasks\": 0, \"numActiveStages\": 1, \"numCompletedStages\": 0, \"numSkippedStages\": 0, \"numFailedStages\": 0})"
      ]
     },
     "metadata": {},
     "output_type": "display_data"
    },
    {
     "data": {
      "application/javascript": [
       "refreshJobProgress_8fd36f33cbe045e582f7174d315c4950({\"jobId\": 1, \"name\": \"sum at <ipython-input-1-58c4354088ce>:95\", \"submissionTime\": \"2017-05-01T01:43:54.277GMT\", \"stageIds\": [1], \"status\": \"RUNNING\", \"numTasks\": 50, \"numActiveTasks\": 1, \"numCompletedTasks\": 14, \"numSkippedTasks\": 0, \"numFailedTasks\": 0, \"numActiveStages\": 1, \"numCompletedStages\": 0, \"numSkippedStages\": 0, \"numFailedStages\": 0})"
      ]
     },
     "metadata": {},
     "output_type": "display_data"
    },
    {
     "data": {
      "application/javascript": [
       "refreshJobProgress_8fd36f33cbe045e582f7174d315c4950({\"jobId\": 1, \"name\": \"sum at <ipython-input-1-58c4354088ce>:95\", \"submissionTime\": \"2017-05-01T01:43:54.277GMT\", \"stageIds\": [1], \"status\": \"RUNNING\", \"numTasks\": 50, \"numActiveTasks\": 1, \"numCompletedTasks\": 15, \"numSkippedTasks\": 0, \"numFailedTasks\": 0, \"numActiveStages\": 1, \"numCompletedStages\": 0, \"numSkippedStages\": 0, \"numFailedStages\": 0})"
      ]
     },
     "metadata": {},
     "output_type": "display_data"
    },
    {
     "data": {
      "application/javascript": [
       "refreshJobProgress_8fd36f33cbe045e582f7174d315c4950({\"jobId\": 1, \"name\": \"sum at <ipython-input-1-58c4354088ce>:95\", \"submissionTime\": \"2017-05-01T01:43:54.277GMT\", \"stageIds\": [1], \"status\": \"RUNNING\", \"numTasks\": 50, \"numActiveTasks\": 1, \"numCompletedTasks\": 15, \"numSkippedTasks\": 0, \"numFailedTasks\": 0, \"numActiveStages\": 1, \"numCompletedStages\": 0, \"numSkippedStages\": 0, \"numFailedStages\": 0})"
      ]
     },
     "metadata": {},
     "output_type": "display_data"
    },
    {
     "data": {
      "application/javascript": [
       "refreshJobProgress_8fd36f33cbe045e582f7174d315c4950({\"jobId\": 1, \"name\": \"sum at <ipython-input-1-58c4354088ce>:95\", \"submissionTime\": \"2017-05-01T01:43:54.277GMT\", \"stageIds\": [1], \"status\": \"RUNNING\", \"numTasks\": 50, \"numActiveTasks\": 1, \"numCompletedTasks\": 15, \"numSkippedTasks\": 0, \"numFailedTasks\": 0, \"numActiveStages\": 1, \"numCompletedStages\": 0, \"numSkippedStages\": 0, \"numFailedStages\": 0})"
      ]
     },
     "metadata": {},
     "output_type": "display_data"
    },
    {
     "data": {
      "application/javascript": [
       "refreshJobProgress_8fd36f33cbe045e582f7174d315c4950({\"jobId\": 1, \"name\": \"sum at <ipython-input-1-58c4354088ce>:95\", \"submissionTime\": \"2017-05-01T01:43:54.277GMT\", \"stageIds\": [1], \"status\": \"RUNNING\", \"numTasks\": 50, \"numActiveTasks\": 1, \"numCompletedTasks\": 15, \"numSkippedTasks\": 0, \"numFailedTasks\": 0, \"numActiveStages\": 1, \"numCompletedStages\": 0, \"numSkippedStages\": 0, \"numFailedStages\": 0})"
      ]
     },
     "metadata": {},
     "output_type": "display_data"
    },
    {
     "data": {
      "application/javascript": [
       "refreshJobProgress_8fd36f33cbe045e582f7174d315c4950({\"jobId\": 1, \"name\": \"sum at <ipython-input-1-58c4354088ce>:95\", \"submissionTime\": \"2017-05-01T01:43:54.277GMT\", \"stageIds\": [1], \"status\": \"RUNNING\", \"numTasks\": 50, \"numActiveTasks\": 1, \"numCompletedTasks\": 15, \"numSkippedTasks\": 0, \"numFailedTasks\": 0, \"numActiveStages\": 1, \"numCompletedStages\": 0, \"numSkippedStages\": 0, \"numFailedStages\": 0})"
      ]
     },
     "metadata": {},
     "output_type": "display_data"
    },
    {
     "data": {
      "application/javascript": [
       "refreshJobProgress_8fd36f33cbe045e582f7174d315c4950({\"jobId\": 1, \"name\": \"sum at <ipython-input-1-58c4354088ce>:95\", \"submissionTime\": \"2017-05-01T01:43:54.277GMT\", \"stageIds\": [1], \"status\": \"RUNNING\", \"numTasks\": 50, \"numActiveTasks\": 1, \"numCompletedTasks\": 15, \"numSkippedTasks\": 0, \"numFailedTasks\": 0, \"numActiveStages\": 1, \"numCompletedStages\": 0, \"numSkippedStages\": 0, \"numFailedStages\": 0})"
      ]
     },
     "metadata": {},
     "output_type": "display_data"
    },
    {
     "data": {
      "application/javascript": [
       "refreshJobProgress_8fd36f33cbe045e582f7174d315c4950({\"jobId\": 1, \"name\": \"sum at <ipython-input-1-58c4354088ce>:95\", \"submissionTime\": \"2017-05-01T01:43:54.277GMT\", \"stageIds\": [1], \"status\": \"RUNNING\", \"numTasks\": 50, \"numActiveTasks\": 1, \"numCompletedTasks\": 15, \"numSkippedTasks\": 0, \"numFailedTasks\": 0, \"numActiveStages\": 1, \"numCompletedStages\": 0, \"numSkippedStages\": 0, \"numFailedStages\": 0})"
      ]
     },
     "metadata": {},
     "output_type": "display_data"
    },
    {
     "data": {
      "application/javascript": [
       "refreshJobProgress_8fd36f33cbe045e582f7174d315c4950({\"jobId\": 1, \"name\": \"sum at <ipython-input-1-58c4354088ce>:95\", \"submissionTime\": \"2017-05-01T01:43:54.277GMT\", \"stageIds\": [1], \"status\": \"RUNNING\", \"numTasks\": 50, \"numActiveTasks\": 1, \"numCompletedTasks\": 15, \"numSkippedTasks\": 0, \"numFailedTasks\": 0, \"numActiveStages\": 1, \"numCompletedStages\": 0, \"numSkippedStages\": 0, \"numFailedStages\": 0})"
      ]
     },
     "metadata": {},
     "output_type": "display_data"
    },
    {
     "data": {
      "application/javascript": [
       "refreshJobProgress_8fd36f33cbe045e582f7174d315c4950({\"jobId\": 1, \"name\": \"sum at <ipython-input-1-58c4354088ce>:95\", \"submissionTime\": \"2017-05-01T01:43:54.277GMT\", \"stageIds\": [1], \"status\": \"RUNNING\", \"numTasks\": 50, \"numActiveTasks\": 1, \"numCompletedTasks\": 15, \"numSkippedTasks\": 0, \"numFailedTasks\": 0, \"numActiveStages\": 1, \"numCompletedStages\": 0, \"numSkippedStages\": 0, \"numFailedStages\": 0})"
      ]
     },
     "metadata": {},
     "output_type": "display_data"
    },
    {
     "data": {
      "application/javascript": [
       "refreshJobProgress_8fd36f33cbe045e582f7174d315c4950({\"jobId\": 1, \"name\": \"sum at <ipython-input-1-58c4354088ce>:95\", \"submissionTime\": \"2017-05-01T01:43:54.277GMT\", \"stageIds\": [1], \"status\": \"RUNNING\", \"numTasks\": 50, \"numActiveTasks\": 1, \"numCompletedTasks\": 16, \"numSkippedTasks\": 0, \"numFailedTasks\": 0, \"numActiveStages\": 1, \"numCompletedStages\": 0, \"numSkippedStages\": 0, \"numFailedStages\": 0})"
      ]
     },
     "metadata": {},
     "output_type": "display_data"
    },
    {
     "data": {
      "application/javascript": [
       "refreshJobProgress_8fd36f33cbe045e582f7174d315c4950({\"jobId\": 1, \"name\": \"sum at <ipython-input-1-58c4354088ce>:95\", \"submissionTime\": \"2017-05-01T01:43:54.277GMT\", \"stageIds\": [1], \"status\": \"RUNNING\", \"numTasks\": 50, \"numActiveTasks\": 1, \"numCompletedTasks\": 16, \"numSkippedTasks\": 0, \"numFailedTasks\": 0, \"numActiveStages\": 1, \"numCompletedStages\": 0, \"numSkippedStages\": 0, \"numFailedStages\": 0})"
      ]
     },
     "metadata": {},
     "output_type": "display_data"
    },
    {
     "data": {
      "application/javascript": [
       "refreshJobProgress_8fd36f33cbe045e582f7174d315c4950({\"jobId\": 1, \"name\": \"sum at <ipython-input-1-58c4354088ce>:95\", \"submissionTime\": \"2017-05-01T01:43:54.277GMT\", \"stageIds\": [1], \"status\": \"RUNNING\", \"numTasks\": 50, \"numActiveTasks\": 1, \"numCompletedTasks\": 16, \"numSkippedTasks\": 0, \"numFailedTasks\": 0, \"numActiveStages\": 1, \"numCompletedStages\": 0, \"numSkippedStages\": 0, \"numFailedStages\": 0})"
      ]
     },
     "metadata": {},
     "output_type": "display_data"
    },
    {
     "data": {
      "application/javascript": [
       "refreshJobProgress_8fd36f33cbe045e582f7174d315c4950({\"jobId\": 1, \"name\": \"sum at <ipython-input-1-58c4354088ce>:95\", \"submissionTime\": \"2017-05-01T01:43:54.277GMT\", \"stageIds\": [1], \"status\": \"RUNNING\", \"numTasks\": 50, \"numActiveTasks\": 1, \"numCompletedTasks\": 16, \"numSkippedTasks\": 0, \"numFailedTasks\": 0, \"numActiveStages\": 1, \"numCompletedStages\": 0, \"numSkippedStages\": 0, \"numFailedStages\": 0})"
      ]
     },
     "metadata": {},
     "output_type": "display_data"
    },
    {
     "data": {
      "application/javascript": [
       "refreshJobProgress_8fd36f33cbe045e582f7174d315c4950({\"jobId\": 1, \"name\": \"sum at <ipython-input-1-58c4354088ce>:95\", \"submissionTime\": \"2017-05-01T01:43:54.277GMT\", \"stageIds\": [1], \"status\": \"RUNNING\", \"numTasks\": 50, \"numActiveTasks\": 1, \"numCompletedTasks\": 16, \"numSkippedTasks\": 0, \"numFailedTasks\": 0, \"numActiveStages\": 1, \"numCompletedStages\": 0, \"numSkippedStages\": 0, \"numFailedStages\": 0})"
      ]
     },
     "metadata": {},
     "output_type": "display_data"
    },
    {
     "data": {
      "application/javascript": [
       "refreshJobProgress_8fd36f33cbe045e582f7174d315c4950({\"jobId\": 1, \"name\": \"sum at <ipython-input-1-58c4354088ce>:95\", \"submissionTime\": \"2017-05-01T01:43:54.277GMT\", \"stageIds\": [1], \"status\": \"RUNNING\", \"numTasks\": 50, \"numActiveTasks\": 1, \"numCompletedTasks\": 16, \"numSkippedTasks\": 0, \"numFailedTasks\": 0, \"numActiveStages\": 1, \"numCompletedStages\": 0, \"numSkippedStages\": 0, \"numFailedStages\": 0})"
      ]
     },
     "metadata": {},
     "output_type": "display_data"
    },
    {
     "data": {
      "application/javascript": [
       "refreshJobProgress_8fd36f33cbe045e582f7174d315c4950({\"jobId\": 1, \"name\": \"sum at <ipython-input-1-58c4354088ce>:95\", \"submissionTime\": \"2017-05-01T01:43:54.277GMT\", \"stageIds\": [1], \"status\": \"RUNNING\", \"numTasks\": 50, \"numActiveTasks\": 1, \"numCompletedTasks\": 16, \"numSkippedTasks\": 0, \"numFailedTasks\": 0, \"numActiveStages\": 1, \"numCompletedStages\": 0, \"numSkippedStages\": 0, \"numFailedStages\": 0})"
      ]
     },
     "metadata": {},
     "output_type": "display_data"
    },
    {
     "data": {
      "application/javascript": [
       "refreshJobProgress_8fd36f33cbe045e582f7174d315c4950({\"jobId\": 1, \"name\": \"sum at <ipython-input-1-58c4354088ce>:95\", \"submissionTime\": \"2017-05-01T01:43:54.277GMT\", \"stageIds\": [1], \"status\": \"RUNNING\", \"numTasks\": 50, \"numActiveTasks\": 1, \"numCompletedTasks\": 16, \"numSkippedTasks\": 0, \"numFailedTasks\": 0, \"numActiveStages\": 1, \"numCompletedStages\": 0, \"numSkippedStages\": 0, \"numFailedStages\": 0})"
      ]
     },
     "metadata": {},
     "output_type": "display_data"
    },
    {
     "data": {
      "application/javascript": [
       "refreshJobProgress_8fd36f33cbe045e582f7174d315c4950({\"jobId\": 1, \"name\": \"sum at <ipython-input-1-58c4354088ce>:95\", \"submissionTime\": \"2017-05-01T01:43:54.277GMT\", \"stageIds\": [1], \"status\": \"RUNNING\", \"numTasks\": 50, \"numActiveTasks\": 1, \"numCompletedTasks\": 16, \"numSkippedTasks\": 0, \"numFailedTasks\": 0, \"numActiveStages\": 1, \"numCompletedStages\": 0, \"numSkippedStages\": 0, \"numFailedStages\": 0})"
      ]
     },
     "metadata": {},
     "output_type": "display_data"
    },
    {
     "data": {
      "application/javascript": [
       "refreshJobProgress_8fd36f33cbe045e582f7174d315c4950({\"jobId\": 1, \"name\": \"sum at <ipython-input-1-58c4354088ce>:95\", \"submissionTime\": \"2017-05-01T01:43:54.277GMT\", \"stageIds\": [1], \"status\": \"RUNNING\", \"numTasks\": 50, \"numActiveTasks\": 1, \"numCompletedTasks\": 16, \"numSkippedTasks\": 0, \"numFailedTasks\": 0, \"numActiveStages\": 1, \"numCompletedStages\": 0, \"numSkippedStages\": 0, \"numFailedStages\": 0})"
      ]
     },
     "metadata": {},
     "output_type": "display_data"
    },
    {
     "data": {
      "application/javascript": [
       "refreshJobProgress_8fd36f33cbe045e582f7174d315c4950({\"jobId\": 1, \"name\": \"sum at <ipython-input-1-58c4354088ce>:95\", \"submissionTime\": \"2017-05-01T01:43:54.277GMT\", \"stageIds\": [1], \"status\": \"RUNNING\", \"numTasks\": 50, \"numActiveTasks\": 1, \"numCompletedTasks\": 17, \"numSkippedTasks\": 0, \"numFailedTasks\": 0, \"numActiveStages\": 1, \"numCompletedStages\": 0, \"numSkippedStages\": 0, \"numFailedStages\": 0})"
      ]
     },
     "metadata": {},
     "output_type": "display_data"
    },
    {
     "data": {
      "application/javascript": [
       "refreshJobProgress_8fd36f33cbe045e582f7174d315c4950({\"jobId\": 1, \"name\": \"sum at <ipython-input-1-58c4354088ce>:95\", \"submissionTime\": \"2017-05-01T01:43:54.277GMT\", \"stageIds\": [1], \"status\": \"RUNNING\", \"numTasks\": 50, \"numActiveTasks\": 1, \"numCompletedTasks\": 17, \"numSkippedTasks\": 0, \"numFailedTasks\": 0, \"numActiveStages\": 1, \"numCompletedStages\": 0, \"numSkippedStages\": 0, \"numFailedStages\": 0})"
      ]
     },
     "metadata": {},
     "output_type": "display_data"
    },
    {
     "data": {
      "application/javascript": [
       "refreshJobProgress_8fd36f33cbe045e582f7174d315c4950({\"jobId\": 1, \"name\": \"sum at <ipython-input-1-58c4354088ce>:95\", \"submissionTime\": \"2017-05-01T01:43:54.277GMT\", \"stageIds\": [1], \"status\": \"RUNNING\", \"numTasks\": 50, \"numActiveTasks\": 1, \"numCompletedTasks\": 17, \"numSkippedTasks\": 0, \"numFailedTasks\": 0, \"numActiveStages\": 1, \"numCompletedStages\": 0, \"numSkippedStages\": 0, \"numFailedStages\": 0})"
      ]
     },
     "metadata": {},
     "output_type": "display_data"
    },
    {
     "data": {
      "application/javascript": [
       "refreshJobProgress_8fd36f33cbe045e582f7174d315c4950({\"jobId\": 1, \"name\": \"sum at <ipython-input-1-58c4354088ce>:95\", \"submissionTime\": \"2017-05-01T01:43:54.277GMT\", \"stageIds\": [1], \"status\": \"RUNNING\", \"numTasks\": 50, \"numActiveTasks\": 1, \"numCompletedTasks\": 17, \"numSkippedTasks\": 0, \"numFailedTasks\": 0, \"numActiveStages\": 1, \"numCompletedStages\": 0, \"numSkippedStages\": 0, \"numFailedStages\": 0})"
      ]
     },
     "metadata": {},
     "output_type": "display_data"
    },
    {
     "data": {
      "application/javascript": [
       "refreshJobProgress_8fd36f33cbe045e582f7174d315c4950({\"jobId\": 1, \"name\": \"sum at <ipython-input-1-58c4354088ce>:95\", \"submissionTime\": \"2017-05-01T01:43:54.277GMT\", \"stageIds\": [1], \"status\": \"RUNNING\", \"numTasks\": 50, \"numActiveTasks\": 1, \"numCompletedTasks\": 17, \"numSkippedTasks\": 0, \"numFailedTasks\": 0, \"numActiveStages\": 1, \"numCompletedStages\": 0, \"numSkippedStages\": 0, \"numFailedStages\": 0})"
      ]
     },
     "metadata": {},
     "output_type": "display_data"
    },
    {
     "data": {
      "application/javascript": [
       "refreshJobProgress_8fd36f33cbe045e582f7174d315c4950({\"jobId\": 1, \"name\": \"sum at <ipython-input-1-58c4354088ce>:95\", \"submissionTime\": \"2017-05-01T01:43:54.277GMT\", \"stageIds\": [1], \"status\": \"RUNNING\", \"numTasks\": 50, \"numActiveTasks\": 1, \"numCompletedTasks\": 17, \"numSkippedTasks\": 0, \"numFailedTasks\": 0, \"numActiveStages\": 1, \"numCompletedStages\": 0, \"numSkippedStages\": 0, \"numFailedStages\": 0})"
      ]
     },
     "metadata": {},
     "output_type": "display_data"
    },
    {
     "data": {
      "application/javascript": [
       "refreshJobProgress_8fd36f33cbe045e582f7174d315c4950({\"jobId\": 1, \"name\": \"sum at <ipython-input-1-58c4354088ce>:95\", \"submissionTime\": \"2017-05-01T01:43:54.277GMT\", \"stageIds\": [1], \"status\": \"RUNNING\", \"numTasks\": 50, \"numActiveTasks\": 2, \"numCompletedTasks\": 17, \"numSkippedTasks\": 0, \"numFailedTasks\": 0, \"numActiveStages\": 1, \"numCompletedStages\": 0, \"numSkippedStages\": 0, \"numFailedStages\": 0})"
      ]
     },
     "metadata": {},
     "output_type": "display_data"
    },
    {
     "data": {
      "application/javascript": [
       "refreshJobProgress_8fd36f33cbe045e582f7174d315c4950({\"jobId\": 1, \"name\": \"sum at <ipython-input-1-58c4354088ce>:95\", \"submissionTime\": \"2017-05-01T01:43:54.277GMT\", \"stageIds\": [1], \"status\": \"RUNNING\", \"numTasks\": 50, \"numActiveTasks\": 1, \"numCompletedTasks\": 18, \"numSkippedTasks\": 0, \"numFailedTasks\": 0, \"numActiveStages\": 1, \"numCompletedStages\": 0, \"numSkippedStages\": 0, \"numFailedStages\": 0})"
      ]
     },
     "metadata": {},
     "output_type": "display_data"
    },
    {
     "data": {
      "application/javascript": [
       "refreshJobProgress_8fd36f33cbe045e582f7174d315c4950({\"jobId\": 1, \"name\": \"sum at <ipython-input-1-58c4354088ce>:95\", \"submissionTime\": \"2017-05-01T01:43:54.277GMT\", \"stageIds\": [1], \"status\": \"RUNNING\", \"numTasks\": 50, \"numActiveTasks\": 1, \"numCompletedTasks\": 18, \"numSkippedTasks\": 0, \"numFailedTasks\": 0, \"numActiveStages\": 1, \"numCompletedStages\": 0, \"numSkippedStages\": 0, \"numFailedStages\": 0})"
      ]
     },
     "metadata": {},
     "output_type": "display_data"
    },
    {
     "data": {
      "application/javascript": [
       "refreshJobProgress_8fd36f33cbe045e582f7174d315c4950({\"jobId\": 1, \"name\": \"sum at <ipython-input-1-58c4354088ce>:95\", \"submissionTime\": \"2017-05-01T01:43:54.277GMT\", \"stageIds\": [1], \"status\": \"RUNNING\", \"numTasks\": 50, \"numActiveTasks\": 1, \"numCompletedTasks\": 18, \"numSkippedTasks\": 0, \"numFailedTasks\": 0, \"numActiveStages\": 1, \"numCompletedStages\": 0, \"numSkippedStages\": 0, \"numFailedStages\": 0})"
      ]
     },
     "metadata": {},
     "output_type": "display_data"
    },
    {
     "data": {
      "application/javascript": [
       "refreshJobProgress_8fd36f33cbe045e582f7174d315c4950({\"jobId\": 1, \"name\": \"sum at <ipython-input-1-58c4354088ce>:95\", \"submissionTime\": \"2017-05-01T01:43:54.277GMT\", \"stageIds\": [1], \"status\": \"RUNNING\", \"numTasks\": 50, \"numActiveTasks\": 1, \"numCompletedTasks\": 18, \"numSkippedTasks\": 0, \"numFailedTasks\": 0, \"numActiveStages\": 1, \"numCompletedStages\": 0, \"numSkippedStages\": 0, \"numFailedStages\": 0})"
      ]
     },
     "metadata": {},
     "output_type": "display_data"
    },
    {
     "data": {
      "application/javascript": [
       "refreshJobProgress_8fd36f33cbe045e582f7174d315c4950({\"jobId\": 1, \"name\": \"sum at <ipython-input-1-58c4354088ce>:95\", \"submissionTime\": \"2017-05-01T01:43:54.277GMT\", \"stageIds\": [1], \"status\": \"RUNNING\", \"numTasks\": 50, \"numActiveTasks\": 1, \"numCompletedTasks\": 19, \"numSkippedTasks\": 0, \"numFailedTasks\": 0, \"numActiveStages\": 1, \"numCompletedStages\": 0, \"numSkippedStages\": 0, \"numFailedStages\": 0})"
      ]
     },
     "metadata": {},
     "output_type": "display_data"
    },
    {
     "data": {
      "application/javascript": [
       "refreshJobProgress_8fd36f33cbe045e582f7174d315c4950({\"jobId\": 1, \"name\": \"sum at <ipython-input-1-58c4354088ce>:95\", \"submissionTime\": \"2017-05-01T01:43:54.277GMT\", \"stageIds\": [1], \"status\": \"RUNNING\", \"numTasks\": 50, \"numActiveTasks\": 1, \"numCompletedTasks\": 19, \"numSkippedTasks\": 0, \"numFailedTasks\": 0, \"numActiveStages\": 1, \"numCompletedStages\": 0, \"numSkippedStages\": 0, \"numFailedStages\": 0})"
      ]
     },
     "metadata": {},
     "output_type": "display_data"
    },
    {
     "data": {
      "application/javascript": [
       "refreshJobProgress_8fd36f33cbe045e582f7174d315c4950({\"jobId\": 1, \"name\": \"sum at <ipython-input-1-58c4354088ce>:95\", \"submissionTime\": \"2017-05-01T01:43:54.277GMT\", \"stageIds\": [1], \"status\": \"RUNNING\", \"numTasks\": 50, \"numActiveTasks\": 1, \"numCompletedTasks\": 20, \"numSkippedTasks\": 0, \"numFailedTasks\": 0, \"numActiveStages\": 1, \"numCompletedStages\": 0, \"numSkippedStages\": 0, \"numFailedStages\": 0})"
      ]
     },
     "metadata": {},
     "output_type": "display_data"
    },
    {
     "data": {
      "application/javascript": [
       "refreshJobProgress_8fd36f33cbe045e582f7174d315c4950({\"jobId\": 1, \"name\": \"sum at <ipython-input-1-58c4354088ce>:95\", \"submissionTime\": \"2017-05-01T01:43:54.277GMT\", \"stageIds\": [1], \"status\": \"RUNNING\", \"numTasks\": 50, \"numActiveTasks\": 1, \"numCompletedTasks\": 20, \"numSkippedTasks\": 0, \"numFailedTasks\": 0, \"numActiveStages\": 1, \"numCompletedStages\": 0, \"numSkippedStages\": 0, \"numFailedStages\": 0})"
      ]
     },
     "metadata": {},
     "output_type": "display_data"
    },
    {
     "data": {
      "application/javascript": [
       "refreshJobProgress_8fd36f33cbe045e582f7174d315c4950({\"jobId\": 1, \"name\": \"sum at <ipython-input-1-58c4354088ce>:95\", \"submissionTime\": \"2017-05-01T01:43:54.277GMT\", \"stageIds\": [1], \"status\": \"RUNNING\", \"numTasks\": 50, \"numActiveTasks\": 1, \"numCompletedTasks\": 20, \"numSkippedTasks\": 0, \"numFailedTasks\": 0, \"numActiveStages\": 1, \"numCompletedStages\": 0, \"numSkippedStages\": 0, \"numFailedStages\": 0})"
      ]
     },
     "metadata": {},
     "output_type": "display_data"
    },
    {
     "data": {
      "application/javascript": [
       "refreshJobProgress_8fd36f33cbe045e582f7174d315c4950({\"jobId\": 1, \"name\": \"sum at <ipython-input-1-58c4354088ce>:95\", \"submissionTime\": \"2017-05-01T01:43:54.277GMT\", \"stageIds\": [1], \"status\": \"RUNNING\", \"numTasks\": 50, \"numActiveTasks\": 1, \"numCompletedTasks\": 21, \"numSkippedTasks\": 0, \"numFailedTasks\": 0, \"numActiveStages\": 1, \"numCompletedStages\": 0, \"numSkippedStages\": 0, \"numFailedStages\": 0})"
      ]
     },
     "metadata": {},
     "output_type": "display_data"
    },
    {
     "data": {
      "application/javascript": [
       "refreshJobProgress_8fd36f33cbe045e582f7174d315c4950({\"jobId\": 1, \"name\": \"sum at <ipython-input-1-58c4354088ce>:95\", \"submissionTime\": \"2017-05-01T01:43:54.277GMT\", \"stageIds\": [1], \"status\": \"RUNNING\", \"numTasks\": 50, \"numActiveTasks\": 1, \"numCompletedTasks\": 21, \"numSkippedTasks\": 0, \"numFailedTasks\": 0, \"numActiveStages\": 1, \"numCompletedStages\": 0, \"numSkippedStages\": 0, \"numFailedStages\": 0})"
      ]
     },
     "metadata": {},
     "output_type": "display_data"
    },
    {
     "data": {
      "application/javascript": [
       "refreshJobProgress_8fd36f33cbe045e582f7174d315c4950({\"jobId\": 1, \"name\": \"sum at <ipython-input-1-58c4354088ce>:95\", \"submissionTime\": \"2017-05-01T01:43:54.277GMT\", \"stageIds\": [1], \"status\": \"RUNNING\", \"numTasks\": 50, \"numActiveTasks\": 1, \"numCompletedTasks\": 21, \"numSkippedTasks\": 0, \"numFailedTasks\": 0, \"numActiveStages\": 1, \"numCompletedStages\": 0, \"numSkippedStages\": 0, \"numFailedStages\": 0})"
      ]
     },
     "metadata": {},
     "output_type": "display_data"
    },
    {
     "data": {
      "application/javascript": [
       "refreshJobProgress_8fd36f33cbe045e582f7174d315c4950({\"jobId\": 1, \"name\": \"sum at <ipython-input-1-58c4354088ce>:95\", \"submissionTime\": \"2017-05-01T01:43:54.277GMT\", \"stageIds\": [1], \"status\": \"RUNNING\", \"numTasks\": 50, \"numActiveTasks\": 1, \"numCompletedTasks\": 21, \"numSkippedTasks\": 0, \"numFailedTasks\": 0, \"numActiveStages\": 1, \"numCompletedStages\": 0, \"numSkippedStages\": 0, \"numFailedStages\": 0})"
      ]
     },
     "metadata": {},
     "output_type": "display_data"
    },
    {
     "data": {
      "application/javascript": [
       "refreshJobProgress_8fd36f33cbe045e582f7174d315c4950({\"jobId\": 1, \"name\": \"sum at <ipython-input-1-58c4354088ce>:95\", \"submissionTime\": \"2017-05-01T01:43:54.277GMT\", \"stageIds\": [1], \"status\": \"RUNNING\", \"numTasks\": 50, \"numActiveTasks\": 1, \"numCompletedTasks\": 22, \"numSkippedTasks\": 0, \"numFailedTasks\": 0, \"numActiveStages\": 1, \"numCompletedStages\": 0, \"numSkippedStages\": 0, \"numFailedStages\": 0})"
      ]
     },
     "metadata": {},
     "output_type": "display_data"
    },
    {
     "data": {
      "application/javascript": [
       "refreshJobProgress_8fd36f33cbe045e582f7174d315c4950({\"jobId\": 1, \"name\": \"sum at <ipython-input-1-58c4354088ce>:95\", \"submissionTime\": \"2017-05-01T01:43:54.277GMT\", \"stageIds\": [1], \"status\": \"RUNNING\", \"numTasks\": 50, \"numActiveTasks\": 1, \"numCompletedTasks\": 22, \"numSkippedTasks\": 0, \"numFailedTasks\": 0, \"numActiveStages\": 1, \"numCompletedStages\": 0, \"numSkippedStages\": 0, \"numFailedStages\": 0})"
      ]
     },
     "metadata": {},
     "output_type": "display_data"
    },
    {
     "data": {
      "application/javascript": [
       "refreshJobProgress_8fd36f33cbe045e582f7174d315c4950({\"jobId\": 1, \"name\": \"sum at <ipython-input-1-58c4354088ce>:95\", \"submissionTime\": \"2017-05-01T01:43:54.277GMT\", \"stageIds\": [1], \"status\": \"RUNNING\", \"numTasks\": 50, \"numActiveTasks\": 1, \"numCompletedTasks\": 22, \"numSkippedTasks\": 0, \"numFailedTasks\": 0, \"numActiveStages\": 1, \"numCompletedStages\": 0, \"numSkippedStages\": 0, \"numFailedStages\": 0})"
      ]
     },
     "metadata": {},
     "output_type": "display_data"
    },
    {
     "data": {
      "application/javascript": [
       "refreshJobProgress_8fd36f33cbe045e582f7174d315c4950({\"jobId\": 1, \"name\": \"sum at <ipython-input-1-58c4354088ce>:95\", \"submissionTime\": \"2017-05-01T01:43:54.277GMT\", \"stageIds\": [1], \"status\": \"RUNNING\", \"numTasks\": 50, \"numActiveTasks\": 1, \"numCompletedTasks\": 22, \"numSkippedTasks\": 0, \"numFailedTasks\": 0, \"numActiveStages\": 1, \"numCompletedStages\": 0, \"numSkippedStages\": 0, \"numFailedStages\": 0})"
      ]
     },
     "metadata": {},
     "output_type": "display_data"
    },
    {
     "data": {
      "application/javascript": [
       "refreshJobProgress_8fd36f33cbe045e582f7174d315c4950({\"jobId\": 1, \"name\": \"sum at <ipython-input-1-58c4354088ce>:95\", \"submissionTime\": \"2017-05-01T01:43:54.277GMT\", \"stageIds\": [1], \"status\": \"RUNNING\", \"numTasks\": 50, \"numActiveTasks\": 1, \"numCompletedTasks\": 22, \"numSkippedTasks\": 0, \"numFailedTasks\": 0, \"numActiveStages\": 1, \"numCompletedStages\": 0, \"numSkippedStages\": 0, \"numFailedStages\": 0})"
      ]
     },
     "metadata": {},
     "output_type": "display_data"
    },
    {
     "data": {
      "application/javascript": [
       "refreshJobProgress_8fd36f33cbe045e582f7174d315c4950({\"jobId\": 1, \"name\": \"sum at <ipython-input-1-58c4354088ce>:95\", \"submissionTime\": \"2017-05-01T01:43:54.277GMT\", \"stageIds\": [1], \"status\": \"RUNNING\", \"numTasks\": 50, \"numActiveTasks\": 1, \"numCompletedTasks\": 23, \"numSkippedTasks\": 0, \"numFailedTasks\": 0, \"numActiveStages\": 1, \"numCompletedStages\": 0, \"numSkippedStages\": 0, \"numFailedStages\": 0})"
      ]
     },
     "metadata": {},
     "output_type": "display_data"
    },
    {
     "data": {
      "application/javascript": [
       "refreshJobProgress_8fd36f33cbe045e582f7174d315c4950({\"jobId\": 1, \"name\": \"sum at <ipython-input-1-58c4354088ce>:95\", \"submissionTime\": \"2017-05-01T01:43:54.277GMT\", \"stageIds\": [1], \"status\": \"RUNNING\", \"numTasks\": 50, \"numActiveTasks\": 1, \"numCompletedTasks\": 23, \"numSkippedTasks\": 0, \"numFailedTasks\": 0, \"numActiveStages\": 1, \"numCompletedStages\": 0, \"numSkippedStages\": 0, \"numFailedStages\": 0})"
      ]
     },
     "metadata": {},
     "output_type": "display_data"
    },
    {
     "data": {
      "application/javascript": [
       "refreshJobProgress_8fd36f33cbe045e582f7174d315c4950({\"jobId\": 1, \"name\": \"sum at <ipython-input-1-58c4354088ce>:95\", \"submissionTime\": \"2017-05-01T01:43:54.277GMT\", \"stageIds\": [1], \"status\": \"RUNNING\", \"numTasks\": 50, \"numActiveTasks\": 1, \"numCompletedTasks\": 23, \"numSkippedTasks\": 0, \"numFailedTasks\": 0, \"numActiveStages\": 1, \"numCompletedStages\": 0, \"numSkippedStages\": 0, \"numFailedStages\": 0})"
      ]
     },
     "metadata": {},
     "output_type": "display_data"
    },
    {
     "data": {
      "application/javascript": [
       "refreshJobProgress_8fd36f33cbe045e582f7174d315c4950({\"jobId\": 1, \"name\": \"sum at <ipython-input-1-58c4354088ce>:95\", \"submissionTime\": \"2017-05-01T01:43:54.277GMT\", \"stageIds\": [1], \"status\": \"RUNNING\", \"numTasks\": 50, \"numActiveTasks\": 1, \"numCompletedTasks\": 24, \"numSkippedTasks\": 0, \"numFailedTasks\": 0, \"numActiveStages\": 1, \"numCompletedStages\": 0, \"numSkippedStages\": 0, \"numFailedStages\": 0})"
      ]
     },
     "metadata": {},
     "output_type": "display_data"
    },
    {
     "data": {
      "application/javascript": [
       "refreshJobProgress_8fd36f33cbe045e582f7174d315c4950({\"jobId\": 1, \"name\": \"sum at <ipython-input-1-58c4354088ce>:95\", \"submissionTime\": \"2017-05-01T01:43:54.277GMT\", \"stageIds\": [1], \"status\": \"RUNNING\", \"numTasks\": 50, \"numActiveTasks\": 1, \"numCompletedTasks\": 24, \"numSkippedTasks\": 0, \"numFailedTasks\": 0, \"numActiveStages\": 1, \"numCompletedStages\": 0, \"numSkippedStages\": 0, \"numFailedStages\": 0})"
      ]
     },
     "metadata": {},
     "output_type": "display_data"
    },
    {
     "data": {
      "application/javascript": [
       "refreshJobProgress_8fd36f33cbe045e582f7174d315c4950({\"jobId\": 1, \"name\": \"sum at <ipython-input-1-58c4354088ce>:95\", \"submissionTime\": \"2017-05-01T01:43:54.277GMT\", \"stageIds\": [1], \"status\": \"RUNNING\", \"numTasks\": 50, \"numActiveTasks\": 1, \"numCompletedTasks\": 24, \"numSkippedTasks\": 0, \"numFailedTasks\": 0, \"numActiveStages\": 1, \"numCompletedStages\": 0, \"numSkippedStages\": 0, \"numFailedStages\": 0})"
      ]
     },
     "metadata": {},
     "output_type": "display_data"
    },
    {
     "data": {
      "application/javascript": [
       "refreshJobProgress_8fd36f33cbe045e582f7174d315c4950({\"jobId\": 1, \"name\": \"sum at <ipython-input-1-58c4354088ce>:95\", \"submissionTime\": \"2017-05-01T01:43:54.277GMT\", \"stageIds\": [1], \"status\": \"RUNNING\", \"numTasks\": 50, \"numActiveTasks\": 1, \"numCompletedTasks\": 24, \"numSkippedTasks\": 0, \"numFailedTasks\": 0, \"numActiveStages\": 1, \"numCompletedStages\": 0, \"numSkippedStages\": 0, \"numFailedStages\": 0})"
      ]
     },
     "metadata": {},
     "output_type": "display_data"
    },
    {
     "data": {
      "application/javascript": [
       "refreshJobProgress_8fd36f33cbe045e582f7174d315c4950({\"jobId\": 1, \"name\": \"sum at <ipython-input-1-58c4354088ce>:95\", \"submissionTime\": \"2017-05-01T01:43:54.277GMT\", \"stageIds\": [1], \"status\": \"RUNNING\", \"numTasks\": 50, \"numActiveTasks\": 1, \"numCompletedTasks\": 24, \"numSkippedTasks\": 0, \"numFailedTasks\": 0, \"numActiveStages\": 1, \"numCompletedStages\": 0, \"numSkippedStages\": 0, \"numFailedStages\": 0})"
      ]
     },
     "metadata": {},
     "output_type": "display_data"
    },
    {
     "data": {
      "application/javascript": [
       "refreshJobProgress_8fd36f33cbe045e582f7174d315c4950({\"jobId\": 1, \"name\": \"sum at <ipython-input-1-58c4354088ce>:95\", \"submissionTime\": \"2017-05-01T01:43:54.277GMT\", \"stageIds\": [1], \"status\": \"RUNNING\", \"numTasks\": 50, \"numActiveTasks\": 1, \"numCompletedTasks\": 25, \"numSkippedTasks\": 0, \"numFailedTasks\": 0, \"numActiveStages\": 1, \"numCompletedStages\": 0, \"numSkippedStages\": 0, \"numFailedStages\": 0})"
      ]
     },
     "metadata": {},
     "output_type": "display_data"
    },
    {
     "data": {
      "application/javascript": [
       "refreshJobProgress_8fd36f33cbe045e582f7174d315c4950({\"jobId\": 1, \"name\": \"sum at <ipython-input-1-58c4354088ce>:95\", \"submissionTime\": \"2017-05-01T01:43:54.277GMT\", \"stageIds\": [1], \"status\": \"RUNNING\", \"numTasks\": 50, \"numActiveTasks\": 1, \"numCompletedTasks\": 25, \"numSkippedTasks\": 0, \"numFailedTasks\": 0, \"numActiveStages\": 1, \"numCompletedStages\": 0, \"numSkippedStages\": 0, \"numFailedStages\": 0})"
      ]
     },
     "metadata": {},
     "output_type": "display_data"
    },
    {
     "data": {
      "application/javascript": [
       "refreshJobProgress_8fd36f33cbe045e582f7174d315c4950({\"jobId\": 1, \"name\": \"sum at <ipython-input-1-58c4354088ce>:95\", \"submissionTime\": \"2017-05-01T01:43:54.277GMT\", \"stageIds\": [1], \"status\": \"RUNNING\", \"numTasks\": 50, \"numActiveTasks\": 1, \"numCompletedTasks\": 25, \"numSkippedTasks\": 0, \"numFailedTasks\": 0, \"numActiveStages\": 1, \"numCompletedStages\": 0, \"numSkippedStages\": 0, \"numFailedStages\": 0})"
      ]
     },
     "metadata": {},
     "output_type": "display_data"
    },
    {
     "data": {
      "application/javascript": [
       "refreshJobProgress_8fd36f33cbe045e582f7174d315c4950({\"jobId\": 1, \"name\": \"sum at <ipython-input-1-58c4354088ce>:95\", \"submissionTime\": \"2017-05-01T01:43:54.277GMT\", \"stageIds\": [1], \"status\": \"RUNNING\", \"numTasks\": 50, \"numActiveTasks\": 1, \"numCompletedTasks\": 25, \"numSkippedTasks\": 0, \"numFailedTasks\": 0, \"numActiveStages\": 1, \"numCompletedStages\": 0, \"numSkippedStages\": 0, \"numFailedStages\": 0})"
      ]
     },
     "metadata": {},
     "output_type": "display_data"
    },
    {
     "data": {
      "application/javascript": [
       "refreshJobProgress_8fd36f33cbe045e582f7174d315c4950({\"jobId\": 1, \"name\": \"sum at <ipython-input-1-58c4354088ce>:95\", \"submissionTime\": \"2017-05-01T01:43:54.277GMT\", \"stageIds\": [1], \"status\": \"RUNNING\", \"numTasks\": 50, \"numActiveTasks\": 1, \"numCompletedTasks\": 26, \"numSkippedTasks\": 0, \"numFailedTasks\": 0, \"numActiveStages\": 1, \"numCompletedStages\": 0, \"numSkippedStages\": 0, \"numFailedStages\": 0})"
      ]
     },
     "metadata": {},
     "output_type": "display_data"
    },
    {
     "data": {
      "application/javascript": [
       "refreshJobProgress_8fd36f33cbe045e582f7174d315c4950({\"jobId\": 1, \"name\": \"sum at <ipython-input-1-58c4354088ce>:95\", \"submissionTime\": \"2017-05-01T01:43:54.277GMT\", \"stageIds\": [1], \"status\": \"RUNNING\", \"numTasks\": 50, \"numActiveTasks\": 1, \"numCompletedTasks\": 26, \"numSkippedTasks\": 0, \"numFailedTasks\": 0, \"numActiveStages\": 1, \"numCompletedStages\": 0, \"numSkippedStages\": 0, \"numFailedStages\": 0})"
      ]
     },
     "metadata": {},
     "output_type": "display_data"
    },
    {
     "data": {
      "application/javascript": [
       "refreshJobProgress_8fd36f33cbe045e582f7174d315c4950({\"jobId\": 1, \"name\": \"sum at <ipython-input-1-58c4354088ce>:95\", \"submissionTime\": \"2017-05-01T01:43:54.277GMT\", \"stageIds\": [1], \"status\": \"RUNNING\", \"numTasks\": 50, \"numActiveTasks\": 1, \"numCompletedTasks\": 26, \"numSkippedTasks\": 0, \"numFailedTasks\": 0, \"numActiveStages\": 1, \"numCompletedStages\": 0, \"numSkippedStages\": 0, \"numFailedStages\": 0})"
      ]
     },
     "metadata": {},
     "output_type": "display_data"
    },
    {
     "data": {
      "application/javascript": [
       "refreshJobProgress_8fd36f33cbe045e582f7174d315c4950({\"jobId\": 1, \"name\": \"sum at <ipython-input-1-58c4354088ce>:95\", \"submissionTime\": \"2017-05-01T01:43:54.277GMT\", \"stageIds\": [1], \"status\": \"RUNNING\", \"numTasks\": 50, \"numActiveTasks\": 2, \"numCompletedTasks\": 26, \"numSkippedTasks\": 0, \"numFailedTasks\": 0, \"numActiveStages\": 1, \"numCompletedStages\": 0, \"numSkippedStages\": 0, \"numFailedStages\": 0})"
      ]
     },
     "metadata": {},
     "output_type": "display_data"
    },
    {
     "data": {
      "application/javascript": [
       "refreshJobProgress_8fd36f33cbe045e582f7174d315c4950({\"jobId\": 1, \"name\": \"sum at <ipython-input-1-58c4354088ce>:95\", \"submissionTime\": \"2017-05-01T01:43:54.277GMT\", \"stageIds\": [1], \"status\": \"RUNNING\", \"numTasks\": 50, \"numActiveTasks\": 1, \"numCompletedTasks\": 27, \"numSkippedTasks\": 0, \"numFailedTasks\": 0, \"numActiveStages\": 1, \"numCompletedStages\": 0, \"numSkippedStages\": 0, \"numFailedStages\": 0})"
      ]
     },
     "metadata": {},
     "output_type": "display_data"
    },
    {
     "data": {
      "application/javascript": [
       "refreshJobProgress_8fd36f33cbe045e582f7174d315c4950({\"jobId\": 1, \"name\": \"sum at <ipython-input-1-58c4354088ce>:95\", \"submissionTime\": \"2017-05-01T01:43:54.277GMT\", \"stageIds\": [1], \"status\": \"RUNNING\", \"numTasks\": 50, \"numActiveTasks\": 1, \"numCompletedTasks\": 27, \"numSkippedTasks\": 0, \"numFailedTasks\": 0, \"numActiveStages\": 1, \"numCompletedStages\": 0, \"numSkippedStages\": 0, \"numFailedStages\": 0})"
      ]
     },
     "metadata": {},
     "output_type": "display_data"
    },
    {
     "data": {
      "application/javascript": [
       "refreshJobProgress_8fd36f33cbe045e582f7174d315c4950({\"jobId\": 1, \"name\": \"sum at <ipython-input-1-58c4354088ce>:95\", \"submissionTime\": \"2017-05-01T01:43:54.277GMT\", \"stageIds\": [1], \"status\": \"RUNNING\", \"numTasks\": 50, \"numActiveTasks\": 1, \"numCompletedTasks\": 27, \"numSkippedTasks\": 0, \"numFailedTasks\": 0, \"numActiveStages\": 1, \"numCompletedStages\": 0, \"numSkippedStages\": 0, \"numFailedStages\": 0})"
      ]
     },
     "metadata": {},
     "output_type": "display_data"
    },
    {
     "data": {
      "application/javascript": [
       "refreshJobProgress_8fd36f33cbe045e582f7174d315c4950({\"jobId\": 1, \"name\": \"sum at <ipython-input-1-58c4354088ce>:95\", \"submissionTime\": \"2017-05-01T01:43:54.277GMT\", \"stageIds\": [1], \"status\": \"RUNNING\", \"numTasks\": 50, \"numActiveTasks\": 1, \"numCompletedTasks\": 27, \"numSkippedTasks\": 0, \"numFailedTasks\": 0, \"numActiveStages\": 1, \"numCompletedStages\": 0, \"numSkippedStages\": 0, \"numFailedStages\": 0})"
      ]
     },
     "metadata": {},
     "output_type": "display_data"
    },
    {
     "data": {
      "application/javascript": [
       "refreshJobProgress_8fd36f33cbe045e582f7174d315c4950({\"jobId\": 1, \"name\": \"sum at <ipython-input-1-58c4354088ce>:95\", \"submissionTime\": \"2017-05-01T01:43:54.277GMT\", \"stageIds\": [1], \"status\": \"RUNNING\", \"numTasks\": 50, \"numActiveTasks\": 1, \"numCompletedTasks\": 27, \"numSkippedTasks\": 0, \"numFailedTasks\": 0, \"numActiveStages\": 1, \"numCompletedStages\": 0, \"numSkippedStages\": 0, \"numFailedStages\": 0})"
      ]
     },
     "metadata": {},
     "output_type": "display_data"
    },
    {
     "data": {
      "application/javascript": [
       "refreshJobProgress_8fd36f33cbe045e582f7174d315c4950({\"jobId\": 1, \"name\": \"sum at <ipython-input-1-58c4354088ce>:95\", \"submissionTime\": \"2017-05-01T01:43:54.277GMT\", \"stageIds\": [1], \"status\": \"RUNNING\", \"numTasks\": 50, \"numActiveTasks\": 1, \"numCompletedTasks\": 28, \"numSkippedTasks\": 0, \"numFailedTasks\": 0, \"numActiveStages\": 1, \"numCompletedStages\": 0, \"numSkippedStages\": 0, \"numFailedStages\": 0})"
      ]
     },
     "metadata": {},
     "output_type": "display_data"
    },
    {
     "data": {
      "application/javascript": [
       "refreshJobProgress_8fd36f33cbe045e582f7174d315c4950({\"jobId\": 1, \"name\": \"sum at <ipython-input-1-58c4354088ce>:95\", \"submissionTime\": \"2017-05-01T01:43:54.277GMT\", \"stageIds\": [1], \"status\": \"RUNNING\", \"numTasks\": 50, \"numActiveTasks\": 1, \"numCompletedTasks\": 28, \"numSkippedTasks\": 0, \"numFailedTasks\": 0, \"numActiveStages\": 1, \"numCompletedStages\": 0, \"numSkippedStages\": 0, \"numFailedStages\": 0})"
      ]
     },
     "metadata": {},
     "output_type": "display_data"
    },
    {
     "data": {
      "application/javascript": [
       "refreshJobProgress_8fd36f33cbe045e582f7174d315c4950({\"jobId\": 1, \"name\": \"sum at <ipython-input-1-58c4354088ce>:95\", \"submissionTime\": \"2017-05-01T01:43:54.277GMT\", \"stageIds\": [1], \"status\": \"RUNNING\", \"numTasks\": 50, \"numActiveTasks\": 1, \"numCompletedTasks\": 28, \"numSkippedTasks\": 0, \"numFailedTasks\": 0, \"numActiveStages\": 1, \"numCompletedStages\": 0, \"numSkippedStages\": 0, \"numFailedStages\": 0})"
      ]
     },
     "metadata": {},
     "output_type": "display_data"
    },
    {
     "data": {
      "application/javascript": [
       "refreshJobProgress_8fd36f33cbe045e582f7174d315c4950({\"jobId\": 1, \"name\": \"sum at <ipython-input-1-58c4354088ce>:95\", \"submissionTime\": \"2017-05-01T01:43:54.277GMT\", \"stageIds\": [1], \"status\": \"RUNNING\", \"numTasks\": 50, \"numActiveTasks\": 1, \"numCompletedTasks\": 28, \"numSkippedTasks\": 0, \"numFailedTasks\": 0, \"numActiveStages\": 1, \"numCompletedStages\": 0, \"numSkippedStages\": 0, \"numFailedStages\": 0})"
      ]
     },
     "metadata": {},
     "output_type": "display_data"
    },
    {
     "data": {
      "application/javascript": [
       "refreshJobProgress_8fd36f33cbe045e582f7174d315c4950({\"jobId\": 1, \"name\": \"sum at <ipython-input-1-58c4354088ce>:95\", \"submissionTime\": \"2017-05-01T01:43:54.277GMT\", \"stageIds\": [1], \"status\": \"RUNNING\", \"numTasks\": 50, \"numActiveTasks\": 1, \"numCompletedTasks\": 29, \"numSkippedTasks\": 0, \"numFailedTasks\": 0, \"numActiveStages\": 1, \"numCompletedStages\": 0, \"numSkippedStages\": 0, \"numFailedStages\": 0})"
      ]
     },
     "metadata": {},
     "output_type": "display_data"
    },
    {
     "data": {
      "application/javascript": [
       "refreshJobProgress_8fd36f33cbe045e582f7174d315c4950({\"jobId\": 1, \"name\": \"sum at <ipython-input-1-58c4354088ce>:95\", \"submissionTime\": \"2017-05-01T01:43:54.277GMT\", \"stageIds\": [1], \"status\": \"RUNNING\", \"numTasks\": 50, \"numActiveTasks\": 1, \"numCompletedTasks\": 29, \"numSkippedTasks\": 0, \"numFailedTasks\": 0, \"numActiveStages\": 1, \"numCompletedStages\": 0, \"numSkippedStages\": 0, \"numFailedStages\": 0})"
      ]
     },
     "metadata": {},
     "output_type": "display_data"
    },
    {
     "data": {
      "application/javascript": [
       "refreshJobProgress_8fd36f33cbe045e582f7174d315c4950({\"jobId\": 1, \"name\": \"sum at <ipython-input-1-58c4354088ce>:95\", \"submissionTime\": \"2017-05-01T01:43:54.277GMT\", \"stageIds\": [1], \"status\": \"RUNNING\", \"numTasks\": 50, \"numActiveTasks\": 1, \"numCompletedTasks\": 29, \"numSkippedTasks\": 0, \"numFailedTasks\": 0, \"numActiveStages\": 1, \"numCompletedStages\": 0, \"numSkippedStages\": 0, \"numFailedStages\": 0})"
      ]
     },
     "metadata": {},
     "output_type": "display_data"
    },
    {
     "data": {
      "application/javascript": [
       "refreshJobProgress_8fd36f33cbe045e582f7174d315c4950({\"jobId\": 1, \"name\": \"sum at <ipython-input-1-58c4354088ce>:95\", \"submissionTime\": \"2017-05-01T01:43:54.277GMT\", \"stageIds\": [1], \"status\": \"RUNNING\", \"numTasks\": 50, \"numActiveTasks\": 1, \"numCompletedTasks\": 29, \"numSkippedTasks\": 0, \"numFailedTasks\": 0, \"numActiveStages\": 1, \"numCompletedStages\": 0, \"numSkippedStages\": 0, \"numFailedStages\": 0})"
      ]
     },
     "metadata": {},
     "output_type": "display_data"
    },
    {
     "data": {
      "application/javascript": [
       "refreshJobProgress_8fd36f33cbe045e582f7174d315c4950({\"jobId\": 1, \"name\": \"sum at <ipython-input-1-58c4354088ce>:95\", \"submissionTime\": \"2017-05-01T01:43:54.277GMT\", \"stageIds\": [1], \"status\": \"RUNNING\", \"numTasks\": 50, \"numActiveTasks\": 1, \"numCompletedTasks\": 29, \"numSkippedTasks\": 0, \"numFailedTasks\": 0, \"numActiveStages\": 1, \"numCompletedStages\": 0, \"numSkippedStages\": 0, \"numFailedStages\": 0})"
      ]
     },
     "metadata": {},
     "output_type": "display_data"
    },
    {
     "data": {
      "application/javascript": [
       "refreshJobProgress_8fd36f33cbe045e582f7174d315c4950({\"jobId\": 1, \"name\": \"sum at <ipython-input-1-58c4354088ce>:95\", \"submissionTime\": \"2017-05-01T01:43:54.277GMT\", \"stageIds\": [1], \"status\": \"RUNNING\", \"numTasks\": 50, \"numActiveTasks\": 1, \"numCompletedTasks\": 29, \"numSkippedTasks\": 0, \"numFailedTasks\": 0, \"numActiveStages\": 1, \"numCompletedStages\": 0, \"numSkippedStages\": 0, \"numFailedStages\": 0})"
      ]
     },
     "metadata": {},
     "output_type": "display_data"
    },
    {
     "data": {
      "application/javascript": [
       "refreshJobProgress_8fd36f33cbe045e582f7174d315c4950({\"jobId\": 1, \"name\": \"sum at <ipython-input-1-58c4354088ce>:95\", \"submissionTime\": \"2017-05-01T01:43:54.277GMT\", \"stageIds\": [1], \"status\": \"RUNNING\", \"numTasks\": 50, \"numActiveTasks\": 1, \"numCompletedTasks\": 30, \"numSkippedTasks\": 0, \"numFailedTasks\": 0, \"numActiveStages\": 1, \"numCompletedStages\": 0, \"numSkippedStages\": 0, \"numFailedStages\": 0})"
      ]
     },
     "metadata": {},
     "output_type": "display_data"
    },
    {
     "data": {
      "application/javascript": [
       "refreshJobProgress_8fd36f33cbe045e582f7174d315c4950({\"jobId\": 1, \"name\": \"sum at <ipython-input-1-58c4354088ce>:95\", \"submissionTime\": \"2017-05-01T01:43:54.277GMT\", \"stageIds\": [1], \"status\": \"RUNNING\", \"numTasks\": 50, \"numActiveTasks\": 1, \"numCompletedTasks\": 30, \"numSkippedTasks\": 0, \"numFailedTasks\": 0, \"numActiveStages\": 1, \"numCompletedStages\": 0, \"numSkippedStages\": 0, \"numFailedStages\": 0})"
      ]
     },
     "metadata": {},
     "output_type": "display_data"
    },
    {
     "data": {
      "application/javascript": [
       "refreshJobProgress_8fd36f33cbe045e582f7174d315c4950({\"jobId\": 1, \"name\": \"sum at <ipython-input-1-58c4354088ce>:95\", \"submissionTime\": \"2017-05-01T01:43:54.277GMT\", \"stageIds\": [1], \"status\": \"RUNNING\", \"numTasks\": 50, \"numActiveTasks\": 1, \"numCompletedTasks\": 30, \"numSkippedTasks\": 0, \"numFailedTasks\": 0, \"numActiveStages\": 1, \"numCompletedStages\": 0, \"numSkippedStages\": 0, \"numFailedStages\": 0})"
      ]
     },
     "metadata": {},
     "output_type": "display_data"
    },
    {
     "data": {
      "application/javascript": [
       "refreshJobProgress_8fd36f33cbe045e582f7174d315c4950({\"jobId\": 1, \"name\": \"sum at <ipython-input-1-58c4354088ce>:95\", \"submissionTime\": \"2017-05-01T01:43:54.277GMT\", \"stageIds\": [1], \"status\": \"RUNNING\", \"numTasks\": 50, \"numActiveTasks\": 1, \"numCompletedTasks\": 30, \"numSkippedTasks\": 0, \"numFailedTasks\": 0, \"numActiveStages\": 1, \"numCompletedStages\": 0, \"numSkippedStages\": 0, \"numFailedStages\": 0})"
      ]
     },
     "metadata": {},
     "output_type": "display_data"
    },
    {
     "data": {
      "application/javascript": [
       "refreshJobProgress_8fd36f33cbe045e582f7174d315c4950({\"jobId\": 1, \"name\": \"sum at <ipython-input-1-58c4354088ce>:95\", \"submissionTime\": \"2017-05-01T01:43:54.277GMT\", \"stageIds\": [1], \"status\": \"RUNNING\", \"numTasks\": 50, \"numActiveTasks\": 1, \"numCompletedTasks\": 30, \"numSkippedTasks\": 0, \"numFailedTasks\": 0, \"numActiveStages\": 1, \"numCompletedStages\": 0, \"numSkippedStages\": 0, \"numFailedStages\": 0})"
      ]
     },
     "metadata": {},
     "output_type": "display_data"
    },
    {
     "data": {
      "application/javascript": [
       "refreshJobProgress_8fd36f33cbe045e582f7174d315c4950({\"jobId\": 1, \"name\": \"sum at <ipython-input-1-58c4354088ce>:95\", \"submissionTime\": \"2017-05-01T01:43:54.277GMT\", \"stageIds\": [1], \"status\": \"RUNNING\", \"numTasks\": 50, \"numActiveTasks\": 1, \"numCompletedTasks\": 30, \"numSkippedTasks\": 0, \"numFailedTasks\": 0, \"numActiveStages\": 1, \"numCompletedStages\": 0, \"numSkippedStages\": 0, \"numFailedStages\": 0})"
      ]
     },
     "metadata": {},
     "output_type": "display_data"
    },
    {
     "data": {
      "application/javascript": [
       "refreshJobProgress_8fd36f33cbe045e582f7174d315c4950({\"jobId\": 1, \"name\": \"sum at <ipython-input-1-58c4354088ce>:95\", \"submissionTime\": \"2017-05-01T01:43:54.277GMT\", \"stageIds\": [1], \"status\": \"RUNNING\", \"numTasks\": 50, \"numActiveTasks\": 1, \"numCompletedTasks\": 30, \"numSkippedTasks\": 0, \"numFailedTasks\": 0, \"numActiveStages\": 1, \"numCompletedStages\": 0, \"numSkippedStages\": 0, \"numFailedStages\": 0})"
      ]
     },
     "metadata": {},
     "output_type": "display_data"
    },
    {
     "data": {
      "application/javascript": [
       "refreshJobProgress_8fd36f33cbe045e582f7174d315c4950({\"jobId\": 1, \"name\": \"sum at <ipython-input-1-58c4354088ce>:95\", \"submissionTime\": \"2017-05-01T01:43:54.277GMT\", \"stageIds\": [1], \"status\": \"RUNNING\", \"numTasks\": 50, \"numActiveTasks\": 1, \"numCompletedTasks\": 30, \"numSkippedTasks\": 0, \"numFailedTasks\": 0, \"numActiveStages\": 1, \"numCompletedStages\": 0, \"numSkippedStages\": 0, \"numFailedStages\": 0})"
      ]
     },
     "metadata": {},
     "output_type": "display_data"
    },
    {
     "data": {
      "application/javascript": [
       "refreshJobProgress_8fd36f33cbe045e582f7174d315c4950({\"jobId\": 1, \"name\": \"sum at <ipython-input-1-58c4354088ce>:95\", \"submissionTime\": \"2017-05-01T01:43:54.277GMT\", \"stageIds\": [1], \"status\": \"RUNNING\", \"numTasks\": 50, \"numActiveTasks\": 1, \"numCompletedTasks\": 30, \"numSkippedTasks\": 0, \"numFailedTasks\": 0, \"numActiveStages\": 1, \"numCompletedStages\": 0, \"numSkippedStages\": 0, \"numFailedStages\": 0})"
      ]
     },
     "metadata": {},
     "output_type": "display_data"
    },
    {
     "data": {
      "application/javascript": [
       "refreshJobProgress_8fd36f33cbe045e582f7174d315c4950({\"jobId\": 1, \"name\": \"sum at <ipython-input-1-58c4354088ce>:95\", \"submissionTime\": \"2017-05-01T01:43:54.277GMT\", \"stageIds\": [1], \"status\": \"RUNNING\", \"numTasks\": 50, \"numActiveTasks\": 1, \"numCompletedTasks\": 31, \"numSkippedTasks\": 0, \"numFailedTasks\": 0, \"numActiveStages\": 1, \"numCompletedStages\": 0, \"numSkippedStages\": 0, \"numFailedStages\": 0})"
      ]
     },
     "metadata": {},
     "output_type": "display_data"
    },
    {
     "data": {
      "application/javascript": [
       "refreshJobProgress_8fd36f33cbe045e582f7174d315c4950({\"jobId\": 1, \"name\": \"sum at <ipython-input-1-58c4354088ce>:95\", \"submissionTime\": \"2017-05-01T01:43:54.277GMT\", \"stageIds\": [1], \"status\": \"RUNNING\", \"numTasks\": 50, \"numActiveTasks\": 1, \"numCompletedTasks\": 31, \"numSkippedTasks\": 0, \"numFailedTasks\": 0, \"numActiveStages\": 1, \"numCompletedStages\": 0, \"numSkippedStages\": 0, \"numFailedStages\": 0})"
      ]
     },
     "metadata": {},
     "output_type": "display_data"
    },
    {
     "data": {
      "application/javascript": [
       "refreshJobProgress_8fd36f33cbe045e582f7174d315c4950({\"jobId\": 1, \"name\": \"sum at <ipython-input-1-58c4354088ce>:95\", \"submissionTime\": \"2017-05-01T01:43:54.277GMT\", \"stageIds\": [1], \"status\": \"RUNNING\", \"numTasks\": 50, \"numActiveTasks\": 1, \"numCompletedTasks\": 31, \"numSkippedTasks\": 0, \"numFailedTasks\": 0, \"numActiveStages\": 1, \"numCompletedStages\": 0, \"numSkippedStages\": 0, \"numFailedStages\": 0})"
      ]
     },
     "metadata": {},
     "output_type": "display_data"
    },
    {
     "data": {
      "application/javascript": [
       "refreshJobProgress_8fd36f33cbe045e582f7174d315c4950({\"jobId\": 1, \"name\": \"sum at <ipython-input-1-58c4354088ce>:95\", \"submissionTime\": \"2017-05-01T01:43:54.277GMT\", \"stageIds\": [1], \"status\": \"RUNNING\", \"numTasks\": 50, \"numActiveTasks\": 1, \"numCompletedTasks\": 32, \"numSkippedTasks\": 0, \"numFailedTasks\": 0, \"numActiveStages\": 1, \"numCompletedStages\": 0, \"numSkippedStages\": 0, \"numFailedStages\": 0})"
      ]
     },
     "metadata": {},
     "output_type": "display_data"
    },
    {
     "data": {
      "application/javascript": [
       "refreshJobProgress_8fd36f33cbe045e582f7174d315c4950({\"jobId\": 1, \"name\": \"sum at <ipython-input-1-58c4354088ce>:95\", \"submissionTime\": \"2017-05-01T01:43:54.277GMT\", \"stageIds\": [1], \"status\": \"RUNNING\", \"numTasks\": 50, \"numActiveTasks\": 1, \"numCompletedTasks\": 32, \"numSkippedTasks\": 0, \"numFailedTasks\": 0, \"numActiveStages\": 1, \"numCompletedStages\": 0, \"numSkippedStages\": 0, \"numFailedStages\": 0})"
      ]
     },
     "metadata": {},
     "output_type": "display_data"
    },
    {
     "data": {
      "application/javascript": [
       "refreshJobProgress_8fd36f33cbe045e582f7174d315c4950({\"jobId\": 1, \"name\": \"sum at <ipython-input-1-58c4354088ce>:95\", \"submissionTime\": \"2017-05-01T01:43:54.277GMT\", \"stageIds\": [1], \"status\": \"RUNNING\", \"numTasks\": 50, \"numActiveTasks\": 1, \"numCompletedTasks\": 32, \"numSkippedTasks\": 0, \"numFailedTasks\": 0, \"numActiveStages\": 1, \"numCompletedStages\": 0, \"numSkippedStages\": 0, \"numFailedStages\": 0})"
      ]
     },
     "metadata": {},
     "output_type": "display_data"
    },
    {
     "data": {
      "application/javascript": [
       "refreshJobProgress_8fd36f33cbe045e582f7174d315c4950({\"jobId\": 1, \"name\": \"sum at <ipython-input-1-58c4354088ce>:95\", \"submissionTime\": \"2017-05-01T01:43:54.277GMT\", \"stageIds\": [1], \"status\": \"RUNNING\", \"numTasks\": 50, \"numActiveTasks\": 1, \"numCompletedTasks\": 32, \"numSkippedTasks\": 0, \"numFailedTasks\": 0, \"numActiveStages\": 1, \"numCompletedStages\": 0, \"numSkippedStages\": 0, \"numFailedStages\": 0})"
      ]
     },
     "metadata": {},
     "output_type": "display_data"
    },
    {
     "data": {
      "application/javascript": [
       "refreshJobProgress_8fd36f33cbe045e582f7174d315c4950({\"jobId\": 1, \"name\": \"sum at <ipython-input-1-58c4354088ce>:95\", \"submissionTime\": \"2017-05-01T01:43:54.277GMT\", \"stageIds\": [1], \"status\": \"RUNNING\", \"numTasks\": 50, \"numActiveTasks\": 1, \"numCompletedTasks\": 32, \"numSkippedTasks\": 0, \"numFailedTasks\": 0, \"numActiveStages\": 1, \"numCompletedStages\": 0, \"numSkippedStages\": 0, \"numFailedStages\": 0})"
      ]
     },
     "metadata": {},
     "output_type": "display_data"
    },
    {
     "data": {
      "application/javascript": [
       "refreshJobProgress_8fd36f33cbe045e582f7174d315c4950({\"jobId\": 1, \"name\": \"sum at <ipython-input-1-58c4354088ce>:95\", \"submissionTime\": \"2017-05-01T01:43:54.277GMT\", \"stageIds\": [1], \"status\": \"RUNNING\", \"numTasks\": 50, \"numActiveTasks\": 1, \"numCompletedTasks\": 32, \"numSkippedTasks\": 0, \"numFailedTasks\": 0, \"numActiveStages\": 1, \"numCompletedStages\": 0, \"numSkippedStages\": 0, \"numFailedStages\": 0})"
      ]
     },
     "metadata": {},
     "output_type": "display_data"
    },
    {
     "data": {
      "application/javascript": [
       "refreshJobProgress_8fd36f33cbe045e582f7174d315c4950({\"jobId\": 1, \"name\": \"sum at <ipython-input-1-58c4354088ce>:95\", \"submissionTime\": \"2017-05-01T01:43:54.277GMT\", \"stageIds\": [1], \"status\": \"RUNNING\", \"numTasks\": 50, \"numActiveTasks\": 1, \"numCompletedTasks\": 33, \"numSkippedTasks\": 0, \"numFailedTasks\": 0, \"numActiveStages\": 1, \"numCompletedStages\": 0, \"numSkippedStages\": 0, \"numFailedStages\": 0})"
      ]
     },
     "metadata": {},
     "output_type": "display_data"
    },
    {
     "data": {
      "application/javascript": [
       "refreshJobProgress_8fd36f33cbe045e582f7174d315c4950({\"jobId\": 1, \"name\": \"sum at <ipython-input-1-58c4354088ce>:95\", \"submissionTime\": \"2017-05-01T01:43:54.277GMT\", \"stageIds\": [1], \"status\": \"RUNNING\", \"numTasks\": 50, \"numActiveTasks\": 1, \"numCompletedTasks\": 33, \"numSkippedTasks\": 0, \"numFailedTasks\": 0, \"numActiveStages\": 1, \"numCompletedStages\": 0, \"numSkippedStages\": 0, \"numFailedStages\": 0})"
      ]
     },
     "metadata": {},
     "output_type": "display_data"
    },
    {
     "data": {
      "application/javascript": [
       "refreshJobProgress_8fd36f33cbe045e582f7174d315c4950({\"jobId\": 1, \"name\": \"sum at <ipython-input-1-58c4354088ce>:95\", \"submissionTime\": \"2017-05-01T01:43:54.277GMT\", \"stageIds\": [1], \"status\": \"RUNNING\", \"numTasks\": 50, \"numActiveTasks\": 1, \"numCompletedTasks\": 33, \"numSkippedTasks\": 0, \"numFailedTasks\": 0, \"numActiveStages\": 1, \"numCompletedStages\": 0, \"numSkippedStages\": 0, \"numFailedStages\": 0})"
      ]
     },
     "metadata": {},
     "output_type": "display_data"
    },
    {
     "data": {
      "application/javascript": [
       "refreshJobProgress_8fd36f33cbe045e582f7174d315c4950({\"jobId\": 1, \"name\": \"sum at <ipython-input-1-58c4354088ce>:95\", \"submissionTime\": \"2017-05-01T01:43:54.277GMT\", \"stageIds\": [1], \"status\": \"RUNNING\", \"numTasks\": 50, \"numActiveTasks\": 1, \"numCompletedTasks\": 33, \"numSkippedTasks\": 0, \"numFailedTasks\": 0, \"numActiveStages\": 1, \"numCompletedStages\": 0, \"numSkippedStages\": 0, \"numFailedStages\": 0})"
      ]
     },
     "metadata": {},
     "output_type": "display_data"
    },
    {
     "data": {
      "application/javascript": [
       "refreshJobProgress_8fd36f33cbe045e582f7174d315c4950({\"jobId\": 1, \"name\": \"sum at <ipython-input-1-58c4354088ce>:95\", \"submissionTime\": \"2017-05-01T01:43:54.277GMT\", \"stageIds\": [1], \"status\": \"RUNNING\", \"numTasks\": 50, \"numActiveTasks\": 1, \"numCompletedTasks\": 33, \"numSkippedTasks\": 0, \"numFailedTasks\": 0, \"numActiveStages\": 1, \"numCompletedStages\": 0, \"numSkippedStages\": 0, \"numFailedStages\": 0})"
      ]
     },
     "metadata": {},
     "output_type": "display_data"
    },
    {
     "data": {
      "application/javascript": [
       "refreshJobProgress_8fd36f33cbe045e582f7174d315c4950({\"jobId\": 1, \"name\": \"sum at <ipython-input-1-58c4354088ce>:95\", \"submissionTime\": \"2017-05-01T01:43:54.277GMT\", \"stageIds\": [1], \"status\": \"RUNNING\", \"numTasks\": 50, \"numActiveTasks\": 1, \"numCompletedTasks\": 33, \"numSkippedTasks\": 0, \"numFailedTasks\": 0, \"numActiveStages\": 1, \"numCompletedStages\": 0, \"numSkippedStages\": 0, \"numFailedStages\": 0})"
      ]
     },
     "metadata": {},
     "output_type": "display_data"
    },
    {
     "data": {
      "application/javascript": [
       "refreshJobProgress_8fd36f33cbe045e582f7174d315c4950({\"jobId\": 1, \"name\": \"sum at <ipython-input-1-58c4354088ce>:95\", \"submissionTime\": \"2017-05-01T01:43:54.277GMT\", \"stageIds\": [1], \"status\": \"RUNNING\", \"numTasks\": 50, \"numActiveTasks\": 1, \"numCompletedTasks\": 33, \"numSkippedTasks\": 0, \"numFailedTasks\": 0, \"numActiveStages\": 1, \"numCompletedStages\": 0, \"numSkippedStages\": 0, \"numFailedStages\": 0})"
      ]
     },
     "metadata": {},
     "output_type": "display_data"
    },
    {
     "data": {
      "application/javascript": [
       "refreshJobProgress_8fd36f33cbe045e582f7174d315c4950({\"jobId\": 1, \"name\": \"sum at <ipython-input-1-58c4354088ce>:95\", \"submissionTime\": \"2017-05-01T01:43:54.277GMT\", \"stageIds\": [1], \"status\": \"RUNNING\", \"numTasks\": 50, \"numActiveTasks\": 1, \"numCompletedTasks\": 33, \"numSkippedTasks\": 0, \"numFailedTasks\": 0, \"numActiveStages\": 1, \"numCompletedStages\": 0, \"numSkippedStages\": 0, \"numFailedStages\": 0})"
      ]
     },
     "metadata": {},
     "output_type": "display_data"
    },
    {
     "data": {
      "application/javascript": [
       "refreshJobProgress_8fd36f33cbe045e582f7174d315c4950({\"jobId\": 1, \"name\": \"sum at <ipython-input-1-58c4354088ce>:95\", \"submissionTime\": \"2017-05-01T01:43:54.277GMT\", \"stageIds\": [1], \"status\": \"RUNNING\", \"numTasks\": 50, \"numActiveTasks\": 1, \"numCompletedTasks\": 34, \"numSkippedTasks\": 0, \"numFailedTasks\": 0, \"numActiveStages\": 1, \"numCompletedStages\": 0, \"numSkippedStages\": 0, \"numFailedStages\": 0})"
      ]
     },
     "metadata": {},
     "output_type": "display_data"
    },
    {
     "data": {
      "application/javascript": [
       "refreshJobProgress_8fd36f33cbe045e582f7174d315c4950({\"jobId\": 1, \"name\": \"sum at <ipython-input-1-58c4354088ce>:95\", \"submissionTime\": \"2017-05-01T01:43:54.277GMT\", \"stageIds\": [1], \"status\": \"RUNNING\", \"numTasks\": 50, \"numActiveTasks\": 1, \"numCompletedTasks\": 34, \"numSkippedTasks\": 0, \"numFailedTasks\": 0, \"numActiveStages\": 1, \"numCompletedStages\": 0, \"numSkippedStages\": 0, \"numFailedStages\": 0})"
      ]
     },
     "metadata": {},
     "output_type": "display_data"
    },
    {
     "data": {
      "application/javascript": [
       "refreshJobProgress_8fd36f33cbe045e582f7174d315c4950({\"jobId\": 1, \"name\": \"sum at <ipython-input-1-58c4354088ce>:95\", \"submissionTime\": \"2017-05-01T01:43:54.277GMT\", \"stageIds\": [1], \"status\": \"RUNNING\", \"numTasks\": 50, \"numActiveTasks\": 1, \"numCompletedTasks\": 34, \"numSkippedTasks\": 0, \"numFailedTasks\": 0, \"numActiveStages\": 1, \"numCompletedStages\": 0, \"numSkippedStages\": 0, \"numFailedStages\": 0})"
      ]
     },
     "metadata": {},
     "output_type": "display_data"
    },
    {
     "data": {
      "application/javascript": [
       "refreshJobProgress_8fd36f33cbe045e582f7174d315c4950({\"jobId\": 1, \"name\": \"sum at <ipython-input-1-58c4354088ce>:95\", \"submissionTime\": \"2017-05-01T01:43:54.277GMT\", \"stageIds\": [1], \"status\": \"RUNNING\", \"numTasks\": 50, \"numActiveTasks\": 1, \"numCompletedTasks\": 34, \"numSkippedTasks\": 0, \"numFailedTasks\": 0, \"numActiveStages\": 1, \"numCompletedStages\": 0, \"numSkippedStages\": 0, \"numFailedStages\": 0})"
      ]
     },
     "metadata": {},
     "output_type": "display_data"
    },
    {
     "data": {
      "application/javascript": [
       "refreshJobProgress_8fd36f33cbe045e582f7174d315c4950({\"jobId\": 1, \"name\": \"sum at <ipython-input-1-58c4354088ce>:95\", \"submissionTime\": \"2017-05-01T01:43:54.277GMT\", \"stageIds\": [1], \"status\": \"RUNNING\", \"numTasks\": 50, \"numActiveTasks\": 1, \"numCompletedTasks\": 34, \"numSkippedTasks\": 0, \"numFailedTasks\": 0, \"numActiveStages\": 1, \"numCompletedStages\": 0, \"numSkippedStages\": 0, \"numFailedStages\": 0})"
      ]
     },
     "metadata": {},
     "output_type": "display_data"
    },
    {
     "data": {
      "application/javascript": [
       "refreshJobProgress_8fd36f33cbe045e582f7174d315c4950({\"jobId\": 1, \"name\": \"sum at <ipython-input-1-58c4354088ce>:95\", \"submissionTime\": \"2017-05-01T01:43:54.277GMT\", \"stageIds\": [1], \"status\": \"RUNNING\", \"numTasks\": 50, \"numActiveTasks\": 1, \"numCompletedTasks\": 34, \"numSkippedTasks\": 0, \"numFailedTasks\": 0, \"numActiveStages\": 1, \"numCompletedStages\": 0, \"numSkippedStages\": 0, \"numFailedStages\": 0})"
      ]
     },
     "metadata": {},
     "output_type": "display_data"
    },
    {
     "data": {
      "application/javascript": [
       "refreshJobProgress_8fd36f33cbe045e582f7174d315c4950({\"jobId\": 1, \"name\": \"sum at <ipython-input-1-58c4354088ce>:95\", \"submissionTime\": \"2017-05-01T01:43:54.277GMT\", \"stageIds\": [1], \"status\": \"RUNNING\", \"numTasks\": 50, \"numActiveTasks\": 1, \"numCompletedTasks\": 34, \"numSkippedTasks\": 0, \"numFailedTasks\": 0, \"numActiveStages\": 1, \"numCompletedStages\": 0, \"numSkippedStages\": 0, \"numFailedStages\": 0})"
      ]
     },
     "metadata": {},
     "output_type": "display_data"
    },
    {
     "data": {
      "application/javascript": [
       "refreshJobProgress_8fd36f33cbe045e582f7174d315c4950({\"jobId\": 1, \"name\": \"sum at <ipython-input-1-58c4354088ce>:95\", \"submissionTime\": \"2017-05-01T01:43:54.277GMT\", \"stageIds\": [1], \"status\": \"RUNNING\", \"numTasks\": 50, \"numActiveTasks\": 1, \"numCompletedTasks\": 34, \"numSkippedTasks\": 0, \"numFailedTasks\": 0, \"numActiveStages\": 1, \"numCompletedStages\": 0, \"numSkippedStages\": 0, \"numFailedStages\": 0})"
      ]
     },
     "metadata": {},
     "output_type": "display_data"
    },
    {
     "data": {
      "application/javascript": [
       "refreshJobProgress_8fd36f33cbe045e582f7174d315c4950({\"jobId\": 1, \"name\": \"sum at <ipython-input-1-58c4354088ce>:95\", \"submissionTime\": \"2017-05-01T01:43:54.277GMT\", \"stageIds\": [1], \"status\": \"RUNNING\", \"numTasks\": 50, \"numActiveTasks\": 1, \"numCompletedTasks\": 35, \"numSkippedTasks\": 0, \"numFailedTasks\": 0, \"numActiveStages\": 1, \"numCompletedStages\": 0, \"numSkippedStages\": 0, \"numFailedStages\": 0})"
      ]
     },
     "metadata": {},
     "output_type": "display_data"
    },
    {
     "data": {
      "application/javascript": [
       "refreshJobProgress_8fd36f33cbe045e582f7174d315c4950({\"jobId\": 1, \"name\": \"sum at <ipython-input-1-58c4354088ce>:95\", \"submissionTime\": \"2017-05-01T01:43:54.277GMT\", \"stageIds\": [1], \"status\": \"RUNNING\", \"numTasks\": 50, \"numActiveTasks\": 1, \"numCompletedTasks\": 35, \"numSkippedTasks\": 0, \"numFailedTasks\": 0, \"numActiveStages\": 1, \"numCompletedStages\": 0, \"numSkippedStages\": 0, \"numFailedStages\": 0})"
      ]
     },
     "metadata": {},
     "output_type": "display_data"
    },
    {
     "data": {
      "application/javascript": [
       "refreshJobProgress_8fd36f33cbe045e582f7174d315c4950({\"jobId\": 1, \"name\": \"sum at <ipython-input-1-58c4354088ce>:95\", \"submissionTime\": \"2017-05-01T01:43:54.277GMT\", \"stageIds\": [1], \"status\": \"RUNNING\", \"numTasks\": 50, \"numActiveTasks\": 1, \"numCompletedTasks\": 35, \"numSkippedTasks\": 0, \"numFailedTasks\": 0, \"numActiveStages\": 1, \"numCompletedStages\": 0, \"numSkippedStages\": 0, \"numFailedStages\": 0})"
      ]
     },
     "metadata": {},
     "output_type": "display_data"
    },
    {
     "data": {
      "application/javascript": [
       "refreshJobProgress_8fd36f33cbe045e582f7174d315c4950({\"jobId\": 1, \"name\": \"sum at <ipython-input-1-58c4354088ce>:95\", \"submissionTime\": \"2017-05-01T01:43:54.277GMT\", \"stageIds\": [1], \"status\": \"RUNNING\", \"numTasks\": 50, \"numActiveTasks\": 1, \"numCompletedTasks\": 36, \"numSkippedTasks\": 0, \"numFailedTasks\": 0, \"numActiveStages\": 1, \"numCompletedStages\": 0, \"numSkippedStages\": 0, \"numFailedStages\": 0})"
      ]
     },
     "metadata": {},
     "output_type": "display_data"
    },
    {
     "data": {
      "application/javascript": [
       "refreshJobProgress_8fd36f33cbe045e582f7174d315c4950({\"jobId\": 1, \"name\": \"sum at <ipython-input-1-58c4354088ce>:95\", \"submissionTime\": \"2017-05-01T01:43:54.277GMT\", \"stageIds\": [1], \"status\": \"RUNNING\", \"numTasks\": 50, \"numActiveTasks\": 1, \"numCompletedTasks\": 36, \"numSkippedTasks\": 0, \"numFailedTasks\": 0, \"numActiveStages\": 1, \"numCompletedStages\": 0, \"numSkippedStages\": 0, \"numFailedStages\": 0})"
      ]
     },
     "metadata": {},
     "output_type": "display_data"
    },
    {
     "data": {
      "application/javascript": [
       "refreshJobProgress_8fd36f33cbe045e582f7174d315c4950({\"jobId\": 1, \"name\": \"sum at <ipython-input-1-58c4354088ce>:95\", \"submissionTime\": \"2017-05-01T01:43:54.277GMT\", \"stageIds\": [1], \"status\": \"RUNNING\", \"numTasks\": 50, \"numActiveTasks\": 1, \"numCompletedTasks\": 36, \"numSkippedTasks\": 0, \"numFailedTasks\": 0, \"numActiveStages\": 1, \"numCompletedStages\": 0, \"numSkippedStages\": 0, \"numFailedStages\": 0})"
      ]
     },
     "metadata": {},
     "output_type": "display_data"
    },
    {
     "data": {
      "application/javascript": [
       "refreshJobProgress_8fd36f33cbe045e582f7174d315c4950({\"jobId\": 1, \"name\": \"sum at <ipython-input-1-58c4354088ce>:95\", \"submissionTime\": \"2017-05-01T01:43:54.277GMT\", \"stageIds\": [1], \"status\": \"RUNNING\", \"numTasks\": 50, \"numActiveTasks\": 1, \"numCompletedTasks\": 36, \"numSkippedTasks\": 0, \"numFailedTasks\": 0, \"numActiveStages\": 1, \"numCompletedStages\": 0, \"numSkippedStages\": 0, \"numFailedStages\": 0})"
      ]
     },
     "metadata": {},
     "output_type": "display_data"
    },
    {
     "data": {
      "application/javascript": [
       "refreshJobProgress_8fd36f33cbe045e582f7174d315c4950({\"jobId\": 1, \"name\": \"sum at <ipython-input-1-58c4354088ce>:95\", \"submissionTime\": \"2017-05-01T01:43:54.277GMT\", \"stageIds\": [1], \"status\": \"RUNNING\", \"numTasks\": 50, \"numActiveTasks\": 1, \"numCompletedTasks\": 36, \"numSkippedTasks\": 0, \"numFailedTasks\": 0, \"numActiveStages\": 1, \"numCompletedStages\": 0, \"numSkippedStages\": 0, \"numFailedStages\": 0})"
      ]
     },
     "metadata": {},
     "output_type": "display_data"
    },
    {
     "data": {
      "application/javascript": [
       "refreshJobProgress_8fd36f33cbe045e582f7174d315c4950({\"jobId\": 1, \"name\": \"sum at <ipython-input-1-58c4354088ce>:95\", \"submissionTime\": \"2017-05-01T01:43:54.277GMT\", \"stageIds\": [1], \"status\": \"RUNNING\", \"numTasks\": 50, \"numActiveTasks\": 1, \"numCompletedTasks\": 36, \"numSkippedTasks\": 0, \"numFailedTasks\": 0, \"numActiveStages\": 1, \"numCompletedStages\": 0, \"numSkippedStages\": 0, \"numFailedStages\": 0})"
      ]
     },
     "metadata": {},
     "output_type": "display_data"
    },
    {
     "data": {
      "application/javascript": [
       "refreshJobProgress_8fd36f33cbe045e582f7174d315c4950({\"jobId\": 1, \"name\": \"sum at <ipython-input-1-58c4354088ce>:95\", \"submissionTime\": \"2017-05-01T01:43:54.277GMT\", \"stageIds\": [1], \"status\": \"RUNNING\", \"numTasks\": 50, \"numActiveTasks\": 1, \"numCompletedTasks\": 36, \"numSkippedTasks\": 0, \"numFailedTasks\": 0, \"numActiveStages\": 1, \"numCompletedStages\": 0, \"numSkippedStages\": 0, \"numFailedStages\": 0})"
      ]
     },
     "metadata": {},
     "output_type": "display_data"
    },
    {
     "data": {
      "application/javascript": [
       "refreshJobProgress_8fd36f33cbe045e582f7174d315c4950({\"jobId\": 1, \"name\": \"sum at <ipython-input-1-58c4354088ce>:95\", \"submissionTime\": \"2017-05-01T01:43:54.277GMT\", \"stageIds\": [1], \"status\": \"RUNNING\", \"numTasks\": 50, \"numActiveTasks\": 1, \"numCompletedTasks\": 37, \"numSkippedTasks\": 0, \"numFailedTasks\": 0, \"numActiveStages\": 1, \"numCompletedStages\": 0, \"numSkippedStages\": 0, \"numFailedStages\": 0})"
      ]
     },
     "metadata": {},
     "output_type": "display_data"
    },
    {
     "data": {
      "application/javascript": [
       "refreshJobProgress_8fd36f33cbe045e582f7174d315c4950({\"jobId\": 1, \"name\": \"sum at <ipython-input-1-58c4354088ce>:95\", \"submissionTime\": \"2017-05-01T01:43:54.277GMT\", \"stageIds\": [1], \"status\": \"RUNNING\", \"numTasks\": 50, \"numActiveTasks\": 1, \"numCompletedTasks\": 37, \"numSkippedTasks\": 0, \"numFailedTasks\": 0, \"numActiveStages\": 1, \"numCompletedStages\": 0, \"numSkippedStages\": 0, \"numFailedStages\": 0})"
      ]
     },
     "metadata": {},
     "output_type": "display_data"
    },
    {
     "data": {
      "application/javascript": [
       "refreshJobProgress_8fd36f33cbe045e582f7174d315c4950({\"jobId\": 1, \"name\": \"sum at <ipython-input-1-58c4354088ce>:95\", \"submissionTime\": \"2017-05-01T01:43:54.277GMT\", \"stageIds\": [1], \"status\": \"RUNNING\", \"numTasks\": 50, \"numActiveTasks\": 1, \"numCompletedTasks\": 37, \"numSkippedTasks\": 0, \"numFailedTasks\": 0, \"numActiveStages\": 1, \"numCompletedStages\": 0, \"numSkippedStages\": 0, \"numFailedStages\": 0})"
      ]
     },
     "metadata": {},
     "output_type": "display_data"
    },
    {
     "data": {
      "application/javascript": [
       "refreshJobProgress_8fd36f33cbe045e582f7174d315c4950({\"jobId\": 1, \"name\": \"sum at <ipython-input-1-58c4354088ce>:95\", \"submissionTime\": \"2017-05-01T01:43:54.277GMT\", \"stageIds\": [1], \"status\": \"RUNNING\", \"numTasks\": 50, \"numActiveTasks\": 1, \"numCompletedTasks\": 38, \"numSkippedTasks\": 0, \"numFailedTasks\": 0, \"numActiveStages\": 1, \"numCompletedStages\": 0, \"numSkippedStages\": 0, \"numFailedStages\": 0})"
      ]
     },
     "metadata": {},
     "output_type": "display_data"
    },
    {
     "data": {
      "application/javascript": [
       "refreshJobProgress_8fd36f33cbe045e582f7174d315c4950({\"jobId\": 1, \"name\": \"sum at <ipython-input-1-58c4354088ce>:95\", \"submissionTime\": \"2017-05-01T01:43:54.277GMT\", \"stageIds\": [1], \"status\": \"RUNNING\", \"numTasks\": 50, \"numActiveTasks\": 1, \"numCompletedTasks\": 38, \"numSkippedTasks\": 0, \"numFailedTasks\": 0, \"numActiveStages\": 1, \"numCompletedStages\": 0, \"numSkippedStages\": 0, \"numFailedStages\": 0})"
      ]
     },
     "metadata": {},
     "output_type": "display_data"
    },
    {
     "data": {
      "application/javascript": [
       "refreshJobProgress_8fd36f33cbe045e582f7174d315c4950({\"jobId\": 1, \"name\": \"sum at <ipython-input-1-58c4354088ce>:95\", \"submissionTime\": \"2017-05-01T01:43:54.277GMT\", \"stageIds\": [1], \"status\": \"RUNNING\", \"numTasks\": 50, \"numActiveTasks\": 1, \"numCompletedTasks\": 38, \"numSkippedTasks\": 0, \"numFailedTasks\": 0, \"numActiveStages\": 1, \"numCompletedStages\": 0, \"numSkippedStages\": 0, \"numFailedStages\": 0})"
      ]
     },
     "metadata": {},
     "output_type": "display_data"
    },
    {
     "data": {
      "application/javascript": [
       "refreshJobProgress_8fd36f33cbe045e582f7174d315c4950({\"jobId\": 1, \"name\": \"sum at <ipython-input-1-58c4354088ce>:95\", \"submissionTime\": \"2017-05-01T01:43:54.277GMT\", \"stageIds\": [1], \"status\": \"RUNNING\", \"numTasks\": 50, \"numActiveTasks\": 1, \"numCompletedTasks\": 38, \"numSkippedTasks\": 0, \"numFailedTasks\": 0, \"numActiveStages\": 1, \"numCompletedStages\": 0, \"numSkippedStages\": 0, \"numFailedStages\": 0})"
      ]
     },
     "metadata": {},
     "output_type": "display_data"
    },
    {
     "data": {
      "application/javascript": [
       "refreshJobProgress_8fd36f33cbe045e582f7174d315c4950({\"jobId\": 1, \"name\": \"sum at <ipython-input-1-58c4354088ce>:95\", \"submissionTime\": \"2017-05-01T01:43:54.277GMT\", \"stageIds\": [1], \"status\": \"RUNNING\", \"numTasks\": 50, \"numActiveTasks\": 1, \"numCompletedTasks\": 39, \"numSkippedTasks\": 0, \"numFailedTasks\": 0, \"numActiveStages\": 1, \"numCompletedStages\": 0, \"numSkippedStages\": 0, \"numFailedStages\": 0})"
      ]
     },
     "metadata": {},
     "output_type": "display_data"
    },
    {
     "data": {
      "application/javascript": [
       "refreshJobProgress_8fd36f33cbe045e582f7174d315c4950({\"jobId\": 1, \"name\": \"sum at <ipython-input-1-58c4354088ce>:95\", \"submissionTime\": \"2017-05-01T01:43:54.277GMT\", \"stageIds\": [1], \"status\": \"RUNNING\", \"numTasks\": 50, \"numActiveTasks\": 1, \"numCompletedTasks\": 39, \"numSkippedTasks\": 0, \"numFailedTasks\": 0, \"numActiveStages\": 1, \"numCompletedStages\": 0, \"numSkippedStages\": 0, \"numFailedStages\": 0})"
      ]
     },
     "metadata": {},
     "output_type": "display_data"
    },
    {
     "data": {
      "application/javascript": [
       "refreshJobProgress_8fd36f33cbe045e582f7174d315c4950({\"jobId\": 1, \"name\": \"sum at <ipython-input-1-58c4354088ce>:95\", \"submissionTime\": \"2017-05-01T01:43:54.277GMT\", \"stageIds\": [1], \"status\": \"RUNNING\", \"numTasks\": 50, \"numActiveTasks\": 1, \"numCompletedTasks\": 39, \"numSkippedTasks\": 0, \"numFailedTasks\": 0, \"numActiveStages\": 1, \"numCompletedStages\": 0, \"numSkippedStages\": 0, \"numFailedStages\": 0})"
      ]
     },
     "metadata": {},
     "output_type": "display_data"
    },
    {
     "data": {
      "application/javascript": [
       "refreshJobProgress_8fd36f33cbe045e582f7174d315c4950({\"jobId\": 1, \"name\": \"sum at <ipython-input-1-58c4354088ce>:95\", \"submissionTime\": \"2017-05-01T01:43:54.277GMT\", \"stageIds\": [1], \"status\": \"RUNNING\", \"numTasks\": 50, \"numActiveTasks\": 1, \"numCompletedTasks\": 39, \"numSkippedTasks\": 0, \"numFailedTasks\": 0, \"numActiveStages\": 1, \"numCompletedStages\": 0, \"numSkippedStages\": 0, \"numFailedStages\": 0})"
      ]
     },
     "metadata": {},
     "output_type": "display_data"
    },
    {
     "data": {
      "application/javascript": [
       "refreshJobProgress_8fd36f33cbe045e582f7174d315c4950({\"jobId\": 1, \"name\": \"sum at <ipython-input-1-58c4354088ce>:95\", \"submissionTime\": \"2017-05-01T01:43:54.277GMT\", \"stageIds\": [1], \"status\": \"RUNNING\", \"numTasks\": 50, \"numActiveTasks\": 1, \"numCompletedTasks\": 39, \"numSkippedTasks\": 0, \"numFailedTasks\": 0, \"numActiveStages\": 1, \"numCompletedStages\": 0, \"numSkippedStages\": 0, \"numFailedStages\": 0})"
      ]
     },
     "metadata": {},
     "output_type": "display_data"
    },
    {
     "data": {
      "application/javascript": [
       "refreshJobProgress_8fd36f33cbe045e582f7174d315c4950({\"jobId\": 1, \"name\": \"sum at <ipython-input-1-58c4354088ce>:95\", \"submissionTime\": \"2017-05-01T01:43:54.277GMT\", \"stageIds\": [1], \"status\": \"RUNNING\", \"numTasks\": 50, \"numActiveTasks\": 1, \"numCompletedTasks\": 40, \"numSkippedTasks\": 0, \"numFailedTasks\": 0, \"numActiveStages\": 1, \"numCompletedStages\": 0, \"numSkippedStages\": 0, \"numFailedStages\": 0})"
      ]
     },
     "metadata": {},
     "output_type": "display_data"
    },
    {
     "data": {
      "application/javascript": [
       "refreshJobProgress_8fd36f33cbe045e582f7174d315c4950({\"jobId\": 1, \"name\": \"sum at <ipython-input-1-58c4354088ce>:95\", \"submissionTime\": \"2017-05-01T01:43:54.277GMT\", \"stageIds\": [1], \"status\": \"RUNNING\", \"numTasks\": 50, \"numActiveTasks\": 1, \"numCompletedTasks\": 40, \"numSkippedTasks\": 0, \"numFailedTasks\": 0, \"numActiveStages\": 1, \"numCompletedStages\": 0, \"numSkippedStages\": 0, \"numFailedStages\": 0})"
      ]
     },
     "metadata": {},
     "output_type": "display_data"
    },
    {
     "data": {
      "application/javascript": [
       "refreshJobProgress_8fd36f33cbe045e582f7174d315c4950({\"jobId\": 1, \"name\": \"sum at <ipython-input-1-58c4354088ce>:95\", \"submissionTime\": \"2017-05-01T01:43:54.277GMT\", \"stageIds\": [1], \"status\": \"RUNNING\", \"numTasks\": 50, \"numActiveTasks\": 1, \"numCompletedTasks\": 40, \"numSkippedTasks\": 0, \"numFailedTasks\": 0, \"numActiveStages\": 1, \"numCompletedStages\": 0, \"numSkippedStages\": 0, \"numFailedStages\": 0})"
      ]
     },
     "metadata": {},
     "output_type": "display_data"
    },
    {
     "data": {
      "application/javascript": [
       "refreshJobProgress_8fd36f33cbe045e582f7174d315c4950({\"jobId\": 1, \"name\": \"sum at <ipython-input-1-58c4354088ce>:95\", \"submissionTime\": \"2017-05-01T01:43:54.277GMT\", \"stageIds\": [1], \"status\": \"RUNNING\", \"numTasks\": 50, \"numActiveTasks\": 1, \"numCompletedTasks\": 40, \"numSkippedTasks\": 0, \"numFailedTasks\": 0, \"numActiveStages\": 1, \"numCompletedStages\": 0, \"numSkippedStages\": 0, \"numFailedStages\": 0})"
      ]
     },
     "metadata": {},
     "output_type": "display_data"
    },
    {
     "data": {
      "application/javascript": [
       "refreshJobProgress_8fd36f33cbe045e582f7174d315c4950({\"jobId\": 1, \"name\": \"sum at <ipython-input-1-58c4354088ce>:95\", \"submissionTime\": \"2017-05-01T01:43:54.277GMT\", \"stageIds\": [1], \"status\": \"RUNNING\", \"numTasks\": 50, \"numActiveTasks\": 1, \"numCompletedTasks\": 40, \"numSkippedTasks\": 0, \"numFailedTasks\": 0, \"numActiveStages\": 1, \"numCompletedStages\": 0, \"numSkippedStages\": 0, \"numFailedStages\": 0})"
      ]
     },
     "metadata": {},
     "output_type": "display_data"
    },
    {
     "data": {
      "application/javascript": [
       "refreshJobProgress_8fd36f33cbe045e582f7174d315c4950({\"jobId\": 1, \"name\": \"sum at <ipython-input-1-58c4354088ce>:95\", \"submissionTime\": \"2017-05-01T01:43:54.277GMT\", \"stageIds\": [1], \"status\": \"RUNNING\", \"numTasks\": 50, \"numActiveTasks\": 1, \"numCompletedTasks\": 40, \"numSkippedTasks\": 0, \"numFailedTasks\": 0, \"numActiveStages\": 1, \"numCompletedStages\": 0, \"numSkippedStages\": 0, \"numFailedStages\": 0})"
      ]
     },
     "metadata": {},
     "output_type": "display_data"
    },
    {
     "data": {
      "application/javascript": [
       "refreshJobProgress_8fd36f33cbe045e582f7174d315c4950({\"jobId\": 1, \"name\": \"sum at <ipython-input-1-58c4354088ce>:95\", \"submissionTime\": \"2017-05-01T01:43:54.277GMT\", \"stageIds\": [1], \"status\": \"RUNNING\", \"numTasks\": 50, \"numActiveTasks\": 1, \"numCompletedTasks\": 40, \"numSkippedTasks\": 0, \"numFailedTasks\": 0, \"numActiveStages\": 1, \"numCompletedStages\": 0, \"numSkippedStages\": 0, \"numFailedStages\": 0})"
      ]
     },
     "metadata": {},
     "output_type": "display_data"
    },
    {
     "data": {
      "application/javascript": [
       "refreshJobProgress_8fd36f33cbe045e582f7174d315c4950({\"jobId\": 1, \"name\": \"sum at <ipython-input-1-58c4354088ce>:95\", \"submissionTime\": \"2017-05-01T01:43:54.277GMT\", \"stageIds\": [1], \"status\": \"RUNNING\", \"numTasks\": 50, \"numActiveTasks\": 1, \"numCompletedTasks\": 40, \"numSkippedTasks\": 0, \"numFailedTasks\": 0, \"numActiveStages\": 1, \"numCompletedStages\": 0, \"numSkippedStages\": 0, \"numFailedStages\": 0})"
      ]
     },
     "metadata": {},
     "output_type": "display_data"
    },
    {
     "data": {
      "application/javascript": [
       "refreshJobProgress_8fd36f33cbe045e582f7174d315c4950({\"jobId\": 1, \"name\": \"sum at <ipython-input-1-58c4354088ce>:95\", \"submissionTime\": \"2017-05-01T01:43:54.277GMT\", \"stageIds\": [1], \"status\": \"RUNNING\", \"numTasks\": 50, \"numActiveTasks\": 1, \"numCompletedTasks\": 40, \"numSkippedTasks\": 0, \"numFailedTasks\": 0, \"numActiveStages\": 1, \"numCompletedStages\": 0, \"numSkippedStages\": 0, \"numFailedStages\": 0})"
      ]
     },
     "metadata": {},
     "output_type": "display_data"
    },
    {
     "data": {
      "application/javascript": [
       "refreshJobProgress_8fd36f33cbe045e582f7174d315c4950({\"jobId\": 1, \"name\": \"sum at <ipython-input-1-58c4354088ce>:95\", \"submissionTime\": \"2017-05-01T01:43:54.277GMT\", \"stageIds\": [1], \"status\": \"RUNNING\", \"numTasks\": 50, \"numActiveTasks\": 1, \"numCompletedTasks\": 40, \"numSkippedTasks\": 0, \"numFailedTasks\": 0, \"numActiveStages\": 1, \"numCompletedStages\": 0, \"numSkippedStages\": 0, \"numFailedStages\": 0})"
      ]
     },
     "metadata": {},
     "output_type": "display_data"
    },
    {
     "data": {
      "application/javascript": [
       "refreshJobProgress_8fd36f33cbe045e582f7174d315c4950({\"jobId\": 1, \"name\": \"sum at <ipython-input-1-58c4354088ce>:95\", \"submissionTime\": \"2017-05-01T01:43:54.277GMT\", \"stageIds\": [1], \"status\": \"RUNNING\", \"numTasks\": 50, \"numActiveTasks\": 2, \"numCompletedTasks\": 40, \"numSkippedTasks\": 0, \"numFailedTasks\": 0, \"numActiveStages\": 1, \"numCompletedStages\": 0, \"numSkippedStages\": 0, \"numFailedStages\": 0})"
      ]
     },
     "metadata": {},
     "output_type": "display_data"
    },
    {
     "data": {
      "application/javascript": [
       "refreshJobProgress_8fd36f33cbe045e582f7174d315c4950({\"jobId\": 1, \"name\": \"sum at <ipython-input-1-58c4354088ce>:95\", \"submissionTime\": \"2017-05-01T01:43:54.277GMT\", \"stageIds\": [1], \"status\": \"RUNNING\", \"numTasks\": 50, \"numActiveTasks\": 1, \"numCompletedTasks\": 41, \"numSkippedTasks\": 0, \"numFailedTasks\": 0, \"numActiveStages\": 1, \"numCompletedStages\": 0, \"numSkippedStages\": 0, \"numFailedStages\": 0})"
      ]
     },
     "metadata": {},
     "output_type": "display_data"
    },
    {
     "data": {
      "application/javascript": [
       "refreshJobProgress_8fd36f33cbe045e582f7174d315c4950({\"jobId\": 1, \"name\": \"sum at <ipython-input-1-58c4354088ce>:95\", \"submissionTime\": \"2017-05-01T01:43:54.277GMT\", \"stageIds\": [1], \"status\": \"RUNNING\", \"numTasks\": 50, \"numActiveTasks\": 1, \"numCompletedTasks\": 41, \"numSkippedTasks\": 0, \"numFailedTasks\": 0, \"numActiveStages\": 1, \"numCompletedStages\": 0, \"numSkippedStages\": 0, \"numFailedStages\": 0})"
      ]
     },
     "metadata": {},
     "output_type": "display_data"
    },
    {
     "data": {
      "application/javascript": [
       "refreshJobProgress_8fd36f33cbe045e582f7174d315c4950({\"jobId\": 1, \"name\": \"sum at <ipython-input-1-58c4354088ce>:95\", \"submissionTime\": \"2017-05-01T01:43:54.277GMT\", \"stageIds\": [1], \"status\": \"RUNNING\", \"numTasks\": 50, \"numActiveTasks\": 1, \"numCompletedTasks\": 41, \"numSkippedTasks\": 0, \"numFailedTasks\": 0, \"numActiveStages\": 1, \"numCompletedStages\": 0, \"numSkippedStages\": 0, \"numFailedStages\": 0})"
      ]
     },
     "metadata": {},
     "output_type": "display_data"
    },
    {
     "data": {
      "application/javascript": [
       "refreshJobProgress_8fd36f33cbe045e582f7174d315c4950({\"jobId\": 1, \"name\": \"sum at <ipython-input-1-58c4354088ce>:95\", \"submissionTime\": \"2017-05-01T01:43:54.277GMT\", \"stageIds\": [1], \"status\": \"RUNNING\", \"numTasks\": 50, \"numActiveTasks\": 1, \"numCompletedTasks\": 41, \"numSkippedTasks\": 0, \"numFailedTasks\": 0, \"numActiveStages\": 1, \"numCompletedStages\": 0, \"numSkippedStages\": 0, \"numFailedStages\": 0})"
      ]
     },
     "metadata": {},
     "output_type": "display_data"
    },
    {
     "data": {
      "application/javascript": [
       "refreshJobProgress_8fd36f33cbe045e582f7174d315c4950({\"jobId\": 1, \"name\": \"sum at <ipython-input-1-58c4354088ce>:95\", \"submissionTime\": \"2017-05-01T01:43:54.277GMT\", \"stageIds\": [1], \"status\": \"RUNNING\", \"numTasks\": 50, \"numActiveTasks\": 1, \"numCompletedTasks\": 41, \"numSkippedTasks\": 0, \"numFailedTasks\": 0, \"numActiveStages\": 1, \"numCompletedStages\": 0, \"numSkippedStages\": 0, \"numFailedStages\": 0})"
      ]
     },
     "metadata": {},
     "output_type": "display_data"
    },
    {
     "data": {
      "application/javascript": [
       "refreshJobProgress_8fd36f33cbe045e582f7174d315c4950({\"jobId\": 1, \"name\": \"sum at <ipython-input-1-58c4354088ce>:95\", \"submissionTime\": \"2017-05-01T01:43:54.277GMT\", \"stageIds\": [1], \"status\": \"RUNNING\", \"numTasks\": 50, \"numActiveTasks\": 1, \"numCompletedTasks\": 41, \"numSkippedTasks\": 0, \"numFailedTasks\": 0, \"numActiveStages\": 1, \"numCompletedStages\": 0, \"numSkippedStages\": 0, \"numFailedStages\": 0})"
      ]
     },
     "metadata": {},
     "output_type": "display_data"
    },
    {
     "data": {
      "application/javascript": [
       "refreshJobProgress_8fd36f33cbe045e582f7174d315c4950({\"jobId\": 1, \"name\": \"sum at <ipython-input-1-58c4354088ce>:95\", \"submissionTime\": \"2017-05-01T01:43:54.277GMT\", \"stageIds\": [1], \"status\": \"RUNNING\", \"numTasks\": 50, \"numActiveTasks\": 1, \"numCompletedTasks\": 41, \"numSkippedTasks\": 0, \"numFailedTasks\": 0, \"numActiveStages\": 1, \"numCompletedStages\": 0, \"numSkippedStages\": 0, \"numFailedStages\": 0})"
      ]
     },
     "metadata": {},
     "output_type": "display_data"
    },
    {
     "data": {
      "application/javascript": [
       "refreshJobProgress_8fd36f33cbe045e582f7174d315c4950({\"jobId\": 1, \"name\": \"sum at <ipython-input-1-58c4354088ce>:95\", \"submissionTime\": \"2017-05-01T01:43:54.277GMT\", \"stageIds\": [1], \"status\": \"RUNNING\", \"numTasks\": 50, \"numActiveTasks\": 1, \"numCompletedTasks\": 41, \"numSkippedTasks\": 0, \"numFailedTasks\": 0, \"numActiveStages\": 1, \"numCompletedStages\": 0, \"numSkippedStages\": 0, \"numFailedStages\": 0})"
      ]
     },
     "metadata": {},
     "output_type": "display_data"
    },
    {
     "data": {
      "application/javascript": [
       "refreshJobProgress_8fd36f33cbe045e582f7174d315c4950({\"jobId\": 1, \"name\": \"sum at <ipython-input-1-58c4354088ce>:95\", \"submissionTime\": \"2017-05-01T01:43:54.277GMT\", \"stageIds\": [1], \"status\": \"RUNNING\", \"numTasks\": 50, \"numActiveTasks\": 1, \"numCompletedTasks\": 41, \"numSkippedTasks\": 0, \"numFailedTasks\": 0, \"numActiveStages\": 1, \"numCompletedStages\": 0, \"numSkippedStages\": 0, \"numFailedStages\": 0})"
      ]
     },
     "metadata": {},
     "output_type": "display_data"
    },
    {
     "data": {
      "application/javascript": [
       "refreshJobProgress_8fd36f33cbe045e582f7174d315c4950({\"jobId\": 1, \"name\": \"sum at <ipython-input-1-58c4354088ce>:95\", \"submissionTime\": \"2017-05-01T01:43:54.277GMT\", \"stageIds\": [1], \"status\": \"RUNNING\", \"numTasks\": 50, \"numActiveTasks\": 1, \"numCompletedTasks\": 41, \"numSkippedTasks\": 0, \"numFailedTasks\": 0, \"numActiveStages\": 1, \"numCompletedStages\": 0, \"numSkippedStages\": 0, \"numFailedStages\": 0})"
      ]
     },
     "metadata": {},
     "output_type": "display_data"
    },
    {
     "data": {
      "application/javascript": [
       "refreshJobProgress_8fd36f33cbe045e582f7174d315c4950({\"jobId\": 1, \"name\": \"sum at <ipython-input-1-58c4354088ce>:95\", \"submissionTime\": \"2017-05-01T01:43:54.277GMT\", \"stageIds\": [1], \"status\": \"RUNNING\", \"numTasks\": 50, \"numActiveTasks\": 1, \"numCompletedTasks\": 41, \"numSkippedTasks\": 0, \"numFailedTasks\": 0, \"numActiveStages\": 1, \"numCompletedStages\": 0, \"numSkippedStages\": 0, \"numFailedStages\": 0})"
      ]
     },
     "metadata": {},
     "output_type": "display_data"
    },
    {
     "data": {
      "application/javascript": [
       "refreshJobProgress_8fd36f33cbe045e582f7174d315c4950({\"jobId\": 1, \"name\": \"sum at <ipython-input-1-58c4354088ce>:95\", \"submissionTime\": \"2017-05-01T01:43:54.277GMT\", \"stageIds\": [1], \"status\": \"RUNNING\", \"numTasks\": 50, \"numActiveTasks\": 1, \"numCompletedTasks\": 42, \"numSkippedTasks\": 0, \"numFailedTasks\": 0, \"numActiveStages\": 1, \"numCompletedStages\": 0, \"numSkippedStages\": 0, \"numFailedStages\": 0})"
      ]
     },
     "metadata": {},
     "output_type": "display_data"
    },
    {
     "data": {
      "application/javascript": [
       "refreshJobProgress_8fd36f33cbe045e582f7174d315c4950({\"jobId\": 1, \"name\": \"sum at <ipython-input-1-58c4354088ce>:95\", \"submissionTime\": \"2017-05-01T01:43:54.277GMT\", \"stageIds\": [1], \"status\": \"RUNNING\", \"numTasks\": 50, \"numActiveTasks\": 1, \"numCompletedTasks\": 42, \"numSkippedTasks\": 0, \"numFailedTasks\": 0, \"numActiveStages\": 1, \"numCompletedStages\": 0, \"numSkippedStages\": 0, \"numFailedStages\": 0})"
      ]
     },
     "metadata": {},
     "output_type": "display_data"
    },
    {
     "data": {
      "application/javascript": [
       "refreshJobProgress_8fd36f33cbe045e582f7174d315c4950({\"jobId\": 1, \"name\": \"sum at <ipython-input-1-58c4354088ce>:95\", \"submissionTime\": \"2017-05-01T01:43:54.277GMT\", \"stageIds\": [1], \"status\": \"RUNNING\", \"numTasks\": 50, \"numActiveTasks\": 1, \"numCompletedTasks\": 42, \"numSkippedTasks\": 0, \"numFailedTasks\": 0, \"numActiveStages\": 1, \"numCompletedStages\": 0, \"numSkippedStages\": 0, \"numFailedStages\": 0})"
      ]
     },
     "metadata": {},
     "output_type": "display_data"
    },
    {
     "data": {
      "application/javascript": [
       "refreshJobProgress_8fd36f33cbe045e582f7174d315c4950({\"jobId\": 1, \"name\": \"sum at <ipython-input-1-58c4354088ce>:95\", \"submissionTime\": \"2017-05-01T01:43:54.277GMT\", \"stageIds\": [1], \"status\": \"RUNNING\", \"numTasks\": 50, \"numActiveTasks\": 1, \"numCompletedTasks\": 42, \"numSkippedTasks\": 0, \"numFailedTasks\": 0, \"numActiveStages\": 1, \"numCompletedStages\": 0, \"numSkippedStages\": 0, \"numFailedStages\": 0})"
      ]
     },
     "metadata": {},
     "output_type": "display_data"
    },
    {
     "data": {
      "application/javascript": [
       "refreshJobProgress_8fd36f33cbe045e582f7174d315c4950({\"jobId\": 1, \"name\": \"sum at <ipython-input-1-58c4354088ce>:95\", \"submissionTime\": \"2017-05-01T01:43:54.277GMT\", \"stageIds\": [1], \"status\": \"RUNNING\", \"numTasks\": 50, \"numActiveTasks\": 1, \"numCompletedTasks\": 42, \"numSkippedTasks\": 0, \"numFailedTasks\": 0, \"numActiveStages\": 1, \"numCompletedStages\": 0, \"numSkippedStages\": 0, \"numFailedStages\": 0})"
      ]
     },
     "metadata": {},
     "output_type": "display_data"
    },
    {
     "data": {
      "application/javascript": [
       "refreshJobProgress_8fd36f33cbe045e582f7174d315c4950({\"jobId\": 1, \"name\": \"sum at <ipython-input-1-58c4354088ce>:95\", \"submissionTime\": \"2017-05-01T01:43:54.277GMT\", \"stageIds\": [1], \"status\": \"RUNNING\", \"numTasks\": 50, \"numActiveTasks\": 1, \"numCompletedTasks\": 43, \"numSkippedTasks\": 0, \"numFailedTasks\": 0, \"numActiveStages\": 1, \"numCompletedStages\": 0, \"numSkippedStages\": 0, \"numFailedStages\": 0})"
      ]
     },
     "metadata": {},
     "output_type": "display_data"
    },
    {
     "data": {
      "application/javascript": [
       "refreshJobProgress_8fd36f33cbe045e582f7174d315c4950({\"jobId\": 1, \"name\": \"sum at <ipython-input-1-58c4354088ce>:95\", \"submissionTime\": \"2017-05-01T01:43:54.277GMT\", \"stageIds\": [1], \"status\": \"RUNNING\", \"numTasks\": 50, \"numActiveTasks\": 1, \"numCompletedTasks\": 43, \"numSkippedTasks\": 0, \"numFailedTasks\": 0, \"numActiveStages\": 1, \"numCompletedStages\": 0, \"numSkippedStages\": 0, \"numFailedStages\": 0})"
      ]
     },
     "metadata": {},
     "output_type": "display_data"
    },
    {
     "data": {
      "application/javascript": [
       "refreshJobProgress_8fd36f33cbe045e582f7174d315c4950({\"jobId\": 1, \"name\": \"sum at <ipython-input-1-58c4354088ce>:95\", \"submissionTime\": \"2017-05-01T01:43:54.277GMT\", \"stageIds\": [1], \"status\": \"RUNNING\", \"numTasks\": 50, \"numActiveTasks\": 2, \"numCompletedTasks\": 43, \"numSkippedTasks\": 0, \"numFailedTasks\": 0, \"numActiveStages\": 1, \"numCompletedStages\": 0, \"numSkippedStages\": 0, \"numFailedStages\": 0})"
      ]
     },
     "metadata": {},
     "output_type": "display_data"
    },
    {
     "data": {
      "application/javascript": [
       "refreshJobProgress_8fd36f33cbe045e582f7174d315c4950({\"jobId\": 1, \"name\": \"sum at <ipython-input-1-58c4354088ce>:95\", \"submissionTime\": \"2017-05-01T01:43:54.277GMT\", \"stageIds\": [1], \"status\": \"RUNNING\", \"numTasks\": 50, \"numActiveTasks\": 1, \"numCompletedTasks\": 44, \"numSkippedTasks\": 0, \"numFailedTasks\": 0, \"numActiveStages\": 1, \"numCompletedStages\": 0, \"numSkippedStages\": 0, \"numFailedStages\": 0})"
      ]
     },
     "metadata": {},
     "output_type": "display_data"
    },
    {
     "data": {
      "application/javascript": [
       "refreshJobProgress_8fd36f33cbe045e582f7174d315c4950({\"jobId\": 1, \"name\": \"sum at <ipython-input-1-58c4354088ce>:95\", \"submissionTime\": \"2017-05-01T01:43:54.277GMT\", \"stageIds\": [1], \"status\": \"RUNNING\", \"numTasks\": 50, \"numActiveTasks\": 1, \"numCompletedTasks\": 44, \"numSkippedTasks\": 0, \"numFailedTasks\": 0, \"numActiveStages\": 1, \"numCompletedStages\": 0, \"numSkippedStages\": 0, \"numFailedStages\": 0})"
      ]
     },
     "metadata": {},
     "output_type": "display_data"
    },
    {
     "data": {
      "application/javascript": [
       "refreshJobProgress_8fd36f33cbe045e582f7174d315c4950({\"jobId\": 1, \"name\": \"sum at <ipython-input-1-58c4354088ce>:95\", \"submissionTime\": \"2017-05-01T01:43:54.277GMT\", \"stageIds\": [1], \"status\": \"RUNNING\", \"numTasks\": 50, \"numActiveTasks\": 1, \"numCompletedTasks\": 44, \"numSkippedTasks\": 0, \"numFailedTasks\": 0, \"numActiveStages\": 1, \"numCompletedStages\": 0, \"numSkippedStages\": 0, \"numFailedStages\": 0})"
      ]
     },
     "metadata": {},
     "output_type": "display_data"
    },
    {
     "data": {
      "application/javascript": [
       "refreshJobProgress_8fd36f33cbe045e582f7174d315c4950({\"jobId\": 1, \"name\": \"sum at <ipython-input-1-58c4354088ce>:95\", \"submissionTime\": \"2017-05-01T01:43:54.277GMT\", \"stageIds\": [1], \"status\": \"RUNNING\", \"numTasks\": 50, \"numActiveTasks\": 1, \"numCompletedTasks\": 45, \"numSkippedTasks\": 0, \"numFailedTasks\": 0, \"numActiveStages\": 1, \"numCompletedStages\": 0, \"numSkippedStages\": 0, \"numFailedStages\": 0})"
      ]
     },
     "metadata": {},
     "output_type": "display_data"
    },
    {
     "data": {
      "application/javascript": [
       "refreshJobProgress_8fd36f33cbe045e582f7174d315c4950({\"jobId\": 1, \"name\": \"sum at <ipython-input-1-58c4354088ce>:95\", \"submissionTime\": \"2017-05-01T01:43:54.277GMT\", \"stageIds\": [1], \"status\": \"RUNNING\", \"numTasks\": 50, \"numActiveTasks\": 1, \"numCompletedTasks\": 45, \"numSkippedTasks\": 0, \"numFailedTasks\": 0, \"numActiveStages\": 1, \"numCompletedStages\": 0, \"numSkippedStages\": 0, \"numFailedStages\": 0})"
      ]
     },
     "metadata": {},
     "output_type": "display_data"
    },
    {
     "data": {
      "application/javascript": [
       "refreshJobProgress_8fd36f33cbe045e582f7174d315c4950({\"jobId\": 1, \"name\": \"sum at <ipython-input-1-58c4354088ce>:95\", \"submissionTime\": \"2017-05-01T01:43:54.277GMT\", \"stageIds\": [1], \"status\": \"RUNNING\", \"numTasks\": 50, \"numActiveTasks\": 1, \"numCompletedTasks\": 46, \"numSkippedTasks\": 0, \"numFailedTasks\": 0, \"numActiveStages\": 1, \"numCompletedStages\": 0, \"numSkippedStages\": 0, \"numFailedStages\": 0})"
      ]
     },
     "metadata": {},
     "output_type": "display_data"
    },
    {
     "data": {
      "application/javascript": [
       "refreshJobProgress_8fd36f33cbe045e582f7174d315c4950({\"jobId\": 1, \"name\": \"sum at <ipython-input-1-58c4354088ce>:95\", \"submissionTime\": \"2017-05-01T01:43:54.277GMT\", \"stageIds\": [1], \"status\": \"RUNNING\", \"numTasks\": 50, \"numActiveTasks\": 1, \"numCompletedTasks\": 46, \"numSkippedTasks\": 0, \"numFailedTasks\": 0, \"numActiveStages\": 1, \"numCompletedStages\": 0, \"numSkippedStages\": 0, \"numFailedStages\": 0})"
      ]
     },
     "metadata": {},
     "output_type": "display_data"
    },
    {
     "data": {
      "application/javascript": [
       "refreshJobProgress_8fd36f33cbe045e582f7174d315c4950({\"jobId\": 1, \"name\": \"sum at <ipython-input-1-58c4354088ce>:95\", \"submissionTime\": \"2017-05-01T01:43:54.277GMT\", \"stageIds\": [1], \"status\": \"RUNNING\", \"numTasks\": 50, \"numActiveTasks\": 1, \"numCompletedTasks\": 46, \"numSkippedTasks\": 0, \"numFailedTasks\": 0, \"numActiveStages\": 1, \"numCompletedStages\": 0, \"numSkippedStages\": 0, \"numFailedStages\": 0})"
      ]
     },
     "metadata": {},
     "output_type": "display_data"
    },
    {
     "data": {
      "application/javascript": [
       "refreshJobProgress_8fd36f33cbe045e582f7174d315c4950({\"jobId\": 1, \"name\": \"sum at <ipython-input-1-58c4354088ce>:95\", \"submissionTime\": \"2017-05-01T01:43:54.277GMT\", \"stageIds\": [1], \"status\": \"RUNNING\", \"numTasks\": 50, \"numActiveTasks\": 1, \"numCompletedTasks\": 46, \"numSkippedTasks\": 0, \"numFailedTasks\": 0, \"numActiveStages\": 1, \"numCompletedStages\": 0, \"numSkippedStages\": 0, \"numFailedStages\": 0})"
      ]
     },
     "metadata": {},
     "output_type": "display_data"
    },
    {
     "data": {
      "application/javascript": [
       "refreshJobProgress_8fd36f33cbe045e582f7174d315c4950({\"jobId\": 1, \"name\": \"sum at <ipython-input-1-58c4354088ce>:95\", \"submissionTime\": \"2017-05-01T01:43:54.277GMT\", \"stageIds\": [1], \"status\": \"RUNNING\", \"numTasks\": 50, \"numActiveTasks\": 1, \"numCompletedTasks\": 47, \"numSkippedTasks\": 0, \"numFailedTasks\": 0, \"numActiveStages\": 1, \"numCompletedStages\": 0, \"numSkippedStages\": 0, \"numFailedStages\": 0})"
      ]
     },
     "metadata": {},
     "output_type": "display_data"
    },
    {
     "data": {
      "application/javascript": [
       "refreshJobProgress_8fd36f33cbe045e582f7174d315c4950({\"jobId\": 1, \"name\": \"sum at <ipython-input-1-58c4354088ce>:95\", \"submissionTime\": \"2017-05-01T01:43:54.277GMT\", \"stageIds\": [1], \"status\": \"RUNNING\", \"numTasks\": 50, \"numActiveTasks\": 1, \"numCompletedTasks\": 47, \"numSkippedTasks\": 0, \"numFailedTasks\": 0, \"numActiveStages\": 1, \"numCompletedStages\": 0, \"numSkippedStages\": 0, \"numFailedStages\": 0})"
      ]
     },
     "metadata": {},
     "output_type": "display_data"
    },
    {
     "data": {
      "application/javascript": [
       "refreshJobProgress_8fd36f33cbe045e582f7174d315c4950({\"jobId\": 1, \"name\": \"sum at <ipython-input-1-58c4354088ce>:95\", \"submissionTime\": \"2017-05-01T01:43:54.277GMT\", \"stageIds\": [1], \"status\": \"RUNNING\", \"numTasks\": 50, \"numActiveTasks\": 1, \"numCompletedTasks\": 47, \"numSkippedTasks\": 0, \"numFailedTasks\": 0, \"numActiveStages\": 1, \"numCompletedStages\": 0, \"numSkippedStages\": 0, \"numFailedStages\": 0})"
      ]
     },
     "metadata": {},
     "output_type": "display_data"
    },
    {
     "data": {
      "application/javascript": [
       "refreshJobProgress_8fd36f33cbe045e582f7174d315c4950({\"jobId\": 1, \"name\": \"sum at <ipython-input-1-58c4354088ce>:95\", \"submissionTime\": \"2017-05-01T01:43:54.277GMT\", \"stageIds\": [1], \"status\": \"RUNNING\", \"numTasks\": 50, \"numActiveTasks\": 1, \"numCompletedTasks\": 47, \"numSkippedTasks\": 0, \"numFailedTasks\": 0, \"numActiveStages\": 1, \"numCompletedStages\": 0, \"numSkippedStages\": 0, \"numFailedStages\": 0})"
      ]
     },
     "metadata": {},
     "output_type": "display_data"
    },
    {
     "data": {
      "application/javascript": [
       "refreshJobProgress_8fd36f33cbe045e582f7174d315c4950({\"jobId\": 1, \"name\": \"sum at <ipython-input-1-58c4354088ce>:95\", \"submissionTime\": \"2017-05-01T01:43:54.277GMT\", \"stageIds\": [1], \"status\": \"RUNNING\", \"numTasks\": 50, \"numActiveTasks\": 1, \"numCompletedTasks\": 48, \"numSkippedTasks\": 0, \"numFailedTasks\": 0, \"numActiveStages\": 1, \"numCompletedStages\": 0, \"numSkippedStages\": 0, \"numFailedStages\": 0})"
      ]
     },
     "metadata": {},
     "output_type": "display_data"
    },
    {
     "data": {
      "application/javascript": [
       "refreshJobProgress_8fd36f33cbe045e582f7174d315c4950({\"jobId\": 1, \"name\": \"sum at <ipython-input-1-58c4354088ce>:95\", \"submissionTime\": \"2017-05-01T01:43:54.277GMT\", \"stageIds\": [1], \"status\": \"RUNNING\", \"numTasks\": 50, \"numActiveTasks\": 1, \"numCompletedTasks\": 48, \"numSkippedTasks\": 0, \"numFailedTasks\": 0, \"numActiveStages\": 1, \"numCompletedStages\": 0, \"numSkippedStages\": 0, \"numFailedStages\": 0})"
      ]
     },
     "metadata": {},
     "output_type": "display_data"
    },
    {
     "data": {
      "application/javascript": [
       "refreshJobProgress_8fd36f33cbe045e582f7174d315c4950({\"jobId\": 1, \"name\": \"sum at <ipython-input-1-58c4354088ce>:95\", \"submissionTime\": \"2017-05-01T01:43:54.277GMT\", \"stageIds\": [1], \"status\": \"RUNNING\", \"numTasks\": 50, \"numActiveTasks\": 1, \"numCompletedTasks\": 48, \"numSkippedTasks\": 0, \"numFailedTasks\": 0, \"numActiveStages\": 1, \"numCompletedStages\": 0, \"numSkippedStages\": 0, \"numFailedStages\": 0})"
      ]
     },
     "metadata": {},
     "output_type": "display_data"
    },
    {
     "data": {
      "application/javascript": [
       "refreshJobProgress_8fd36f33cbe045e582f7174d315c4950({\"jobId\": 1, \"name\": \"sum at <ipython-input-1-58c4354088ce>:95\", \"submissionTime\": \"2017-05-01T01:43:54.277GMT\", \"stageIds\": [1], \"status\": \"RUNNING\", \"numTasks\": 50, \"numActiveTasks\": 1, \"numCompletedTasks\": 49, \"numSkippedTasks\": 0, \"numFailedTasks\": 0, \"numActiveStages\": 1, \"numCompletedStages\": 0, \"numSkippedStages\": 0, \"numFailedStages\": 0})"
      ]
     },
     "metadata": {},
     "output_type": "display_data"
    },
    {
     "data": {
      "application/javascript": [
       "refreshJobProgress_8fd36f33cbe045e582f7174d315c4950({\"jobId\": 1, \"name\": \"sum at <ipython-input-1-58c4354088ce>:95\", \"submissionTime\": \"2017-05-01T01:43:54.277GMT\", \"stageIds\": [1], \"status\": \"RUNNING\", \"numTasks\": 50, \"numActiveTasks\": 1, \"numCompletedTasks\": 49, \"numSkippedTasks\": 0, \"numFailedTasks\": 0, \"numActiveStages\": 1, \"numCompletedStages\": 0, \"numSkippedStages\": 0, \"numFailedStages\": 0})"
      ]
     },
     "metadata": {},
     "output_type": "display_data"
    },
    {
     "data": {
      "application/javascript": [
       "refreshJobProgress_8fd36f33cbe045e582f7174d315c4950({\"jobId\": 1, \"name\": \"sum at <ipython-input-1-58c4354088ce>:95\", \"submissionTime\": \"2017-05-01T01:43:54.277GMT\", \"stageIds\": [1], \"status\": \"RUNNING\", \"numTasks\": 50, \"numActiveTasks\": 1, \"numCompletedTasks\": 49, \"numSkippedTasks\": 0, \"numFailedTasks\": 0, \"numActiveStages\": 1, \"numCompletedStages\": 0, \"numSkippedStages\": 0, \"numFailedStages\": 0})"
      ]
     },
     "metadata": {},
     "output_type": "display_data"
    },
    {
     "data": {
      "text/plain": [
       "2499524.0263176281"
      ]
     },
     "execution_count": 3,
     "metadata": {},
     "output_type": "execute_result"
    },
    {
     "data": {
      "application/javascript": [
       "refreshJobProgress_8fd36f33cbe045e582f7174d315c4950({\"jobId\": 1, \"name\": \"sum at <ipython-input-1-58c4354088ce>:95\", \"submissionTime\": \"2017-05-01T01:43:54.277GMT\", \"completionTime\": \"2017-05-01T01:43:58.919GMT\", \"stageIds\": [1], \"status\": \"SUCCEEDED\", \"numTasks\": 50, \"numActiveTasks\": 0, \"numCompletedTasks\": 50, \"numSkippedTasks\": 0, \"numFailedTasks\": 0, \"numActiveStages\": 0, \"numCompletedStages\": 1, \"numSkippedStages\": 0, \"numFailedStages\": 0})"
      ]
     },
     "metadata": {},
     "output_type": "display_data"
    }
   ],
   "source": [
    "spark_job_2 = SparkNumberSum()\n",
    "data = [(i, random.random(1000)) for i in range(5000)]\n",
    "\n",
    "spark_job_2.apply(data, numSlices=50)"
   ]
  },
  {
   "cell_type": "code",
   "execution_count": 4,
   "metadata": {
    "collapsed": false
   },
   "outputs": [
    {
     "data": {
      "text/html": [
       "<html>\n",
       "    <head>\n",
       "        <meta charset=\"utf-8\">\n",
       "        <title>Test</title>\n",
       "        <link type=\"styleshet/css\" src=\"https://maxcdn.bootstrapcdn.com/font-awesome/4.7.0/css/font-awesome.min.css\">\n",
       "        <style>\n",
       "            .spark.panel {\n",
       "                background-color: #fafafa;\n",
       "                border: 1px solid orange;\n",
       "                border-left: 0.4rem solid orange;\n",
       "                border-radius: 0.4rem;\n",
       "                margin-left: -0.4rem;\n",
       "                margin-right: -0.4rem;\n",
       "                padding: 1rem;\n",
       "            }\n",
       "\n",
       "            .spark .title {\n",
       "                margin: 0 0 2rem 0;\n",
       "                font-size: 1.5rem;\n",
       "                line-height: 1.5rem;\n",
       "            }\n",
       "\n",
       "            .spark .subtitle {\n",
       "                margin: 0 0 2rem 0;\n",
       "                font-size: 1.4rem;\n",
       "                line-height: 1.4rem;\n",
       "            }\n",
       "\n",
       "            .spark .panel .title {\n",
       "                font-weight: bold;\n",
       "                margin: -1rem -1rem 1rem;\n",
       "                padding: 1rem;\n",
       "                font-size: 1.35rem;\n",
       "                line-height: 1.35rem;\n",
       "                border-bottom: 1px solid #dedede;\n",
       "            }\n",
       "\n",
       "            .spark .panel .title:after {\n",
       "                content: \":\";\n",
       "            }\n",
       "            .spark dl.app.panel {\n",
       "                padding: 1rem;\n",
       "                font-size: 1.25rem;\n",
       "                line-height: 1.25rem;\n",
       "                margin: 0 0 1rem 0;\n",
       "            }\n",
       "\n",
       "            .spark dl.progress.panel {\n",
       "                padding: 1rem;\n",
       "                font-size: 1.25rem;\n",
       "                line-height: 1.25rem;\n",
       "                height: auto;\n",
       "                background-color: #ffffff;\n",
       "                -webkit-box-shadow: 0 1px 1px rgba(0, 0, 0, 0.05);\n",
       "                box-shadow: 0 1px 1px rgba(0, 0, 0, 0.05);\n",
       "                margin: 0;\n",
       "            }\n",
       "\n",
       "            .spark dl.progress.panel .bar  {\n",
       "                position: relative;\n",
       "                height: 2rem;\n",
       "                display: block;\n",
       "                width: 100%;\n",
       "                background-color: #dedede;\n",
       "                overflow: hidden;\n",
       "                border-radius: 0.5rem;\n",
       "            }\n",
       "\n",
       "            .spark dl.progress.panel .bar .fill {\n",
       "                background-color: orange;\n",
       "                height: 2rem;\n",
       "                line-height: 2rem;\n",
       "                position: absolute;\n",
       "                left: 0;\n",
       "                top: 0;\n",
       "            }\n",
       "\n",
       "            .spark dl.progress.panel .bar .text {\n",
       "                height: 2rem;\n",
       "                line-height: 2rem;\n",
       "                padding: 0 0.5rem;\n",
       "                position: absolute;\n",
       "                right: 0;\n",
       "                top: 0;\n",
       "            }\n",
       "\n",
       "            .spark dl.panel dt:after {\n",
       "                content: \":\";\n",
       "            }\n",
       "\n",
       "            .spark dl.panel dd {\n",
       "                padding-left: 1.5rem;\n",
       "            }\n",
       "\n",
       "            .spark dl.panel dd + dt {\n",
       "                margin-top: 0.5rem;\n",
       "            }\n",
       "        </style>\n",
       "        <script type=\"text/javascript\">\n",
       "            function getApplicationData_4953d4605d5648d1916c7a2275f577f3(data){\n",
       "                $('#app-panel-4953d4605d5648d1916c7a2275f577f3')\n",
       "                    .append($('<dt></dt>').text(\"Application ID\"))\n",
       "                    .append($('<dd id=\"application-id-4953d4605d5648d1916c7a2275f577f3\"></dd>').text(data[\"id\"]))\n",
       "                    .append($('<dt></dt>').text(\"Application Name\"))\n",
       "                    .append($('<dd id=\"application-name-4953d4605d5648d1916c7a2275f577f3\"></dd>').text(data[\"name\"]));\n",
       "            }\n",
       "\n",
       "            function refreshJobProgress_4953d4605d5648d1916c7a2275f577f3(data) {\n",
       "                progress = parseFloat(data[\"numCompletedTasks\"])/parseFloat(data[\"numTasks\"]);\n",
       "                progress = Number(Math.round(progress+'e2')).toFixed(2);\n",
       "\n",
       "                $('#progress-panel-4953d4605d5648d1916c7a2275f577f3 .text').text(progress + \"%\");\n",
       "                $('#progress-panel-4953d4605d5648d1916c7a2275f577f3 .fill').css('width', progress + \"%\");\n",
       "\n",
       "                $('#progress-panel-4953d4605d5648d1916c7a2275f577f3 .job.id').text(data[\"jobId\"]);\n",
       "                $('#progress-panel-4953d4605d5648d1916c7a2275f577f3 .job.name').text(data[\"name\"]);\n",
       "                $('#progress-panel-4953d4605d5648d1916c7a2275f577f3 .total.task').text(data[\"numTasks\"]);\n",
       "                $('#progress-panel-4953d4605d5648d1916c7a2275f577f3 .completed.task').text(data[\"numCompletedTasks\"]);                    \n",
       "            }\n",
       "        </script>\n",
       "    </head>\n",
       "    <body>\n",
       "        <div class=\"spark panel\">\n",
       "            <h1 class=\"title\" id=\"4953d4605d5648d1916c7a2275f577f3\">\n",
       "                <i class=\"fa fa-fw fa-star-o\"></i> Spark Process Monitor\n",
       "            </h1>\n",
       "            <h2 class=\"subtitle\">\n",
       "                Process UUID: \"4953d4605d5648d1916c7a2275f577f3\"\n",
       "            </h2>\n",
       "            <dl class=\"app panel\" id=\"app-panel-4953d4605d5648d1916c7a2275f577f3\">\n",
       "                <dt class=\"title\">Application Detail</dt>\n",
       "            </dl>\n",
       "            <dl class=\"progress panel\" id=\"progress-panel-4953d4605d5648d1916c7a2275f577f3\">\n",
       "                <dt class=\"title\">Progress Detail</dt>\n",
       "                <dt>Job ID</dt>\n",
       "                <dd class=\"job id\"></dd>\n",
       "                <dt>Job Name</dt>\n",
       "                <dd class=\"job name\"></dd>\n",
       "                <dt>Total Tasks</dt>\n",
       "                <dd class=\"total task\"></dd>\n",
       "                <dt>Completed Tasks</dt>\n",
       "                <dd class=\"completed task\"></dd>\n",
       "                <dt>Progress</dt>\n",
       "                <dd>\n",
       "                    <div class=\"bar\">\n",
       "                        <div class=\"fill\"></div>\n",
       "                        <div class=\"text\"></div>\n",
       "                    </div>\n",
       "                </dd>\n",
       "            </dl>\n",
       "        </div>\n",
       "    </body>\n",
       "</html>\n"
      ]
     },
     "metadata": {},
     "output_type": "display_data"
    },
    {
     "data": {
      "application/javascript": [
       "getApplicationData_4953d4605d5648d1916c7a2275f577f3({\"id\": \"local-1493602964790\", \"name\": \"PySparkShell\", \"attempts\": [{\"startTime\": \"2017-05-01T01:42:14.466GMT\", \"endTime\": \"1969-12-31T23:59:59.999GMT\", \"lastUpdated\": \"2017-05-01T01:42:14.466GMT\", \"duration\": 0, \"sparkUser\": \"\", \"completed\": false, \"startTimeEpoch\": 1493602934466, \"endTimeEpoch\": -1, \"lastUpdatedEpoch\": 1493602934466}]})"
      ]
     },
     "metadata": {},
     "output_type": "display_data"
    },
    {
     "data": {
      "application/javascript": [
       "refreshJobProgress_4953d4605d5648d1916c7a2275f577f3({\"jobId\": 2, \"name\": \"sum at <ipython-input-1-58c4354088ce>:95\", \"submissionTime\": \"2017-05-01T01:43:58.985GMT\", \"stageIds\": [2], \"status\": \"RUNNING\", \"numTasks\": 50, \"numActiveTasks\": 1, \"numCompletedTasks\": 0, \"numSkippedTasks\": 0, \"numFailedTasks\": 0, \"numActiveStages\": 1, \"numCompletedStages\": 0, \"numSkippedStages\": 0, \"numFailedStages\": 0})"
      ]
     },
     "metadata": {},
     "output_type": "display_data"
    },
    {
     "data": {
      "application/javascript": [
       "refreshJobProgress_4953d4605d5648d1916c7a2275f577f3({\"jobId\": 2, \"name\": \"sum at <ipython-input-1-58c4354088ce>:95\", \"submissionTime\": \"2017-05-01T01:43:58.985GMT\", \"stageIds\": [2], \"status\": \"RUNNING\", \"numTasks\": 50, \"numActiveTasks\": 1, \"numCompletedTasks\": 0, \"numSkippedTasks\": 0, \"numFailedTasks\": 0, \"numActiveStages\": 1, \"numCompletedStages\": 0, \"numSkippedStages\": 0, \"numFailedStages\": 0})"
      ]
     },
     "metadata": {},
     "output_type": "display_data"
    },
    {
     "data": {
      "application/javascript": [
       "refreshJobProgress_4953d4605d5648d1916c7a2275f577f3({\"jobId\": 2, \"name\": \"sum at <ipython-input-1-58c4354088ce>:95\", \"submissionTime\": \"2017-05-01T01:43:58.985GMT\", \"stageIds\": [2], \"status\": \"RUNNING\", \"numTasks\": 50, \"numActiveTasks\": 1, \"numCompletedTasks\": 0, \"numSkippedTasks\": 0, \"numFailedTasks\": 0, \"numActiveStages\": 1, \"numCompletedStages\": 0, \"numSkippedStages\": 0, \"numFailedStages\": 0})"
      ]
     },
     "metadata": {},
     "output_type": "display_data"
    },
    {
     "data": {
      "application/javascript": [
       "refreshJobProgress_4953d4605d5648d1916c7a2275f577f3({\"jobId\": 2, \"name\": \"sum at <ipython-input-1-58c4354088ce>:95\", \"submissionTime\": \"2017-05-01T01:43:58.985GMT\", \"stageIds\": [2], \"status\": \"RUNNING\", \"numTasks\": 50, \"numActiveTasks\": 1, \"numCompletedTasks\": 1, \"numSkippedTasks\": 0, \"numFailedTasks\": 0, \"numActiveStages\": 1, \"numCompletedStages\": 0, \"numSkippedStages\": 0, \"numFailedStages\": 0})"
      ]
     },
     "metadata": {},
     "output_type": "display_data"
    },
    {
     "data": {
      "application/javascript": [
       "refreshJobProgress_4953d4605d5648d1916c7a2275f577f3({\"jobId\": 2, \"name\": \"sum at <ipython-input-1-58c4354088ce>:95\", \"submissionTime\": \"2017-05-01T01:43:58.985GMT\", \"stageIds\": [2], \"status\": \"RUNNING\", \"numTasks\": 50, \"numActiveTasks\": 1, \"numCompletedTasks\": 1, \"numSkippedTasks\": 0, \"numFailedTasks\": 0, \"numActiveStages\": 1, \"numCompletedStages\": 0, \"numSkippedStages\": 0, \"numFailedStages\": 0})"
      ]
     },
     "metadata": {},
     "output_type": "display_data"
    },
    {
     "data": {
      "application/javascript": [
       "refreshJobProgress_4953d4605d5648d1916c7a2275f577f3({\"jobId\": 2, \"name\": \"sum at <ipython-input-1-58c4354088ce>:95\", \"submissionTime\": \"2017-05-01T01:43:58.985GMT\", \"stageIds\": [2], \"status\": \"RUNNING\", \"numTasks\": 50, \"numActiveTasks\": 1, \"numCompletedTasks\": 1, \"numSkippedTasks\": 0, \"numFailedTasks\": 0, \"numActiveStages\": 1, \"numCompletedStages\": 0, \"numSkippedStages\": 0, \"numFailedStages\": 0})"
      ]
     },
     "metadata": {},
     "output_type": "display_data"
    },
    {
     "data": {
      "application/javascript": [
       "refreshJobProgress_4953d4605d5648d1916c7a2275f577f3({\"jobId\": 2, \"name\": \"sum at <ipython-input-1-58c4354088ce>:95\", \"submissionTime\": \"2017-05-01T01:43:58.985GMT\", \"stageIds\": [2], \"status\": \"RUNNING\", \"numTasks\": 50, \"numActiveTasks\": 1, \"numCompletedTasks\": 1, \"numSkippedTasks\": 0, \"numFailedTasks\": 0, \"numActiveStages\": 1, \"numCompletedStages\": 0, \"numSkippedStages\": 0, \"numFailedStages\": 0})"
      ]
     },
     "metadata": {},
     "output_type": "display_data"
    },
    {
     "data": {
      "application/javascript": [
       "refreshJobProgress_4953d4605d5648d1916c7a2275f577f3({\"jobId\": 2, \"name\": \"sum at <ipython-input-1-58c4354088ce>:95\", \"submissionTime\": \"2017-05-01T01:43:58.985GMT\", \"stageIds\": [2], \"status\": \"RUNNING\", \"numTasks\": 50, \"numActiveTasks\": 1, \"numCompletedTasks\": 2, \"numSkippedTasks\": 0, \"numFailedTasks\": 0, \"numActiveStages\": 1, \"numCompletedStages\": 0, \"numSkippedStages\": 0, \"numFailedStages\": 0})"
      ]
     },
     "metadata": {},
     "output_type": "display_data"
    },
    {
     "data": {
      "application/javascript": [
       "refreshJobProgress_4953d4605d5648d1916c7a2275f577f3({\"jobId\": 2, \"name\": \"sum at <ipython-input-1-58c4354088ce>:95\", \"submissionTime\": \"2017-05-01T01:43:58.985GMT\", \"stageIds\": [2], \"status\": \"RUNNING\", \"numTasks\": 50, \"numActiveTasks\": 1, \"numCompletedTasks\": 2, \"numSkippedTasks\": 0, \"numFailedTasks\": 0, \"numActiveStages\": 1, \"numCompletedStages\": 0, \"numSkippedStages\": 0, \"numFailedStages\": 0})"
      ]
     },
     "metadata": {},
     "output_type": "display_data"
    },
    {
     "data": {
      "application/javascript": [
       "refreshJobProgress_4953d4605d5648d1916c7a2275f577f3({\"jobId\": 2, \"name\": \"sum at <ipython-input-1-58c4354088ce>:95\", \"submissionTime\": \"2017-05-01T01:43:58.985GMT\", \"stageIds\": [2], \"status\": \"RUNNING\", \"numTasks\": 50, \"numActiveTasks\": 1, \"numCompletedTasks\": 2, \"numSkippedTasks\": 0, \"numFailedTasks\": 0, \"numActiveStages\": 1, \"numCompletedStages\": 0, \"numSkippedStages\": 0, \"numFailedStages\": 0})"
      ]
     },
     "metadata": {},
     "output_type": "display_data"
    },
    {
     "data": {
      "application/javascript": [
       "refreshJobProgress_4953d4605d5648d1916c7a2275f577f3({\"jobId\": 2, \"name\": \"sum at <ipython-input-1-58c4354088ce>:95\", \"submissionTime\": \"2017-05-01T01:43:58.985GMT\", \"stageIds\": [2], \"status\": \"RUNNING\", \"numTasks\": 50, \"numActiveTasks\": 1, \"numCompletedTasks\": 2, \"numSkippedTasks\": 0, \"numFailedTasks\": 0, \"numActiveStages\": 1, \"numCompletedStages\": 0, \"numSkippedStages\": 0, \"numFailedStages\": 0})"
      ]
     },
     "metadata": {},
     "output_type": "display_data"
    },
    {
     "data": {
      "application/javascript": [
       "refreshJobProgress_4953d4605d5648d1916c7a2275f577f3({\"jobId\": 2, \"name\": \"sum at <ipython-input-1-58c4354088ce>:95\", \"submissionTime\": \"2017-05-01T01:43:58.985GMT\", \"stageIds\": [2], \"status\": \"RUNNING\", \"numTasks\": 50, \"numActiveTasks\": 1, \"numCompletedTasks\": 3, \"numSkippedTasks\": 0, \"numFailedTasks\": 0, \"numActiveStages\": 1, \"numCompletedStages\": 0, \"numSkippedStages\": 0, \"numFailedStages\": 0})"
      ]
     },
     "metadata": {},
     "output_type": "display_data"
    },
    {
     "data": {
      "application/javascript": [
       "refreshJobProgress_4953d4605d5648d1916c7a2275f577f3({\"jobId\": 2, \"name\": \"sum at <ipython-input-1-58c4354088ce>:95\", \"submissionTime\": \"2017-05-01T01:43:58.985GMT\", \"stageIds\": [2], \"status\": \"RUNNING\", \"numTasks\": 50, \"numActiveTasks\": 1, \"numCompletedTasks\": 3, \"numSkippedTasks\": 0, \"numFailedTasks\": 0, \"numActiveStages\": 1, \"numCompletedStages\": 0, \"numSkippedStages\": 0, \"numFailedStages\": 0})"
      ]
     },
     "metadata": {},
     "output_type": "display_data"
    },
    {
     "data": {
      "application/javascript": [
       "refreshJobProgress_4953d4605d5648d1916c7a2275f577f3({\"jobId\": 2, \"name\": \"sum at <ipython-input-1-58c4354088ce>:95\", \"submissionTime\": \"2017-05-01T01:43:58.985GMT\", \"stageIds\": [2], \"status\": \"RUNNING\", \"numTasks\": 50, \"numActiveTasks\": 1, \"numCompletedTasks\": 4, \"numSkippedTasks\": 0, \"numFailedTasks\": 0, \"numActiveStages\": 1, \"numCompletedStages\": 0, \"numSkippedStages\": 0, \"numFailedStages\": 0})"
      ]
     },
     "metadata": {},
     "output_type": "display_data"
    },
    {
     "data": {
      "application/javascript": [
       "refreshJobProgress_4953d4605d5648d1916c7a2275f577f3({\"jobId\": 2, \"name\": \"sum at <ipython-input-1-58c4354088ce>:95\", \"submissionTime\": \"2017-05-01T01:43:58.985GMT\", \"stageIds\": [2], \"status\": \"RUNNING\", \"numTasks\": 50, \"numActiveTasks\": 1, \"numCompletedTasks\": 4, \"numSkippedTasks\": 0, \"numFailedTasks\": 0, \"numActiveStages\": 1, \"numCompletedStages\": 0, \"numSkippedStages\": 0, \"numFailedStages\": 0})"
      ]
     },
     "metadata": {},
     "output_type": "display_data"
    },
    {
     "data": {
      "application/javascript": [
       "refreshJobProgress_4953d4605d5648d1916c7a2275f577f3({\"jobId\": 2, \"name\": \"sum at <ipython-input-1-58c4354088ce>:95\", \"submissionTime\": \"2017-05-01T01:43:58.985GMT\", \"stageIds\": [2], \"status\": \"RUNNING\", \"numTasks\": 50, \"numActiveTasks\": 1, \"numCompletedTasks\": 4, \"numSkippedTasks\": 0, \"numFailedTasks\": 0, \"numActiveStages\": 1, \"numCompletedStages\": 0, \"numSkippedStages\": 0, \"numFailedStages\": 0})"
      ]
     },
     "metadata": {},
     "output_type": "display_data"
    },
    {
     "data": {
      "application/javascript": [
       "refreshJobProgress_4953d4605d5648d1916c7a2275f577f3({\"jobId\": 2, \"name\": \"sum at <ipython-input-1-58c4354088ce>:95\", \"submissionTime\": \"2017-05-01T01:43:58.985GMT\", \"stageIds\": [2], \"status\": \"RUNNING\", \"numTasks\": 50, \"numActiveTasks\": 1, \"numCompletedTasks\": 4, \"numSkippedTasks\": 0, \"numFailedTasks\": 0, \"numActiveStages\": 1, \"numCompletedStages\": 0, \"numSkippedStages\": 0, \"numFailedStages\": 0})"
      ]
     },
     "metadata": {},
     "output_type": "display_data"
    },
    {
     "data": {
      "application/javascript": [
       "refreshJobProgress_4953d4605d5648d1916c7a2275f577f3({\"jobId\": 2, \"name\": \"sum at <ipython-input-1-58c4354088ce>:95\", \"submissionTime\": \"2017-05-01T01:43:58.985GMT\", \"stageIds\": [2], \"status\": \"RUNNING\", \"numTasks\": 50, \"numActiveTasks\": 1, \"numCompletedTasks\": 5, \"numSkippedTasks\": 0, \"numFailedTasks\": 0, \"numActiveStages\": 1, \"numCompletedStages\": 0, \"numSkippedStages\": 0, \"numFailedStages\": 0})"
      ]
     },
     "metadata": {},
     "output_type": "display_data"
    },
    {
     "data": {
      "application/javascript": [
       "refreshJobProgress_4953d4605d5648d1916c7a2275f577f3({\"jobId\": 2, \"name\": \"sum at <ipython-input-1-58c4354088ce>:95\", \"submissionTime\": \"2017-05-01T01:43:58.985GMT\", \"stageIds\": [2], \"status\": \"RUNNING\", \"numTasks\": 50, \"numActiveTasks\": 1, \"numCompletedTasks\": 5, \"numSkippedTasks\": 0, \"numFailedTasks\": 0, \"numActiveStages\": 1, \"numCompletedStages\": 0, \"numSkippedStages\": 0, \"numFailedStages\": 0})"
      ]
     },
     "metadata": {},
     "output_type": "display_data"
    },
    {
     "data": {
      "application/javascript": [
       "refreshJobProgress_4953d4605d5648d1916c7a2275f577f3({\"jobId\": 2, \"name\": \"sum at <ipython-input-1-58c4354088ce>:95\", \"submissionTime\": \"2017-05-01T01:43:58.985GMT\", \"stageIds\": [2], \"status\": \"RUNNING\", \"numTasks\": 50, \"numActiveTasks\": 1, \"numCompletedTasks\": 5, \"numSkippedTasks\": 0, \"numFailedTasks\": 0, \"numActiveStages\": 1, \"numCompletedStages\": 0, \"numSkippedStages\": 0, \"numFailedStages\": 0})"
      ]
     },
     "metadata": {},
     "output_type": "display_data"
    },
    {
     "data": {
      "application/javascript": [
       "refreshJobProgress_4953d4605d5648d1916c7a2275f577f3({\"jobId\": 2, \"name\": \"sum at <ipython-input-1-58c4354088ce>:95\", \"submissionTime\": \"2017-05-01T01:43:58.985GMT\", \"stageIds\": [2], \"status\": \"RUNNING\", \"numTasks\": 50, \"numActiveTasks\": 1, \"numCompletedTasks\": 6, \"numSkippedTasks\": 0, \"numFailedTasks\": 0, \"numActiveStages\": 1, \"numCompletedStages\": 0, \"numSkippedStages\": 0, \"numFailedStages\": 0})"
      ]
     },
     "metadata": {},
     "output_type": "display_data"
    },
    {
     "data": {
      "application/javascript": [
       "refreshJobProgress_4953d4605d5648d1916c7a2275f577f3({\"jobId\": 2, \"name\": \"sum at <ipython-input-1-58c4354088ce>:95\", \"submissionTime\": \"2017-05-01T01:43:58.985GMT\", \"stageIds\": [2], \"status\": \"RUNNING\", \"numTasks\": 50, \"numActiveTasks\": 1, \"numCompletedTasks\": 6, \"numSkippedTasks\": 0, \"numFailedTasks\": 0, \"numActiveStages\": 1, \"numCompletedStages\": 0, \"numSkippedStages\": 0, \"numFailedStages\": 0})"
      ]
     },
     "metadata": {},
     "output_type": "display_data"
    },
    {
     "data": {
      "application/javascript": [
       "refreshJobProgress_4953d4605d5648d1916c7a2275f577f3({\"jobId\": 2, \"name\": \"sum at <ipython-input-1-58c4354088ce>:95\", \"submissionTime\": \"2017-05-01T01:43:58.985GMT\", \"stageIds\": [2], \"status\": \"RUNNING\", \"numTasks\": 50, \"numActiveTasks\": 1, \"numCompletedTasks\": 7, \"numSkippedTasks\": 0, \"numFailedTasks\": 0, \"numActiveStages\": 1, \"numCompletedStages\": 0, \"numSkippedStages\": 0, \"numFailedStages\": 0})"
      ]
     },
     "metadata": {},
     "output_type": "display_data"
    },
    {
     "data": {
      "application/javascript": [
       "refreshJobProgress_4953d4605d5648d1916c7a2275f577f3({\"jobId\": 2, \"name\": \"sum at <ipython-input-1-58c4354088ce>:95\", \"submissionTime\": \"2017-05-01T01:43:58.985GMT\", \"stageIds\": [2], \"status\": \"RUNNING\", \"numTasks\": 50, \"numActiveTasks\": 1, \"numCompletedTasks\": 7, \"numSkippedTasks\": 0, \"numFailedTasks\": 0, \"numActiveStages\": 1, \"numCompletedStages\": 0, \"numSkippedStages\": 0, \"numFailedStages\": 0})"
      ]
     },
     "metadata": {},
     "output_type": "display_data"
    },
    {
     "data": {
      "application/javascript": [
       "refreshJobProgress_4953d4605d5648d1916c7a2275f577f3({\"jobId\": 2, \"name\": \"sum at <ipython-input-1-58c4354088ce>:95\", \"submissionTime\": \"2017-05-01T01:43:58.985GMT\", \"stageIds\": [2], \"status\": \"RUNNING\", \"numTasks\": 50, \"numActiveTasks\": 1, \"numCompletedTasks\": 7, \"numSkippedTasks\": 0, \"numFailedTasks\": 0, \"numActiveStages\": 1, \"numCompletedStages\": 0, \"numSkippedStages\": 0, \"numFailedStages\": 0})"
      ]
     },
     "metadata": {},
     "output_type": "display_data"
    },
    {
     "data": {
      "application/javascript": [
       "refreshJobProgress_4953d4605d5648d1916c7a2275f577f3({\"jobId\": 2, \"name\": \"sum at <ipython-input-1-58c4354088ce>:95\", \"submissionTime\": \"2017-05-01T01:43:58.985GMT\", \"stageIds\": [2], \"status\": \"RUNNING\", \"numTasks\": 50, \"numActiveTasks\": 1, \"numCompletedTasks\": 7, \"numSkippedTasks\": 0, \"numFailedTasks\": 0, \"numActiveStages\": 1, \"numCompletedStages\": 0, \"numSkippedStages\": 0, \"numFailedStages\": 0})"
      ]
     },
     "metadata": {},
     "output_type": "display_data"
    },
    {
     "data": {
      "application/javascript": [
       "refreshJobProgress_4953d4605d5648d1916c7a2275f577f3({\"jobId\": 2, \"name\": \"sum at <ipython-input-1-58c4354088ce>:95\", \"submissionTime\": \"2017-05-01T01:43:58.985GMT\", \"stageIds\": [2], \"status\": \"RUNNING\", \"numTasks\": 50, \"numActiveTasks\": 1, \"numCompletedTasks\": 8, \"numSkippedTasks\": 0, \"numFailedTasks\": 0, \"numActiveStages\": 1, \"numCompletedStages\": 0, \"numSkippedStages\": 0, \"numFailedStages\": 0})"
      ]
     },
     "metadata": {},
     "output_type": "display_data"
    },
    {
     "data": {
      "application/javascript": [
       "refreshJobProgress_4953d4605d5648d1916c7a2275f577f3({\"jobId\": 2, \"name\": \"sum at <ipython-input-1-58c4354088ce>:95\", \"submissionTime\": \"2017-05-01T01:43:58.985GMT\", \"stageIds\": [2], \"status\": \"RUNNING\", \"numTasks\": 50, \"numActiveTasks\": 1, \"numCompletedTasks\": 8, \"numSkippedTasks\": 0, \"numFailedTasks\": 0, \"numActiveStages\": 1, \"numCompletedStages\": 0, \"numSkippedStages\": 0, \"numFailedStages\": 0})"
      ]
     },
     "metadata": {},
     "output_type": "display_data"
    },
    {
     "data": {
      "application/javascript": [
       "refreshJobProgress_4953d4605d5648d1916c7a2275f577f3({\"jobId\": 2, \"name\": \"sum at <ipython-input-1-58c4354088ce>:95\", \"submissionTime\": \"2017-05-01T01:43:58.985GMT\", \"stageIds\": [2], \"status\": \"RUNNING\", \"numTasks\": 50, \"numActiveTasks\": 1, \"numCompletedTasks\": 8, \"numSkippedTasks\": 0, \"numFailedTasks\": 0, \"numActiveStages\": 1, \"numCompletedStages\": 0, \"numSkippedStages\": 0, \"numFailedStages\": 0})"
      ]
     },
     "metadata": {},
     "output_type": "display_data"
    },
    {
     "data": {
      "application/javascript": [
       "refreshJobProgress_4953d4605d5648d1916c7a2275f577f3({\"jobId\": 2, \"name\": \"sum at <ipython-input-1-58c4354088ce>:95\", \"submissionTime\": \"2017-05-01T01:43:58.985GMT\", \"stageIds\": [2], \"status\": \"RUNNING\", \"numTasks\": 50, \"numActiveTasks\": 1, \"numCompletedTasks\": 8, \"numSkippedTasks\": 0, \"numFailedTasks\": 0, \"numActiveStages\": 1, \"numCompletedStages\": 0, \"numSkippedStages\": 0, \"numFailedStages\": 0})"
      ]
     },
     "metadata": {},
     "output_type": "display_data"
    },
    {
     "data": {
      "application/javascript": [
       "refreshJobProgress_4953d4605d5648d1916c7a2275f577f3({\"jobId\": 2, \"name\": \"sum at <ipython-input-1-58c4354088ce>:95\", \"submissionTime\": \"2017-05-01T01:43:58.985GMT\", \"stageIds\": [2], \"status\": \"RUNNING\", \"numTasks\": 50, \"numActiveTasks\": 1, \"numCompletedTasks\": 9, \"numSkippedTasks\": 0, \"numFailedTasks\": 0, \"numActiveStages\": 1, \"numCompletedStages\": 0, \"numSkippedStages\": 0, \"numFailedStages\": 0})"
      ]
     },
     "metadata": {},
     "output_type": "display_data"
    },
    {
     "data": {
      "application/javascript": [
       "refreshJobProgress_4953d4605d5648d1916c7a2275f577f3({\"jobId\": 2, \"name\": \"sum at <ipython-input-1-58c4354088ce>:95\", \"submissionTime\": \"2017-05-01T01:43:58.985GMT\", \"stageIds\": [2], \"status\": \"RUNNING\", \"numTasks\": 50, \"numActiveTasks\": 1, \"numCompletedTasks\": 9, \"numSkippedTasks\": 0, \"numFailedTasks\": 0, \"numActiveStages\": 1, \"numCompletedStages\": 0, \"numSkippedStages\": 0, \"numFailedStages\": 0})"
      ]
     },
     "metadata": {},
     "output_type": "display_data"
    },
    {
     "data": {
      "application/javascript": [
       "refreshJobProgress_4953d4605d5648d1916c7a2275f577f3({\"jobId\": 2, \"name\": \"sum at <ipython-input-1-58c4354088ce>:95\", \"submissionTime\": \"2017-05-01T01:43:58.985GMT\", \"stageIds\": [2], \"status\": \"RUNNING\", \"numTasks\": 50, \"numActiveTasks\": 1, \"numCompletedTasks\": 9, \"numSkippedTasks\": 0, \"numFailedTasks\": 0, \"numActiveStages\": 1, \"numCompletedStages\": 0, \"numSkippedStages\": 0, \"numFailedStages\": 0})"
      ]
     },
     "metadata": {},
     "output_type": "display_data"
    },
    {
     "data": {
      "application/javascript": [
       "refreshJobProgress_4953d4605d5648d1916c7a2275f577f3({\"jobId\": 2, \"name\": \"sum at <ipython-input-1-58c4354088ce>:95\", \"submissionTime\": \"2017-05-01T01:43:58.985GMT\", \"stageIds\": [2], \"status\": \"RUNNING\", \"numTasks\": 50, \"numActiveTasks\": 1, \"numCompletedTasks\": 9, \"numSkippedTasks\": 0, \"numFailedTasks\": 0, \"numActiveStages\": 1, \"numCompletedStages\": 0, \"numSkippedStages\": 0, \"numFailedStages\": 0})"
      ]
     },
     "metadata": {},
     "output_type": "display_data"
    },
    {
     "data": {
      "application/javascript": [
       "refreshJobProgress_4953d4605d5648d1916c7a2275f577f3({\"jobId\": 2, \"name\": \"sum at <ipython-input-1-58c4354088ce>:95\", \"submissionTime\": \"2017-05-01T01:43:58.985GMT\", \"stageIds\": [2], \"status\": \"RUNNING\", \"numTasks\": 50, \"numActiveTasks\": 1, \"numCompletedTasks\": 10, \"numSkippedTasks\": 0, \"numFailedTasks\": 0, \"numActiveStages\": 1, \"numCompletedStages\": 0, \"numSkippedStages\": 0, \"numFailedStages\": 0})"
      ]
     },
     "metadata": {},
     "output_type": "display_data"
    },
    {
     "data": {
      "application/javascript": [
       "refreshJobProgress_4953d4605d5648d1916c7a2275f577f3({\"jobId\": 2, \"name\": \"sum at <ipython-input-1-58c4354088ce>:95\", \"submissionTime\": \"2017-05-01T01:43:58.985GMT\", \"stageIds\": [2], \"status\": \"RUNNING\", \"numTasks\": 50, \"numActiveTasks\": 1, \"numCompletedTasks\": 10, \"numSkippedTasks\": 0, \"numFailedTasks\": 0, \"numActiveStages\": 1, \"numCompletedStages\": 0, \"numSkippedStages\": 0, \"numFailedStages\": 0})"
      ]
     },
     "metadata": {},
     "output_type": "display_data"
    },
    {
     "data": {
      "application/javascript": [
       "refreshJobProgress_4953d4605d5648d1916c7a2275f577f3({\"jobId\": 2, \"name\": \"sum at <ipython-input-1-58c4354088ce>:95\", \"submissionTime\": \"2017-05-01T01:43:58.985GMT\", \"stageIds\": [2], \"status\": \"RUNNING\", \"numTasks\": 50, \"numActiveTasks\": 1, \"numCompletedTasks\": 10, \"numSkippedTasks\": 0, \"numFailedTasks\": 0, \"numActiveStages\": 1, \"numCompletedStages\": 0, \"numSkippedStages\": 0, \"numFailedStages\": 0})"
      ]
     },
     "metadata": {},
     "output_type": "display_data"
    },
    {
     "data": {
      "application/javascript": [
       "refreshJobProgress_4953d4605d5648d1916c7a2275f577f3({\"jobId\": 2, \"name\": \"sum at <ipython-input-1-58c4354088ce>:95\", \"submissionTime\": \"2017-05-01T01:43:58.985GMT\", \"stageIds\": [2], \"status\": \"RUNNING\", \"numTasks\": 50, \"numActiveTasks\": 1, \"numCompletedTasks\": 11, \"numSkippedTasks\": 0, \"numFailedTasks\": 0, \"numActiveStages\": 1, \"numCompletedStages\": 0, \"numSkippedStages\": 0, \"numFailedStages\": 0})"
      ]
     },
     "metadata": {},
     "output_type": "display_data"
    },
    {
     "data": {
      "application/javascript": [
       "refreshJobProgress_4953d4605d5648d1916c7a2275f577f3({\"jobId\": 2, \"name\": \"sum at <ipython-input-1-58c4354088ce>:95\", \"submissionTime\": \"2017-05-01T01:43:58.985GMT\", \"stageIds\": [2], \"status\": \"RUNNING\", \"numTasks\": 50, \"numActiveTasks\": 1, \"numCompletedTasks\": 11, \"numSkippedTasks\": 0, \"numFailedTasks\": 0, \"numActiveStages\": 1, \"numCompletedStages\": 0, \"numSkippedStages\": 0, \"numFailedStages\": 0})"
      ]
     },
     "metadata": {},
     "output_type": "display_data"
    },
    {
     "data": {
      "application/javascript": [
       "refreshJobProgress_4953d4605d5648d1916c7a2275f577f3({\"jobId\": 2, \"name\": \"sum at <ipython-input-1-58c4354088ce>:95\", \"submissionTime\": \"2017-05-01T01:43:58.985GMT\", \"stageIds\": [2], \"status\": \"RUNNING\", \"numTasks\": 50, \"numActiveTasks\": 1, \"numCompletedTasks\": 12, \"numSkippedTasks\": 0, \"numFailedTasks\": 0, \"numActiveStages\": 1, \"numCompletedStages\": 0, \"numSkippedStages\": 0, \"numFailedStages\": 0})"
      ]
     },
     "metadata": {},
     "output_type": "display_data"
    },
    {
     "data": {
      "application/javascript": [
       "refreshJobProgress_4953d4605d5648d1916c7a2275f577f3({\"jobId\": 2, \"name\": \"sum at <ipython-input-1-58c4354088ce>:95\", \"submissionTime\": \"2017-05-01T01:43:58.985GMT\", \"stageIds\": [2], \"status\": \"RUNNING\", \"numTasks\": 50, \"numActiveTasks\": 1, \"numCompletedTasks\": 12, \"numSkippedTasks\": 0, \"numFailedTasks\": 0, \"numActiveStages\": 1, \"numCompletedStages\": 0, \"numSkippedStages\": 0, \"numFailedStages\": 0})"
      ]
     },
     "metadata": {},
     "output_type": "display_data"
    },
    {
     "data": {
      "application/javascript": [
       "refreshJobProgress_4953d4605d5648d1916c7a2275f577f3({\"jobId\": 2, \"name\": \"sum at <ipython-input-1-58c4354088ce>:95\", \"submissionTime\": \"2017-05-01T01:43:58.985GMT\", \"stageIds\": [2], \"status\": \"RUNNING\", \"numTasks\": 50, \"numActiveTasks\": 1, \"numCompletedTasks\": 12, \"numSkippedTasks\": 0, \"numFailedTasks\": 0, \"numActiveStages\": 1, \"numCompletedStages\": 0, \"numSkippedStages\": 0, \"numFailedStages\": 0})"
      ]
     },
     "metadata": {},
     "output_type": "display_data"
    },
    {
     "data": {
      "application/javascript": [
       "refreshJobProgress_4953d4605d5648d1916c7a2275f577f3({\"jobId\": 2, \"name\": \"sum at <ipython-input-1-58c4354088ce>:95\", \"submissionTime\": \"2017-05-01T01:43:58.985GMT\", \"stageIds\": [2], \"status\": \"RUNNING\", \"numTasks\": 50, \"numActiveTasks\": 1, \"numCompletedTasks\": 12, \"numSkippedTasks\": 0, \"numFailedTasks\": 0, \"numActiveStages\": 1, \"numCompletedStages\": 0, \"numSkippedStages\": 0, \"numFailedStages\": 0})"
      ]
     },
     "metadata": {},
     "output_type": "display_data"
    },
    {
     "data": {
      "application/javascript": [
       "refreshJobProgress_4953d4605d5648d1916c7a2275f577f3({\"jobId\": 2, \"name\": \"sum at <ipython-input-1-58c4354088ce>:95\", \"submissionTime\": \"2017-05-01T01:43:58.985GMT\", \"stageIds\": [2], \"status\": \"RUNNING\", \"numTasks\": 50, \"numActiveTasks\": 1, \"numCompletedTasks\": 13, \"numSkippedTasks\": 0, \"numFailedTasks\": 0, \"numActiveStages\": 1, \"numCompletedStages\": 0, \"numSkippedStages\": 0, \"numFailedStages\": 0})"
      ]
     },
     "metadata": {},
     "output_type": "display_data"
    },
    {
     "data": {
      "application/javascript": [
       "refreshJobProgress_4953d4605d5648d1916c7a2275f577f3({\"jobId\": 2, \"name\": \"sum at <ipython-input-1-58c4354088ce>:95\", \"submissionTime\": \"2017-05-01T01:43:58.985GMT\", \"stageIds\": [2], \"status\": \"RUNNING\", \"numTasks\": 50, \"numActiveTasks\": 1, \"numCompletedTasks\": 13, \"numSkippedTasks\": 0, \"numFailedTasks\": 0, \"numActiveStages\": 1, \"numCompletedStages\": 0, \"numSkippedStages\": 0, \"numFailedStages\": 0})"
      ]
     },
     "metadata": {},
     "output_type": "display_data"
    },
    {
     "data": {
      "application/javascript": [
       "refreshJobProgress_4953d4605d5648d1916c7a2275f577f3({\"jobId\": 2, \"name\": \"sum at <ipython-input-1-58c4354088ce>:95\", \"submissionTime\": \"2017-05-01T01:43:58.985GMT\", \"stageIds\": [2], \"status\": \"RUNNING\", \"numTasks\": 50, \"numActiveTasks\": 1, \"numCompletedTasks\": 13, \"numSkippedTasks\": 0, \"numFailedTasks\": 0, \"numActiveStages\": 1, \"numCompletedStages\": 0, \"numSkippedStages\": 0, \"numFailedStages\": 0})"
      ]
     },
     "metadata": {},
     "output_type": "display_data"
    },
    {
     "data": {
      "application/javascript": [
       "refreshJobProgress_4953d4605d5648d1916c7a2275f577f3({\"jobId\": 2, \"name\": \"sum at <ipython-input-1-58c4354088ce>:95\", \"submissionTime\": \"2017-05-01T01:43:58.985GMT\", \"stageIds\": [2], \"status\": \"RUNNING\", \"numTasks\": 50, \"numActiveTasks\": 1, \"numCompletedTasks\": 13, \"numSkippedTasks\": 0, \"numFailedTasks\": 0, \"numActiveStages\": 1, \"numCompletedStages\": 0, \"numSkippedStages\": 0, \"numFailedStages\": 0})"
      ]
     },
     "metadata": {},
     "output_type": "display_data"
    },
    {
     "data": {
      "application/javascript": [
       "refreshJobProgress_4953d4605d5648d1916c7a2275f577f3({\"jobId\": 2, \"name\": \"sum at <ipython-input-1-58c4354088ce>:95\", \"submissionTime\": \"2017-05-01T01:43:58.985GMT\", \"stageIds\": [2], \"status\": \"RUNNING\", \"numTasks\": 50, \"numActiveTasks\": 1, \"numCompletedTasks\": 14, \"numSkippedTasks\": 0, \"numFailedTasks\": 0, \"numActiveStages\": 1, \"numCompletedStages\": 0, \"numSkippedStages\": 0, \"numFailedStages\": 0})"
      ]
     },
     "metadata": {},
     "output_type": "display_data"
    },
    {
     "data": {
      "application/javascript": [
       "refreshJobProgress_4953d4605d5648d1916c7a2275f577f3({\"jobId\": 2, \"name\": \"sum at <ipython-input-1-58c4354088ce>:95\", \"submissionTime\": \"2017-05-01T01:43:58.985GMT\", \"stageIds\": [2], \"status\": \"RUNNING\", \"numTasks\": 50, \"numActiveTasks\": 1, \"numCompletedTasks\": 14, \"numSkippedTasks\": 0, \"numFailedTasks\": 0, \"numActiveStages\": 1, \"numCompletedStages\": 0, \"numSkippedStages\": 0, \"numFailedStages\": 0})"
      ]
     },
     "metadata": {},
     "output_type": "display_data"
    },
    {
     "data": {
      "application/javascript": [
       "refreshJobProgress_4953d4605d5648d1916c7a2275f577f3({\"jobId\": 2, \"name\": \"sum at <ipython-input-1-58c4354088ce>:95\", \"submissionTime\": \"2017-05-01T01:43:58.985GMT\", \"stageIds\": [2], \"status\": \"RUNNING\", \"numTasks\": 50, \"numActiveTasks\": 1, \"numCompletedTasks\": 15, \"numSkippedTasks\": 0, \"numFailedTasks\": 0, \"numActiveStages\": 1, \"numCompletedStages\": 0, \"numSkippedStages\": 0, \"numFailedStages\": 0})"
      ]
     },
     "metadata": {},
     "output_type": "display_data"
    },
    {
     "data": {
      "application/javascript": [
       "refreshJobProgress_4953d4605d5648d1916c7a2275f577f3({\"jobId\": 2, \"name\": \"sum at <ipython-input-1-58c4354088ce>:95\", \"submissionTime\": \"2017-05-01T01:43:58.985GMT\", \"stageIds\": [2], \"status\": \"RUNNING\", \"numTasks\": 50, \"numActiveTasks\": 1, \"numCompletedTasks\": 15, \"numSkippedTasks\": 0, \"numFailedTasks\": 0, \"numActiveStages\": 1, \"numCompletedStages\": 0, \"numSkippedStages\": 0, \"numFailedStages\": 0})"
      ]
     },
     "metadata": {},
     "output_type": "display_data"
    },
    {
     "data": {
      "application/javascript": [
       "refreshJobProgress_4953d4605d5648d1916c7a2275f577f3({\"jobId\": 2, \"name\": \"sum at <ipython-input-1-58c4354088ce>:95\", \"submissionTime\": \"2017-05-01T01:43:58.985GMT\", \"stageIds\": [2], \"status\": \"RUNNING\", \"numTasks\": 50, \"numActiveTasks\": 1, \"numCompletedTasks\": 15, \"numSkippedTasks\": 0, \"numFailedTasks\": 0, \"numActiveStages\": 1, \"numCompletedStages\": 0, \"numSkippedStages\": 0, \"numFailedStages\": 0})"
      ]
     },
     "metadata": {},
     "output_type": "display_data"
    },
    {
     "data": {
      "application/javascript": [
       "refreshJobProgress_4953d4605d5648d1916c7a2275f577f3({\"jobId\": 2, \"name\": \"sum at <ipython-input-1-58c4354088ce>:95\", \"submissionTime\": \"2017-05-01T01:43:58.985GMT\", \"stageIds\": [2], \"status\": \"RUNNING\", \"numTasks\": 50, \"numActiveTasks\": 1, \"numCompletedTasks\": 15, \"numSkippedTasks\": 0, \"numFailedTasks\": 0, \"numActiveStages\": 1, \"numCompletedStages\": 0, \"numSkippedStages\": 0, \"numFailedStages\": 0})"
      ]
     },
     "metadata": {},
     "output_type": "display_data"
    },
    {
     "data": {
      "application/javascript": [
       "refreshJobProgress_4953d4605d5648d1916c7a2275f577f3({\"jobId\": 2, \"name\": \"sum at <ipython-input-1-58c4354088ce>:95\", \"submissionTime\": \"2017-05-01T01:43:58.985GMT\", \"stageIds\": [2], \"status\": \"RUNNING\", \"numTasks\": 50, \"numActiveTasks\": 1, \"numCompletedTasks\": 15, \"numSkippedTasks\": 0, \"numFailedTasks\": 0, \"numActiveStages\": 1, \"numCompletedStages\": 0, \"numSkippedStages\": 0, \"numFailedStages\": 0})"
      ]
     },
     "metadata": {},
     "output_type": "display_data"
    },
    {
     "data": {
      "application/javascript": [
       "refreshJobProgress_4953d4605d5648d1916c7a2275f577f3({\"jobId\": 2, \"name\": \"sum at <ipython-input-1-58c4354088ce>:95\", \"submissionTime\": \"2017-05-01T01:43:58.985GMT\", \"stageIds\": [2], \"status\": \"RUNNING\", \"numTasks\": 50, \"numActiveTasks\": 1, \"numCompletedTasks\": 16, \"numSkippedTasks\": 0, \"numFailedTasks\": 0, \"numActiveStages\": 1, \"numCompletedStages\": 0, \"numSkippedStages\": 0, \"numFailedStages\": 0})"
      ]
     },
     "metadata": {},
     "output_type": "display_data"
    },
    {
     "data": {
      "application/javascript": [
       "refreshJobProgress_4953d4605d5648d1916c7a2275f577f3({\"jobId\": 2, \"name\": \"sum at <ipython-input-1-58c4354088ce>:95\", \"submissionTime\": \"2017-05-01T01:43:58.985GMT\", \"stageIds\": [2], \"status\": \"RUNNING\", \"numTasks\": 50, \"numActiveTasks\": 1, \"numCompletedTasks\": 16, \"numSkippedTasks\": 0, \"numFailedTasks\": 0, \"numActiveStages\": 1, \"numCompletedStages\": 0, \"numSkippedStages\": 0, \"numFailedStages\": 0})"
      ]
     },
     "metadata": {},
     "output_type": "display_data"
    },
    {
     "data": {
      "application/javascript": [
       "refreshJobProgress_4953d4605d5648d1916c7a2275f577f3({\"jobId\": 2, \"name\": \"sum at <ipython-input-1-58c4354088ce>:95\", \"submissionTime\": \"2017-05-01T01:43:58.985GMT\", \"stageIds\": [2], \"status\": \"RUNNING\", \"numTasks\": 50, \"numActiveTasks\": 1, \"numCompletedTasks\": 16, \"numSkippedTasks\": 0, \"numFailedTasks\": 0, \"numActiveStages\": 1, \"numCompletedStages\": 0, \"numSkippedStages\": 0, \"numFailedStages\": 0})"
      ]
     },
     "metadata": {},
     "output_type": "display_data"
    },
    {
     "data": {
      "application/javascript": [
       "refreshJobProgress_4953d4605d5648d1916c7a2275f577f3({\"jobId\": 2, \"name\": \"sum at <ipython-input-1-58c4354088ce>:95\", \"submissionTime\": \"2017-05-01T01:43:58.985GMT\", \"stageIds\": [2], \"status\": \"RUNNING\", \"numTasks\": 50, \"numActiveTasks\": 1, \"numCompletedTasks\": 17, \"numSkippedTasks\": 0, \"numFailedTasks\": 0, \"numActiveStages\": 1, \"numCompletedStages\": 0, \"numSkippedStages\": 0, \"numFailedStages\": 0})"
      ]
     },
     "metadata": {},
     "output_type": "display_data"
    },
    {
     "data": {
      "application/javascript": [
       "refreshJobProgress_4953d4605d5648d1916c7a2275f577f3({\"jobId\": 2, \"name\": \"sum at <ipython-input-1-58c4354088ce>:95\", \"submissionTime\": \"2017-05-01T01:43:58.985GMT\", \"stageIds\": [2], \"status\": \"RUNNING\", \"numTasks\": 50, \"numActiveTasks\": 1, \"numCompletedTasks\": 17, \"numSkippedTasks\": 0, \"numFailedTasks\": 0, \"numActiveStages\": 1, \"numCompletedStages\": 0, \"numSkippedStages\": 0, \"numFailedStages\": 0})"
      ]
     },
     "metadata": {},
     "output_type": "display_data"
    },
    {
     "data": {
      "application/javascript": [
       "refreshJobProgress_4953d4605d5648d1916c7a2275f577f3({\"jobId\": 2, \"name\": \"sum at <ipython-input-1-58c4354088ce>:95\", \"submissionTime\": \"2017-05-01T01:43:58.985GMT\", \"stageIds\": [2], \"status\": \"RUNNING\", \"numTasks\": 50, \"numActiveTasks\": 1, \"numCompletedTasks\": 18, \"numSkippedTasks\": 0, \"numFailedTasks\": 0, \"numActiveStages\": 1, \"numCompletedStages\": 0, \"numSkippedStages\": 0, \"numFailedStages\": 0})"
      ]
     },
     "metadata": {},
     "output_type": "display_data"
    },
    {
     "data": {
      "application/javascript": [
       "refreshJobProgress_4953d4605d5648d1916c7a2275f577f3({\"jobId\": 2, \"name\": \"sum at <ipython-input-1-58c4354088ce>:95\", \"submissionTime\": \"2017-05-01T01:43:58.985GMT\", \"stageIds\": [2], \"status\": \"RUNNING\", \"numTasks\": 50, \"numActiveTasks\": 1, \"numCompletedTasks\": 18, \"numSkippedTasks\": 0, \"numFailedTasks\": 0, \"numActiveStages\": 1, \"numCompletedStages\": 0, \"numSkippedStages\": 0, \"numFailedStages\": 0})"
      ]
     },
     "metadata": {},
     "output_type": "display_data"
    },
    {
     "data": {
      "application/javascript": [
       "refreshJobProgress_4953d4605d5648d1916c7a2275f577f3({\"jobId\": 2, \"name\": \"sum at <ipython-input-1-58c4354088ce>:95\", \"submissionTime\": \"2017-05-01T01:43:58.985GMT\", \"stageIds\": [2], \"status\": \"RUNNING\", \"numTasks\": 50, \"numActiveTasks\": 1, \"numCompletedTasks\": 18, \"numSkippedTasks\": 0, \"numFailedTasks\": 0, \"numActiveStages\": 1, \"numCompletedStages\": 0, \"numSkippedStages\": 0, \"numFailedStages\": 0})"
      ]
     },
     "metadata": {},
     "output_type": "display_data"
    },
    {
     "data": {
      "application/javascript": [
       "refreshJobProgress_4953d4605d5648d1916c7a2275f577f3({\"jobId\": 2, \"name\": \"sum at <ipython-input-1-58c4354088ce>:95\", \"submissionTime\": \"2017-05-01T01:43:58.985GMT\", \"stageIds\": [2], \"status\": \"RUNNING\", \"numTasks\": 50, \"numActiveTasks\": 1, \"numCompletedTasks\": 18, \"numSkippedTasks\": 0, \"numFailedTasks\": 0, \"numActiveStages\": 1, \"numCompletedStages\": 0, \"numSkippedStages\": 0, \"numFailedStages\": 0})"
      ]
     },
     "metadata": {},
     "output_type": "display_data"
    },
    {
     "data": {
      "application/javascript": [
       "refreshJobProgress_4953d4605d5648d1916c7a2275f577f3({\"jobId\": 2, \"name\": \"sum at <ipython-input-1-58c4354088ce>:95\", \"submissionTime\": \"2017-05-01T01:43:58.985GMT\", \"stageIds\": [2], \"status\": \"RUNNING\", \"numTasks\": 50, \"numActiveTasks\": 1, \"numCompletedTasks\": 19, \"numSkippedTasks\": 0, \"numFailedTasks\": 0, \"numActiveStages\": 1, \"numCompletedStages\": 0, \"numSkippedStages\": 0, \"numFailedStages\": 0})"
      ]
     },
     "metadata": {},
     "output_type": "display_data"
    },
    {
     "data": {
      "application/javascript": [
       "refreshJobProgress_4953d4605d5648d1916c7a2275f577f3({\"jobId\": 2, \"name\": \"sum at <ipython-input-1-58c4354088ce>:95\", \"submissionTime\": \"2017-05-01T01:43:58.985GMT\", \"stageIds\": [2], \"status\": \"RUNNING\", \"numTasks\": 50, \"numActiveTasks\": 1, \"numCompletedTasks\": 19, \"numSkippedTasks\": 0, \"numFailedTasks\": 0, \"numActiveStages\": 1, \"numCompletedStages\": 0, \"numSkippedStages\": 0, \"numFailedStages\": 0})"
      ]
     },
     "metadata": {},
     "output_type": "display_data"
    },
    {
     "data": {
      "application/javascript": [
       "refreshJobProgress_4953d4605d5648d1916c7a2275f577f3({\"jobId\": 2, \"name\": \"sum at <ipython-input-1-58c4354088ce>:95\", \"submissionTime\": \"2017-05-01T01:43:58.985GMT\", \"stageIds\": [2], \"status\": \"RUNNING\", \"numTasks\": 50, \"numActiveTasks\": 1, \"numCompletedTasks\": 19, \"numSkippedTasks\": 0, \"numFailedTasks\": 0, \"numActiveStages\": 1, \"numCompletedStages\": 0, \"numSkippedStages\": 0, \"numFailedStages\": 0})"
      ]
     },
     "metadata": {},
     "output_type": "display_data"
    },
    {
     "data": {
      "application/javascript": [
       "refreshJobProgress_4953d4605d5648d1916c7a2275f577f3({\"jobId\": 2, \"name\": \"sum at <ipython-input-1-58c4354088ce>:95\", \"submissionTime\": \"2017-05-01T01:43:58.985GMT\", \"stageIds\": [2], \"status\": \"RUNNING\", \"numTasks\": 50, \"numActiveTasks\": 1, \"numCompletedTasks\": 19, \"numSkippedTasks\": 0, \"numFailedTasks\": 0, \"numActiveStages\": 1, \"numCompletedStages\": 0, \"numSkippedStages\": 0, \"numFailedStages\": 0})"
      ]
     },
     "metadata": {},
     "output_type": "display_data"
    },
    {
     "data": {
      "application/javascript": [
       "refreshJobProgress_4953d4605d5648d1916c7a2275f577f3({\"jobId\": 2, \"name\": \"sum at <ipython-input-1-58c4354088ce>:95\", \"submissionTime\": \"2017-05-01T01:43:58.985GMT\", \"stageIds\": [2], \"status\": \"RUNNING\", \"numTasks\": 50, \"numActiveTasks\": 1, \"numCompletedTasks\": 19, \"numSkippedTasks\": 0, \"numFailedTasks\": 0, \"numActiveStages\": 1, \"numCompletedStages\": 0, \"numSkippedStages\": 0, \"numFailedStages\": 0})"
      ]
     },
     "metadata": {},
     "output_type": "display_data"
    },
    {
     "data": {
      "application/javascript": [
       "refreshJobProgress_4953d4605d5648d1916c7a2275f577f3({\"jobId\": 2, \"name\": \"sum at <ipython-input-1-58c4354088ce>:95\", \"submissionTime\": \"2017-05-01T01:43:58.985GMT\", \"stageIds\": [2], \"status\": \"RUNNING\", \"numTasks\": 50, \"numActiveTasks\": 1, \"numCompletedTasks\": 20, \"numSkippedTasks\": 0, \"numFailedTasks\": 0, \"numActiveStages\": 1, \"numCompletedStages\": 0, \"numSkippedStages\": 0, \"numFailedStages\": 0})"
      ]
     },
     "metadata": {},
     "output_type": "display_data"
    },
    {
     "data": {
      "application/javascript": [
       "refreshJobProgress_4953d4605d5648d1916c7a2275f577f3({\"jobId\": 2, \"name\": \"sum at <ipython-input-1-58c4354088ce>:95\", \"submissionTime\": \"2017-05-01T01:43:58.985GMT\", \"stageIds\": [2], \"status\": \"RUNNING\", \"numTasks\": 50, \"numActiveTasks\": 1, \"numCompletedTasks\": 20, \"numSkippedTasks\": 0, \"numFailedTasks\": 0, \"numActiveStages\": 1, \"numCompletedStages\": 0, \"numSkippedStages\": 0, \"numFailedStages\": 0})"
      ]
     },
     "metadata": {},
     "output_type": "display_data"
    },
    {
     "data": {
      "application/javascript": [
       "refreshJobProgress_4953d4605d5648d1916c7a2275f577f3({\"jobId\": 2, \"name\": \"sum at <ipython-input-1-58c4354088ce>:95\", \"submissionTime\": \"2017-05-01T01:43:58.985GMT\", \"stageIds\": [2], \"status\": \"RUNNING\", \"numTasks\": 50, \"numActiveTasks\": 1, \"numCompletedTasks\": 20, \"numSkippedTasks\": 0, \"numFailedTasks\": 0, \"numActiveStages\": 1, \"numCompletedStages\": 0, \"numSkippedStages\": 0, \"numFailedStages\": 0})"
      ]
     },
     "metadata": {},
     "output_type": "display_data"
    },
    {
     "data": {
      "application/javascript": [
       "refreshJobProgress_4953d4605d5648d1916c7a2275f577f3({\"jobId\": 2, \"name\": \"sum at <ipython-input-1-58c4354088ce>:95\", \"submissionTime\": \"2017-05-01T01:43:58.985GMT\", \"stageIds\": [2], \"status\": \"RUNNING\", \"numTasks\": 50, \"numActiveTasks\": 1, \"numCompletedTasks\": 21, \"numSkippedTasks\": 0, \"numFailedTasks\": 0, \"numActiveStages\": 1, \"numCompletedStages\": 0, \"numSkippedStages\": 0, \"numFailedStages\": 0})"
      ]
     },
     "metadata": {},
     "output_type": "display_data"
    },
    {
     "data": {
      "application/javascript": [
       "refreshJobProgress_4953d4605d5648d1916c7a2275f577f3({\"jobId\": 2, \"name\": \"sum at <ipython-input-1-58c4354088ce>:95\", \"submissionTime\": \"2017-05-01T01:43:58.985GMT\", \"stageIds\": [2], \"status\": \"RUNNING\", \"numTasks\": 50, \"numActiveTasks\": 1, \"numCompletedTasks\": 21, \"numSkippedTasks\": 0, \"numFailedTasks\": 0, \"numActiveStages\": 1, \"numCompletedStages\": 0, \"numSkippedStages\": 0, \"numFailedStages\": 0})"
      ]
     },
     "metadata": {},
     "output_type": "display_data"
    },
    {
     "data": {
      "application/javascript": [
       "refreshJobProgress_4953d4605d5648d1916c7a2275f577f3({\"jobId\": 2, \"name\": \"sum at <ipython-input-1-58c4354088ce>:95\", \"submissionTime\": \"2017-05-01T01:43:58.985GMT\", \"stageIds\": [2], \"status\": \"RUNNING\", \"numTasks\": 50, \"numActiveTasks\": 1, \"numCompletedTasks\": 21, \"numSkippedTasks\": 0, \"numFailedTasks\": 0, \"numActiveStages\": 1, \"numCompletedStages\": 0, \"numSkippedStages\": 0, \"numFailedStages\": 0})"
      ]
     },
     "metadata": {},
     "output_type": "display_data"
    },
    {
     "data": {
      "application/javascript": [
       "refreshJobProgress_4953d4605d5648d1916c7a2275f577f3({\"jobId\": 2, \"name\": \"sum at <ipython-input-1-58c4354088ce>:95\", \"submissionTime\": \"2017-05-01T01:43:58.985GMT\", \"stageIds\": [2], \"status\": \"RUNNING\", \"numTasks\": 50, \"numActiveTasks\": 1, \"numCompletedTasks\": 21, \"numSkippedTasks\": 0, \"numFailedTasks\": 0, \"numActiveStages\": 1, \"numCompletedStages\": 0, \"numSkippedStages\": 0, \"numFailedStages\": 0})"
      ]
     },
     "metadata": {},
     "output_type": "display_data"
    },
    {
     "data": {
      "application/javascript": [
       "refreshJobProgress_4953d4605d5648d1916c7a2275f577f3({\"jobId\": 2, \"name\": \"sum at <ipython-input-1-58c4354088ce>:95\", \"submissionTime\": \"2017-05-01T01:43:58.985GMT\", \"stageIds\": [2], \"status\": \"RUNNING\", \"numTasks\": 50, \"numActiveTasks\": 1, \"numCompletedTasks\": 22, \"numSkippedTasks\": 0, \"numFailedTasks\": 0, \"numActiveStages\": 1, \"numCompletedStages\": 0, \"numSkippedStages\": 0, \"numFailedStages\": 0})"
      ]
     },
     "metadata": {},
     "output_type": "display_data"
    },
    {
     "data": {
      "application/javascript": [
       "refreshJobProgress_4953d4605d5648d1916c7a2275f577f3({\"jobId\": 2, \"name\": \"sum at <ipython-input-1-58c4354088ce>:95\", \"submissionTime\": \"2017-05-01T01:43:58.985GMT\", \"stageIds\": [2], \"status\": \"RUNNING\", \"numTasks\": 50, \"numActiveTasks\": 1, \"numCompletedTasks\": 22, \"numSkippedTasks\": 0, \"numFailedTasks\": 0, \"numActiveStages\": 1, \"numCompletedStages\": 0, \"numSkippedStages\": 0, \"numFailedStages\": 0})"
      ]
     },
     "metadata": {},
     "output_type": "display_data"
    },
    {
     "data": {
      "application/javascript": [
       "refreshJobProgress_4953d4605d5648d1916c7a2275f577f3({\"jobId\": 2, \"name\": \"sum at <ipython-input-1-58c4354088ce>:95\", \"submissionTime\": \"2017-05-01T01:43:58.985GMT\", \"stageIds\": [2], \"status\": \"RUNNING\", \"numTasks\": 50, \"numActiveTasks\": 1, \"numCompletedTasks\": 22, \"numSkippedTasks\": 0, \"numFailedTasks\": 0, \"numActiveStages\": 1, \"numCompletedStages\": 0, \"numSkippedStages\": 0, \"numFailedStages\": 0})"
      ]
     },
     "metadata": {},
     "output_type": "display_data"
    },
    {
     "data": {
      "application/javascript": [
       "refreshJobProgress_4953d4605d5648d1916c7a2275f577f3({\"jobId\": 2, \"name\": \"sum at <ipython-input-1-58c4354088ce>:95\", \"submissionTime\": \"2017-05-01T01:43:58.985GMT\", \"stageIds\": [2], \"status\": \"RUNNING\", \"numTasks\": 50, \"numActiveTasks\": 1, \"numCompletedTasks\": 22, \"numSkippedTasks\": 0, \"numFailedTasks\": 0, \"numActiveStages\": 1, \"numCompletedStages\": 0, \"numSkippedStages\": 0, \"numFailedStages\": 0})"
      ]
     },
     "metadata": {},
     "output_type": "display_data"
    },
    {
     "data": {
      "application/javascript": [
       "refreshJobProgress_4953d4605d5648d1916c7a2275f577f3({\"jobId\": 2, \"name\": \"sum at <ipython-input-1-58c4354088ce>:95\", \"submissionTime\": \"2017-05-01T01:43:58.985GMT\", \"stageIds\": [2], \"status\": \"RUNNING\", \"numTasks\": 50, \"numActiveTasks\": 1, \"numCompletedTasks\": 23, \"numSkippedTasks\": 0, \"numFailedTasks\": 0, \"numActiveStages\": 1, \"numCompletedStages\": 0, \"numSkippedStages\": 0, \"numFailedStages\": 0})"
      ]
     },
     "metadata": {},
     "output_type": "display_data"
    },
    {
     "data": {
      "application/javascript": [
       "refreshJobProgress_4953d4605d5648d1916c7a2275f577f3({\"jobId\": 2, \"name\": \"sum at <ipython-input-1-58c4354088ce>:95\", \"submissionTime\": \"2017-05-01T01:43:58.985GMT\", \"stageIds\": [2], \"status\": \"RUNNING\", \"numTasks\": 50, \"numActiveTasks\": 1, \"numCompletedTasks\": 23, \"numSkippedTasks\": 0, \"numFailedTasks\": 0, \"numActiveStages\": 1, \"numCompletedStages\": 0, \"numSkippedStages\": 0, \"numFailedStages\": 0})"
      ]
     },
     "metadata": {},
     "output_type": "display_data"
    },
    {
     "data": {
      "application/javascript": [
       "refreshJobProgress_4953d4605d5648d1916c7a2275f577f3({\"jobId\": 2, \"name\": \"sum at <ipython-input-1-58c4354088ce>:95\", \"submissionTime\": \"2017-05-01T01:43:58.985GMT\", \"stageIds\": [2], \"status\": \"RUNNING\", \"numTasks\": 50, \"numActiveTasks\": 1, \"numCompletedTasks\": 23, \"numSkippedTasks\": 0, \"numFailedTasks\": 0, \"numActiveStages\": 1, \"numCompletedStages\": 0, \"numSkippedStages\": 0, \"numFailedStages\": 0})"
      ]
     },
     "metadata": {},
     "output_type": "display_data"
    },
    {
     "data": {
      "application/javascript": [
       "refreshJobProgress_4953d4605d5648d1916c7a2275f577f3({\"jobId\": 2, \"name\": \"sum at <ipython-input-1-58c4354088ce>:95\", \"submissionTime\": \"2017-05-01T01:43:58.985GMT\", \"stageIds\": [2], \"status\": \"RUNNING\", \"numTasks\": 50, \"numActiveTasks\": 1, \"numCompletedTasks\": 23, \"numSkippedTasks\": 0, \"numFailedTasks\": 0, \"numActiveStages\": 1, \"numCompletedStages\": 0, \"numSkippedStages\": 0, \"numFailedStages\": 0})"
      ]
     },
     "metadata": {},
     "output_type": "display_data"
    },
    {
     "data": {
      "application/javascript": [
       "refreshJobProgress_4953d4605d5648d1916c7a2275f577f3({\"jobId\": 2, \"name\": \"sum at <ipython-input-1-58c4354088ce>:95\", \"submissionTime\": \"2017-05-01T01:43:58.985GMT\", \"stageIds\": [2], \"status\": \"RUNNING\", \"numTasks\": 50, \"numActiveTasks\": 1, \"numCompletedTasks\": 24, \"numSkippedTasks\": 0, \"numFailedTasks\": 0, \"numActiveStages\": 1, \"numCompletedStages\": 0, \"numSkippedStages\": 0, \"numFailedStages\": 0})"
      ]
     },
     "metadata": {},
     "output_type": "display_data"
    },
    {
     "data": {
      "application/javascript": [
       "refreshJobProgress_4953d4605d5648d1916c7a2275f577f3({\"jobId\": 2, \"name\": \"sum at <ipython-input-1-58c4354088ce>:95\", \"submissionTime\": \"2017-05-01T01:43:58.985GMT\", \"stageIds\": [2], \"status\": \"RUNNING\", \"numTasks\": 50, \"numActiveTasks\": 1, \"numCompletedTasks\": 24, \"numSkippedTasks\": 0, \"numFailedTasks\": 0, \"numActiveStages\": 1, \"numCompletedStages\": 0, \"numSkippedStages\": 0, \"numFailedStages\": 0})"
      ]
     },
     "metadata": {},
     "output_type": "display_data"
    },
    {
     "data": {
      "application/javascript": [
       "refreshJobProgress_4953d4605d5648d1916c7a2275f577f3({\"jobId\": 2, \"name\": \"sum at <ipython-input-1-58c4354088ce>:95\", \"submissionTime\": \"2017-05-01T01:43:58.985GMT\", \"stageIds\": [2], \"status\": \"RUNNING\", \"numTasks\": 50, \"numActiveTasks\": 1, \"numCompletedTasks\": 24, \"numSkippedTasks\": 0, \"numFailedTasks\": 0, \"numActiveStages\": 1, \"numCompletedStages\": 0, \"numSkippedStages\": 0, \"numFailedStages\": 0})"
      ]
     },
     "metadata": {},
     "output_type": "display_data"
    },
    {
     "data": {
      "application/javascript": [
       "refreshJobProgress_4953d4605d5648d1916c7a2275f577f3({\"jobId\": 2, \"name\": \"sum at <ipython-input-1-58c4354088ce>:95\", \"submissionTime\": \"2017-05-01T01:43:58.985GMT\", \"stageIds\": [2], \"status\": \"RUNNING\", \"numTasks\": 50, \"numActiveTasks\": 1, \"numCompletedTasks\": 25, \"numSkippedTasks\": 0, \"numFailedTasks\": 0, \"numActiveStages\": 1, \"numCompletedStages\": 0, \"numSkippedStages\": 0, \"numFailedStages\": 0})"
      ]
     },
     "metadata": {},
     "output_type": "display_data"
    },
    {
     "data": {
      "application/javascript": [
       "refreshJobProgress_4953d4605d5648d1916c7a2275f577f3({\"jobId\": 2, \"name\": \"sum at <ipython-input-1-58c4354088ce>:95\", \"submissionTime\": \"2017-05-01T01:43:58.985GMT\", \"stageIds\": [2], \"status\": \"RUNNING\", \"numTasks\": 50, \"numActiveTasks\": 1, \"numCompletedTasks\": 25, \"numSkippedTasks\": 0, \"numFailedTasks\": 0, \"numActiveStages\": 1, \"numCompletedStages\": 0, \"numSkippedStages\": 0, \"numFailedStages\": 0})"
      ]
     },
     "metadata": {},
     "output_type": "display_data"
    },
    {
     "data": {
      "application/javascript": [
       "refreshJobProgress_4953d4605d5648d1916c7a2275f577f3({\"jobId\": 2, \"name\": \"sum at <ipython-input-1-58c4354088ce>:95\", \"submissionTime\": \"2017-05-01T01:43:58.985GMT\", \"stageIds\": [2], \"status\": \"RUNNING\", \"numTasks\": 50, \"numActiveTasks\": 1, \"numCompletedTasks\": 25, \"numSkippedTasks\": 0, \"numFailedTasks\": 0, \"numActiveStages\": 1, \"numCompletedStages\": 0, \"numSkippedStages\": 0, \"numFailedStages\": 0})"
      ]
     },
     "metadata": {},
     "output_type": "display_data"
    },
    {
     "data": {
      "application/javascript": [
       "refreshJobProgress_4953d4605d5648d1916c7a2275f577f3({\"jobId\": 2, \"name\": \"sum at <ipython-input-1-58c4354088ce>:95\", \"submissionTime\": \"2017-05-01T01:43:58.985GMT\", \"stageIds\": [2], \"status\": \"RUNNING\", \"numTasks\": 50, \"numActiveTasks\": 1, \"numCompletedTasks\": 26, \"numSkippedTasks\": 0, \"numFailedTasks\": 0, \"numActiveStages\": 1, \"numCompletedStages\": 0, \"numSkippedStages\": 0, \"numFailedStages\": 0})"
      ]
     },
     "metadata": {},
     "output_type": "display_data"
    },
    {
     "data": {
      "application/javascript": [
       "refreshJobProgress_4953d4605d5648d1916c7a2275f577f3({\"jobId\": 2, \"name\": \"sum at <ipython-input-1-58c4354088ce>:95\", \"submissionTime\": \"2017-05-01T01:43:58.985GMT\", \"stageIds\": [2], \"status\": \"RUNNING\", \"numTasks\": 50, \"numActiveTasks\": 1, \"numCompletedTasks\": 26, \"numSkippedTasks\": 0, \"numFailedTasks\": 0, \"numActiveStages\": 1, \"numCompletedStages\": 0, \"numSkippedStages\": 0, \"numFailedStages\": 0})"
      ]
     },
     "metadata": {},
     "output_type": "display_data"
    },
    {
     "data": {
      "application/javascript": [
       "refreshJobProgress_4953d4605d5648d1916c7a2275f577f3({\"jobId\": 2, \"name\": \"sum at <ipython-input-1-58c4354088ce>:95\", \"submissionTime\": \"2017-05-01T01:43:58.985GMT\", \"stageIds\": [2], \"status\": \"RUNNING\", \"numTasks\": 50, \"numActiveTasks\": 1, \"numCompletedTasks\": 26, \"numSkippedTasks\": 0, \"numFailedTasks\": 0, \"numActiveStages\": 1, \"numCompletedStages\": 0, \"numSkippedStages\": 0, \"numFailedStages\": 0})"
      ]
     },
     "metadata": {},
     "output_type": "display_data"
    },
    {
     "data": {
      "application/javascript": [
       "refreshJobProgress_4953d4605d5648d1916c7a2275f577f3({\"jobId\": 2, \"name\": \"sum at <ipython-input-1-58c4354088ce>:95\", \"submissionTime\": \"2017-05-01T01:43:58.985GMT\", \"stageIds\": [2], \"status\": \"RUNNING\", \"numTasks\": 50, \"numActiveTasks\": 1, \"numCompletedTasks\": 26, \"numSkippedTasks\": 0, \"numFailedTasks\": 0, \"numActiveStages\": 1, \"numCompletedStages\": 0, \"numSkippedStages\": 0, \"numFailedStages\": 0})"
      ]
     },
     "metadata": {},
     "output_type": "display_data"
    },
    {
     "data": {
      "application/javascript": [
       "refreshJobProgress_4953d4605d5648d1916c7a2275f577f3({\"jobId\": 2, \"name\": \"sum at <ipython-input-1-58c4354088ce>:95\", \"submissionTime\": \"2017-05-01T01:43:58.985GMT\", \"stageIds\": [2], \"status\": \"RUNNING\", \"numTasks\": 50, \"numActiveTasks\": 1, \"numCompletedTasks\": 27, \"numSkippedTasks\": 0, \"numFailedTasks\": 0, \"numActiveStages\": 1, \"numCompletedStages\": 0, \"numSkippedStages\": 0, \"numFailedStages\": 0})"
      ]
     },
     "metadata": {},
     "output_type": "display_data"
    },
    {
     "data": {
      "application/javascript": [
       "refreshJobProgress_4953d4605d5648d1916c7a2275f577f3({\"jobId\": 2, \"name\": \"sum at <ipython-input-1-58c4354088ce>:95\", \"submissionTime\": \"2017-05-01T01:43:58.985GMT\", \"stageIds\": [2], \"status\": \"RUNNING\", \"numTasks\": 50, \"numActiveTasks\": 1, \"numCompletedTasks\": 27, \"numSkippedTasks\": 0, \"numFailedTasks\": 0, \"numActiveStages\": 1, \"numCompletedStages\": 0, \"numSkippedStages\": 0, \"numFailedStages\": 0})"
      ]
     },
     "metadata": {},
     "output_type": "display_data"
    },
    {
     "data": {
      "application/javascript": [
       "refreshJobProgress_4953d4605d5648d1916c7a2275f577f3({\"jobId\": 2, \"name\": \"sum at <ipython-input-1-58c4354088ce>:95\", \"submissionTime\": \"2017-05-01T01:43:58.985GMT\", \"stageIds\": [2], \"status\": \"RUNNING\", \"numTasks\": 50, \"numActiveTasks\": 1, \"numCompletedTasks\": 27, \"numSkippedTasks\": 0, \"numFailedTasks\": 0, \"numActiveStages\": 1, \"numCompletedStages\": 0, \"numSkippedStages\": 0, \"numFailedStages\": 0})"
      ]
     },
     "metadata": {},
     "output_type": "display_data"
    },
    {
     "data": {
      "application/javascript": [
       "refreshJobProgress_4953d4605d5648d1916c7a2275f577f3({\"jobId\": 2, \"name\": \"sum at <ipython-input-1-58c4354088ce>:95\", \"submissionTime\": \"2017-05-01T01:43:58.985GMT\", \"stageIds\": [2], \"status\": \"RUNNING\", \"numTasks\": 50, \"numActiveTasks\": 1, \"numCompletedTasks\": 27, \"numSkippedTasks\": 0, \"numFailedTasks\": 0, \"numActiveStages\": 1, \"numCompletedStages\": 0, \"numSkippedStages\": 0, \"numFailedStages\": 0})"
      ]
     },
     "metadata": {},
     "output_type": "display_data"
    },
    {
     "data": {
      "application/javascript": [
       "refreshJobProgress_4953d4605d5648d1916c7a2275f577f3({\"jobId\": 2, \"name\": \"sum at <ipython-input-1-58c4354088ce>:95\", \"submissionTime\": \"2017-05-01T01:43:58.985GMT\", \"stageIds\": [2], \"status\": \"RUNNING\", \"numTasks\": 50, \"numActiveTasks\": 1, \"numCompletedTasks\": 28, \"numSkippedTasks\": 0, \"numFailedTasks\": 0, \"numActiveStages\": 1, \"numCompletedStages\": 0, \"numSkippedStages\": 0, \"numFailedStages\": 0})"
      ]
     },
     "metadata": {},
     "output_type": "display_data"
    },
    {
     "data": {
      "application/javascript": [
       "refreshJobProgress_4953d4605d5648d1916c7a2275f577f3({\"jobId\": 2, \"name\": \"sum at <ipython-input-1-58c4354088ce>:95\", \"submissionTime\": \"2017-05-01T01:43:58.985GMT\", \"stageIds\": [2], \"status\": \"RUNNING\", \"numTasks\": 50, \"numActiveTasks\": 1, \"numCompletedTasks\": 28, \"numSkippedTasks\": 0, \"numFailedTasks\": 0, \"numActiveStages\": 1, \"numCompletedStages\": 0, \"numSkippedStages\": 0, \"numFailedStages\": 0})"
      ]
     },
     "metadata": {},
     "output_type": "display_data"
    },
    {
     "data": {
      "application/javascript": [
       "refreshJobProgress_4953d4605d5648d1916c7a2275f577f3({\"jobId\": 2, \"name\": \"sum at <ipython-input-1-58c4354088ce>:95\", \"submissionTime\": \"2017-05-01T01:43:58.985GMT\", \"stageIds\": [2], \"status\": \"RUNNING\", \"numTasks\": 50, \"numActiveTasks\": 1, \"numCompletedTasks\": 28, \"numSkippedTasks\": 0, \"numFailedTasks\": 0, \"numActiveStages\": 1, \"numCompletedStages\": 0, \"numSkippedStages\": 0, \"numFailedStages\": 0})"
      ]
     },
     "metadata": {},
     "output_type": "display_data"
    },
    {
     "data": {
      "application/javascript": [
       "refreshJobProgress_4953d4605d5648d1916c7a2275f577f3({\"jobId\": 2, \"name\": \"sum at <ipython-input-1-58c4354088ce>:95\", \"submissionTime\": \"2017-05-01T01:43:58.985GMT\", \"stageIds\": [2], \"status\": \"RUNNING\", \"numTasks\": 50, \"numActiveTasks\": 1, \"numCompletedTasks\": 28, \"numSkippedTasks\": 0, \"numFailedTasks\": 0, \"numActiveStages\": 1, \"numCompletedStages\": 0, \"numSkippedStages\": 0, \"numFailedStages\": 0})"
      ]
     },
     "metadata": {},
     "output_type": "display_data"
    },
    {
     "data": {
      "application/javascript": [
       "refreshJobProgress_4953d4605d5648d1916c7a2275f577f3({\"jobId\": 2, \"name\": \"sum at <ipython-input-1-58c4354088ce>:95\", \"submissionTime\": \"2017-05-01T01:43:58.985GMT\", \"stageIds\": [2], \"status\": \"RUNNING\", \"numTasks\": 50, \"numActiveTasks\": 1, \"numCompletedTasks\": 28, \"numSkippedTasks\": 0, \"numFailedTasks\": 0, \"numActiveStages\": 1, \"numCompletedStages\": 0, \"numSkippedStages\": 0, \"numFailedStages\": 0})"
      ]
     },
     "metadata": {},
     "output_type": "display_data"
    },
    {
     "data": {
      "application/javascript": [
       "refreshJobProgress_4953d4605d5648d1916c7a2275f577f3({\"jobId\": 2, \"name\": \"sum at <ipython-input-1-58c4354088ce>:95\", \"submissionTime\": \"2017-05-01T01:43:58.985GMT\", \"stageIds\": [2], \"status\": \"RUNNING\", \"numTasks\": 50, \"numActiveTasks\": 1, \"numCompletedTasks\": 29, \"numSkippedTasks\": 0, \"numFailedTasks\": 0, \"numActiveStages\": 1, \"numCompletedStages\": 0, \"numSkippedStages\": 0, \"numFailedStages\": 0})"
      ]
     },
     "metadata": {},
     "output_type": "display_data"
    },
    {
     "data": {
      "application/javascript": [
       "refreshJobProgress_4953d4605d5648d1916c7a2275f577f3({\"jobId\": 2, \"name\": \"sum at <ipython-input-1-58c4354088ce>:95\", \"submissionTime\": \"2017-05-01T01:43:58.985GMT\", \"stageIds\": [2], \"status\": \"RUNNING\", \"numTasks\": 50, \"numActiveTasks\": 1, \"numCompletedTasks\": 29, \"numSkippedTasks\": 0, \"numFailedTasks\": 0, \"numActiveStages\": 1, \"numCompletedStages\": 0, \"numSkippedStages\": 0, \"numFailedStages\": 0})"
      ]
     },
     "metadata": {},
     "output_type": "display_data"
    },
    {
     "data": {
      "application/javascript": [
       "refreshJobProgress_4953d4605d5648d1916c7a2275f577f3({\"jobId\": 2, \"name\": \"sum at <ipython-input-1-58c4354088ce>:95\", \"submissionTime\": \"2017-05-01T01:43:58.985GMT\", \"stageIds\": [2], \"status\": \"RUNNING\", \"numTasks\": 50, \"numActiveTasks\": 1, \"numCompletedTasks\": 29, \"numSkippedTasks\": 0, \"numFailedTasks\": 0, \"numActiveStages\": 1, \"numCompletedStages\": 0, \"numSkippedStages\": 0, \"numFailedStages\": 0})"
      ]
     },
     "metadata": {},
     "output_type": "display_data"
    },
    {
     "data": {
      "application/javascript": [
       "refreshJobProgress_4953d4605d5648d1916c7a2275f577f3({\"jobId\": 2, \"name\": \"sum at <ipython-input-1-58c4354088ce>:95\", \"submissionTime\": \"2017-05-01T01:43:58.985GMT\", \"stageIds\": [2], \"status\": \"RUNNING\", \"numTasks\": 50, \"numActiveTasks\": 1, \"numCompletedTasks\": 29, \"numSkippedTasks\": 0, \"numFailedTasks\": 0, \"numActiveStages\": 1, \"numCompletedStages\": 0, \"numSkippedStages\": 0, \"numFailedStages\": 0})"
      ]
     },
     "metadata": {},
     "output_type": "display_data"
    },
    {
     "data": {
      "application/javascript": [
       "refreshJobProgress_4953d4605d5648d1916c7a2275f577f3({\"jobId\": 2, \"name\": \"sum at <ipython-input-1-58c4354088ce>:95\", \"submissionTime\": \"2017-05-01T01:43:58.985GMT\", \"stageIds\": [2], \"status\": \"RUNNING\", \"numTasks\": 50, \"numActiveTasks\": 1, \"numCompletedTasks\": 29, \"numSkippedTasks\": 0, \"numFailedTasks\": 0, \"numActiveStages\": 1, \"numCompletedStages\": 0, \"numSkippedStages\": 0, \"numFailedStages\": 0})"
      ]
     },
     "metadata": {},
     "output_type": "display_data"
    },
    {
     "data": {
      "application/javascript": [
       "refreshJobProgress_4953d4605d5648d1916c7a2275f577f3({\"jobId\": 2, \"name\": \"sum at <ipython-input-1-58c4354088ce>:95\", \"submissionTime\": \"2017-05-01T01:43:58.985GMT\", \"stageIds\": [2], \"status\": \"RUNNING\", \"numTasks\": 50, \"numActiveTasks\": 1, \"numCompletedTasks\": 30, \"numSkippedTasks\": 0, \"numFailedTasks\": 0, \"numActiveStages\": 1, \"numCompletedStages\": 0, \"numSkippedStages\": 0, \"numFailedStages\": 0})"
      ]
     },
     "metadata": {},
     "output_type": "display_data"
    },
    {
     "data": {
      "application/javascript": [
       "refreshJobProgress_4953d4605d5648d1916c7a2275f577f3({\"jobId\": 2, \"name\": \"sum at <ipython-input-1-58c4354088ce>:95\", \"submissionTime\": \"2017-05-01T01:43:58.985GMT\", \"stageIds\": [2], \"status\": \"RUNNING\", \"numTasks\": 50, \"numActiveTasks\": 1, \"numCompletedTasks\": 30, \"numSkippedTasks\": 0, \"numFailedTasks\": 0, \"numActiveStages\": 1, \"numCompletedStages\": 0, \"numSkippedStages\": 0, \"numFailedStages\": 0})"
      ]
     },
     "metadata": {},
     "output_type": "display_data"
    },
    {
     "data": {
      "application/javascript": [
       "refreshJobProgress_4953d4605d5648d1916c7a2275f577f3({\"jobId\": 2, \"name\": \"sum at <ipython-input-1-58c4354088ce>:95\", \"submissionTime\": \"2017-05-01T01:43:58.985GMT\", \"stageIds\": [2], \"status\": \"RUNNING\", \"numTasks\": 50, \"numActiveTasks\": 1, \"numCompletedTasks\": 30, \"numSkippedTasks\": 0, \"numFailedTasks\": 0, \"numActiveStages\": 1, \"numCompletedStages\": 0, \"numSkippedStages\": 0, \"numFailedStages\": 0})"
      ]
     },
     "metadata": {},
     "output_type": "display_data"
    },
    {
     "data": {
      "application/javascript": [
       "refreshJobProgress_4953d4605d5648d1916c7a2275f577f3({\"jobId\": 2, \"name\": \"sum at <ipython-input-1-58c4354088ce>:95\", \"submissionTime\": \"2017-05-01T01:43:58.985GMT\", \"stageIds\": [2], \"status\": \"RUNNING\", \"numTasks\": 50, \"numActiveTasks\": 1, \"numCompletedTasks\": 31, \"numSkippedTasks\": 0, \"numFailedTasks\": 0, \"numActiveStages\": 1, \"numCompletedStages\": 0, \"numSkippedStages\": 0, \"numFailedStages\": 0})"
      ]
     },
     "metadata": {},
     "output_type": "display_data"
    },
    {
     "data": {
      "application/javascript": [
       "refreshJobProgress_4953d4605d5648d1916c7a2275f577f3({\"jobId\": 2, \"name\": \"sum at <ipython-input-1-58c4354088ce>:95\", \"submissionTime\": \"2017-05-01T01:43:58.985GMT\", \"stageIds\": [2], \"status\": \"RUNNING\", \"numTasks\": 50, \"numActiveTasks\": 1, \"numCompletedTasks\": 31, \"numSkippedTasks\": 0, \"numFailedTasks\": 0, \"numActiveStages\": 1, \"numCompletedStages\": 0, \"numSkippedStages\": 0, \"numFailedStages\": 0})"
      ]
     },
     "metadata": {},
     "output_type": "display_data"
    },
    {
     "data": {
      "application/javascript": [
       "refreshJobProgress_4953d4605d5648d1916c7a2275f577f3({\"jobId\": 2, \"name\": \"sum at <ipython-input-1-58c4354088ce>:95\", \"submissionTime\": \"2017-05-01T01:43:58.985GMT\", \"stageIds\": [2], \"status\": \"RUNNING\", \"numTasks\": 50, \"numActiveTasks\": 1, \"numCompletedTasks\": 31, \"numSkippedTasks\": 0, \"numFailedTasks\": 0, \"numActiveStages\": 1, \"numCompletedStages\": 0, \"numSkippedStages\": 0, \"numFailedStages\": 0})"
      ]
     },
     "metadata": {},
     "output_type": "display_data"
    },
    {
     "data": {
      "application/javascript": [
       "refreshJobProgress_4953d4605d5648d1916c7a2275f577f3({\"jobId\": 2, \"name\": \"sum at <ipython-input-1-58c4354088ce>:95\", \"submissionTime\": \"2017-05-01T01:43:58.985GMT\", \"stageIds\": [2], \"status\": \"RUNNING\", \"numTasks\": 50, \"numActiveTasks\": 1, \"numCompletedTasks\": 31, \"numSkippedTasks\": 0, \"numFailedTasks\": 0, \"numActiveStages\": 1, \"numCompletedStages\": 0, \"numSkippedStages\": 0, \"numFailedStages\": 0})"
      ]
     },
     "metadata": {},
     "output_type": "display_data"
    },
    {
     "data": {
      "application/javascript": [
       "refreshJobProgress_4953d4605d5648d1916c7a2275f577f3({\"jobId\": 2, \"name\": \"sum at <ipython-input-1-58c4354088ce>:95\", \"submissionTime\": \"2017-05-01T01:43:58.985GMT\", \"stageIds\": [2], \"status\": \"RUNNING\", \"numTasks\": 50, \"numActiveTasks\": 1, \"numCompletedTasks\": 32, \"numSkippedTasks\": 0, \"numFailedTasks\": 0, \"numActiveStages\": 1, \"numCompletedStages\": 0, \"numSkippedStages\": 0, \"numFailedStages\": 0})"
      ]
     },
     "metadata": {},
     "output_type": "display_data"
    },
    {
     "data": {
      "application/javascript": [
       "refreshJobProgress_4953d4605d5648d1916c7a2275f577f3({\"jobId\": 2, \"name\": \"sum at <ipython-input-1-58c4354088ce>:95\", \"submissionTime\": \"2017-05-01T01:43:58.985GMT\", \"stageIds\": [2], \"status\": \"RUNNING\", \"numTasks\": 50, \"numActiveTasks\": 1, \"numCompletedTasks\": 32, \"numSkippedTasks\": 0, \"numFailedTasks\": 0, \"numActiveStages\": 1, \"numCompletedStages\": 0, \"numSkippedStages\": 0, \"numFailedStages\": 0})"
      ]
     },
     "metadata": {},
     "output_type": "display_data"
    },
    {
     "data": {
      "application/javascript": [
       "refreshJobProgress_4953d4605d5648d1916c7a2275f577f3({\"jobId\": 2, \"name\": \"sum at <ipython-input-1-58c4354088ce>:95\", \"submissionTime\": \"2017-05-01T01:43:58.985GMT\", \"stageIds\": [2], \"status\": \"RUNNING\", \"numTasks\": 50, \"numActiveTasks\": 1, \"numCompletedTasks\": 32, \"numSkippedTasks\": 0, \"numFailedTasks\": 0, \"numActiveStages\": 1, \"numCompletedStages\": 0, \"numSkippedStages\": 0, \"numFailedStages\": 0})"
      ]
     },
     "metadata": {},
     "output_type": "display_data"
    },
    {
     "data": {
      "application/javascript": [
       "refreshJobProgress_4953d4605d5648d1916c7a2275f577f3({\"jobId\": 2, \"name\": \"sum at <ipython-input-1-58c4354088ce>:95\", \"submissionTime\": \"2017-05-01T01:43:58.985GMT\", \"stageIds\": [2], \"status\": \"RUNNING\", \"numTasks\": 50, \"numActiveTasks\": 1, \"numCompletedTasks\": 32, \"numSkippedTasks\": 0, \"numFailedTasks\": 0, \"numActiveStages\": 1, \"numCompletedStages\": 0, \"numSkippedStages\": 0, \"numFailedStages\": 0})"
      ]
     },
     "metadata": {},
     "output_type": "display_data"
    },
    {
     "data": {
      "application/javascript": [
       "refreshJobProgress_4953d4605d5648d1916c7a2275f577f3({\"jobId\": 2, \"name\": \"sum at <ipython-input-1-58c4354088ce>:95\", \"submissionTime\": \"2017-05-01T01:43:58.985GMT\", \"stageIds\": [2], \"status\": \"RUNNING\", \"numTasks\": 50, \"numActiveTasks\": 1, \"numCompletedTasks\": 32, \"numSkippedTasks\": 0, \"numFailedTasks\": 0, \"numActiveStages\": 1, \"numCompletedStages\": 0, \"numSkippedStages\": 0, \"numFailedStages\": 0})"
      ]
     },
     "metadata": {},
     "output_type": "display_data"
    },
    {
     "data": {
      "application/javascript": [
       "refreshJobProgress_4953d4605d5648d1916c7a2275f577f3({\"jobId\": 2, \"name\": \"sum at <ipython-input-1-58c4354088ce>:95\", \"submissionTime\": \"2017-05-01T01:43:58.985GMT\", \"stageIds\": [2], \"status\": \"RUNNING\", \"numTasks\": 50, \"numActiveTasks\": 1, \"numCompletedTasks\": 33, \"numSkippedTasks\": 0, \"numFailedTasks\": 0, \"numActiveStages\": 1, \"numCompletedStages\": 0, \"numSkippedStages\": 0, \"numFailedStages\": 0})"
      ]
     },
     "metadata": {},
     "output_type": "display_data"
    },
    {
     "data": {
      "application/javascript": [
       "refreshJobProgress_4953d4605d5648d1916c7a2275f577f3({\"jobId\": 2, \"name\": \"sum at <ipython-input-1-58c4354088ce>:95\", \"submissionTime\": \"2017-05-01T01:43:58.985GMT\", \"stageIds\": [2], \"status\": \"RUNNING\", \"numTasks\": 50, \"numActiveTasks\": 1, \"numCompletedTasks\": 33, \"numSkippedTasks\": 0, \"numFailedTasks\": 0, \"numActiveStages\": 1, \"numCompletedStages\": 0, \"numSkippedStages\": 0, \"numFailedStages\": 0})"
      ]
     },
     "metadata": {},
     "output_type": "display_data"
    },
    {
     "data": {
      "application/javascript": [
       "refreshJobProgress_4953d4605d5648d1916c7a2275f577f3({\"jobId\": 2, \"name\": \"sum at <ipython-input-1-58c4354088ce>:95\", \"submissionTime\": \"2017-05-01T01:43:58.985GMT\", \"stageIds\": [2], \"status\": \"RUNNING\", \"numTasks\": 50, \"numActiveTasks\": 1, \"numCompletedTasks\": 34, \"numSkippedTasks\": 0, \"numFailedTasks\": 0, \"numActiveStages\": 1, \"numCompletedStages\": 0, \"numSkippedStages\": 0, \"numFailedStages\": 0})"
      ]
     },
     "metadata": {},
     "output_type": "display_data"
    },
    {
     "data": {
      "application/javascript": [
       "refreshJobProgress_4953d4605d5648d1916c7a2275f577f3({\"jobId\": 2, \"name\": \"sum at <ipython-input-1-58c4354088ce>:95\", \"submissionTime\": \"2017-05-01T01:43:58.985GMT\", \"stageIds\": [2], \"status\": \"RUNNING\", \"numTasks\": 50, \"numActiveTasks\": 1, \"numCompletedTasks\": 34, \"numSkippedTasks\": 0, \"numFailedTasks\": 0, \"numActiveStages\": 1, \"numCompletedStages\": 0, \"numSkippedStages\": 0, \"numFailedStages\": 0})"
      ]
     },
     "metadata": {},
     "output_type": "display_data"
    },
    {
     "data": {
      "application/javascript": [
       "refreshJobProgress_4953d4605d5648d1916c7a2275f577f3({\"jobId\": 2, \"name\": \"sum at <ipython-input-1-58c4354088ce>:95\", \"submissionTime\": \"2017-05-01T01:43:58.985GMT\", \"stageIds\": [2], \"status\": \"RUNNING\", \"numTasks\": 50, \"numActiveTasks\": 1, \"numCompletedTasks\": 34, \"numSkippedTasks\": 0, \"numFailedTasks\": 0, \"numActiveStages\": 1, \"numCompletedStages\": 0, \"numSkippedStages\": 0, \"numFailedStages\": 0})"
      ]
     },
     "metadata": {},
     "output_type": "display_data"
    },
    {
     "data": {
      "application/javascript": [
       "refreshJobProgress_4953d4605d5648d1916c7a2275f577f3({\"jobId\": 2, \"name\": \"sum at <ipython-input-1-58c4354088ce>:95\", \"submissionTime\": \"2017-05-01T01:43:58.985GMT\", \"stageIds\": [2], \"status\": \"RUNNING\", \"numTasks\": 50, \"numActiveTasks\": 1, \"numCompletedTasks\": 34, \"numSkippedTasks\": 0, \"numFailedTasks\": 0, \"numActiveStages\": 1, \"numCompletedStages\": 0, \"numSkippedStages\": 0, \"numFailedStages\": 0})"
      ]
     },
     "metadata": {},
     "output_type": "display_data"
    },
    {
     "data": {
      "application/javascript": [
       "refreshJobProgress_4953d4605d5648d1916c7a2275f577f3({\"jobId\": 2, \"name\": \"sum at <ipython-input-1-58c4354088ce>:95\", \"submissionTime\": \"2017-05-01T01:43:58.985GMT\", \"stageIds\": [2], \"status\": \"RUNNING\", \"numTasks\": 50, \"numActiveTasks\": 2, \"numCompletedTasks\": 34, \"numSkippedTasks\": 0, \"numFailedTasks\": 0, \"numActiveStages\": 1, \"numCompletedStages\": 0, \"numSkippedStages\": 0, \"numFailedStages\": 0})"
      ]
     },
     "metadata": {},
     "output_type": "display_data"
    },
    {
     "data": {
      "application/javascript": [
       "refreshJobProgress_4953d4605d5648d1916c7a2275f577f3({\"jobId\": 2, \"name\": \"sum at <ipython-input-1-58c4354088ce>:95\", \"submissionTime\": \"2017-05-01T01:43:58.985GMT\", \"stageIds\": [2], \"status\": \"RUNNING\", \"numTasks\": 50, \"numActiveTasks\": 1, \"numCompletedTasks\": 35, \"numSkippedTasks\": 0, \"numFailedTasks\": 0, \"numActiveStages\": 1, \"numCompletedStages\": 0, \"numSkippedStages\": 0, \"numFailedStages\": 0})"
      ]
     },
     "metadata": {},
     "output_type": "display_data"
    },
    {
     "data": {
      "application/javascript": [
       "refreshJobProgress_4953d4605d5648d1916c7a2275f577f3({\"jobId\": 2, \"name\": \"sum at <ipython-input-1-58c4354088ce>:95\", \"submissionTime\": \"2017-05-01T01:43:58.985GMT\", \"stageIds\": [2], \"status\": \"RUNNING\", \"numTasks\": 50, \"numActiveTasks\": 1, \"numCompletedTasks\": 35, \"numSkippedTasks\": 0, \"numFailedTasks\": 0, \"numActiveStages\": 1, \"numCompletedStages\": 0, \"numSkippedStages\": 0, \"numFailedStages\": 0})"
      ]
     },
     "metadata": {},
     "output_type": "display_data"
    },
    {
     "data": {
      "application/javascript": [
       "refreshJobProgress_4953d4605d5648d1916c7a2275f577f3({\"jobId\": 2, \"name\": \"sum at <ipython-input-1-58c4354088ce>:95\", \"submissionTime\": \"2017-05-01T01:43:58.985GMT\", \"stageIds\": [2], \"status\": \"RUNNING\", \"numTasks\": 50, \"numActiveTasks\": 1, \"numCompletedTasks\": 35, \"numSkippedTasks\": 0, \"numFailedTasks\": 0, \"numActiveStages\": 1, \"numCompletedStages\": 0, \"numSkippedStages\": 0, \"numFailedStages\": 0})"
      ]
     },
     "metadata": {},
     "output_type": "display_data"
    },
    {
     "data": {
      "application/javascript": [
       "refreshJobProgress_4953d4605d5648d1916c7a2275f577f3({\"jobId\": 2, \"name\": \"sum at <ipython-input-1-58c4354088ce>:95\", \"submissionTime\": \"2017-05-01T01:43:58.985GMT\", \"stageIds\": [2], \"status\": \"RUNNING\", \"numTasks\": 50, \"numActiveTasks\": 1, \"numCompletedTasks\": 35, \"numSkippedTasks\": 0, \"numFailedTasks\": 0, \"numActiveStages\": 1, \"numCompletedStages\": 0, \"numSkippedStages\": 0, \"numFailedStages\": 0})"
      ]
     },
     "metadata": {},
     "output_type": "display_data"
    },
    {
     "data": {
      "application/javascript": [
       "refreshJobProgress_4953d4605d5648d1916c7a2275f577f3({\"jobId\": 2, \"name\": \"sum at <ipython-input-1-58c4354088ce>:95\", \"submissionTime\": \"2017-05-01T01:43:58.985GMT\", \"stageIds\": [2], \"status\": \"RUNNING\", \"numTasks\": 50, \"numActiveTasks\": 1, \"numCompletedTasks\": 35, \"numSkippedTasks\": 0, \"numFailedTasks\": 0, \"numActiveStages\": 1, \"numCompletedStages\": 0, \"numSkippedStages\": 0, \"numFailedStages\": 0})"
      ]
     },
     "metadata": {},
     "output_type": "display_data"
    },
    {
     "data": {
      "application/javascript": [
       "refreshJobProgress_4953d4605d5648d1916c7a2275f577f3({\"jobId\": 2, \"name\": \"sum at <ipython-input-1-58c4354088ce>:95\", \"submissionTime\": \"2017-05-01T01:43:58.985GMT\", \"stageIds\": [2], \"status\": \"RUNNING\", \"numTasks\": 50, \"numActiveTasks\": 1, \"numCompletedTasks\": 36, \"numSkippedTasks\": 0, \"numFailedTasks\": 0, \"numActiveStages\": 1, \"numCompletedStages\": 0, \"numSkippedStages\": 0, \"numFailedStages\": 0})"
      ]
     },
     "metadata": {},
     "output_type": "display_data"
    },
    {
     "data": {
      "application/javascript": [
       "refreshJobProgress_4953d4605d5648d1916c7a2275f577f3({\"jobId\": 2, \"name\": \"sum at <ipython-input-1-58c4354088ce>:95\", \"submissionTime\": \"2017-05-01T01:43:58.985GMT\", \"stageIds\": [2], \"status\": \"RUNNING\", \"numTasks\": 50, \"numActiveTasks\": 1, \"numCompletedTasks\": 36, \"numSkippedTasks\": 0, \"numFailedTasks\": 0, \"numActiveStages\": 1, \"numCompletedStages\": 0, \"numSkippedStages\": 0, \"numFailedStages\": 0})"
      ]
     },
     "metadata": {},
     "output_type": "display_data"
    },
    {
     "data": {
      "application/javascript": [
       "refreshJobProgress_4953d4605d5648d1916c7a2275f577f3({\"jobId\": 2, \"name\": \"sum at <ipython-input-1-58c4354088ce>:95\", \"submissionTime\": \"2017-05-01T01:43:58.985GMT\", \"stageIds\": [2], \"status\": \"RUNNING\", \"numTasks\": 50, \"numActiveTasks\": 1, \"numCompletedTasks\": 36, \"numSkippedTasks\": 0, \"numFailedTasks\": 0, \"numActiveStages\": 1, \"numCompletedStages\": 0, \"numSkippedStages\": 0, \"numFailedStages\": 0})"
      ]
     },
     "metadata": {},
     "output_type": "display_data"
    },
    {
     "data": {
      "application/javascript": [
       "refreshJobProgress_4953d4605d5648d1916c7a2275f577f3({\"jobId\": 2, \"name\": \"sum at <ipython-input-1-58c4354088ce>:95\", \"submissionTime\": \"2017-05-01T01:43:58.985GMT\", \"stageIds\": [2], \"status\": \"RUNNING\", \"numTasks\": 50, \"numActiveTasks\": 1, \"numCompletedTasks\": 36, \"numSkippedTasks\": 0, \"numFailedTasks\": 0, \"numActiveStages\": 1, \"numCompletedStages\": 0, \"numSkippedStages\": 0, \"numFailedStages\": 0})"
      ]
     },
     "metadata": {},
     "output_type": "display_data"
    },
    {
     "data": {
      "application/javascript": [
       "refreshJobProgress_4953d4605d5648d1916c7a2275f577f3({\"jobId\": 2, \"name\": \"sum at <ipython-input-1-58c4354088ce>:95\", \"submissionTime\": \"2017-05-01T01:43:58.985GMT\", \"stageIds\": [2], \"status\": \"RUNNING\", \"numTasks\": 50, \"numActiveTasks\": 1, \"numCompletedTasks\": 37, \"numSkippedTasks\": 0, \"numFailedTasks\": 0, \"numActiveStages\": 1, \"numCompletedStages\": 0, \"numSkippedStages\": 0, \"numFailedStages\": 0})"
      ]
     },
     "metadata": {},
     "output_type": "display_data"
    },
    {
     "data": {
      "application/javascript": [
       "refreshJobProgress_4953d4605d5648d1916c7a2275f577f3({\"jobId\": 2, \"name\": \"sum at <ipython-input-1-58c4354088ce>:95\", \"submissionTime\": \"2017-05-01T01:43:58.985GMT\", \"stageIds\": [2], \"status\": \"RUNNING\", \"numTasks\": 50, \"numActiveTasks\": 1, \"numCompletedTasks\": 37, \"numSkippedTasks\": 0, \"numFailedTasks\": 0, \"numActiveStages\": 1, \"numCompletedStages\": 0, \"numSkippedStages\": 0, \"numFailedStages\": 0})"
      ]
     },
     "metadata": {},
     "output_type": "display_data"
    },
    {
     "data": {
      "application/javascript": [
       "refreshJobProgress_4953d4605d5648d1916c7a2275f577f3({\"jobId\": 2, \"name\": \"sum at <ipython-input-1-58c4354088ce>:95\", \"submissionTime\": \"2017-05-01T01:43:58.985GMT\", \"stageIds\": [2], \"status\": \"RUNNING\", \"numTasks\": 50, \"numActiveTasks\": 1, \"numCompletedTasks\": 37, \"numSkippedTasks\": 0, \"numFailedTasks\": 0, \"numActiveStages\": 1, \"numCompletedStages\": 0, \"numSkippedStages\": 0, \"numFailedStages\": 0})"
      ]
     },
     "metadata": {},
     "output_type": "display_data"
    },
    {
     "data": {
      "application/javascript": [
       "refreshJobProgress_4953d4605d5648d1916c7a2275f577f3({\"jobId\": 2, \"name\": \"sum at <ipython-input-1-58c4354088ce>:95\", \"submissionTime\": \"2017-05-01T01:43:58.985GMT\", \"stageIds\": [2], \"status\": \"RUNNING\", \"numTasks\": 50, \"numActiveTasks\": 1, \"numCompletedTasks\": 37, \"numSkippedTasks\": 0, \"numFailedTasks\": 0, \"numActiveStages\": 1, \"numCompletedStages\": 0, \"numSkippedStages\": 0, \"numFailedStages\": 0})"
      ]
     },
     "metadata": {},
     "output_type": "display_data"
    },
    {
     "data": {
      "application/javascript": [
       "refreshJobProgress_4953d4605d5648d1916c7a2275f577f3({\"jobId\": 2, \"name\": \"sum at <ipython-input-1-58c4354088ce>:95\", \"submissionTime\": \"2017-05-01T01:43:58.985GMT\", \"stageIds\": [2], \"status\": \"RUNNING\", \"numTasks\": 50, \"numActiveTasks\": 1, \"numCompletedTasks\": 38, \"numSkippedTasks\": 0, \"numFailedTasks\": 0, \"numActiveStages\": 1, \"numCompletedStages\": 0, \"numSkippedStages\": 0, \"numFailedStages\": 0})"
      ]
     },
     "metadata": {},
     "output_type": "display_data"
    },
    {
     "data": {
      "application/javascript": [
       "refreshJobProgress_4953d4605d5648d1916c7a2275f577f3({\"jobId\": 2, \"name\": \"sum at <ipython-input-1-58c4354088ce>:95\", \"submissionTime\": \"2017-05-01T01:43:58.985GMT\", \"stageIds\": [2], \"status\": \"RUNNING\", \"numTasks\": 50, \"numActiveTasks\": 1, \"numCompletedTasks\": 38, \"numSkippedTasks\": 0, \"numFailedTasks\": 0, \"numActiveStages\": 1, \"numCompletedStages\": 0, \"numSkippedStages\": 0, \"numFailedStages\": 0})"
      ]
     },
     "metadata": {},
     "output_type": "display_data"
    },
    {
     "data": {
      "application/javascript": [
       "refreshJobProgress_4953d4605d5648d1916c7a2275f577f3({\"jobId\": 2, \"name\": \"sum at <ipython-input-1-58c4354088ce>:95\", \"submissionTime\": \"2017-05-01T01:43:58.985GMT\", \"stageIds\": [2], \"status\": \"RUNNING\", \"numTasks\": 50, \"numActiveTasks\": 1, \"numCompletedTasks\": 38, \"numSkippedTasks\": 0, \"numFailedTasks\": 0, \"numActiveStages\": 1, \"numCompletedStages\": 0, \"numSkippedStages\": 0, \"numFailedStages\": 0})"
      ]
     },
     "metadata": {},
     "output_type": "display_data"
    },
    {
     "data": {
      "application/javascript": [
       "refreshJobProgress_4953d4605d5648d1916c7a2275f577f3({\"jobId\": 2, \"name\": \"sum at <ipython-input-1-58c4354088ce>:95\", \"submissionTime\": \"2017-05-01T01:43:58.985GMT\", \"stageIds\": [2], \"status\": \"RUNNING\", \"numTasks\": 50, \"numActiveTasks\": 1, \"numCompletedTasks\": 39, \"numSkippedTasks\": 0, \"numFailedTasks\": 0, \"numActiveStages\": 1, \"numCompletedStages\": 0, \"numSkippedStages\": 0, \"numFailedStages\": 0})"
      ]
     },
     "metadata": {},
     "output_type": "display_data"
    },
    {
     "data": {
      "application/javascript": [
       "refreshJobProgress_4953d4605d5648d1916c7a2275f577f3({\"jobId\": 2, \"name\": \"sum at <ipython-input-1-58c4354088ce>:95\", \"submissionTime\": \"2017-05-01T01:43:58.985GMT\", \"stageIds\": [2], \"status\": \"RUNNING\", \"numTasks\": 50, \"numActiveTasks\": 1, \"numCompletedTasks\": 39, \"numSkippedTasks\": 0, \"numFailedTasks\": 0, \"numActiveStages\": 1, \"numCompletedStages\": 0, \"numSkippedStages\": 0, \"numFailedStages\": 0})"
      ]
     },
     "metadata": {},
     "output_type": "display_data"
    },
    {
     "data": {
      "application/javascript": [
       "refreshJobProgress_4953d4605d5648d1916c7a2275f577f3({\"jobId\": 2, \"name\": \"sum at <ipython-input-1-58c4354088ce>:95\", \"submissionTime\": \"2017-05-01T01:43:58.985GMT\", \"stageIds\": [2], \"status\": \"RUNNING\", \"numTasks\": 50, \"numActiveTasks\": 1, \"numCompletedTasks\": 39, \"numSkippedTasks\": 0, \"numFailedTasks\": 0, \"numActiveStages\": 1, \"numCompletedStages\": 0, \"numSkippedStages\": 0, \"numFailedStages\": 0})"
      ]
     },
     "metadata": {},
     "output_type": "display_data"
    },
    {
     "data": {
      "application/javascript": [
       "refreshJobProgress_4953d4605d5648d1916c7a2275f577f3({\"jobId\": 2, \"name\": \"sum at <ipython-input-1-58c4354088ce>:95\", \"submissionTime\": \"2017-05-01T01:43:58.985GMT\", \"stageIds\": [2], \"status\": \"RUNNING\", \"numTasks\": 50, \"numActiveTasks\": 1, \"numCompletedTasks\": 39, \"numSkippedTasks\": 0, \"numFailedTasks\": 0, \"numActiveStages\": 1, \"numCompletedStages\": 0, \"numSkippedStages\": 0, \"numFailedStages\": 0})"
      ]
     },
     "metadata": {},
     "output_type": "display_data"
    },
    {
     "data": {
      "application/javascript": [
       "refreshJobProgress_4953d4605d5648d1916c7a2275f577f3({\"jobId\": 2, \"name\": \"sum at <ipython-input-1-58c4354088ce>:95\", \"submissionTime\": \"2017-05-01T01:43:58.985GMT\", \"stageIds\": [2], \"status\": \"RUNNING\", \"numTasks\": 50, \"numActiveTasks\": 1, \"numCompletedTasks\": 40, \"numSkippedTasks\": 0, \"numFailedTasks\": 0, \"numActiveStages\": 1, \"numCompletedStages\": 0, \"numSkippedStages\": 0, \"numFailedStages\": 0})"
      ]
     },
     "metadata": {},
     "output_type": "display_data"
    },
    {
     "data": {
      "application/javascript": [
       "refreshJobProgress_4953d4605d5648d1916c7a2275f577f3({\"jobId\": 2, \"name\": \"sum at <ipython-input-1-58c4354088ce>:95\", \"submissionTime\": \"2017-05-01T01:43:58.985GMT\", \"stageIds\": [2], \"status\": \"RUNNING\", \"numTasks\": 50, \"numActiveTasks\": 1, \"numCompletedTasks\": 40, \"numSkippedTasks\": 0, \"numFailedTasks\": 0, \"numActiveStages\": 1, \"numCompletedStages\": 0, \"numSkippedStages\": 0, \"numFailedStages\": 0})"
      ]
     },
     "metadata": {},
     "output_type": "display_data"
    },
    {
     "data": {
      "application/javascript": [
       "refreshJobProgress_4953d4605d5648d1916c7a2275f577f3({\"jobId\": 2, \"name\": \"sum at <ipython-input-1-58c4354088ce>:95\", \"submissionTime\": \"2017-05-01T01:43:58.985GMT\", \"stageIds\": [2], \"status\": \"RUNNING\", \"numTasks\": 50, \"numActiveTasks\": 1, \"numCompletedTasks\": 40, \"numSkippedTasks\": 0, \"numFailedTasks\": 0, \"numActiveStages\": 1, \"numCompletedStages\": 0, \"numSkippedStages\": 0, \"numFailedStages\": 0})"
      ]
     },
     "metadata": {},
     "output_type": "display_data"
    },
    {
     "data": {
      "application/javascript": [
       "refreshJobProgress_4953d4605d5648d1916c7a2275f577f3({\"jobId\": 2, \"name\": \"sum at <ipython-input-1-58c4354088ce>:95\", \"submissionTime\": \"2017-05-01T01:43:58.985GMT\", \"stageIds\": [2], \"status\": \"RUNNING\", \"numTasks\": 50, \"numActiveTasks\": 1, \"numCompletedTasks\": 40, \"numSkippedTasks\": 0, \"numFailedTasks\": 0, \"numActiveStages\": 1, \"numCompletedStages\": 0, \"numSkippedStages\": 0, \"numFailedStages\": 0})"
      ]
     },
     "metadata": {},
     "output_type": "display_data"
    },
    {
     "data": {
      "application/javascript": [
       "refreshJobProgress_4953d4605d5648d1916c7a2275f577f3({\"jobId\": 2, \"name\": \"sum at <ipython-input-1-58c4354088ce>:95\", \"submissionTime\": \"2017-05-01T01:43:58.985GMT\", \"stageIds\": [2], \"status\": \"RUNNING\", \"numTasks\": 50, \"numActiveTasks\": 1, \"numCompletedTasks\": 40, \"numSkippedTasks\": 0, \"numFailedTasks\": 0, \"numActiveStages\": 1, \"numCompletedStages\": 0, \"numSkippedStages\": 0, \"numFailedStages\": 0})"
      ]
     },
     "metadata": {},
     "output_type": "display_data"
    },
    {
     "data": {
      "application/javascript": [
       "refreshJobProgress_4953d4605d5648d1916c7a2275f577f3({\"jobId\": 2, \"name\": \"sum at <ipython-input-1-58c4354088ce>:95\", \"submissionTime\": \"2017-05-01T01:43:58.985GMT\", \"stageIds\": [2], \"status\": \"RUNNING\", \"numTasks\": 50, \"numActiveTasks\": 1, \"numCompletedTasks\": 41, \"numSkippedTasks\": 0, \"numFailedTasks\": 0, \"numActiveStages\": 1, \"numCompletedStages\": 0, \"numSkippedStages\": 0, \"numFailedStages\": 0})"
      ]
     },
     "metadata": {},
     "output_type": "display_data"
    },
    {
     "data": {
      "application/javascript": [
       "refreshJobProgress_4953d4605d5648d1916c7a2275f577f3({\"jobId\": 2, \"name\": \"sum at <ipython-input-1-58c4354088ce>:95\", \"submissionTime\": \"2017-05-01T01:43:58.985GMT\", \"stageIds\": [2], \"status\": \"RUNNING\", \"numTasks\": 50, \"numActiveTasks\": 1, \"numCompletedTasks\": 41, \"numSkippedTasks\": 0, \"numFailedTasks\": 0, \"numActiveStages\": 1, \"numCompletedStages\": 0, \"numSkippedStages\": 0, \"numFailedStages\": 0})"
      ]
     },
     "metadata": {},
     "output_type": "display_data"
    },
    {
     "data": {
      "application/javascript": [
       "refreshJobProgress_4953d4605d5648d1916c7a2275f577f3({\"jobId\": 2, \"name\": \"sum at <ipython-input-1-58c4354088ce>:95\", \"submissionTime\": \"2017-05-01T01:43:58.985GMT\", \"stageIds\": [2], \"status\": \"RUNNING\", \"numTasks\": 50, \"numActiveTasks\": 1, \"numCompletedTasks\": 41, \"numSkippedTasks\": 0, \"numFailedTasks\": 0, \"numActiveStages\": 1, \"numCompletedStages\": 0, \"numSkippedStages\": 0, \"numFailedStages\": 0})"
      ]
     },
     "metadata": {},
     "output_type": "display_data"
    },
    {
     "data": {
      "application/javascript": [
       "refreshJobProgress_4953d4605d5648d1916c7a2275f577f3({\"jobId\": 2, \"name\": \"sum at <ipython-input-1-58c4354088ce>:95\", \"submissionTime\": \"2017-05-01T01:43:58.985GMT\", \"stageIds\": [2], \"status\": \"RUNNING\", \"numTasks\": 50, \"numActiveTasks\": 1, \"numCompletedTasks\": 41, \"numSkippedTasks\": 0, \"numFailedTasks\": 0, \"numActiveStages\": 1, \"numCompletedStages\": 0, \"numSkippedStages\": 0, \"numFailedStages\": 0})"
      ]
     },
     "metadata": {},
     "output_type": "display_data"
    },
    {
     "data": {
      "application/javascript": [
       "refreshJobProgress_4953d4605d5648d1916c7a2275f577f3({\"jobId\": 2, \"name\": \"sum at <ipython-input-1-58c4354088ce>:95\", \"submissionTime\": \"2017-05-01T01:43:58.985GMT\", \"stageIds\": [2], \"status\": \"RUNNING\", \"numTasks\": 50, \"numActiveTasks\": 1, \"numCompletedTasks\": 42, \"numSkippedTasks\": 0, \"numFailedTasks\": 0, \"numActiveStages\": 1, \"numCompletedStages\": 0, \"numSkippedStages\": 0, \"numFailedStages\": 0})"
      ]
     },
     "metadata": {},
     "output_type": "display_data"
    },
    {
     "data": {
      "application/javascript": [
       "refreshJobProgress_4953d4605d5648d1916c7a2275f577f3({\"jobId\": 2, \"name\": \"sum at <ipython-input-1-58c4354088ce>:95\", \"submissionTime\": \"2017-05-01T01:43:58.985GMT\", \"stageIds\": [2], \"status\": \"RUNNING\", \"numTasks\": 50, \"numActiveTasks\": 1, \"numCompletedTasks\": 42, \"numSkippedTasks\": 0, \"numFailedTasks\": 0, \"numActiveStages\": 1, \"numCompletedStages\": 0, \"numSkippedStages\": 0, \"numFailedStages\": 0})"
      ]
     },
     "metadata": {},
     "output_type": "display_data"
    },
    {
     "data": {
      "application/javascript": [
       "refreshJobProgress_4953d4605d5648d1916c7a2275f577f3({\"jobId\": 2, \"name\": \"sum at <ipython-input-1-58c4354088ce>:95\", \"submissionTime\": \"2017-05-01T01:43:58.985GMT\", \"stageIds\": [2], \"status\": \"RUNNING\", \"numTasks\": 50, \"numActiveTasks\": 1, \"numCompletedTasks\": 42, \"numSkippedTasks\": 0, \"numFailedTasks\": 0, \"numActiveStages\": 1, \"numCompletedStages\": 0, \"numSkippedStages\": 0, \"numFailedStages\": 0})"
      ]
     },
     "metadata": {},
     "output_type": "display_data"
    },
    {
     "data": {
      "application/javascript": [
       "refreshJobProgress_4953d4605d5648d1916c7a2275f577f3({\"jobId\": 2, \"name\": \"sum at <ipython-input-1-58c4354088ce>:95\", \"submissionTime\": \"2017-05-01T01:43:58.985GMT\", \"stageIds\": [2], \"status\": \"RUNNING\", \"numTasks\": 50, \"numActiveTasks\": 1, \"numCompletedTasks\": 42, \"numSkippedTasks\": 0, \"numFailedTasks\": 0, \"numActiveStages\": 1, \"numCompletedStages\": 0, \"numSkippedStages\": 0, \"numFailedStages\": 0})"
      ]
     },
     "metadata": {},
     "output_type": "display_data"
    },
    {
     "data": {
      "application/javascript": [
       "refreshJobProgress_4953d4605d5648d1916c7a2275f577f3({\"jobId\": 2, \"name\": \"sum at <ipython-input-1-58c4354088ce>:95\", \"submissionTime\": \"2017-05-01T01:43:58.985GMT\", \"stageIds\": [2], \"status\": \"RUNNING\", \"numTasks\": 50, \"numActiveTasks\": 1, \"numCompletedTasks\": 43, \"numSkippedTasks\": 0, \"numFailedTasks\": 0, \"numActiveStages\": 1, \"numCompletedStages\": 0, \"numSkippedStages\": 0, \"numFailedStages\": 0})"
      ]
     },
     "metadata": {},
     "output_type": "display_data"
    },
    {
     "data": {
      "application/javascript": [
       "refreshJobProgress_4953d4605d5648d1916c7a2275f577f3({\"jobId\": 2, \"name\": \"sum at <ipython-input-1-58c4354088ce>:95\", \"submissionTime\": \"2017-05-01T01:43:58.985GMT\", \"stageIds\": [2], \"status\": \"RUNNING\", \"numTasks\": 50, \"numActiveTasks\": 1, \"numCompletedTasks\": 43, \"numSkippedTasks\": 0, \"numFailedTasks\": 0, \"numActiveStages\": 1, \"numCompletedStages\": 0, \"numSkippedStages\": 0, \"numFailedStages\": 0})"
      ]
     },
     "metadata": {},
     "output_type": "display_data"
    },
    {
     "data": {
      "application/javascript": [
       "refreshJobProgress_4953d4605d5648d1916c7a2275f577f3({\"jobId\": 2, \"name\": \"sum at <ipython-input-1-58c4354088ce>:95\", \"submissionTime\": \"2017-05-01T01:43:58.985GMT\", \"stageIds\": [2], \"status\": \"RUNNING\", \"numTasks\": 50, \"numActiveTasks\": 1, \"numCompletedTasks\": 43, \"numSkippedTasks\": 0, \"numFailedTasks\": 0, \"numActiveStages\": 1, \"numCompletedStages\": 0, \"numSkippedStages\": 0, \"numFailedStages\": 0})"
      ]
     },
     "metadata": {},
     "output_type": "display_data"
    },
    {
     "data": {
      "application/javascript": [
       "refreshJobProgress_4953d4605d5648d1916c7a2275f577f3({\"jobId\": 2, \"name\": \"sum at <ipython-input-1-58c4354088ce>:95\", \"submissionTime\": \"2017-05-01T01:43:58.985GMT\", \"stageIds\": [2], \"status\": \"RUNNING\", \"numTasks\": 50, \"numActiveTasks\": 1, \"numCompletedTasks\": 43, \"numSkippedTasks\": 0, \"numFailedTasks\": 0, \"numActiveStages\": 1, \"numCompletedStages\": 0, \"numSkippedStages\": 0, \"numFailedStages\": 0})"
      ]
     },
     "metadata": {},
     "output_type": "display_data"
    },
    {
     "data": {
      "application/javascript": [
       "refreshJobProgress_4953d4605d5648d1916c7a2275f577f3({\"jobId\": 2, \"name\": \"sum at <ipython-input-1-58c4354088ce>:95\", \"submissionTime\": \"2017-05-01T01:43:58.985GMT\", \"stageIds\": [2], \"status\": \"RUNNING\", \"numTasks\": 50, \"numActiveTasks\": 1, \"numCompletedTasks\": 43, \"numSkippedTasks\": 0, \"numFailedTasks\": 0, \"numActiveStages\": 1, \"numCompletedStages\": 0, \"numSkippedStages\": 0, \"numFailedStages\": 0})"
      ]
     },
     "metadata": {},
     "output_type": "display_data"
    },
    {
     "data": {
      "application/javascript": [
       "refreshJobProgress_4953d4605d5648d1916c7a2275f577f3({\"jobId\": 2, \"name\": \"sum at <ipython-input-1-58c4354088ce>:95\", \"submissionTime\": \"2017-05-01T01:43:58.985GMT\", \"stageIds\": [2], \"status\": \"RUNNING\", \"numTasks\": 50, \"numActiveTasks\": 1, \"numCompletedTasks\": 44, \"numSkippedTasks\": 0, \"numFailedTasks\": 0, \"numActiveStages\": 1, \"numCompletedStages\": 0, \"numSkippedStages\": 0, \"numFailedStages\": 0})"
      ]
     },
     "metadata": {},
     "output_type": "display_data"
    },
    {
     "data": {
      "application/javascript": [
       "refreshJobProgress_4953d4605d5648d1916c7a2275f577f3({\"jobId\": 2, \"name\": \"sum at <ipython-input-1-58c4354088ce>:95\", \"submissionTime\": \"2017-05-01T01:43:58.985GMT\", \"stageIds\": [2], \"status\": \"RUNNING\", \"numTasks\": 50, \"numActiveTasks\": 1, \"numCompletedTasks\": 44, \"numSkippedTasks\": 0, \"numFailedTasks\": 0, \"numActiveStages\": 1, \"numCompletedStages\": 0, \"numSkippedStages\": 0, \"numFailedStages\": 0})"
      ]
     },
     "metadata": {},
     "output_type": "display_data"
    },
    {
     "data": {
      "application/javascript": [
       "refreshJobProgress_4953d4605d5648d1916c7a2275f577f3({\"jobId\": 2, \"name\": \"sum at <ipython-input-1-58c4354088ce>:95\", \"submissionTime\": \"2017-05-01T01:43:58.985GMT\", \"stageIds\": [2], \"status\": \"RUNNING\", \"numTasks\": 50, \"numActiveTasks\": 1, \"numCompletedTasks\": 44, \"numSkippedTasks\": 0, \"numFailedTasks\": 0, \"numActiveStages\": 1, \"numCompletedStages\": 0, \"numSkippedStages\": 0, \"numFailedStages\": 0})"
      ]
     },
     "metadata": {},
     "output_type": "display_data"
    },
    {
     "data": {
      "application/javascript": [
       "refreshJobProgress_4953d4605d5648d1916c7a2275f577f3({\"jobId\": 2, \"name\": \"sum at <ipython-input-1-58c4354088ce>:95\", \"submissionTime\": \"2017-05-01T01:43:58.985GMT\", \"stageIds\": [2], \"status\": \"RUNNING\", \"numTasks\": 50, \"numActiveTasks\": 1, \"numCompletedTasks\": 44, \"numSkippedTasks\": 0, \"numFailedTasks\": 0, \"numActiveStages\": 1, \"numCompletedStages\": 0, \"numSkippedStages\": 0, \"numFailedStages\": 0})"
      ]
     },
     "metadata": {},
     "output_type": "display_data"
    },
    {
     "data": {
      "application/javascript": [
       "refreshJobProgress_4953d4605d5648d1916c7a2275f577f3({\"jobId\": 2, \"name\": \"sum at <ipython-input-1-58c4354088ce>:95\", \"submissionTime\": \"2017-05-01T01:43:58.985GMT\", \"stageIds\": [2], \"status\": \"RUNNING\", \"numTasks\": 50, \"numActiveTasks\": 1, \"numCompletedTasks\": 45, \"numSkippedTasks\": 0, \"numFailedTasks\": 0, \"numActiveStages\": 1, \"numCompletedStages\": 0, \"numSkippedStages\": 0, \"numFailedStages\": 0})"
      ]
     },
     "metadata": {},
     "output_type": "display_data"
    },
    {
     "data": {
      "application/javascript": [
       "refreshJobProgress_4953d4605d5648d1916c7a2275f577f3({\"jobId\": 2, \"name\": \"sum at <ipython-input-1-58c4354088ce>:95\", \"submissionTime\": \"2017-05-01T01:43:58.985GMT\", \"stageIds\": [2], \"status\": \"RUNNING\", \"numTasks\": 50, \"numActiveTasks\": 1, \"numCompletedTasks\": 45, \"numSkippedTasks\": 0, \"numFailedTasks\": 0, \"numActiveStages\": 1, \"numCompletedStages\": 0, \"numSkippedStages\": 0, \"numFailedStages\": 0})"
      ]
     },
     "metadata": {},
     "output_type": "display_data"
    },
    {
     "data": {
      "application/javascript": [
       "refreshJobProgress_4953d4605d5648d1916c7a2275f577f3({\"jobId\": 2, \"name\": \"sum at <ipython-input-1-58c4354088ce>:95\", \"submissionTime\": \"2017-05-01T01:43:58.985GMT\", \"stageIds\": [2], \"status\": \"RUNNING\", \"numTasks\": 50, \"numActiveTasks\": 1, \"numCompletedTasks\": 45, \"numSkippedTasks\": 0, \"numFailedTasks\": 0, \"numActiveStages\": 1, \"numCompletedStages\": 0, \"numSkippedStages\": 0, \"numFailedStages\": 0})"
      ]
     },
     "metadata": {},
     "output_type": "display_data"
    },
    {
     "data": {
      "application/javascript": [
       "refreshJobProgress_4953d4605d5648d1916c7a2275f577f3({\"jobId\": 2, \"name\": \"sum at <ipython-input-1-58c4354088ce>:95\", \"submissionTime\": \"2017-05-01T01:43:58.985GMT\", \"stageIds\": [2], \"status\": \"RUNNING\", \"numTasks\": 50, \"numActiveTasks\": 1, \"numCompletedTasks\": 45, \"numSkippedTasks\": 0, \"numFailedTasks\": 0, \"numActiveStages\": 1, \"numCompletedStages\": 0, \"numSkippedStages\": 0, \"numFailedStages\": 0})"
      ]
     },
     "metadata": {},
     "output_type": "display_data"
    },
    {
     "data": {
      "application/javascript": [
       "refreshJobProgress_4953d4605d5648d1916c7a2275f577f3({\"jobId\": 2, \"name\": \"sum at <ipython-input-1-58c4354088ce>:95\", \"submissionTime\": \"2017-05-01T01:43:58.985GMT\", \"stageIds\": [2], \"status\": \"RUNNING\", \"numTasks\": 50, \"numActiveTasks\": 1, \"numCompletedTasks\": 46, \"numSkippedTasks\": 0, \"numFailedTasks\": 0, \"numActiveStages\": 1, \"numCompletedStages\": 0, \"numSkippedStages\": 0, \"numFailedStages\": 0})"
      ]
     },
     "metadata": {},
     "output_type": "display_data"
    },
    {
     "data": {
      "application/javascript": [
       "refreshJobProgress_4953d4605d5648d1916c7a2275f577f3({\"jobId\": 2, \"name\": \"sum at <ipython-input-1-58c4354088ce>:95\", \"submissionTime\": \"2017-05-01T01:43:58.985GMT\", \"stageIds\": [2], \"status\": \"RUNNING\", \"numTasks\": 50, \"numActiveTasks\": 1, \"numCompletedTasks\": 46, \"numSkippedTasks\": 0, \"numFailedTasks\": 0, \"numActiveStages\": 1, \"numCompletedStages\": 0, \"numSkippedStages\": 0, \"numFailedStages\": 0})"
      ]
     },
     "metadata": {},
     "output_type": "display_data"
    },
    {
     "data": {
      "application/javascript": [
       "refreshJobProgress_4953d4605d5648d1916c7a2275f577f3({\"jobId\": 2, \"name\": \"sum at <ipython-input-1-58c4354088ce>:95\", \"submissionTime\": \"2017-05-01T01:43:58.985GMT\", \"stageIds\": [2], \"status\": \"RUNNING\", \"numTasks\": 50, \"numActiveTasks\": 1, \"numCompletedTasks\": 46, \"numSkippedTasks\": 0, \"numFailedTasks\": 0, \"numActiveStages\": 1, \"numCompletedStages\": 0, \"numSkippedStages\": 0, \"numFailedStages\": 0})"
      ]
     },
     "metadata": {},
     "output_type": "display_data"
    },
    {
     "data": {
      "application/javascript": [
       "refreshJobProgress_4953d4605d5648d1916c7a2275f577f3({\"jobId\": 2, \"name\": \"sum at <ipython-input-1-58c4354088ce>:95\", \"submissionTime\": \"2017-05-01T01:43:58.985GMT\", \"stageIds\": [2], \"status\": \"RUNNING\", \"numTasks\": 50, \"numActiveTasks\": 1, \"numCompletedTasks\": 46, \"numSkippedTasks\": 0, \"numFailedTasks\": 0, \"numActiveStages\": 1, \"numCompletedStages\": 0, \"numSkippedStages\": 0, \"numFailedStages\": 0})"
      ]
     },
     "metadata": {},
     "output_type": "display_data"
    },
    {
     "data": {
      "application/javascript": [
       "refreshJobProgress_4953d4605d5648d1916c7a2275f577f3({\"jobId\": 2, \"name\": \"sum at <ipython-input-1-58c4354088ce>:95\", \"submissionTime\": \"2017-05-01T01:43:58.985GMT\", \"stageIds\": [2], \"status\": \"RUNNING\", \"numTasks\": 50, \"numActiveTasks\": 1, \"numCompletedTasks\": 47, \"numSkippedTasks\": 0, \"numFailedTasks\": 0, \"numActiveStages\": 1, \"numCompletedStages\": 0, \"numSkippedStages\": 0, \"numFailedStages\": 0})"
      ]
     },
     "metadata": {},
     "output_type": "display_data"
    },
    {
     "data": {
      "application/javascript": [
       "refreshJobProgress_4953d4605d5648d1916c7a2275f577f3({\"jobId\": 2, \"name\": \"sum at <ipython-input-1-58c4354088ce>:95\", \"submissionTime\": \"2017-05-01T01:43:58.985GMT\", \"stageIds\": [2], \"status\": \"RUNNING\", \"numTasks\": 50, \"numActiveTasks\": 1, \"numCompletedTasks\": 47, \"numSkippedTasks\": 0, \"numFailedTasks\": 0, \"numActiveStages\": 1, \"numCompletedStages\": 0, \"numSkippedStages\": 0, \"numFailedStages\": 0})"
      ]
     },
     "metadata": {},
     "output_type": "display_data"
    },
    {
     "data": {
      "application/javascript": [
       "refreshJobProgress_4953d4605d5648d1916c7a2275f577f3({\"jobId\": 2, \"name\": \"sum at <ipython-input-1-58c4354088ce>:95\", \"submissionTime\": \"2017-05-01T01:43:58.985GMT\", \"stageIds\": [2], \"status\": \"RUNNING\", \"numTasks\": 50, \"numActiveTasks\": 1, \"numCompletedTasks\": 47, \"numSkippedTasks\": 0, \"numFailedTasks\": 0, \"numActiveStages\": 1, \"numCompletedStages\": 0, \"numSkippedStages\": 0, \"numFailedStages\": 0})"
      ]
     },
     "metadata": {},
     "output_type": "display_data"
    },
    {
     "data": {
      "application/javascript": [
       "refreshJobProgress_4953d4605d5648d1916c7a2275f577f3({\"jobId\": 2, \"name\": \"sum at <ipython-input-1-58c4354088ce>:95\", \"submissionTime\": \"2017-05-01T01:43:58.985GMT\", \"stageIds\": [2], \"status\": \"RUNNING\", \"numTasks\": 50, \"numActiveTasks\": 1, \"numCompletedTasks\": 48, \"numSkippedTasks\": 0, \"numFailedTasks\": 0, \"numActiveStages\": 1, \"numCompletedStages\": 0, \"numSkippedStages\": 0, \"numFailedStages\": 0})"
      ]
     },
     "metadata": {},
     "output_type": "display_data"
    },
    {
     "data": {
      "application/javascript": [
       "refreshJobProgress_4953d4605d5648d1916c7a2275f577f3({\"jobId\": 2, \"name\": \"sum at <ipython-input-1-58c4354088ce>:95\", \"submissionTime\": \"2017-05-01T01:43:58.985GMT\", \"stageIds\": [2], \"status\": \"RUNNING\", \"numTasks\": 50, \"numActiveTasks\": 1, \"numCompletedTasks\": 48, \"numSkippedTasks\": 0, \"numFailedTasks\": 0, \"numActiveStages\": 1, \"numCompletedStages\": 0, \"numSkippedStages\": 0, \"numFailedStages\": 0})"
      ]
     },
     "metadata": {},
     "output_type": "display_data"
    },
    {
     "data": {
      "application/javascript": [
       "refreshJobProgress_4953d4605d5648d1916c7a2275f577f3({\"jobId\": 2, \"name\": \"sum at <ipython-input-1-58c4354088ce>:95\", \"submissionTime\": \"2017-05-01T01:43:58.985GMT\", \"stageIds\": [2], \"status\": \"RUNNING\", \"numTasks\": 50, \"numActiveTasks\": 1, \"numCompletedTasks\": 48, \"numSkippedTasks\": 0, \"numFailedTasks\": 0, \"numActiveStages\": 1, \"numCompletedStages\": 0, \"numSkippedStages\": 0, \"numFailedStages\": 0})"
      ]
     },
     "metadata": {},
     "output_type": "display_data"
    },
    {
     "data": {
      "application/javascript": [
       "refreshJobProgress_4953d4605d5648d1916c7a2275f577f3({\"jobId\": 2, \"name\": \"sum at <ipython-input-1-58c4354088ce>:95\", \"submissionTime\": \"2017-05-01T01:43:58.985GMT\", \"stageIds\": [2], \"status\": \"RUNNING\", \"numTasks\": 50, \"numActiveTasks\": 1, \"numCompletedTasks\": 48, \"numSkippedTasks\": 0, \"numFailedTasks\": 0, \"numActiveStages\": 1, \"numCompletedStages\": 0, \"numSkippedStages\": 0, \"numFailedStages\": 0})"
      ]
     },
     "metadata": {},
     "output_type": "display_data"
    },
    {
     "data": {
      "application/javascript": [
       "refreshJobProgress_4953d4605d5648d1916c7a2275f577f3({\"jobId\": 2, \"name\": \"sum at <ipython-input-1-58c4354088ce>:95\", \"submissionTime\": \"2017-05-01T01:43:58.985GMT\", \"stageIds\": [2], \"status\": \"RUNNING\", \"numTasks\": 50, \"numActiveTasks\": 1, \"numCompletedTasks\": 49, \"numSkippedTasks\": 0, \"numFailedTasks\": 0, \"numActiveStages\": 1, \"numCompletedStages\": 0, \"numSkippedStages\": 0, \"numFailedStages\": 0})"
      ]
     },
     "metadata": {},
     "output_type": "display_data"
    },
    {
     "data": {
      "application/javascript": [
       "refreshJobProgress_4953d4605d5648d1916c7a2275f577f3({\"jobId\": 2, \"name\": \"sum at <ipython-input-1-58c4354088ce>:95\", \"submissionTime\": \"2017-05-01T01:43:58.985GMT\", \"stageIds\": [2], \"status\": \"RUNNING\", \"numTasks\": 50, \"numActiveTasks\": 1, \"numCompletedTasks\": 49, \"numSkippedTasks\": 0, \"numFailedTasks\": 0, \"numActiveStages\": 1, \"numCompletedStages\": 0, \"numSkippedStages\": 0, \"numFailedStages\": 0})"
      ]
     },
     "metadata": {},
     "output_type": "display_data"
    },
    {
     "data": {
      "application/javascript": [
       "refreshJobProgress_4953d4605d5648d1916c7a2275f577f3({\"jobId\": 2, \"name\": \"sum at <ipython-input-1-58c4354088ce>:95\", \"submissionTime\": \"2017-05-01T01:43:58.985GMT\", \"stageIds\": [2], \"status\": \"RUNNING\", \"numTasks\": 50, \"numActiveTasks\": 0, \"numCompletedTasks\": 50, \"numSkippedTasks\": 0, \"numFailedTasks\": 0, \"numActiveStages\": 1, \"numCompletedStages\": 0, \"numSkippedStages\": 0, \"numFailedStages\": 0})"
      ]
     },
     "metadata": {},
     "output_type": "display_data"
    },
    {
     "data": {
      "text/plain": [
       "50149.459292067149"
      ]
     },
     "execution_count": 4,
     "metadata": {},
     "output_type": "execute_result"
    }
   ],
   "source": [
    "spark_job_3 = SparkNumberSum()\n",
    "data = [(i, random.random(1000)) for i in range(100)]\n",
    "\n",
    "spark_job_3.apply(data, numSlices=50)"
   ]
  },
  {
   "cell_type": "markdown",
   "metadata": {
    "collapsed": true
   },
   "source": [
    "<div style=\"padding: 16px; border: 1px solid #dedede; border-left: 5px solid #1b809e; border-radius: 4px;margin:0;\">\n",
    "<h3 style=\"color:#1b809e; margin: 0; font-weight: normal;\">Histograma de letras</h3>\n",
    "\n",
    "<p>\n",
    "Obtener el histograma de letras de un texto.\n",
    "</p>\n",
    "</div>"
   ]
  },
  {
   "cell_type": "code",
   "execution_count": 5,
   "metadata": {
    "collapsed": true
   },
   "outputs": [],
   "source": [
    "from IPython.display import HTML\n",
    "from IPython.display import Javascript\n",
    "from IPython.display import display_javascript\n",
    "from IPython.display import display_html\n",
    "\n",
    "from urllib import request\n",
    "from time import sleep\n",
    "from uuid import uuid4\n",
    "\n",
    "import threading\n",
    "import json\n",
    "\n",
    "\n",
    "alphabet = [letter for letter in \"abcdefghijklmnopqrstuvwxyz\"]\n",
    "\n",
    "\n",
    "class SparkLetterHistogram(object):\n",
    "    widget = open(\"spark_monitor_widget.html\").read()\n",
    "    plot_widget = open(\"spark_monitor_plot_widget.html\").read()\n",
    "\n",
    "    def __init__(self, ):\n",
    "        self.uuid = uuid4().hex\n",
    "        self.is_widget_displayed = False\n",
    "        self.is_plot_widget_displayed = False\n",
    "        self.rdd = None\n",
    "        self.monitoring = threading.Thread(target=self.monitor)\n",
    "        self.jobID = None\n",
    "        self.appID = None\n",
    "        self.histogram = dict().fromkeys(alphabet, 0)\n",
    "        \n",
    "    def _display_html(self):\n",
    "        if not self.is_widget_displayed:\n",
    "            self.widget = self.widget % {\n",
    "                'uuid': self.uuid,\n",
    "                'appid': self.rdd.ctx.applicationId\n",
    "            }\n",
    "            \n",
    "            display_html(\n",
    "                HTML(self.widget)\n",
    "            )\n",
    "            \n",
    "            self.is_widget_displayed = True\n",
    "    \n",
    "    \n",
    "    def monitor(self):\n",
    "        url_base = \"http://127.0.0.1:4040/api/v1/applications/\"\n",
    "        url_pattern = url_base + '%(appid)s/jobs'\n",
    "        \n",
    "        if self.appID is None:\n",
    "            response = request.urlopen(url_base)\n",
    "            response = json.loads(response.read().decode(\"utf8\"))\n",
    "            response = response[0]\n",
    "            self.appID = response[\"id\"]\n",
    "            \n",
    "            response = json.dumps(response)\n",
    "            \n",
    "            jso = Javascript(\"getApplicationData_%(uuid)s(%(data)s)\" % {'uuid': self.uuid, 'data': response})\n",
    "            display_javascript(jso)\n",
    "        \n",
    "        numCompletedTasks = 0\n",
    "        numTasks = 0\n",
    "\n",
    "        sleep(0.05)\n",
    "        url = url_pattern % {'appid': self.appID}\n",
    "        \n",
    "        while True:\n",
    "            response = request.urlopen(url)\n",
    "            response = json.loads(response.read().decode(\"utf8\"))\n",
    "\n",
    "            if self.jobID is None:\n",
    "                response = response[0]\n",
    "                \n",
    "                if (response[\"status\"] == \"SUCCEEDED\"):\n",
    "                    sleep(0.05)\n",
    "                    continue\n",
    "                    \n",
    "                self.jobID = response[\"jobId\"]\n",
    "            else:\n",
    "                response = response[- self.jobID - 1]\n",
    "            \n",
    "            numCompletedTasks = response[\"numCompletedTasks\"]\n",
    "            numTasks = response[\"numTasks\"]\n",
    "            \n",
    "            response = json.dumps(response)\n",
    "            \n",
    "            jso = Javascript(\"refreshJobProgress_%(uuid)s(%(data)s)\" % {'uuid': self.uuid, 'data': response})\n",
    "            display_javascript(jso)\n",
    "            \n",
    "            if numCompletedTasks >= numTasks:\n",
    "                break\n",
    "            \n",
    "            sleep(0.005)\n",
    "    \n",
    "    def _display_html_plot(self):\n",
    "        if not self.is_plot_widget_displayed:\n",
    "            self.plot_widget = self.plot_widget % {\n",
    "                'uuid': self.uuid,\n",
    "            }\n",
    "            \n",
    "            display_html(\n",
    "                HTML(self.plot_widget)\n",
    "            )\n",
    "            \n",
    "            self.is_plot_widget_displayed = True\n",
    "    \n",
    "    def plot(self, height=None, width=None):\n",
    "        self._display_html_plot()\n",
    "        data = json.dumps(dict(zip([\"categories\", \"frequency\"], zip(*spark_job_4.histogram))))\n",
    "        \n",
    "        jso = Javascript(\"plot_%(uuid)s(%(data)s, %(height)s, %(width)s)\" % {'uuid': self.uuid, 'data': data, 'height': json.dumps(height), 'width': json.dumps(width)})\n",
    "        display_javascript(jso)\n",
    "        self.is_plot_widget_displayed = False\n",
    "        \n",
    "    def apply(self, data, numSlices=20):\n",
    "        data = [(letter.lower(), 1) for letter in text if letter.lower() in alphabet]\n",
    "        \n",
    "        self.rdd = sc.parallelize(data, numSlices=numSlices)\n",
    "        \n",
    "        self._display_html()\n",
    "        self.monitoring.start()\n",
    "\n",
    "        self.histogram.update(dict(self.rdd.groupByKey().mapValues(sum).collect()))\n",
    "        self.histogram = list(self.histogram.items())\n",
    "        self.histogram.sort()\n",
    "\n",
    "        return self.histogram"
   ]
  },
  {
   "cell_type": "code",
   "execution_count": 6,
   "metadata": {
    "collapsed": false
   },
   "outputs": [
    {
     "data": {
      "text/html": [
       "<html>\n",
       "    <head>\n",
       "        <meta charset=\"utf-8\">\n",
       "        <title>Test</title>\n",
       "        <link type=\"styleshet/css\" src=\"https://maxcdn.bootstrapcdn.com/font-awesome/4.7.0/css/font-awesome.min.css\">\n",
       "        <style>\n",
       "            .spark.panel {\n",
       "                background-color: #fafafa;\n",
       "                border: 1px solid orange;\n",
       "                border-left: 0.4rem solid orange;\n",
       "                border-radius: 0.4rem;\n",
       "                margin-left: -0.4rem;\n",
       "                margin-right: -0.4rem;\n",
       "                padding: 1rem;\n",
       "            }\n",
       "\n",
       "            .spark .title {\n",
       "                margin: 0 0 2rem 0;\n",
       "                font-size: 1.5rem;\n",
       "                line-height: 1.5rem;\n",
       "            }\n",
       "\n",
       "            .spark .subtitle {\n",
       "                margin: 0 0 2rem 0;\n",
       "                font-size: 1.4rem;\n",
       "                line-height: 1.4rem;\n",
       "            }\n",
       "\n",
       "            .spark .panel .title {\n",
       "                font-weight: bold;\n",
       "                margin: -1rem -1rem 1rem;\n",
       "                padding: 1rem;\n",
       "                font-size: 1.35rem;\n",
       "                line-height: 1.35rem;\n",
       "                border-bottom: 1px solid #dedede;\n",
       "            }\n",
       "\n",
       "            .spark .panel .title:after {\n",
       "                content: \":\";\n",
       "            }\n",
       "            .spark dl.app.panel {\n",
       "                padding: 1rem;\n",
       "                font-size: 1.25rem;\n",
       "                line-height: 1.25rem;\n",
       "                margin: 0 0 1rem 0;\n",
       "            }\n",
       "\n",
       "            .spark dl.progress.panel {\n",
       "                padding: 1rem;\n",
       "                font-size: 1.25rem;\n",
       "                line-height: 1.25rem;\n",
       "                height: auto;\n",
       "                background-color: #ffffff;\n",
       "                -webkit-box-shadow: 0 1px 1px rgba(0, 0, 0, 0.05);\n",
       "                box-shadow: 0 1px 1px rgba(0, 0, 0, 0.05);\n",
       "                margin: 0;\n",
       "            }\n",
       "\n",
       "            .spark dl.progress.panel .bar  {\n",
       "                position: relative;\n",
       "                height: 2rem;\n",
       "                display: block;\n",
       "                width: 100%;\n",
       "                background-color: #dedede;\n",
       "                overflow: hidden;\n",
       "                border-radius: 0.5rem;\n",
       "            }\n",
       "\n",
       "            .spark dl.progress.panel .bar .fill {\n",
       "                background-color: orange;\n",
       "                height: 2rem;\n",
       "                line-height: 2rem;\n",
       "                position: absolute;\n",
       "                left: 0;\n",
       "                top: 0;\n",
       "            }\n",
       "\n",
       "            .spark dl.progress.panel .bar .text {\n",
       "                height: 2rem;\n",
       "                line-height: 2rem;\n",
       "                padding: 0 0.5rem;\n",
       "                position: absolute;\n",
       "                right: 0;\n",
       "                top: 0;\n",
       "            }\n",
       "\n",
       "            .spark dl.panel dt:after {\n",
       "                content: \":\";\n",
       "            }\n",
       "\n",
       "            .spark dl.panel dd {\n",
       "                padding-left: 1.5rem;\n",
       "            }\n",
       "\n",
       "            .spark dl.panel dd + dt {\n",
       "                margin-top: 0.5rem;\n",
       "            }\n",
       "        </style>\n",
       "        <script type=\"text/javascript\">\n",
       "            function getApplicationData_7baaa9b08eba4871822bed39cb61b615(data){\n",
       "                $('#app-panel-7baaa9b08eba4871822bed39cb61b615')\n",
       "                    .append($('<dt></dt>').text(\"Application ID\"))\n",
       "                    .append($('<dd id=\"application-id-7baaa9b08eba4871822bed39cb61b615\"></dd>').text(data[\"id\"]))\n",
       "                    .append($('<dt></dt>').text(\"Application Name\"))\n",
       "                    .append($('<dd id=\"application-name-7baaa9b08eba4871822bed39cb61b615\"></dd>').text(data[\"name\"]));\n",
       "            }\n",
       "\n",
       "            function refreshJobProgress_7baaa9b08eba4871822bed39cb61b615(data) {\n",
       "                progress = parseFloat(data[\"numCompletedTasks\"])/parseFloat(data[\"numTasks\"]);\n",
       "                progress = Number(Math.round(progress+'e2')).toFixed(2);\n",
       "\n",
       "                $('#progress-panel-7baaa9b08eba4871822bed39cb61b615 .text').text(progress + \"%\");\n",
       "                $('#progress-panel-7baaa9b08eba4871822bed39cb61b615 .fill').css('width', progress + \"%\");\n",
       "\n",
       "                $('#progress-panel-7baaa9b08eba4871822bed39cb61b615 .job.id').text(data[\"jobId\"]);\n",
       "                $('#progress-panel-7baaa9b08eba4871822bed39cb61b615 .job.name').text(data[\"name\"]);\n",
       "                $('#progress-panel-7baaa9b08eba4871822bed39cb61b615 .total.task').text(data[\"numTasks\"]);\n",
       "                $('#progress-panel-7baaa9b08eba4871822bed39cb61b615 .completed.task').text(data[\"numCompletedTasks\"]);                    \n",
       "            }\n",
       "        </script>\n",
       "    </head>\n",
       "    <body>\n",
       "        <div class=\"spark panel\">\n",
       "            <h1 class=\"title\" id=\"7baaa9b08eba4871822bed39cb61b615\">\n",
       "                <i class=\"fa fa-fw fa-star-o\"></i> Spark Process Monitor\n",
       "            </h1>\n",
       "            <h2 class=\"subtitle\">\n",
       "                Process UUID: \"7baaa9b08eba4871822bed39cb61b615\"\n",
       "            </h2>\n",
       "            <dl class=\"app panel\" id=\"app-panel-7baaa9b08eba4871822bed39cb61b615\">\n",
       "                <dt class=\"title\">Application Detail</dt>\n",
       "            </dl>\n",
       "            <dl class=\"progress panel\" id=\"progress-panel-7baaa9b08eba4871822bed39cb61b615\">\n",
       "                <dt class=\"title\">Progress Detail</dt>\n",
       "                <dt>Job ID</dt>\n",
       "                <dd class=\"job id\"></dd>\n",
       "                <dt>Job Name</dt>\n",
       "                <dd class=\"job name\"></dd>\n",
       "                <dt>Total Tasks</dt>\n",
       "                <dd class=\"total task\"></dd>\n",
       "                <dt>Completed Tasks</dt>\n",
       "                <dd class=\"completed task\"></dd>\n",
       "                <dt>Progress</dt>\n",
       "                <dd>\n",
       "                    <div class=\"bar\">\n",
       "                        <div class=\"fill\"></div>\n",
       "                        <div class=\"text\"></div>\n",
       "                    </div>\n",
       "                </dd>\n",
       "            </dl>\n",
       "        </div>\n",
       "    </body>\n",
       "</html>\n"
      ]
     },
     "metadata": {},
     "output_type": "display_data"
    },
    {
     "data": {
      "application/javascript": [
       "getApplicationData_7baaa9b08eba4871822bed39cb61b615({\"id\": \"local-1493602964790\", \"name\": \"PySparkShell\", \"attempts\": [{\"startTime\": \"2017-05-01T01:42:14.466GMT\", \"endTime\": \"1969-12-31T23:59:59.999GMT\", \"lastUpdated\": \"2017-05-01T01:42:14.466GMT\", \"duration\": 0, \"sparkUser\": \"\", \"completed\": false, \"startTimeEpoch\": 1493602934466, \"endTimeEpoch\": -1, \"lastUpdatedEpoch\": 1493602934466}]})"
      ]
     },
     "metadata": {},
     "output_type": "display_data"
    },
    {
     "data": {
      "application/javascript": [
       "refreshJobProgress_7baaa9b08eba4871822bed39cb61b615({\"jobId\": 3, \"name\": \"collect at <ipython-input-5-ed4060b10f3f>:122\", \"submissionTime\": \"2017-05-01T01:44:02.978GMT\", \"stageIds\": [3, 4], \"status\": \"RUNNING\", \"numTasks\": 40, \"numActiveTasks\": 1, \"numCompletedTasks\": 0, \"numSkippedTasks\": 0, \"numFailedTasks\": 0, \"numActiveStages\": 1, \"numCompletedStages\": 0, \"numSkippedStages\": 0, \"numFailedStages\": 0})"
      ]
     },
     "metadata": {},
     "output_type": "display_data"
    },
    {
     "data": {
      "application/javascript": [
       "refreshJobProgress_7baaa9b08eba4871822bed39cb61b615({\"jobId\": 3, \"name\": \"collect at <ipython-input-5-ed4060b10f3f>:122\", \"submissionTime\": \"2017-05-01T01:44:02.978GMT\", \"stageIds\": [3, 4], \"status\": \"RUNNING\", \"numTasks\": 40, \"numActiveTasks\": 1, \"numCompletedTasks\": 0, \"numSkippedTasks\": 0, \"numFailedTasks\": 0, \"numActiveStages\": 1, \"numCompletedStages\": 0, \"numSkippedStages\": 0, \"numFailedStages\": 0})"
      ]
     },
     "metadata": {},
     "output_type": "display_data"
    },
    {
     "data": {
      "application/javascript": [
       "refreshJobProgress_7baaa9b08eba4871822bed39cb61b615({\"jobId\": 3, \"name\": \"collect at <ipython-input-5-ed4060b10f3f>:122\", \"submissionTime\": \"2017-05-01T01:44:02.978GMT\", \"stageIds\": [3, 4], \"status\": \"RUNNING\", \"numTasks\": 40, \"numActiveTasks\": 1, \"numCompletedTasks\": 0, \"numSkippedTasks\": 0, \"numFailedTasks\": 0, \"numActiveStages\": 1, \"numCompletedStages\": 0, \"numSkippedStages\": 0, \"numFailedStages\": 0})"
      ]
     },
     "metadata": {},
     "output_type": "display_data"
    },
    {
     "data": {
      "application/javascript": [
       "refreshJobProgress_7baaa9b08eba4871822bed39cb61b615({\"jobId\": 3, \"name\": \"collect at <ipython-input-5-ed4060b10f3f>:122\", \"submissionTime\": \"2017-05-01T01:44:02.978GMT\", \"stageIds\": [3, 4], \"status\": \"RUNNING\", \"numTasks\": 40, \"numActiveTasks\": 1, \"numCompletedTasks\": 0, \"numSkippedTasks\": 0, \"numFailedTasks\": 0, \"numActiveStages\": 1, \"numCompletedStages\": 0, \"numSkippedStages\": 0, \"numFailedStages\": 0})"
      ]
     },
     "metadata": {},
     "output_type": "display_data"
    },
    {
     "data": {
      "application/javascript": [
       "refreshJobProgress_7baaa9b08eba4871822bed39cb61b615({\"jobId\": 3, \"name\": \"collect at <ipython-input-5-ed4060b10f3f>:122\", \"submissionTime\": \"2017-05-01T01:44:02.978GMT\", \"stageIds\": [3, 4], \"status\": \"RUNNING\", \"numTasks\": 40, \"numActiveTasks\": 1, \"numCompletedTasks\": 0, \"numSkippedTasks\": 0, \"numFailedTasks\": 0, \"numActiveStages\": 1, \"numCompletedStages\": 0, \"numSkippedStages\": 0, \"numFailedStages\": 0})"
      ]
     },
     "metadata": {},
     "output_type": "display_data"
    },
    {
     "data": {
      "application/javascript": [
       "refreshJobProgress_7baaa9b08eba4871822bed39cb61b615({\"jobId\": 3, \"name\": \"collect at <ipython-input-5-ed4060b10f3f>:122\", \"submissionTime\": \"2017-05-01T01:44:02.978GMT\", \"stageIds\": [3, 4], \"status\": \"RUNNING\", \"numTasks\": 40, \"numActiveTasks\": 1, \"numCompletedTasks\": 0, \"numSkippedTasks\": 0, \"numFailedTasks\": 0, \"numActiveStages\": 1, \"numCompletedStages\": 0, \"numSkippedStages\": 0, \"numFailedStages\": 0})"
      ]
     },
     "metadata": {},
     "output_type": "display_data"
    },
    {
     "data": {
      "application/javascript": [
       "refreshJobProgress_7baaa9b08eba4871822bed39cb61b615({\"jobId\": 3, \"name\": \"collect at <ipython-input-5-ed4060b10f3f>:122\", \"submissionTime\": \"2017-05-01T01:44:02.978GMT\", \"stageIds\": [3, 4], \"status\": \"RUNNING\", \"numTasks\": 40, \"numActiveTasks\": 1, \"numCompletedTasks\": 0, \"numSkippedTasks\": 0, \"numFailedTasks\": 0, \"numActiveStages\": 1, \"numCompletedStages\": 0, \"numSkippedStages\": 0, \"numFailedStages\": 0})"
      ]
     },
     "metadata": {},
     "output_type": "display_data"
    },
    {
     "data": {
      "application/javascript": [
       "refreshJobProgress_7baaa9b08eba4871822bed39cb61b615({\"jobId\": 3, \"name\": \"collect at <ipython-input-5-ed4060b10f3f>:122\", \"submissionTime\": \"2017-05-01T01:44:02.978GMT\", \"stageIds\": [3, 4], \"status\": \"RUNNING\", \"numTasks\": 40, \"numActiveTasks\": 1, \"numCompletedTasks\": 0, \"numSkippedTasks\": 0, \"numFailedTasks\": 0, \"numActiveStages\": 1, \"numCompletedStages\": 0, \"numSkippedStages\": 0, \"numFailedStages\": 0})"
      ]
     },
     "metadata": {},
     "output_type": "display_data"
    },
    {
     "data": {
      "application/javascript": [
       "refreshJobProgress_7baaa9b08eba4871822bed39cb61b615({\"jobId\": 3, \"name\": \"collect at <ipython-input-5-ed4060b10f3f>:122\", \"submissionTime\": \"2017-05-01T01:44:02.978GMT\", \"stageIds\": [3, 4], \"status\": \"RUNNING\", \"numTasks\": 40, \"numActiveTasks\": 1, \"numCompletedTasks\": 0, \"numSkippedTasks\": 0, \"numFailedTasks\": 0, \"numActiveStages\": 1, \"numCompletedStages\": 0, \"numSkippedStages\": 0, \"numFailedStages\": 0})"
      ]
     },
     "metadata": {},
     "output_type": "display_data"
    },
    {
     "data": {
      "application/javascript": [
       "refreshJobProgress_7baaa9b08eba4871822bed39cb61b615({\"jobId\": 3, \"name\": \"collect at <ipython-input-5-ed4060b10f3f>:122\", \"submissionTime\": \"2017-05-01T01:44:02.978GMT\", \"stageIds\": [3, 4], \"status\": \"RUNNING\", \"numTasks\": 40, \"numActiveTasks\": 1, \"numCompletedTasks\": 0, \"numSkippedTasks\": 0, \"numFailedTasks\": 0, \"numActiveStages\": 1, \"numCompletedStages\": 0, \"numSkippedStages\": 0, \"numFailedStages\": 0})"
      ]
     },
     "metadata": {},
     "output_type": "display_data"
    },
    {
     "data": {
      "application/javascript": [
       "refreshJobProgress_7baaa9b08eba4871822bed39cb61b615({\"jobId\": 3, \"name\": \"collect at <ipython-input-5-ed4060b10f3f>:122\", \"submissionTime\": \"2017-05-01T01:44:02.978GMT\", \"stageIds\": [3, 4], \"status\": \"RUNNING\", \"numTasks\": 40, \"numActiveTasks\": 1, \"numCompletedTasks\": 0, \"numSkippedTasks\": 0, \"numFailedTasks\": 0, \"numActiveStages\": 1, \"numCompletedStages\": 0, \"numSkippedStages\": 0, \"numFailedStages\": 0})"
      ]
     },
     "metadata": {},
     "output_type": "display_data"
    },
    {
     "data": {
      "application/javascript": [
       "refreshJobProgress_7baaa9b08eba4871822bed39cb61b615({\"jobId\": 3, \"name\": \"collect at <ipython-input-5-ed4060b10f3f>:122\", \"submissionTime\": \"2017-05-01T01:44:02.978GMT\", \"stageIds\": [3, 4], \"status\": \"RUNNING\", \"numTasks\": 40, \"numActiveTasks\": 1, \"numCompletedTasks\": 0, \"numSkippedTasks\": 0, \"numFailedTasks\": 0, \"numActiveStages\": 1, \"numCompletedStages\": 0, \"numSkippedStages\": 0, \"numFailedStages\": 0})"
      ]
     },
     "metadata": {},
     "output_type": "display_data"
    },
    {
     "data": {
      "application/javascript": [
       "refreshJobProgress_7baaa9b08eba4871822bed39cb61b615({\"jobId\": 3, \"name\": \"collect at <ipython-input-5-ed4060b10f3f>:122\", \"submissionTime\": \"2017-05-01T01:44:02.978GMT\", \"stageIds\": [3, 4], \"status\": \"RUNNING\", \"numTasks\": 40, \"numActiveTasks\": 1, \"numCompletedTasks\": 0, \"numSkippedTasks\": 0, \"numFailedTasks\": 0, \"numActiveStages\": 1, \"numCompletedStages\": 0, \"numSkippedStages\": 0, \"numFailedStages\": 0})"
      ]
     },
     "metadata": {},
     "output_type": "display_data"
    },
    {
     "data": {
      "application/javascript": [
       "refreshJobProgress_7baaa9b08eba4871822bed39cb61b615({\"jobId\": 3, \"name\": \"collect at <ipython-input-5-ed4060b10f3f>:122\", \"submissionTime\": \"2017-05-01T01:44:02.978GMT\", \"stageIds\": [3, 4], \"status\": \"RUNNING\", \"numTasks\": 40, \"numActiveTasks\": 1, \"numCompletedTasks\": 0, \"numSkippedTasks\": 0, \"numFailedTasks\": 0, \"numActiveStages\": 1, \"numCompletedStages\": 0, \"numSkippedStages\": 0, \"numFailedStages\": 0})"
      ]
     },
     "metadata": {},
     "output_type": "display_data"
    },
    {
     "data": {
      "application/javascript": [
       "refreshJobProgress_7baaa9b08eba4871822bed39cb61b615({\"jobId\": 3, \"name\": \"collect at <ipython-input-5-ed4060b10f3f>:122\", \"submissionTime\": \"2017-05-01T01:44:02.978GMT\", \"stageIds\": [3, 4], \"status\": \"RUNNING\", \"numTasks\": 40, \"numActiveTasks\": 1, \"numCompletedTasks\": 0, \"numSkippedTasks\": 0, \"numFailedTasks\": 0, \"numActiveStages\": 1, \"numCompletedStages\": 0, \"numSkippedStages\": 0, \"numFailedStages\": 0})"
      ]
     },
     "metadata": {},
     "output_type": "display_data"
    },
    {
     "data": {
      "application/javascript": [
       "refreshJobProgress_7baaa9b08eba4871822bed39cb61b615({\"jobId\": 3, \"name\": \"collect at <ipython-input-5-ed4060b10f3f>:122\", \"submissionTime\": \"2017-05-01T01:44:02.978GMT\", \"stageIds\": [3, 4], \"status\": \"RUNNING\", \"numTasks\": 40, \"numActiveTasks\": 1, \"numCompletedTasks\": 0, \"numSkippedTasks\": 0, \"numFailedTasks\": 0, \"numActiveStages\": 1, \"numCompletedStages\": 0, \"numSkippedStages\": 0, \"numFailedStages\": 0})"
      ]
     },
     "metadata": {},
     "output_type": "display_data"
    },
    {
     "data": {
      "application/javascript": [
       "refreshJobProgress_7baaa9b08eba4871822bed39cb61b615({\"jobId\": 3, \"name\": \"collect at <ipython-input-5-ed4060b10f3f>:122\", \"submissionTime\": \"2017-05-01T01:44:02.978GMT\", \"stageIds\": [3, 4], \"status\": \"RUNNING\", \"numTasks\": 40, \"numActiveTasks\": 1, \"numCompletedTasks\": 0, \"numSkippedTasks\": 0, \"numFailedTasks\": 0, \"numActiveStages\": 1, \"numCompletedStages\": 0, \"numSkippedStages\": 0, \"numFailedStages\": 0})"
      ]
     },
     "metadata": {},
     "output_type": "display_data"
    },
    {
     "data": {
      "application/javascript": [
       "refreshJobProgress_7baaa9b08eba4871822bed39cb61b615({\"jobId\": 3, \"name\": \"collect at <ipython-input-5-ed4060b10f3f>:122\", \"submissionTime\": \"2017-05-01T01:44:02.978GMT\", \"stageIds\": [3, 4], \"status\": \"RUNNING\", \"numTasks\": 40, \"numActiveTasks\": 1, \"numCompletedTasks\": 0, \"numSkippedTasks\": 0, \"numFailedTasks\": 0, \"numActiveStages\": 1, \"numCompletedStages\": 0, \"numSkippedStages\": 0, \"numFailedStages\": 0})"
      ]
     },
     "metadata": {},
     "output_type": "display_data"
    },
    {
     "data": {
      "application/javascript": [
       "refreshJobProgress_7baaa9b08eba4871822bed39cb61b615({\"jobId\": 3, \"name\": \"collect at <ipython-input-5-ed4060b10f3f>:122\", \"submissionTime\": \"2017-05-01T01:44:02.978GMT\", \"stageIds\": [3, 4], \"status\": \"RUNNING\", \"numTasks\": 40, \"numActiveTasks\": 1, \"numCompletedTasks\": 0, \"numSkippedTasks\": 0, \"numFailedTasks\": 0, \"numActiveStages\": 1, \"numCompletedStages\": 0, \"numSkippedStages\": 0, \"numFailedStages\": 0})"
      ]
     },
     "metadata": {},
     "output_type": "display_data"
    },
    {
     "data": {
      "application/javascript": [
       "refreshJobProgress_7baaa9b08eba4871822bed39cb61b615({\"jobId\": 3, \"name\": \"collect at <ipython-input-5-ed4060b10f3f>:122\", \"submissionTime\": \"2017-05-01T01:44:02.978GMT\", \"stageIds\": [3, 4], \"status\": \"RUNNING\", \"numTasks\": 40, \"numActiveTasks\": 1, \"numCompletedTasks\": 0, \"numSkippedTasks\": 0, \"numFailedTasks\": 0, \"numActiveStages\": 1, \"numCompletedStages\": 0, \"numSkippedStages\": 0, \"numFailedStages\": 0})"
      ]
     },
     "metadata": {},
     "output_type": "display_data"
    },
    {
     "data": {
      "application/javascript": [
       "refreshJobProgress_7baaa9b08eba4871822bed39cb61b615({\"jobId\": 3, \"name\": \"collect at <ipython-input-5-ed4060b10f3f>:122\", \"submissionTime\": \"2017-05-01T01:44:02.978GMT\", \"stageIds\": [3, 4], \"status\": \"RUNNING\", \"numTasks\": 40, \"numActiveTasks\": 1, \"numCompletedTasks\": 0, \"numSkippedTasks\": 0, \"numFailedTasks\": 0, \"numActiveStages\": 1, \"numCompletedStages\": 0, \"numSkippedStages\": 0, \"numFailedStages\": 0})"
      ]
     },
     "metadata": {},
     "output_type": "display_data"
    },
    {
     "data": {
      "application/javascript": [
       "refreshJobProgress_7baaa9b08eba4871822bed39cb61b615({\"jobId\": 3, \"name\": \"collect at <ipython-input-5-ed4060b10f3f>:122\", \"submissionTime\": \"2017-05-01T01:44:02.978GMT\", \"stageIds\": [3, 4], \"status\": \"RUNNING\", \"numTasks\": 40, \"numActiveTasks\": 1, \"numCompletedTasks\": 0, \"numSkippedTasks\": 0, \"numFailedTasks\": 0, \"numActiveStages\": 1, \"numCompletedStages\": 0, \"numSkippedStages\": 0, \"numFailedStages\": 0})"
      ]
     },
     "metadata": {},
     "output_type": "display_data"
    },
    {
     "data": {
      "application/javascript": [
       "refreshJobProgress_7baaa9b08eba4871822bed39cb61b615({\"jobId\": 3, \"name\": \"collect at <ipython-input-5-ed4060b10f3f>:122\", \"submissionTime\": \"2017-05-01T01:44:02.978GMT\", \"stageIds\": [3, 4], \"status\": \"RUNNING\", \"numTasks\": 40, \"numActiveTasks\": 1, \"numCompletedTasks\": 0, \"numSkippedTasks\": 0, \"numFailedTasks\": 0, \"numActiveStages\": 1, \"numCompletedStages\": 0, \"numSkippedStages\": 0, \"numFailedStages\": 0})"
      ]
     },
     "metadata": {},
     "output_type": "display_data"
    },
    {
     "data": {
      "application/javascript": [
       "refreshJobProgress_7baaa9b08eba4871822bed39cb61b615({\"jobId\": 3, \"name\": \"collect at <ipython-input-5-ed4060b10f3f>:122\", \"submissionTime\": \"2017-05-01T01:44:02.978GMT\", \"stageIds\": [3, 4], \"status\": \"RUNNING\", \"numTasks\": 40, \"numActiveTasks\": 1, \"numCompletedTasks\": 0, \"numSkippedTasks\": 0, \"numFailedTasks\": 0, \"numActiveStages\": 1, \"numCompletedStages\": 0, \"numSkippedStages\": 0, \"numFailedStages\": 0})"
      ]
     },
     "metadata": {},
     "output_type": "display_data"
    },
    {
     "data": {
      "application/javascript": [
       "refreshJobProgress_7baaa9b08eba4871822bed39cb61b615({\"jobId\": 3, \"name\": \"collect at <ipython-input-5-ed4060b10f3f>:122\", \"submissionTime\": \"2017-05-01T01:44:02.978GMT\", \"stageIds\": [3, 4], \"status\": \"RUNNING\", \"numTasks\": 40, \"numActiveTasks\": 1, \"numCompletedTasks\": 0, \"numSkippedTasks\": 0, \"numFailedTasks\": 0, \"numActiveStages\": 1, \"numCompletedStages\": 0, \"numSkippedStages\": 0, \"numFailedStages\": 0})"
      ]
     },
     "metadata": {},
     "output_type": "display_data"
    },
    {
     "data": {
      "application/javascript": [
       "refreshJobProgress_7baaa9b08eba4871822bed39cb61b615({\"jobId\": 3, \"name\": \"collect at <ipython-input-5-ed4060b10f3f>:122\", \"submissionTime\": \"2017-05-01T01:44:02.978GMT\", \"stageIds\": [3, 4], \"status\": \"RUNNING\", \"numTasks\": 40, \"numActiveTasks\": 1, \"numCompletedTasks\": 0, \"numSkippedTasks\": 0, \"numFailedTasks\": 0, \"numActiveStages\": 1, \"numCompletedStages\": 0, \"numSkippedStages\": 0, \"numFailedStages\": 0})"
      ]
     },
     "metadata": {},
     "output_type": "display_data"
    },
    {
     "data": {
      "application/javascript": [
       "refreshJobProgress_7baaa9b08eba4871822bed39cb61b615({\"jobId\": 3, \"name\": \"collect at <ipython-input-5-ed4060b10f3f>:122\", \"submissionTime\": \"2017-05-01T01:44:02.978GMT\", \"stageIds\": [3, 4], \"status\": \"RUNNING\", \"numTasks\": 40, \"numActiveTasks\": 1, \"numCompletedTasks\": 0, \"numSkippedTasks\": 0, \"numFailedTasks\": 0, \"numActiveStages\": 1, \"numCompletedStages\": 0, \"numSkippedStages\": 0, \"numFailedStages\": 0})"
      ]
     },
     "metadata": {},
     "output_type": "display_data"
    },
    {
     "data": {
      "application/javascript": [
       "refreshJobProgress_7baaa9b08eba4871822bed39cb61b615({\"jobId\": 3, \"name\": \"collect at <ipython-input-5-ed4060b10f3f>:122\", \"submissionTime\": \"2017-05-01T01:44:02.978GMT\", \"stageIds\": [3, 4], \"status\": \"RUNNING\", \"numTasks\": 40, \"numActiveTasks\": 1, \"numCompletedTasks\": 0, \"numSkippedTasks\": 0, \"numFailedTasks\": 0, \"numActiveStages\": 1, \"numCompletedStages\": 0, \"numSkippedStages\": 0, \"numFailedStages\": 0})"
      ]
     },
     "metadata": {},
     "output_type": "display_data"
    },
    {
     "data": {
      "application/javascript": [
       "refreshJobProgress_7baaa9b08eba4871822bed39cb61b615({\"jobId\": 3, \"name\": \"collect at <ipython-input-5-ed4060b10f3f>:122\", \"submissionTime\": \"2017-05-01T01:44:02.978GMT\", \"stageIds\": [3, 4], \"status\": \"RUNNING\", \"numTasks\": 40, \"numActiveTasks\": 1, \"numCompletedTasks\": 0, \"numSkippedTasks\": 0, \"numFailedTasks\": 0, \"numActiveStages\": 1, \"numCompletedStages\": 0, \"numSkippedStages\": 0, \"numFailedStages\": 0})"
      ]
     },
     "metadata": {},
     "output_type": "display_data"
    },
    {
     "data": {
      "application/javascript": [
       "refreshJobProgress_7baaa9b08eba4871822bed39cb61b615({\"jobId\": 3, \"name\": \"collect at <ipython-input-5-ed4060b10f3f>:122\", \"submissionTime\": \"2017-05-01T01:44:02.978GMT\", \"stageIds\": [3, 4], \"status\": \"RUNNING\", \"numTasks\": 40, \"numActiveTasks\": 1, \"numCompletedTasks\": 0, \"numSkippedTasks\": 0, \"numFailedTasks\": 0, \"numActiveStages\": 1, \"numCompletedStages\": 0, \"numSkippedStages\": 0, \"numFailedStages\": 0})"
      ]
     },
     "metadata": {},
     "output_type": "display_data"
    },
    {
     "data": {
      "application/javascript": [
       "refreshJobProgress_7baaa9b08eba4871822bed39cb61b615({\"jobId\": 3, \"name\": \"collect at <ipython-input-5-ed4060b10f3f>:122\", \"submissionTime\": \"2017-05-01T01:44:02.978GMT\", \"stageIds\": [3, 4], \"status\": \"RUNNING\", \"numTasks\": 40, \"numActiveTasks\": 1, \"numCompletedTasks\": 0, \"numSkippedTasks\": 0, \"numFailedTasks\": 0, \"numActiveStages\": 1, \"numCompletedStages\": 0, \"numSkippedStages\": 0, \"numFailedStages\": 0})"
      ]
     },
     "metadata": {},
     "output_type": "display_data"
    },
    {
     "data": {
      "application/javascript": [
       "refreshJobProgress_7baaa9b08eba4871822bed39cb61b615({\"jobId\": 3, \"name\": \"collect at <ipython-input-5-ed4060b10f3f>:122\", \"submissionTime\": \"2017-05-01T01:44:02.978GMT\", \"stageIds\": [3, 4], \"status\": \"RUNNING\", \"numTasks\": 40, \"numActiveTasks\": 1, \"numCompletedTasks\": 0, \"numSkippedTasks\": 0, \"numFailedTasks\": 0, \"numActiveStages\": 1, \"numCompletedStages\": 0, \"numSkippedStages\": 0, \"numFailedStages\": 0})"
      ]
     },
     "metadata": {},
     "output_type": "display_data"
    },
    {
     "data": {
      "application/javascript": [
       "refreshJobProgress_7baaa9b08eba4871822bed39cb61b615({\"jobId\": 3, \"name\": \"collect at <ipython-input-5-ed4060b10f3f>:122\", \"submissionTime\": \"2017-05-01T01:44:02.978GMT\", \"stageIds\": [3, 4], \"status\": \"RUNNING\", \"numTasks\": 40, \"numActiveTasks\": 1, \"numCompletedTasks\": 0, \"numSkippedTasks\": 0, \"numFailedTasks\": 0, \"numActiveStages\": 1, \"numCompletedStages\": 0, \"numSkippedStages\": 0, \"numFailedStages\": 0})"
      ]
     },
     "metadata": {},
     "output_type": "display_data"
    },
    {
     "data": {
      "application/javascript": [
       "refreshJobProgress_7baaa9b08eba4871822bed39cb61b615({\"jobId\": 3, \"name\": \"collect at <ipython-input-5-ed4060b10f3f>:122\", \"submissionTime\": \"2017-05-01T01:44:02.978GMT\", \"stageIds\": [3, 4], \"status\": \"RUNNING\", \"numTasks\": 40, \"numActiveTasks\": 1, \"numCompletedTasks\": 0, \"numSkippedTasks\": 0, \"numFailedTasks\": 0, \"numActiveStages\": 1, \"numCompletedStages\": 0, \"numSkippedStages\": 0, \"numFailedStages\": 0})"
      ]
     },
     "metadata": {},
     "output_type": "display_data"
    },
    {
     "data": {
      "application/javascript": [
       "refreshJobProgress_7baaa9b08eba4871822bed39cb61b615({\"jobId\": 3, \"name\": \"collect at <ipython-input-5-ed4060b10f3f>:122\", \"submissionTime\": \"2017-05-01T01:44:02.978GMT\", \"stageIds\": [3, 4], \"status\": \"RUNNING\", \"numTasks\": 40, \"numActiveTasks\": 1, \"numCompletedTasks\": 0, \"numSkippedTasks\": 0, \"numFailedTasks\": 0, \"numActiveStages\": 1, \"numCompletedStages\": 0, \"numSkippedStages\": 0, \"numFailedStages\": 0})"
      ]
     },
     "metadata": {},
     "output_type": "display_data"
    },
    {
     "data": {
      "application/javascript": [
       "refreshJobProgress_7baaa9b08eba4871822bed39cb61b615({\"jobId\": 3, \"name\": \"collect at <ipython-input-5-ed4060b10f3f>:122\", \"submissionTime\": \"2017-05-01T01:44:02.978GMT\", \"stageIds\": [3, 4], \"status\": \"RUNNING\", \"numTasks\": 40, \"numActiveTasks\": 1, \"numCompletedTasks\": 0, \"numSkippedTasks\": 0, \"numFailedTasks\": 0, \"numActiveStages\": 1, \"numCompletedStages\": 0, \"numSkippedStages\": 0, \"numFailedStages\": 0})"
      ]
     },
     "metadata": {},
     "output_type": "display_data"
    },
    {
     "data": {
      "application/javascript": [
       "refreshJobProgress_7baaa9b08eba4871822bed39cb61b615({\"jobId\": 3, \"name\": \"collect at <ipython-input-5-ed4060b10f3f>:122\", \"submissionTime\": \"2017-05-01T01:44:02.978GMT\", \"stageIds\": [3, 4], \"status\": \"RUNNING\", \"numTasks\": 40, \"numActiveTasks\": 1, \"numCompletedTasks\": 0, \"numSkippedTasks\": 0, \"numFailedTasks\": 0, \"numActiveStages\": 1, \"numCompletedStages\": 0, \"numSkippedStages\": 0, \"numFailedStages\": 0})"
      ]
     },
     "metadata": {},
     "output_type": "display_data"
    },
    {
     "data": {
      "application/javascript": [
       "refreshJobProgress_7baaa9b08eba4871822bed39cb61b615({\"jobId\": 3, \"name\": \"collect at <ipython-input-5-ed4060b10f3f>:122\", \"submissionTime\": \"2017-05-01T01:44:02.978GMT\", \"stageIds\": [3, 4], \"status\": \"RUNNING\", \"numTasks\": 40, \"numActiveTasks\": 1, \"numCompletedTasks\": 0, \"numSkippedTasks\": 0, \"numFailedTasks\": 0, \"numActiveStages\": 1, \"numCompletedStages\": 0, \"numSkippedStages\": 0, \"numFailedStages\": 0})"
      ]
     },
     "metadata": {},
     "output_type": "display_data"
    },
    {
     "data": {
      "application/javascript": [
       "refreshJobProgress_7baaa9b08eba4871822bed39cb61b615({\"jobId\": 3, \"name\": \"collect at <ipython-input-5-ed4060b10f3f>:122\", \"submissionTime\": \"2017-05-01T01:44:02.978GMT\", \"stageIds\": [3, 4], \"status\": \"RUNNING\", \"numTasks\": 40, \"numActiveTasks\": 1, \"numCompletedTasks\": 0, \"numSkippedTasks\": 0, \"numFailedTasks\": 0, \"numActiveStages\": 1, \"numCompletedStages\": 0, \"numSkippedStages\": 0, \"numFailedStages\": 0})"
      ]
     },
     "metadata": {},
     "output_type": "display_data"
    },
    {
     "data": {
      "application/javascript": [
       "refreshJobProgress_7baaa9b08eba4871822bed39cb61b615({\"jobId\": 3, \"name\": \"collect at <ipython-input-5-ed4060b10f3f>:122\", \"submissionTime\": \"2017-05-01T01:44:02.978GMT\", \"stageIds\": [3, 4], \"status\": \"RUNNING\", \"numTasks\": 40, \"numActiveTasks\": 1, \"numCompletedTasks\": 0, \"numSkippedTasks\": 0, \"numFailedTasks\": 0, \"numActiveStages\": 1, \"numCompletedStages\": 0, \"numSkippedStages\": 0, \"numFailedStages\": 0})"
      ]
     },
     "metadata": {},
     "output_type": "display_data"
    },
    {
     "data": {
      "application/javascript": [
       "refreshJobProgress_7baaa9b08eba4871822bed39cb61b615({\"jobId\": 3, \"name\": \"collect at <ipython-input-5-ed4060b10f3f>:122\", \"submissionTime\": \"2017-05-01T01:44:02.978GMT\", \"stageIds\": [3, 4], \"status\": \"RUNNING\", \"numTasks\": 40, \"numActiveTasks\": 1, \"numCompletedTasks\": 0, \"numSkippedTasks\": 0, \"numFailedTasks\": 0, \"numActiveStages\": 1, \"numCompletedStages\": 0, \"numSkippedStages\": 0, \"numFailedStages\": 0})"
      ]
     },
     "metadata": {},
     "output_type": "display_data"
    },
    {
     "data": {
      "application/javascript": [
       "refreshJobProgress_7baaa9b08eba4871822bed39cb61b615({\"jobId\": 3, \"name\": \"collect at <ipython-input-5-ed4060b10f3f>:122\", \"submissionTime\": \"2017-05-01T01:44:02.978GMT\", \"stageIds\": [3, 4], \"status\": \"RUNNING\", \"numTasks\": 40, \"numActiveTasks\": 1, \"numCompletedTasks\": 0, \"numSkippedTasks\": 0, \"numFailedTasks\": 0, \"numActiveStages\": 1, \"numCompletedStages\": 0, \"numSkippedStages\": 0, \"numFailedStages\": 0})"
      ]
     },
     "metadata": {},
     "output_type": "display_data"
    },
    {
     "data": {
      "application/javascript": [
       "refreshJobProgress_7baaa9b08eba4871822bed39cb61b615({\"jobId\": 3, \"name\": \"collect at <ipython-input-5-ed4060b10f3f>:122\", \"submissionTime\": \"2017-05-01T01:44:02.978GMT\", \"stageIds\": [3, 4], \"status\": \"RUNNING\", \"numTasks\": 40, \"numActiveTasks\": 1, \"numCompletedTasks\": 0, \"numSkippedTasks\": 0, \"numFailedTasks\": 0, \"numActiveStages\": 1, \"numCompletedStages\": 0, \"numSkippedStages\": 0, \"numFailedStages\": 0})"
      ]
     },
     "metadata": {},
     "output_type": "display_data"
    },
    {
     "data": {
      "application/javascript": [
       "refreshJobProgress_7baaa9b08eba4871822bed39cb61b615({\"jobId\": 3, \"name\": \"collect at <ipython-input-5-ed4060b10f3f>:122\", \"submissionTime\": \"2017-05-01T01:44:02.978GMT\", \"stageIds\": [3, 4], \"status\": \"RUNNING\", \"numTasks\": 40, \"numActiveTasks\": 1, \"numCompletedTasks\": 0, \"numSkippedTasks\": 0, \"numFailedTasks\": 0, \"numActiveStages\": 1, \"numCompletedStages\": 0, \"numSkippedStages\": 0, \"numFailedStages\": 0})"
      ]
     },
     "metadata": {},
     "output_type": "display_data"
    },
    {
     "data": {
      "application/javascript": [
       "refreshJobProgress_7baaa9b08eba4871822bed39cb61b615({\"jobId\": 3, \"name\": \"collect at <ipython-input-5-ed4060b10f3f>:122\", \"submissionTime\": \"2017-05-01T01:44:02.978GMT\", \"stageIds\": [3, 4], \"status\": \"RUNNING\", \"numTasks\": 40, \"numActiveTasks\": 1, \"numCompletedTasks\": 0, \"numSkippedTasks\": 0, \"numFailedTasks\": 0, \"numActiveStages\": 1, \"numCompletedStages\": 0, \"numSkippedStages\": 0, \"numFailedStages\": 0})"
      ]
     },
     "metadata": {},
     "output_type": "display_data"
    },
    {
     "data": {
      "application/javascript": [
       "refreshJobProgress_7baaa9b08eba4871822bed39cb61b615({\"jobId\": 3, \"name\": \"collect at <ipython-input-5-ed4060b10f3f>:122\", \"submissionTime\": \"2017-05-01T01:44:02.978GMT\", \"stageIds\": [3, 4], \"status\": \"RUNNING\", \"numTasks\": 40, \"numActiveTasks\": 1, \"numCompletedTasks\": 0, \"numSkippedTasks\": 0, \"numFailedTasks\": 0, \"numActiveStages\": 1, \"numCompletedStages\": 0, \"numSkippedStages\": 0, \"numFailedStages\": 0})"
      ]
     },
     "metadata": {},
     "output_type": "display_data"
    },
    {
     "data": {
      "application/javascript": [
       "refreshJobProgress_7baaa9b08eba4871822bed39cb61b615({\"jobId\": 3, \"name\": \"collect at <ipython-input-5-ed4060b10f3f>:122\", \"submissionTime\": \"2017-05-01T01:44:02.978GMT\", \"stageIds\": [3, 4], \"status\": \"RUNNING\", \"numTasks\": 40, \"numActiveTasks\": 1, \"numCompletedTasks\": 0, \"numSkippedTasks\": 0, \"numFailedTasks\": 0, \"numActiveStages\": 1, \"numCompletedStages\": 0, \"numSkippedStages\": 0, \"numFailedStages\": 0})"
      ]
     },
     "metadata": {},
     "output_type": "display_data"
    },
    {
     "data": {
      "application/javascript": [
       "refreshJobProgress_7baaa9b08eba4871822bed39cb61b615({\"jobId\": 3, \"name\": \"collect at <ipython-input-5-ed4060b10f3f>:122\", \"submissionTime\": \"2017-05-01T01:44:02.978GMT\", \"stageIds\": [3, 4], \"status\": \"RUNNING\", \"numTasks\": 40, \"numActiveTasks\": 1, \"numCompletedTasks\": 0, \"numSkippedTasks\": 0, \"numFailedTasks\": 0, \"numActiveStages\": 1, \"numCompletedStages\": 0, \"numSkippedStages\": 0, \"numFailedStages\": 0})"
      ]
     },
     "metadata": {},
     "output_type": "display_data"
    },
    {
     "data": {
      "application/javascript": [
       "refreshJobProgress_7baaa9b08eba4871822bed39cb61b615({\"jobId\": 3, \"name\": \"collect at <ipython-input-5-ed4060b10f3f>:122\", \"submissionTime\": \"2017-05-01T01:44:02.978GMT\", \"stageIds\": [3, 4], \"status\": \"RUNNING\", \"numTasks\": 40, \"numActiveTasks\": 1, \"numCompletedTasks\": 0, \"numSkippedTasks\": 0, \"numFailedTasks\": 0, \"numActiveStages\": 1, \"numCompletedStages\": 0, \"numSkippedStages\": 0, \"numFailedStages\": 0})"
      ]
     },
     "metadata": {},
     "output_type": "display_data"
    },
    {
     "data": {
      "application/javascript": [
       "refreshJobProgress_7baaa9b08eba4871822bed39cb61b615({\"jobId\": 3, \"name\": \"collect at <ipython-input-5-ed4060b10f3f>:122\", \"submissionTime\": \"2017-05-01T01:44:02.978GMT\", \"stageIds\": [3, 4], \"status\": \"RUNNING\", \"numTasks\": 40, \"numActiveTasks\": 1, \"numCompletedTasks\": 0, \"numSkippedTasks\": 0, \"numFailedTasks\": 0, \"numActiveStages\": 1, \"numCompletedStages\": 0, \"numSkippedStages\": 0, \"numFailedStages\": 0})"
      ]
     },
     "metadata": {},
     "output_type": "display_data"
    },
    {
     "data": {
      "application/javascript": [
       "refreshJobProgress_7baaa9b08eba4871822bed39cb61b615({\"jobId\": 3, \"name\": \"collect at <ipython-input-5-ed4060b10f3f>:122\", \"submissionTime\": \"2017-05-01T01:44:02.978GMT\", \"stageIds\": [3, 4], \"status\": \"RUNNING\", \"numTasks\": 40, \"numActiveTasks\": 1, \"numCompletedTasks\": 0, \"numSkippedTasks\": 0, \"numFailedTasks\": 0, \"numActiveStages\": 1, \"numCompletedStages\": 0, \"numSkippedStages\": 0, \"numFailedStages\": 0})"
      ]
     },
     "metadata": {},
     "output_type": "display_data"
    },
    {
     "data": {
      "application/javascript": [
       "refreshJobProgress_7baaa9b08eba4871822bed39cb61b615({\"jobId\": 3, \"name\": \"collect at <ipython-input-5-ed4060b10f3f>:122\", \"submissionTime\": \"2017-05-01T01:44:02.978GMT\", \"stageIds\": [3, 4], \"status\": \"RUNNING\", \"numTasks\": 40, \"numActiveTasks\": 1, \"numCompletedTasks\": 0, \"numSkippedTasks\": 0, \"numFailedTasks\": 0, \"numActiveStages\": 1, \"numCompletedStages\": 0, \"numSkippedStages\": 0, \"numFailedStages\": 0})"
      ]
     },
     "metadata": {},
     "output_type": "display_data"
    },
    {
     "data": {
      "application/javascript": [
       "refreshJobProgress_7baaa9b08eba4871822bed39cb61b615({\"jobId\": 3, \"name\": \"collect at <ipython-input-5-ed4060b10f3f>:122\", \"submissionTime\": \"2017-05-01T01:44:02.978GMT\", \"stageIds\": [3, 4], \"status\": \"RUNNING\", \"numTasks\": 40, \"numActiveTasks\": 1, \"numCompletedTasks\": 0, \"numSkippedTasks\": 0, \"numFailedTasks\": 0, \"numActiveStages\": 1, \"numCompletedStages\": 0, \"numSkippedStages\": 0, \"numFailedStages\": 0})"
      ]
     },
     "metadata": {},
     "output_type": "display_data"
    },
    {
     "data": {
      "application/javascript": [
       "refreshJobProgress_7baaa9b08eba4871822bed39cb61b615({\"jobId\": 3, \"name\": \"collect at <ipython-input-5-ed4060b10f3f>:122\", \"submissionTime\": \"2017-05-01T01:44:02.978GMT\", \"stageIds\": [3, 4], \"status\": \"RUNNING\", \"numTasks\": 40, \"numActiveTasks\": 1, \"numCompletedTasks\": 0, \"numSkippedTasks\": 0, \"numFailedTasks\": 0, \"numActiveStages\": 1, \"numCompletedStages\": 0, \"numSkippedStages\": 0, \"numFailedStages\": 0})"
      ]
     },
     "metadata": {},
     "output_type": "display_data"
    },
    {
     "data": {
      "application/javascript": [
       "refreshJobProgress_7baaa9b08eba4871822bed39cb61b615({\"jobId\": 3, \"name\": \"collect at <ipython-input-5-ed4060b10f3f>:122\", \"submissionTime\": \"2017-05-01T01:44:02.978GMT\", \"stageIds\": [3, 4], \"status\": \"RUNNING\", \"numTasks\": 40, \"numActiveTasks\": 1, \"numCompletedTasks\": 0, \"numSkippedTasks\": 0, \"numFailedTasks\": 0, \"numActiveStages\": 1, \"numCompletedStages\": 0, \"numSkippedStages\": 0, \"numFailedStages\": 0})"
      ]
     },
     "metadata": {},
     "output_type": "display_data"
    },
    {
     "data": {
      "application/javascript": [
       "refreshJobProgress_7baaa9b08eba4871822bed39cb61b615({\"jobId\": 3, \"name\": \"collect at <ipython-input-5-ed4060b10f3f>:122\", \"submissionTime\": \"2017-05-01T01:44:02.978GMT\", \"stageIds\": [3, 4], \"status\": \"RUNNING\", \"numTasks\": 40, \"numActiveTasks\": 1, \"numCompletedTasks\": 0, \"numSkippedTasks\": 0, \"numFailedTasks\": 0, \"numActiveStages\": 1, \"numCompletedStages\": 0, \"numSkippedStages\": 0, \"numFailedStages\": 0})"
      ]
     },
     "metadata": {},
     "output_type": "display_data"
    },
    {
     "data": {
      "application/javascript": [
       "refreshJobProgress_7baaa9b08eba4871822bed39cb61b615({\"jobId\": 3, \"name\": \"collect at <ipython-input-5-ed4060b10f3f>:122\", \"submissionTime\": \"2017-05-01T01:44:02.978GMT\", \"stageIds\": [3, 4], \"status\": \"RUNNING\", \"numTasks\": 40, \"numActiveTasks\": 1, \"numCompletedTasks\": 0, \"numSkippedTasks\": 0, \"numFailedTasks\": 0, \"numActiveStages\": 1, \"numCompletedStages\": 0, \"numSkippedStages\": 0, \"numFailedStages\": 0})"
      ]
     },
     "metadata": {},
     "output_type": "display_data"
    },
    {
     "data": {
      "application/javascript": [
       "refreshJobProgress_7baaa9b08eba4871822bed39cb61b615({\"jobId\": 3, \"name\": \"collect at <ipython-input-5-ed4060b10f3f>:122\", \"submissionTime\": \"2017-05-01T01:44:02.978GMT\", \"stageIds\": [3, 4], \"status\": \"RUNNING\", \"numTasks\": 40, \"numActiveTasks\": 1, \"numCompletedTasks\": 0, \"numSkippedTasks\": 0, \"numFailedTasks\": 0, \"numActiveStages\": 1, \"numCompletedStages\": 0, \"numSkippedStages\": 0, \"numFailedStages\": 0})"
      ]
     },
     "metadata": {},
     "output_type": "display_data"
    },
    {
     "data": {
      "application/javascript": [
       "refreshJobProgress_7baaa9b08eba4871822bed39cb61b615({\"jobId\": 3, \"name\": \"collect at <ipython-input-5-ed4060b10f3f>:122\", \"submissionTime\": \"2017-05-01T01:44:02.978GMT\", \"stageIds\": [3, 4], \"status\": \"RUNNING\", \"numTasks\": 40, \"numActiveTasks\": 1, \"numCompletedTasks\": 0, \"numSkippedTasks\": 0, \"numFailedTasks\": 0, \"numActiveStages\": 1, \"numCompletedStages\": 0, \"numSkippedStages\": 0, \"numFailedStages\": 0})"
      ]
     },
     "metadata": {},
     "output_type": "display_data"
    },
    {
     "data": {
      "application/javascript": [
       "refreshJobProgress_7baaa9b08eba4871822bed39cb61b615({\"jobId\": 3, \"name\": \"collect at <ipython-input-5-ed4060b10f3f>:122\", \"submissionTime\": \"2017-05-01T01:44:02.978GMT\", \"stageIds\": [3, 4], \"status\": \"RUNNING\", \"numTasks\": 40, \"numActiveTasks\": 1, \"numCompletedTasks\": 0, \"numSkippedTasks\": 0, \"numFailedTasks\": 0, \"numActiveStages\": 1, \"numCompletedStages\": 0, \"numSkippedStages\": 0, \"numFailedStages\": 0})"
      ]
     },
     "metadata": {},
     "output_type": "display_data"
    },
    {
     "data": {
      "application/javascript": [
       "refreshJobProgress_7baaa9b08eba4871822bed39cb61b615({\"jobId\": 3, \"name\": \"collect at <ipython-input-5-ed4060b10f3f>:122\", \"submissionTime\": \"2017-05-01T01:44:02.978GMT\", \"stageIds\": [3, 4], \"status\": \"RUNNING\", \"numTasks\": 40, \"numActiveTasks\": 1, \"numCompletedTasks\": 0, \"numSkippedTasks\": 0, \"numFailedTasks\": 0, \"numActiveStages\": 1, \"numCompletedStages\": 0, \"numSkippedStages\": 0, \"numFailedStages\": 0})"
      ]
     },
     "metadata": {},
     "output_type": "display_data"
    },
    {
     "data": {
      "application/javascript": [
       "refreshJobProgress_7baaa9b08eba4871822bed39cb61b615({\"jobId\": 3, \"name\": \"collect at <ipython-input-5-ed4060b10f3f>:122\", \"submissionTime\": \"2017-05-01T01:44:02.978GMT\", \"stageIds\": [3, 4], \"status\": \"RUNNING\", \"numTasks\": 40, \"numActiveTasks\": 1, \"numCompletedTasks\": 0, \"numSkippedTasks\": 0, \"numFailedTasks\": 0, \"numActiveStages\": 1, \"numCompletedStages\": 0, \"numSkippedStages\": 0, \"numFailedStages\": 0})"
      ]
     },
     "metadata": {},
     "output_type": "display_data"
    },
    {
     "data": {
      "application/javascript": [
       "refreshJobProgress_7baaa9b08eba4871822bed39cb61b615({\"jobId\": 3, \"name\": \"collect at <ipython-input-5-ed4060b10f3f>:122\", \"submissionTime\": \"2017-05-01T01:44:02.978GMT\", \"stageIds\": [3, 4], \"status\": \"RUNNING\", \"numTasks\": 40, \"numActiveTasks\": 1, \"numCompletedTasks\": 0, \"numSkippedTasks\": 0, \"numFailedTasks\": 0, \"numActiveStages\": 1, \"numCompletedStages\": 0, \"numSkippedStages\": 0, \"numFailedStages\": 0})"
      ]
     },
     "metadata": {},
     "output_type": "display_data"
    },
    {
     "data": {
      "application/javascript": [
       "refreshJobProgress_7baaa9b08eba4871822bed39cb61b615({\"jobId\": 3, \"name\": \"collect at <ipython-input-5-ed4060b10f3f>:122\", \"submissionTime\": \"2017-05-01T01:44:02.978GMT\", \"stageIds\": [3, 4], \"status\": \"RUNNING\", \"numTasks\": 40, \"numActiveTasks\": 1, \"numCompletedTasks\": 0, \"numSkippedTasks\": 0, \"numFailedTasks\": 0, \"numActiveStages\": 1, \"numCompletedStages\": 0, \"numSkippedStages\": 0, \"numFailedStages\": 0})"
      ]
     },
     "metadata": {},
     "output_type": "display_data"
    },
    {
     "data": {
      "application/javascript": [
       "refreshJobProgress_7baaa9b08eba4871822bed39cb61b615({\"jobId\": 3, \"name\": \"collect at <ipython-input-5-ed4060b10f3f>:122\", \"submissionTime\": \"2017-05-01T01:44:02.978GMT\", \"stageIds\": [3, 4], \"status\": \"RUNNING\", \"numTasks\": 40, \"numActiveTasks\": 1, \"numCompletedTasks\": 0, \"numSkippedTasks\": 0, \"numFailedTasks\": 0, \"numActiveStages\": 1, \"numCompletedStages\": 0, \"numSkippedStages\": 0, \"numFailedStages\": 0})"
      ]
     },
     "metadata": {},
     "output_type": "display_data"
    },
    {
     "data": {
      "application/javascript": [
       "refreshJobProgress_7baaa9b08eba4871822bed39cb61b615({\"jobId\": 3, \"name\": \"collect at <ipython-input-5-ed4060b10f3f>:122\", \"submissionTime\": \"2017-05-01T01:44:02.978GMT\", \"stageIds\": [3, 4], \"status\": \"RUNNING\", \"numTasks\": 40, \"numActiveTasks\": 1, \"numCompletedTasks\": 0, \"numSkippedTasks\": 0, \"numFailedTasks\": 0, \"numActiveStages\": 1, \"numCompletedStages\": 0, \"numSkippedStages\": 0, \"numFailedStages\": 0})"
      ]
     },
     "metadata": {},
     "output_type": "display_data"
    },
    {
     "data": {
      "application/javascript": [
       "refreshJobProgress_7baaa9b08eba4871822bed39cb61b615({\"jobId\": 3, \"name\": \"collect at <ipython-input-5-ed4060b10f3f>:122\", \"submissionTime\": \"2017-05-01T01:44:02.978GMT\", \"stageIds\": [3, 4], \"status\": \"RUNNING\", \"numTasks\": 40, \"numActiveTasks\": 1, \"numCompletedTasks\": 0, \"numSkippedTasks\": 0, \"numFailedTasks\": 0, \"numActiveStages\": 1, \"numCompletedStages\": 0, \"numSkippedStages\": 0, \"numFailedStages\": 0})"
      ]
     },
     "metadata": {},
     "output_type": "display_data"
    },
    {
     "data": {
      "application/javascript": [
       "refreshJobProgress_7baaa9b08eba4871822bed39cb61b615({\"jobId\": 3, \"name\": \"collect at <ipython-input-5-ed4060b10f3f>:122\", \"submissionTime\": \"2017-05-01T01:44:02.978GMT\", \"stageIds\": [3, 4], \"status\": \"RUNNING\", \"numTasks\": 40, \"numActiveTasks\": 1, \"numCompletedTasks\": 0, \"numSkippedTasks\": 0, \"numFailedTasks\": 0, \"numActiveStages\": 1, \"numCompletedStages\": 0, \"numSkippedStages\": 0, \"numFailedStages\": 0})"
      ]
     },
     "metadata": {},
     "output_type": "display_data"
    },
    {
     "data": {
      "application/javascript": [
       "refreshJobProgress_7baaa9b08eba4871822bed39cb61b615({\"jobId\": 3, \"name\": \"collect at <ipython-input-5-ed4060b10f3f>:122\", \"submissionTime\": \"2017-05-01T01:44:02.978GMT\", \"stageIds\": [3, 4], \"status\": \"RUNNING\", \"numTasks\": 40, \"numActiveTasks\": 1, \"numCompletedTasks\": 0, \"numSkippedTasks\": 0, \"numFailedTasks\": 0, \"numActiveStages\": 1, \"numCompletedStages\": 0, \"numSkippedStages\": 0, \"numFailedStages\": 0})"
      ]
     },
     "metadata": {},
     "output_type": "display_data"
    },
    {
     "data": {
      "application/javascript": [
       "refreshJobProgress_7baaa9b08eba4871822bed39cb61b615({\"jobId\": 3, \"name\": \"collect at <ipython-input-5-ed4060b10f3f>:122\", \"submissionTime\": \"2017-05-01T01:44:02.978GMT\", \"stageIds\": [3, 4], \"status\": \"RUNNING\", \"numTasks\": 40, \"numActiveTasks\": 1, \"numCompletedTasks\": 0, \"numSkippedTasks\": 0, \"numFailedTasks\": 0, \"numActiveStages\": 1, \"numCompletedStages\": 0, \"numSkippedStages\": 0, \"numFailedStages\": 0})"
      ]
     },
     "metadata": {},
     "output_type": "display_data"
    },
    {
     "data": {
      "application/javascript": [
       "refreshJobProgress_7baaa9b08eba4871822bed39cb61b615({\"jobId\": 3, \"name\": \"collect at <ipython-input-5-ed4060b10f3f>:122\", \"submissionTime\": \"2017-05-01T01:44:02.978GMT\", \"stageIds\": [3, 4], \"status\": \"RUNNING\", \"numTasks\": 40, \"numActiveTasks\": 1, \"numCompletedTasks\": 0, \"numSkippedTasks\": 0, \"numFailedTasks\": 0, \"numActiveStages\": 1, \"numCompletedStages\": 0, \"numSkippedStages\": 0, \"numFailedStages\": 0})"
      ]
     },
     "metadata": {},
     "output_type": "display_data"
    },
    {
     "data": {
      "application/javascript": [
       "refreshJobProgress_7baaa9b08eba4871822bed39cb61b615({\"jobId\": 3, \"name\": \"collect at <ipython-input-5-ed4060b10f3f>:122\", \"submissionTime\": \"2017-05-01T01:44:02.978GMT\", \"stageIds\": [3, 4], \"status\": \"RUNNING\", \"numTasks\": 40, \"numActiveTasks\": 1, \"numCompletedTasks\": 0, \"numSkippedTasks\": 0, \"numFailedTasks\": 0, \"numActiveStages\": 1, \"numCompletedStages\": 0, \"numSkippedStages\": 0, \"numFailedStages\": 0})"
      ]
     },
     "metadata": {},
     "output_type": "display_data"
    },
    {
     "data": {
      "application/javascript": [
       "refreshJobProgress_7baaa9b08eba4871822bed39cb61b615({\"jobId\": 3, \"name\": \"collect at <ipython-input-5-ed4060b10f3f>:122\", \"submissionTime\": \"2017-05-01T01:44:02.978GMT\", \"stageIds\": [3, 4], \"status\": \"RUNNING\", \"numTasks\": 40, \"numActiveTasks\": 1, \"numCompletedTasks\": 0, \"numSkippedTasks\": 0, \"numFailedTasks\": 0, \"numActiveStages\": 1, \"numCompletedStages\": 0, \"numSkippedStages\": 0, \"numFailedStages\": 0})"
      ]
     },
     "metadata": {},
     "output_type": "display_data"
    },
    {
     "data": {
      "application/javascript": [
       "refreshJobProgress_7baaa9b08eba4871822bed39cb61b615({\"jobId\": 3, \"name\": \"collect at <ipython-input-5-ed4060b10f3f>:122\", \"submissionTime\": \"2017-05-01T01:44:02.978GMT\", \"stageIds\": [3, 4], \"status\": \"RUNNING\", \"numTasks\": 40, \"numActiveTasks\": 1, \"numCompletedTasks\": 0, \"numSkippedTasks\": 0, \"numFailedTasks\": 0, \"numActiveStages\": 1, \"numCompletedStages\": 0, \"numSkippedStages\": 0, \"numFailedStages\": 0})"
      ]
     },
     "metadata": {},
     "output_type": "display_data"
    },
    {
     "data": {
      "application/javascript": [
       "refreshJobProgress_7baaa9b08eba4871822bed39cb61b615({\"jobId\": 3, \"name\": \"collect at <ipython-input-5-ed4060b10f3f>:122\", \"submissionTime\": \"2017-05-01T01:44:02.978GMT\", \"stageIds\": [3, 4], \"status\": \"RUNNING\", \"numTasks\": 40, \"numActiveTasks\": 1, \"numCompletedTasks\": 0, \"numSkippedTasks\": 0, \"numFailedTasks\": 0, \"numActiveStages\": 1, \"numCompletedStages\": 0, \"numSkippedStages\": 0, \"numFailedStages\": 0})"
      ]
     },
     "metadata": {},
     "output_type": "display_data"
    },
    {
     "data": {
      "application/javascript": [
       "refreshJobProgress_7baaa9b08eba4871822bed39cb61b615({\"jobId\": 3, \"name\": \"collect at <ipython-input-5-ed4060b10f3f>:122\", \"submissionTime\": \"2017-05-01T01:44:02.978GMT\", \"stageIds\": [3, 4], \"status\": \"RUNNING\", \"numTasks\": 40, \"numActiveTasks\": 1, \"numCompletedTasks\": 0, \"numSkippedTasks\": 0, \"numFailedTasks\": 0, \"numActiveStages\": 1, \"numCompletedStages\": 0, \"numSkippedStages\": 0, \"numFailedStages\": 0})"
      ]
     },
     "metadata": {},
     "output_type": "display_data"
    },
    {
     "data": {
      "application/javascript": [
       "refreshJobProgress_7baaa9b08eba4871822bed39cb61b615({\"jobId\": 3, \"name\": \"collect at <ipython-input-5-ed4060b10f3f>:122\", \"submissionTime\": \"2017-05-01T01:44:02.978GMT\", \"stageIds\": [3, 4], \"status\": \"RUNNING\", \"numTasks\": 40, \"numActiveTasks\": 1, \"numCompletedTasks\": 0, \"numSkippedTasks\": 0, \"numFailedTasks\": 0, \"numActiveStages\": 1, \"numCompletedStages\": 0, \"numSkippedStages\": 0, \"numFailedStages\": 0})"
      ]
     },
     "metadata": {},
     "output_type": "display_data"
    },
    {
     "data": {
      "application/javascript": [
       "refreshJobProgress_7baaa9b08eba4871822bed39cb61b615({\"jobId\": 3, \"name\": \"collect at <ipython-input-5-ed4060b10f3f>:122\", \"submissionTime\": \"2017-05-01T01:44:02.978GMT\", \"stageIds\": [3, 4], \"status\": \"RUNNING\", \"numTasks\": 40, \"numActiveTasks\": 1, \"numCompletedTasks\": 0, \"numSkippedTasks\": 0, \"numFailedTasks\": 0, \"numActiveStages\": 1, \"numCompletedStages\": 0, \"numSkippedStages\": 0, \"numFailedStages\": 0})"
      ]
     },
     "metadata": {},
     "output_type": "display_data"
    },
    {
     "data": {
      "application/javascript": [
       "refreshJobProgress_7baaa9b08eba4871822bed39cb61b615({\"jobId\": 3, \"name\": \"collect at <ipython-input-5-ed4060b10f3f>:122\", \"submissionTime\": \"2017-05-01T01:44:02.978GMT\", \"stageIds\": [3, 4], \"status\": \"RUNNING\", \"numTasks\": 40, \"numActiveTasks\": 1, \"numCompletedTasks\": 0, \"numSkippedTasks\": 0, \"numFailedTasks\": 0, \"numActiveStages\": 1, \"numCompletedStages\": 0, \"numSkippedStages\": 0, \"numFailedStages\": 0})"
      ]
     },
     "metadata": {},
     "output_type": "display_data"
    },
    {
     "data": {
      "application/javascript": [
       "refreshJobProgress_7baaa9b08eba4871822bed39cb61b615({\"jobId\": 3, \"name\": \"collect at <ipython-input-5-ed4060b10f3f>:122\", \"submissionTime\": \"2017-05-01T01:44:02.978GMT\", \"stageIds\": [3, 4], \"status\": \"RUNNING\", \"numTasks\": 40, \"numActiveTasks\": 1, \"numCompletedTasks\": 0, \"numSkippedTasks\": 0, \"numFailedTasks\": 0, \"numActiveStages\": 1, \"numCompletedStages\": 0, \"numSkippedStages\": 0, \"numFailedStages\": 0})"
      ]
     },
     "metadata": {},
     "output_type": "display_data"
    },
    {
     "data": {
      "application/javascript": [
       "refreshJobProgress_7baaa9b08eba4871822bed39cb61b615({\"jobId\": 3, \"name\": \"collect at <ipython-input-5-ed4060b10f3f>:122\", \"submissionTime\": \"2017-05-01T01:44:02.978GMT\", \"stageIds\": [3, 4], \"status\": \"RUNNING\", \"numTasks\": 40, \"numActiveTasks\": 1, \"numCompletedTasks\": 0, \"numSkippedTasks\": 0, \"numFailedTasks\": 0, \"numActiveStages\": 1, \"numCompletedStages\": 0, \"numSkippedStages\": 0, \"numFailedStages\": 0})"
      ]
     },
     "metadata": {},
     "output_type": "display_data"
    },
    {
     "data": {
      "application/javascript": [
       "refreshJobProgress_7baaa9b08eba4871822bed39cb61b615({\"jobId\": 3, \"name\": \"collect at <ipython-input-5-ed4060b10f3f>:122\", \"submissionTime\": \"2017-05-01T01:44:02.978GMT\", \"stageIds\": [3, 4], \"status\": \"RUNNING\", \"numTasks\": 40, \"numActiveTasks\": 1, \"numCompletedTasks\": 0, \"numSkippedTasks\": 0, \"numFailedTasks\": 0, \"numActiveStages\": 1, \"numCompletedStages\": 0, \"numSkippedStages\": 0, \"numFailedStages\": 0})"
      ]
     },
     "metadata": {},
     "output_type": "display_data"
    },
    {
     "data": {
      "application/javascript": [
       "refreshJobProgress_7baaa9b08eba4871822bed39cb61b615({\"jobId\": 3, \"name\": \"collect at <ipython-input-5-ed4060b10f3f>:122\", \"submissionTime\": \"2017-05-01T01:44:02.978GMT\", \"stageIds\": [3, 4], \"status\": \"RUNNING\", \"numTasks\": 40, \"numActiveTasks\": 1, \"numCompletedTasks\": 0, \"numSkippedTasks\": 0, \"numFailedTasks\": 0, \"numActiveStages\": 1, \"numCompletedStages\": 0, \"numSkippedStages\": 0, \"numFailedStages\": 0})"
      ]
     },
     "metadata": {},
     "output_type": "display_data"
    },
    {
     "data": {
      "application/javascript": [
       "refreshJobProgress_7baaa9b08eba4871822bed39cb61b615({\"jobId\": 3, \"name\": \"collect at <ipython-input-5-ed4060b10f3f>:122\", \"submissionTime\": \"2017-05-01T01:44:02.978GMT\", \"stageIds\": [3, 4], \"status\": \"RUNNING\", \"numTasks\": 40, \"numActiveTasks\": 1, \"numCompletedTasks\": 0, \"numSkippedTasks\": 0, \"numFailedTasks\": 0, \"numActiveStages\": 1, \"numCompletedStages\": 0, \"numSkippedStages\": 0, \"numFailedStages\": 0})"
      ]
     },
     "metadata": {},
     "output_type": "display_data"
    },
    {
     "data": {
      "application/javascript": [
       "refreshJobProgress_7baaa9b08eba4871822bed39cb61b615({\"jobId\": 3, \"name\": \"collect at <ipython-input-5-ed4060b10f3f>:122\", \"submissionTime\": \"2017-05-01T01:44:02.978GMT\", \"stageIds\": [3, 4], \"status\": \"RUNNING\", \"numTasks\": 40, \"numActiveTasks\": 1, \"numCompletedTasks\": 0, \"numSkippedTasks\": 0, \"numFailedTasks\": 0, \"numActiveStages\": 1, \"numCompletedStages\": 0, \"numSkippedStages\": 0, \"numFailedStages\": 0})"
      ]
     },
     "metadata": {},
     "output_type": "display_data"
    },
    {
     "data": {
      "application/javascript": [
       "refreshJobProgress_7baaa9b08eba4871822bed39cb61b615({\"jobId\": 3, \"name\": \"collect at <ipython-input-5-ed4060b10f3f>:122\", \"submissionTime\": \"2017-05-01T01:44:02.978GMT\", \"stageIds\": [3, 4], \"status\": \"RUNNING\", \"numTasks\": 40, \"numActiveTasks\": 1, \"numCompletedTasks\": 0, \"numSkippedTasks\": 0, \"numFailedTasks\": 0, \"numActiveStages\": 1, \"numCompletedStages\": 0, \"numSkippedStages\": 0, \"numFailedStages\": 0})"
      ]
     },
     "metadata": {},
     "output_type": "display_data"
    },
    {
     "data": {
      "application/javascript": [
       "refreshJobProgress_7baaa9b08eba4871822bed39cb61b615({\"jobId\": 3, \"name\": \"collect at <ipython-input-5-ed4060b10f3f>:122\", \"submissionTime\": \"2017-05-01T01:44:02.978GMT\", \"stageIds\": [3, 4], \"status\": \"RUNNING\", \"numTasks\": 40, \"numActiveTasks\": 1, \"numCompletedTasks\": 0, \"numSkippedTasks\": 0, \"numFailedTasks\": 0, \"numActiveStages\": 1, \"numCompletedStages\": 0, \"numSkippedStages\": 0, \"numFailedStages\": 0})"
      ]
     },
     "metadata": {},
     "output_type": "display_data"
    },
    {
     "data": {
      "application/javascript": [
       "refreshJobProgress_7baaa9b08eba4871822bed39cb61b615({\"jobId\": 3, \"name\": \"collect at <ipython-input-5-ed4060b10f3f>:122\", \"submissionTime\": \"2017-05-01T01:44:02.978GMT\", \"stageIds\": [3, 4], \"status\": \"RUNNING\", \"numTasks\": 40, \"numActiveTasks\": 1, \"numCompletedTasks\": 0, \"numSkippedTasks\": 0, \"numFailedTasks\": 0, \"numActiveStages\": 1, \"numCompletedStages\": 0, \"numSkippedStages\": 0, \"numFailedStages\": 0})"
      ]
     },
     "metadata": {},
     "output_type": "display_data"
    },
    {
     "data": {
      "application/javascript": [
       "refreshJobProgress_7baaa9b08eba4871822bed39cb61b615({\"jobId\": 3, \"name\": \"collect at <ipython-input-5-ed4060b10f3f>:122\", \"submissionTime\": \"2017-05-01T01:44:02.978GMT\", \"stageIds\": [3, 4], \"status\": \"RUNNING\", \"numTasks\": 40, \"numActiveTasks\": 1, \"numCompletedTasks\": 0, \"numSkippedTasks\": 0, \"numFailedTasks\": 0, \"numActiveStages\": 1, \"numCompletedStages\": 0, \"numSkippedStages\": 0, \"numFailedStages\": 0})"
      ]
     },
     "metadata": {},
     "output_type": "display_data"
    },
    {
     "data": {
      "application/javascript": [
       "refreshJobProgress_7baaa9b08eba4871822bed39cb61b615({\"jobId\": 3, \"name\": \"collect at <ipython-input-5-ed4060b10f3f>:122\", \"submissionTime\": \"2017-05-01T01:44:02.978GMT\", \"stageIds\": [3, 4], \"status\": \"RUNNING\", \"numTasks\": 40, \"numActiveTasks\": 1, \"numCompletedTasks\": 0, \"numSkippedTasks\": 0, \"numFailedTasks\": 0, \"numActiveStages\": 1, \"numCompletedStages\": 0, \"numSkippedStages\": 0, \"numFailedStages\": 0})"
      ]
     },
     "metadata": {},
     "output_type": "display_data"
    },
    {
     "data": {
      "application/javascript": [
       "refreshJobProgress_7baaa9b08eba4871822bed39cb61b615({\"jobId\": 3, \"name\": \"collect at <ipython-input-5-ed4060b10f3f>:122\", \"submissionTime\": \"2017-05-01T01:44:02.978GMT\", \"stageIds\": [3, 4], \"status\": \"RUNNING\", \"numTasks\": 40, \"numActiveTasks\": 1, \"numCompletedTasks\": 0, \"numSkippedTasks\": 0, \"numFailedTasks\": 0, \"numActiveStages\": 1, \"numCompletedStages\": 0, \"numSkippedStages\": 0, \"numFailedStages\": 0})"
      ]
     },
     "metadata": {},
     "output_type": "display_data"
    },
    {
     "data": {
      "application/javascript": [
       "refreshJobProgress_7baaa9b08eba4871822bed39cb61b615({\"jobId\": 3, \"name\": \"collect at <ipython-input-5-ed4060b10f3f>:122\", \"submissionTime\": \"2017-05-01T01:44:02.978GMT\", \"stageIds\": [3, 4], \"status\": \"RUNNING\", \"numTasks\": 40, \"numActiveTasks\": 1, \"numCompletedTasks\": 0, \"numSkippedTasks\": 0, \"numFailedTasks\": 0, \"numActiveStages\": 1, \"numCompletedStages\": 0, \"numSkippedStages\": 0, \"numFailedStages\": 0})"
      ]
     },
     "metadata": {},
     "output_type": "display_data"
    },
    {
     "data": {
      "application/javascript": [
       "refreshJobProgress_7baaa9b08eba4871822bed39cb61b615({\"jobId\": 3, \"name\": \"collect at <ipython-input-5-ed4060b10f3f>:122\", \"submissionTime\": \"2017-05-01T01:44:02.978GMT\", \"stageIds\": [3, 4], \"status\": \"RUNNING\", \"numTasks\": 40, \"numActiveTasks\": 1, \"numCompletedTasks\": 0, \"numSkippedTasks\": 0, \"numFailedTasks\": 0, \"numActiveStages\": 1, \"numCompletedStages\": 0, \"numSkippedStages\": 0, \"numFailedStages\": 0})"
      ]
     },
     "metadata": {},
     "output_type": "display_data"
    },
    {
     "data": {
      "application/javascript": [
       "refreshJobProgress_7baaa9b08eba4871822bed39cb61b615({\"jobId\": 3, \"name\": \"collect at <ipython-input-5-ed4060b10f3f>:122\", \"submissionTime\": \"2017-05-01T01:44:02.978GMT\", \"stageIds\": [3, 4], \"status\": \"RUNNING\", \"numTasks\": 40, \"numActiveTasks\": 1, \"numCompletedTasks\": 0, \"numSkippedTasks\": 0, \"numFailedTasks\": 0, \"numActiveStages\": 1, \"numCompletedStages\": 0, \"numSkippedStages\": 0, \"numFailedStages\": 0})"
      ]
     },
     "metadata": {},
     "output_type": "display_data"
    },
    {
     "data": {
      "application/javascript": [
       "refreshJobProgress_7baaa9b08eba4871822bed39cb61b615({\"jobId\": 3, \"name\": \"collect at <ipython-input-5-ed4060b10f3f>:122\", \"submissionTime\": \"2017-05-01T01:44:02.978GMT\", \"stageIds\": [3, 4], \"status\": \"RUNNING\", \"numTasks\": 40, \"numActiveTasks\": 1, \"numCompletedTasks\": 0, \"numSkippedTasks\": 0, \"numFailedTasks\": 0, \"numActiveStages\": 1, \"numCompletedStages\": 0, \"numSkippedStages\": 0, \"numFailedStages\": 0})"
      ]
     },
     "metadata": {},
     "output_type": "display_data"
    },
    {
     "data": {
      "application/javascript": [
       "refreshJobProgress_7baaa9b08eba4871822bed39cb61b615({\"jobId\": 3, \"name\": \"collect at <ipython-input-5-ed4060b10f3f>:122\", \"submissionTime\": \"2017-05-01T01:44:02.978GMT\", \"stageIds\": [3, 4], \"status\": \"RUNNING\", \"numTasks\": 40, \"numActiveTasks\": 1, \"numCompletedTasks\": 0, \"numSkippedTasks\": 0, \"numFailedTasks\": 0, \"numActiveStages\": 1, \"numCompletedStages\": 0, \"numSkippedStages\": 0, \"numFailedStages\": 0})"
      ]
     },
     "metadata": {},
     "output_type": "display_data"
    },
    {
     "data": {
      "application/javascript": [
       "refreshJobProgress_7baaa9b08eba4871822bed39cb61b615({\"jobId\": 3, \"name\": \"collect at <ipython-input-5-ed4060b10f3f>:122\", \"submissionTime\": \"2017-05-01T01:44:02.978GMT\", \"stageIds\": [3, 4], \"status\": \"RUNNING\", \"numTasks\": 40, \"numActiveTasks\": 1, \"numCompletedTasks\": 0, \"numSkippedTasks\": 0, \"numFailedTasks\": 0, \"numActiveStages\": 1, \"numCompletedStages\": 0, \"numSkippedStages\": 0, \"numFailedStages\": 0})"
      ]
     },
     "metadata": {},
     "output_type": "display_data"
    },
    {
     "data": {
      "application/javascript": [
       "refreshJobProgress_7baaa9b08eba4871822bed39cb61b615({\"jobId\": 3, \"name\": \"collect at <ipython-input-5-ed4060b10f3f>:122\", \"submissionTime\": \"2017-05-01T01:44:02.978GMT\", \"stageIds\": [3, 4], \"status\": \"RUNNING\", \"numTasks\": 40, \"numActiveTasks\": 1, \"numCompletedTasks\": 0, \"numSkippedTasks\": 0, \"numFailedTasks\": 0, \"numActiveStages\": 1, \"numCompletedStages\": 0, \"numSkippedStages\": 0, \"numFailedStages\": 0})"
      ]
     },
     "metadata": {},
     "output_type": "display_data"
    },
    {
     "data": {
      "application/javascript": [
       "refreshJobProgress_7baaa9b08eba4871822bed39cb61b615({\"jobId\": 3, \"name\": \"collect at <ipython-input-5-ed4060b10f3f>:122\", \"submissionTime\": \"2017-05-01T01:44:02.978GMT\", \"stageIds\": [3, 4], \"status\": \"RUNNING\", \"numTasks\": 40, \"numActiveTasks\": 1, \"numCompletedTasks\": 0, \"numSkippedTasks\": 0, \"numFailedTasks\": 0, \"numActiveStages\": 1, \"numCompletedStages\": 0, \"numSkippedStages\": 0, \"numFailedStages\": 0})"
      ]
     },
     "metadata": {},
     "output_type": "display_data"
    },
    {
     "data": {
      "application/javascript": [
       "refreshJobProgress_7baaa9b08eba4871822bed39cb61b615({\"jobId\": 3, \"name\": \"collect at <ipython-input-5-ed4060b10f3f>:122\", \"submissionTime\": \"2017-05-01T01:44:02.978GMT\", \"stageIds\": [3, 4], \"status\": \"RUNNING\", \"numTasks\": 40, \"numActiveTasks\": 1, \"numCompletedTasks\": 0, \"numSkippedTasks\": 0, \"numFailedTasks\": 0, \"numActiveStages\": 1, \"numCompletedStages\": 0, \"numSkippedStages\": 0, \"numFailedStages\": 0})"
      ]
     },
     "metadata": {},
     "output_type": "display_data"
    },
    {
     "data": {
      "application/javascript": [
       "refreshJobProgress_7baaa9b08eba4871822bed39cb61b615({\"jobId\": 3, \"name\": \"collect at <ipython-input-5-ed4060b10f3f>:122\", \"submissionTime\": \"2017-05-01T01:44:02.978GMT\", \"stageIds\": [3, 4], \"status\": \"RUNNING\", \"numTasks\": 40, \"numActiveTasks\": 1, \"numCompletedTasks\": 0, \"numSkippedTasks\": 0, \"numFailedTasks\": 0, \"numActiveStages\": 1, \"numCompletedStages\": 0, \"numSkippedStages\": 0, \"numFailedStages\": 0})"
      ]
     },
     "metadata": {},
     "output_type": "display_data"
    },
    {
     "data": {
      "application/javascript": [
       "refreshJobProgress_7baaa9b08eba4871822bed39cb61b615({\"jobId\": 3, \"name\": \"collect at <ipython-input-5-ed4060b10f3f>:122\", \"submissionTime\": \"2017-05-01T01:44:02.978GMT\", \"stageIds\": [3, 4], \"status\": \"RUNNING\", \"numTasks\": 40, \"numActiveTasks\": 1, \"numCompletedTasks\": 0, \"numSkippedTasks\": 0, \"numFailedTasks\": 0, \"numActiveStages\": 1, \"numCompletedStages\": 0, \"numSkippedStages\": 0, \"numFailedStages\": 0})"
      ]
     },
     "metadata": {},
     "output_type": "display_data"
    },
    {
     "data": {
      "application/javascript": [
       "refreshJobProgress_7baaa9b08eba4871822bed39cb61b615({\"jobId\": 3, \"name\": \"collect at <ipython-input-5-ed4060b10f3f>:122\", \"submissionTime\": \"2017-05-01T01:44:02.978GMT\", \"stageIds\": [3, 4], \"status\": \"RUNNING\", \"numTasks\": 40, \"numActiveTasks\": 1, \"numCompletedTasks\": 0, \"numSkippedTasks\": 0, \"numFailedTasks\": 0, \"numActiveStages\": 1, \"numCompletedStages\": 0, \"numSkippedStages\": 0, \"numFailedStages\": 0})"
      ]
     },
     "metadata": {},
     "output_type": "display_data"
    },
    {
     "data": {
      "application/javascript": [
       "refreshJobProgress_7baaa9b08eba4871822bed39cb61b615({\"jobId\": 3, \"name\": \"collect at <ipython-input-5-ed4060b10f3f>:122\", \"submissionTime\": \"2017-05-01T01:44:02.978GMT\", \"stageIds\": [3, 4], \"status\": \"RUNNING\", \"numTasks\": 40, \"numActiveTasks\": 1, \"numCompletedTasks\": 0, \"numSkippedTasks\": 0, \"numFailedTasks\": 0, \"numActiveStages\": 1, \"numCompletedStages\": 0, \"numSkippedStages\": 0, \"numFailedStages\": 0})"
      ]
     },
     "metadata": {},
     "output_type": "display_data"
    },
    {
     "data": {
      "application/javascript": [
       "refreshJobProgress_7baaa9b08eba4871822bed39cb61b615({\"jobId\": 3, \"name\": \"collect at <ipython-input-5-ed4060b10f3f>:122\", \"submissionTime\": \"2017-05-01T01:44:02.978GMT\", \"stageIds\": [3, 4], \"status\": \"RUNNING\", \"numTasks\": 40, \"numActiveTasks\": 1, \"numCompletedTasks\": 0, \"numSkippedTasks\": 0, \"numFailedTasks\": 0, \"numActiveStages\": 1, \"numCompletedStages\": 0, \"numSkippedStages\": 0, \"numFailedStages\": 0})"
      ]
     },
     "metadata": {},
     "output_type": "display_data"
    },
    {
     "data": {
      "application/javascript": [
       "refreshJobProgress_7baaa9b08eba4871822bed39cb61b615({\"jobId\": 3, \"name\": \"collect at <ipython-input-5-ed4060b10f3f>:122\", \"submissionTime\": \"2017-05-01T01:44:02.978GMT\", \"stageIds\": [3, 4], \"status\": \"RUNNING\", \"numTasks\": 40, \"numActiveTasks\": 1, \"numCompletedTasks\": 0, \"numSkippedTasks\": 0, \"numFailedTasks\": 0, \"numActiveStages\": 1, \"numCompletedStages\": 0, \"numSkippedStages\": 0, \"numFailedStages\": 0})"
      ]
     },
     "metadata": {},
     "output_type": "display_data"
    },
    {
     "data": {
      "application/javascript": [
       "refreshJobProgress_7baaa9b08eba4871822bed39cb61b615({\"jobId\": 3, \"name\": \"collect at <ipython-input-5-ed4060b10f3f>:122\", \"submissionTime\": \"2017-05-01T01:44:02.978GMT\", \"stageIds\": [3, 4], \"status\": \"RUNNING\", \"numTasks\": 40, \"numActiveTasks\": 1, \"numCompletedTasks\": 0, \"numSkippedTasks\": 0, \"numFailedTasks\": 0, \"numActiveStages\": 1, \"numCompletedStages\": 0, \"numSkippedStages\": 0, \"numFailedStages\": 0})"
      ]
     },
     "metadata": {},
     "output_type": "display_data"
    },
    {
     "data": {
      "application/javascript": [
       "refreshJobProgress_7baaa9b08eba4871822bed39cb61b615({\"jobId\": 3, \"name\": \"collect at <ipython-input-5-ed4060b10f3f>:122\", \"submissionTime\": \"2017-05-01T01:44:02.978GMT\", \"stageIds\": [3, 4], \"status\": \"RUNNING\", \"numTasks\": 40, \"numActiveTasks\": 1, \"numCompletedTasks\": 0, \"numSkippedTasks\": 0, \"numFailedTasks\": 0, \"numActiveStages\": 1, \"numCompletedStages\": 0, \"numSkippedStages\": 0, \"numFailedStages\": 0})"
      ]
     },
     "metadata": {},
     "output_type": "display_data"
    },
    {
     "data": {
      "application/javascript": [
       "refreshJobProgress_7baaa9b08eba4871822bed39cb61b615({\"jobId\": 3, \"name\": \"collect at <ipython-input-5-ed4060b10f3f>:122\", \"submissionTime\": \"2017-05-01T01:44:02.978GMT\", \"stageIds\": [3, 4], \"status\": \"RUNNING\", \"numTasks\": 40, \"numActiveTasks\": 1, \"numCompletedTasks\": 0, \"numSkippedTasks\": 0, \"numFailedTasks\": 0, \"numActiveStages\": 1, \"numCompletedStages\": 0, \"numSkippedStages\": 0, \"numFailedStages\": 0})"
      ]
     },
     "metadata": {},
     "output_type": "display_data"
    },
    {
     "data": {
      "application/javascript": [
       "refreshJobProgress_7baaa9b08eba4871822bed39cb61b615({\"jobId\": 3, \"name\": \"collect at <ipython-input-5-ed4060b10f3f>:122\", \"submissionTime\": \"2017-05-01T01:44:02.978GMT\", \"stageIds\": [3, 4], \"status\": \"RUNNING\", \"numTasks\": 40, \"numActiveTasks\": 1, \"numCompletedTasks\": 0, \"numSkippedTasks\": 0, \"numFailedTasks\": 0, \"numActiveStages\": 1, \"numCompletedStages\": 0, \"numSkippedStages\": 0, \"numFailedStages\": 0})"
      ]
     },
     "metadata": {},
     "output_type": "display_data"
    },
    {
     "data": {
      "application/javascript": [
       "refreshJobProgress_7baaa9b08eba4871822bed39cb61b615({\"jobId\": 3, \"name\": \"collect at <ipython-input-5-ed4060b10f3f>:122\", \"submissionTime\": \"2017-05-01T01:44:02.978GMT\", \"stageIds\": [3, 4], \"status\": \"RUNNING\", \"numTasks\": 40, \"numActiveTasks\": 1, \"numCompletedTasks\": 0, \"numSkippedTasks\": 0, \"numFailedTasks\": 0, \"numActiveStages\": 1, \"numCompletedStages\": 0, \"numSkippedStages\": 0, \"numFailedStages\": 0})"
      ]
     },
     "metadata": {},
     "output_type": "display_data"
    },
    {
     "data": {
      "application/javascript": [
       "refreshJobProgress_7baaa9b08eba4871822bed39cb61b615({\"jobId\": 3, \"name\": \"collect at <ipython-input-5-ed4060b10f3f>:122\", \"submissionTime\": \"2017-05-01T01:44:02.978GMT\", \"stageIds\": [3, 4], \"status\": \"RUNNING\", \"numTasks\": 40, \"numActiveTasks\": 1, \"numCompletedTasks\": 0, \"numSkippedTasks\": 0, \"numFailedTasks\": 0, \"numActiveStages\": 1, \"numCompletedStages\": 0, \"numSkippedStages\": 0, \"numFailedStages\": 0})"
      ]
     },
     "metadata": {},
     "output_type": "display_data"
    },
    {
     "data": {
      "application/javascript": [
       "refreshJobProgress_7baaa9b08eba4871822bed39cb61b615({\"jobId\": 3, \"name\": \"collect at <ipython-input-5-ed4060b10f3f>:122\", \"submissionTime\": \"2017-05-01T01:44:02.978GMT\", \"stageIds\": [3, 4], \"status\": \"RUNNING\", \"numTasks\": 40, \"numActiveTasks\": 1, \"numCompletedTasks\": 0, \"numSkippedTasks\": 0, \"numFailedTasks\": 0, \"numActiveStages\": 1, \"numCompletedStages\": 0, \"numSkippedStages\": 0, \"numFailedStages\": 0})"
      ]
     },
     "metadata": {},
     "output_type": "display_data"
    },
    {
     "data": {
      "application/javascript": [
       "refreshJobProgress_7baaa9b08eba4871822bed39cb61b615({\"jobId\": 3, \"name\": \"collect at <ipython-input-5-ed4060b10f3f>:122\", \"submissionTime\": \"2017-05-01T01:44:02.978GMT\", \"stageIds\": [3, 4], \"status\": \"RUNNING\", \"numTasks\": 40, \"numActiveTasks\": 1, \"numCompletedTasks\": 0, \"numSkippedTasks\": 0, \"numFailedTasks\": 0, \"numActiveStages\": 1, \"numCompletedStages\": 0, \"numSkippedStages\": 0, \"numFailedStages\": 0})"
      ]
     },
     "metadata": {},
     "output_type": "display_data"
    },
    {
     "data": {
      "application/javascript": [
       "refreshJobProgress_7baaa9b08eba4871822bed39cb61b615({\"jobId\": 3, \"name\": \"collect at <ipython-input-5-ed4060b10f3f>:122\", \"submissionTime\": \"2017-05-01T01:44:02.978GMT\", \"stageIds\": [3, 4], \"status\": \"RUNNING\", \"numTasks\": 40, \"numActiveTasks\": 1, \"numCompletedTasks\": 0, \"numSkippedTasks\": 0, \"numFailedTasks\": 0, \"numActiveStages\": 1, \"numCompletedStages\": 0, \"numSkippedStages\": 0, \"numFailedStages\": 0})"
      ]
     },
     "metadata": {},
     "output_type": "display_data"
    },
    {
     "data": {
      "application/javascript": [
       "refreshJobProgress_7baaa9b08eba4871822bed39cb61b615({\"jobId\": 3, \"name\": \"collect at <ipython-input-5-ed4060b10f3f>:122\", \"submissionTime\": \"2017-05-01T01:44:02.978GMT\", \"stageIds\": [3, 4], \"status\": \"RUNNING\", \"numTasks\": 40, \"numActiveTasks\": 1, \"numCompletedTasks\": 0, \"numSkippedTasks\": 0, \"numFailedTasks\": 0, \"numActiveStages\": 1, \"numCompletedStages\": 0, \"numSkippedStages\": 0, \"numFailedStages\": 0})"
      ]
     },
     "metadata": {},
     "output_type": "display_data"
    },
    {
     "data": {
      "application/javascript": [
       "refreshJobProgress_7baaa9b08eba4871822bed39cb61b615({\"jobId\": 3, \"name\": \"collect at <ipython-input-5-ed4060b10f3f>:122\", \"submissionTime\": \"2017-05-01T01:44:02.978GMT\", \"stageIds\": [3, 4], \"status\": \"RUNNING\", \"numTasks\": 40, \"numActiveTasks\": 1, \"numCompletedTasks\": 0, \"numSkippedTasks\": 0, \"numFailedTasks\": 0, \"numActiveStages\": 1, \"numCompletedStages\": 0, \"numSkippedStages\": 0, \"numFailedStages\": 0})"
      ]
     },
     "metadata": {},
     "output_type": "display_data"
    },
    {
     "data": {
      "application/javascript": [
       "refreshJobProgress_7baaa9b08eba4871822bed39cb61b615({\"jobId\": 3, \"name\": \"collect at <ipython-input-5-ed4060b10f3f>:122\", \"submissionTime\": \"2017-05-01T01:44:02.978GMT\", \"stageIds\": [3, 4], \"status\": \"RUNNING\", \"numTasks\": 40, \"numActiveTasks\": 1, \"numCompletedTasks\": 0, \"numSkippedTasks\": 0, \"numFailedTasks\": 0, \"numActiveStages\": 1, \"numCompletedStages\": 0, \"numSkippedStages\": 0, \"numFailedStages\": 0})"
      ]
     },
     "metadata": {},
     "output_type": "display_data"
    },
    {
     "data": {
      "application/javascript": [
       "refreshJobProgress_7baaa9b08eba4871822bed39cb61b615({\"jobId\": 3, \"name\": \"collect at <ipython-input-5-ed4060b10f3f>:122\", \"submissionTime\": \"2017-05-01T01:44:02.978GMT\", \"stageIds\": [3, 4], \"status\": \"RUNNING\", \"numTasks\": 40, \"numActiveTasks\": 1, \"numCompletedTasks\": 0, \"numSkippedTasks\": 0, \"numFailedTasks\": 0, \"numActiveStages\": 1, \"numCompletedStages\": 0, \"numSkippedStages\": 0, \"numFailedStages\": 0})"
      ]
     },
     "metadata": {},
     "output_type": "display_data"
    },
    {
     "data": {
      "application/javascript": [
       "refreshJobProgress_7baaa9b08eba4871822bed39cb61b615({\"jobId\": 3, \"name\": \"collect at <ipython-input-5-ed4060b10f3f>:122\", \"submissionTime\": \"2017-05-01T01:44:02.978GMT\", \"stageIds\": [3, 4], \"status\": \"RUNNING\", \"numTasks\": 40, \"numActiveTasks\": 1, \"numCompletedTasks\": 0, \"numSkippedTasks\": 0, \"numFailedTasks\": 0, \"numActiveStages\": 1, \"numCompletedStages\": 0, \"numSkippedStages\": 0, \"numFailedStages\": 0})"
      ]
     },
     "metadata": {},
     "output_type": "display_data"
    },
    {
     "data": {
      "application/javascript": [
       "refreshJobProgress_7baaa9b08eba4871822bed39cb61b615({\"jobId\": 3, \"name\": \"collect at <ipython-input-5-ed4060b10f3f>:122\", \"submissionTime\": \"2017-05-01T01:44:02.978GMT\", \"stageIds\": [3, 4], \"status\": \"RUNNING\", \"numTasks\": 40, \"numActiveTasks\": 1, \"numCompletedTasks\": 0, \"numSkippedTasks\": 0, \"numFailedTasks\": 0, \"numActiveStages\": 1, \"numCompletedStages\": 0, \"numSkippedStages\": 0, \"numFailedStages\": 0})"
      ]
     },
     "metadata": {},
     "output_type": "display_data"
    },
    {
     "data": {
      "application/javascript": [
       "refreshJobProgress_7baaa9b08eba4871822bed39cb61b615({\"jobId\": 3, \"name\": \"collect at <ipython-input-5-ed4060b10f3f>:122\", \"submissionTime\": \"2017-05-01T01:44:02.978GMT\", \"stageIds\": [3, 4], \"status\": \"RUNNING\", \"numTasks\": 40, \"numActiveTasks\": 1, \"numCompletedTasks\": 0, \"numSkippedTasks\": 0, \"numFailedTasks\": 0, \"numActiveStages\": 1, \"numCompletedStages\": 0, \"numSkippedStages\": 0, \"numFailedStages\": 0})"
      ]
     },
     "metadata": {},
     "output_type": "display_data"
    },
    {
     "data": {
      "application/javascript": [
       "refreshJobProgress_7baaa9b08eba4871822bed39cb61b615({\"jobId\": 3, \"name\": \"collect at <ipython-input-5-ed4060b10f3f>:122\", \"submissionTime\": \"2017-05-01T01:44:02.978GMT\", \"stageIds\": [3, 4], \"status\": \"RUNNING\", \"numTasks\": 40, \"numActiveTasks\": 1, \"numCompletedTasks\": 0, \"numSkippedTasks\": 0, \"numFailedTasks\": 0, \"numActiveStages\": 1, \"numCompletedStages\": 0, \"numSkippedStages\": 0, \"numFailedStages\": 0})"
      ]
     },
     "metadata": {},
     "output_type": "display_data"
    },
    {
     "data": {
      "application/javascript": [
       "refreshJobProgress_7baaa9b08eba4871822bed39cb61b615({\"jobId\": 3, \"name\": \"collect at <ipython-input-5-ed4060b10f3f>:122\", \"submissionTime\": \"2017-05-01T01:44:02.978GMT\", \"stageIds\": [3, 4], \"status\": \"RUNNING\", \"numTasks\": 40, \"numActiveTasks\": 1, \"numCompletedTasks\": 0, \"numSkippedTasks\": 0, \"numFailedTasks\": 0, \"numActiveStages\": 1, \"numCompletedStages\": 0, \"numSkippedStages\": 0, \"numFailedStages\": 0})"
      ]
     },
     "metadata": {},
     "output_type": "display_data"
    },
    {
     "data": {
      "application/javascript": [
       "refreshJobProgress_7baaa9b08eba4871822bed39cb61b615({\"jobId\": 3, \"name\": \"collect at <ipython-input-5-ed4060b10f3f>:122\", \"submissionTime\": \"2017-05-01T01:44:02.978GMT\", \"stageIds\": [3, 4], \"status\": \"RUNNING\", \"numTasks\": 40, \"numActiveTasks\": 1, \"numCompletedTasks\": 0, \"numSkippedTasks\": 0, \"numFailedTasks\": 0, \"numActiveStages\": 1, \"numCompletedStages\": 0, \"numSkippedStages\": 0, \"numFailedStages\": 0})"
      ]
     },
     "metadata": {},
     "output_type": "display_data"
    },
    {
     "data": {
      "application/javascript": [
       "refreshJobProgress_7baaa9b08eba4871822bed39cb61b615({\"jobId\": 3, \"name\": \"collect at <ipython-input-5-ed4060b10f3f>:122\", \"submissionTime\": \"2017-05-01T01:44:02.978GMT\", \"stageIds\": [3, 4], \"status\": \"RUNNING\", \"numTasks\": 40, \"numActiveTasks\": 1, \"numCompletedTasks\": 0, \"numSkippedTasks\": 0, \"numFailedTasks\": 0, \"numActiveStages\": 1, \"numCompletedStages\": 0, \"numSkippedStages\": 0, \"numFailedStages\": 0})"
      ]
     },
     "metadata": {},
     "output_type": "display_data"
    },
    {
     "data": {
      "application/javascript": [
       "refreshJobProgress_7baaa9b08eba4871822bed39cb61b615({\"jobId\": 3, \"name\": \"collect at <ipython-input-5-ed4060b10f3f>:122\", \"submissionTime\": \"2017-05-01T01:44:02.978GMT\", \"stageIds\": [3, 4], \"status\": \"RUNNING\", \"numTasks\": 40, \"numActiveTasks\": 1, \"numCompletedTasks\": 0, \"numSkippedTasks\": 0, \"numFailedTasks\": 0, \"numActiveStages\": 1, \"numCompletedStages\": 0, \"numSkippedStages\": 0, \"numFailedStages\": 0})"
      ]
     },
     "metadata": {},
     "output_type": "display_data"
    },
    {
     "data": {
      "application/javascript": [
       "refreshJobProgress_7baaa9b08eba4871822bed39cb61b615({\"jobId\": 3, \"name\": \"collect at <ipython-input-5-ed4060b10f3f>:122\", \"submissionTime\": \"2017-05-01T01:44:02.978GMT\", \"stageIds\": [3, 4], \"status\": \"RUNNING\", \"numTasks\": 40, \"numActiveTasks\": 1, \"numCompletedTasks\": 0, \"numSkippedTasks\": 0, \"numFailedTasks\": 0, \"numActiveStages\": 1, \"numCompletedStages\": 0, \"numSkippedStages\": 0, \"numFailedStages\": 0})"
      ]
     },
     "metadata": {},
     "output_type": "display_data"
    },
    {
     "data": {
      "application/javascript": [
       "refreshJobProgress_7baaa9b08eba4871822bed39cb61b615({\"jobId\": 3, \"name\": \"collect at <ipython-input-5-ed4060b10f3f>:122\", \"submissionTime\": \"2017-05-01T01:44:02.978GMT\", \"stageIds\": [3, 4], \"status\": \"RUNNING\", \"numTasks\": 40, \"numActiveTasks\": 1, \"numCompletedTasks\": 0, \"numSkippedTasks\": 0, \"numFailedTasks\": 0, \"numActiveStages\": 1, \"numCompletedStages\": 0, \"numSkippedStages\": 0, \"numFailedStages\": 0})"
      ]
     },
     "metadata": {},
     "output_type": "display_data"
    },
    {
     "data": {
      "application/javascript": [
       "refreshJobProgress_7baaa9b08eba4871822bed39cb61b615({\"jobId\": 3, \"name\": \"collect at <ipython-input-5-ed4060b10f3f>:122\", \"submissionTime\": \"2017-05-01T01:44:02.978GMT\", \"stageIds\": [3, 4], \"status\": \"RUNNING\", \"numTasks\": 40, \"numActiveTasks\": 1, \"numCompletedTasks\": 0, \"numSkippedTasks\": 0, \"numFailedTasks\": 0, \"numActiveStages\": 1, \"numCompletedStages\": 0, \"numSkippedStages\": 0, \"numFailedStages\": 0})"
      ]
     },
     "metadata": {},
     "output_type": "display_data"
    },
    {
     "data": {
      "application/javascript": [
       "refreshJobProgress_7baaa9b08eba4871822bed39cb61b615({\"jobId\": 3, \"name\": \"collect at <ipython-input-5-ed4060b10f3f>:122\", \"submissionTime\": \"2017-05-01T01:44:02.978GMT\", \"stageIds\": [3, 4], \"status\": \"RUNNING\", \"numTasks\": 40, \"numActiveTasks\": 1, \"numCompletedTasks\": 0, \"numSkippedTasks\": 0, \"numFailedTasks\": 0, \"numActiveStages\": 1, \"numCompletedStages\": 0, \"numSkippedStages\": 0, \"numFailedStages\": 0})"
      ]
     },
     "metadata": {},
     "output_type": "display_data"
    },
    {
     "data": {
      "application/javascript": [
       "refreshJobProgress_7baaa9b08eba4871822bed39cb61b615({\"jobId\": 3, \"name\": \"collect at <ipython-input-5-ed4060b10f3f>:122\", \"submissionTime\": \"2017-05-01T01:44:02.978GMT\", \"stageIds\": [3, 4], \"status\": \"RUNNING\", \"numTasks\": 40, \"numActiveTasks\": 1, \"numCompletedTasks\": 0, \"numSkippedTasks\": 0, \"numFailedTasks\": 0, \"numActiveStages\": 1, \"numCompletedStages\": 0, \"numSkippedStages\": 0, \"numFailedStages\": 0})"
      ]
     },
     "metadata": {},
     "output_type": "display_data"
    },
    {
     "data": {
      "application/javascript": [
       "refreshJobProgress_7baaa9b08eba4871822bed39cb61b615({\"jobId\": 3, \"name\": \"collect at <ipython-input-5-ed4060b10f3f>:122\", \"submissionTime\": \"2017-05-01T01:44:02.978GMT\", \"stageIds\": [3, 4], \"status\": \"RUNNING\", \"numTasks\": 40, \"numActiveTasks\": 1, \"numCompletedTasks\": 0, \"numSkippedTasks\": 0, \"numFailedTasks\": 0, \"numActiveStages\": 1, \"numCompletedStages\": 0, \"numSkippedStages\": 0, \"numFailedStages\": 0})"
      ]
     },
     "metadata": {},
     "output_type": "display_data"
    },
    {
     "data": {
      "application/javascript": [
       "refreshJobProgress_7baaa9b08eba4871822bed39cb61b615({\"jobId\": 3, \"name\": \"collect at <ipython-input-5-ed4060b10f3f>:122\", \"submissionTime\": \"2017-05-01T01:44:02.978GMT\", \"stageIds\": [3, 4], \"status\": \"RUNNING\", \"numTasks\": 40, \"numActiveTasks\": 1, \"numCompletedTasks\": 0, \"numSkippedTasks\": 0, \"numFailedTasks\": 0, \"numActiveStages\": 1, \"numCompletedStages\": 0, \"numSkippedStages\": 0, \"numFailedStages\": 0})"
      ]
     },
     "metadata": {},
     "output_type": "display_data"
    },
    {
     "data": {
      "application/javascript": [
       "refreshJobProgress_7baaa9b08eba4871822bed39cb61b615({\"jobId\": 3, \"name\": \"collect at <ipython-input-5-ed4060b10f3f>:122\", \"submissionTime\": \"2017-05-01T01:44:02.978GMT\", \"stageIds\": [3, 4], \"status\": \"RUNNING\", \"numTasks\": 40, \"numActiveTasks\": 1, \"numCompletedTasks\": 0, \"numSkippedTasks\": 0, \"numFailedTasks\": 0, \"numActiveStages\": 1, \"numCompletedStages\": 0, \"numSkippedStages\": 0, \"numFailedStages\": 0})"
      ]
     },
     "metadata": {},
     "output_type": "display_data"
    },
    {
     "data": {
      "application/javascript": [
       "refreshJobProgress_7baaa9b08eba4871822bed39cb61b615({\"jobId\": 3, \"name\": \"collect at <ipython-input-5-ed4060b10f3f>:122\", \"submissionTime\": \"2017-05-01T01:44:02.978GMT\", \"stageIds\": [3, 4], \"status\": \"RUNNING\", \"numTasks\": 40, \"numActiveTasks\": 1, \"numCompletedTasks\": 0, \"numSkippedTasks\": 0, \"numFailedTasks\": 0, \"numActiveStages\": 1, \"numCompletedStages\": 0, \"numSkippedStages\": 0, \"numFailedStages\": 0})"
      ]
     },
     "metadata": {},
     "output_type": "display_data"
    },
    {
     "data": {
      "application/javascript": [
       "refreshJobProgress_7baaa9b08eba4871822bed39cb61b615({\"jobId\": 3, \"name\": \"collect at <ipython-input-5-ed4060b10f3f>:122\", \"submissionTime\": \"2017-05-01T01:44:02.978GMT\", \"stageIds\": [3, 4], \"status\": \"RUNNING\", \"numTasks\": 40, \"numActiveTasks\": 1, \"numCompletedTasks\": 0, \"numSkippedTasks\": 0, \"numFailedTasks\": 0, \"numActiveStages\": 1, \"numCompletedStages\": 0, \"numSkippedStages\": 0, \"numFailedStages\": 0})"
      ]
     },
     "metadata": {},
     "output_type": "display_data"
    },
    {
     "data": {
      "application/javascript": [
       "refreshJobProgress_7baaa9b08eba4871822bed39cb61b615({\"jobId\": 3, \"name\": \"collect at <ipython-input-5-ed4060b10f3f>:122\", \"submissionTime\": \"2017-05-01T01:44:02.978GMT\", \"stageIds\": [3, 4], \"status\": \"RUNNING\", \"numTasks\": 40, \"numActiveTasks\": 1, \"numCompletedTasks\": 0, \"numSkippedTasks\": 0, \"numFailedTasks\": 0, \"numActiveStages\": 1, \"numCompletedStages\": 0, \"numSkippedStages\": 0, \"numFailedStages\": 0})"
      ]
     },
     "metadata": {},
     "output_type": "display_data"
    },
    {
     "data": {
      "application/javascript": [
       "refreshJobProgress_7baaa9b08eba4871822bed39cb61b615({\"jobId\": 3, \"name\": \"collect at <ipython-input-5-ed4060b10f3f>:122\", \"submissionTime\": \"2017-05-01T01:44:02.978GMT\", \"stageIds\": [3, 4], \"status\": \"RUNNING\", \"numTasks\": 40, \"numActiveTasks\": 1, \"numCompletedTasks\": 0, \"numSkippedTasks\": 0, \"numFailedTasks\": 0, \"numActiveStages\": 1, \"numCompletedStages\": 0, \"numSkippedStages\": 0, \"numFailedStages\": 0})"
      ]
     },
     "metadata": {},
     "output_type": "display_data"
    },
    {
     "data": {
      "application/javascript": [
       "refreshJobProgress_7baaa9b08eba4871822bed39cb61b615({\"jobId\": 3, \"name\": \"collect at <ipython-input-5-ed4060b10f3f>:122\", \"submissionTime\": \"2017-05-01T01:44:02.978GMT\", \"stageIds\": [3, 4], \"status\": \"RUNNING\", \"numTasks\": 40, \"numActiveTasks\": 1, \"numCompletedTasks\": 0, \"numSkippedTasks\": 0, \"numFailedTasks\": 0, \"numActiveStages\": 1, \"numCompletedStages\": 0, \"numSkippedStages\": 0, \"numFailedStages\": 0})"
      ]
     },
     "metadata": {},
     "output_type": "display_data"
    },
    {
     "data": {
      "application/javascript": [
       "refreshJobProgress_7baaa9b08eba4871822bed39cb61b615({\"jobId\": 3, \"name\": \"collect at <ipython-input-5-ed4060b10f3f>:122\", \"submissionTime\": \"2017-05-01T01:44:02.978GMT\", \"stageIds\": [3, 4], \"status\": \"RUNNING\", \"numTasks\": 40, \"numActiveTasks\": 1, \"numCompletedTasks\": 0, \"numSkippedTasks\": 0, \"numFailedTasks\": 0, \"numActiveStages\": 1, \"numCompletedStages\": 0, \"numSkippedStages\": 0, \"numFailedStages\": 0})"
      ]
     },
     "metadata": {},
     "output_type": "display_data"
    },
    {
     "data": {
      "application/javascript": [
       "refreshJobProgress_7baaa9b08eba4871822bed39cb61b615({\"jobId\": 3, \"name\": \"collect at <ipython-input-5-ed4060b10f3f>:122\", \"submissionTime\": \"2017-05-01T01:44:02.978GMT\", \"stageIds\": [3, 4], \"status\": \"RUNNING\", \"numTasks\": 40, \"numActiveTasks\": 1, \"numCompletedTasks\": 0, \"numSkippedTasks\": 0, \"numFailedTasks\": 0, \"numActiveStages\": 1, \"numCompletedStages\": 0, \"numSkippedStages\": 0, \"numFailedStages\": 0})"
      ]
     },
     "metadata": {},
     "output_type": "display_data"
    },
    {
     "data": {
      "application/javascript": [
       "refreshJobProgress_7baaa9b08eba4871822bed39cb61b615({\"jobId\": 3, \"name\": \"collect at <ipython-input-5-ed4060b10f3f>:122\", \"submissionTime\": \"2017-05-01T01:44:02.978GMT\", \"stageIds\": [3, 4], \"status\": \"RUNNING\", \"numTasks\": 40, \"numActiveTasks\": 1, \"numCompletedTasks\": 0, \"numSkippedTasks\": 0, \"numFailedTasks\": 0, \"numActiveStages\": 1, \"numCompletedStages\": 0, \"numSkippedStages\": 0, \"numFailedStages\": 0})"
      ]
     },
     "metadata": {},
     "output_type": "display_data"
    },
    {
     "data": {
      "application/javascript": [
       "refreshJobProgress_7baaa9b08eba4871822bed39cb61b615({\"jobId\": 3, \"name\": \"collect at <ipython-input-5-ed4060b10f3f>:122\", \"submissionTime\": \"2017-05-01T01:44:02.978GMT\", \"stageIds\": [3, 4], \"status\": \"RUNNING\", \"numTasks\": 40, \"numActiveTasks\": 1, \"numCompletedTasks\": 0, \"numSkippedTasks\": 0, \"numFailedTasks\": 0, \"numActiveStages\": 1, \"numCompletedStages\": 0, \"numSkippedStages\": 0, \"numFailedStages\": 0})"
      ]
     },
     "metadata": {},
     "output_type": "display_data"
    },
    {
     "data": {
      "application/javascript": [
       "refreshJobProgress_7baaa9b08eba4871822bed39cb61b615({\"jobId\": 3, \"name\": \"collect at <ipython-input-5-ed4060b10f3f>:122\", \"submissionTime\": \"2017-05-01T01:44:02.978GMT\", \"stageIds\": [3, 4], \"status\": \"RUNNING\", \"numTasks\": 40, \"numActiveTasks\": 1, \"numCompletedTasks\": 0, \"numSkippedTasks\": 0, \"numFailedTasks\": 0, \"numActiveStages\": 1, \"numCompletedStages\": 0, \"numSkippedStages\": 0, \"numFailedStages\": 0})"
      ]
     },
     "metadata": {},
     "output_type": "display_data"
    },
    {
     "data": {
      "application/javascript": [
       "refreshJobProgress_7baaa9b08eba4871822bed39cb61b615({\"jobId\": 3, \"name\": \"collect at <ipython-input-5-ed4060b10f3f>:122\", \"submissionTime\": \"2017-05-01T01:44:02.978GMT\", \"stageIds\": [3, 4], \"status\": \"RUNNING\", \"numTasks\": 40, \"numActiveTasks\": 1, \"numCompletedTasks\": 0, \"numSkippedTasks\": 0, \"numFailedTasks\": 0, \"numActiveStages\": 1, \"numCompletedStages\": 0, \"numSkippedStages\": 0, \"numFailedStages\": 0})"
      ]
     },
     "metadata": {},
     "output_type": "display_data"
    },
    {
     "data": {
      "application/javascript": [
       "refreshJobProgress_7baaa9b08eba4871822bed39cb61b615({\"jobId\": 3, \"name\": \"collect at <ipython-input-5-ed4060b10f3f>:122\", \"submissionTime\": \"2017-05-01T01:44:02.978GMT\", \"stageIds\": [3, 4], \"status\": \"RUNNING\", \"numTasks\": 40, \"numActiveTasks\": 1, \"numCompletedTasks\": 0, \"numSkippedTasks\": 0, \"numFailedTasks\": 0, \"numActiveStages\": 1, \"numCompletedStages\": 0, \"numSkippedStages\": 0, \"numFailedStages\": 0})"
      ]
     },
     "metadata": {},
     "output_type": "display_data"
    },
    {
     "data": {
      "application/javascript": [
       "refreshJobProgress_7baaa9b08eba4871822bed39cb61b615({\"jobId\": 3, \"name\": \"collect at <ipython-input-5-ed4060b10f3f>:122\", \"submissionTime\": \"2017-05-01T01:44:02.978GMT\", \"stageIds\": [3, 4], \"status\": \"RUNNING\", \"numTasks\": 40, \"numActiveTasks\": 1, \"numCompletedTasks\": 0, \"numSkippedTasks\": 0, \"numFailedTasks\": 0, \"numActiveStages\": 1, \"numCompletedStages\": 0, \"numSkippedStages\": 0, \"numFailedStages\": 0})"
      ]
     },
     "metadata": {},
     "output_type": "display_data"
    },
    {
     "data": {
      "application/javascript": [
       "refreshJobProgress_7baaa9b08eba4871822bed39cb61b615({\"jobId\": 3, \"name\": \"collect at <ipython-input-5-ed4060b10f3f>:122\", \"submissionTime\": \"2017-05-01T01:44:02.978GMT\", \"stageIds\": [3, 4], \"status\": \"RUNNING\", \"numTasks\": 40, \"numActiveTasks\": 1, \"numCompletedTasks\": 1, \"numSkippedTasks\": 0, \"numFailedTasks\": 0, \"numActiveStages\": 1, \"numCompletedStages\": 0, \"numSkippedStages\": 0, \"numFailedStages\": 0})"
      ]
     },
     "metadata": {},
     "output_type": "display_data"
    },
    {
     "data": {
      "application/javascript": [
       "refreshJobProgress_7baaa9b08eba4871822bed39cb61b615({\"jobId\": 3, \"name\": \"collect at <ipython-input-5-ed4060b10f3f>:122\", \"submissionTime\": \"2017-05-01T01:44:02.978GMT\", \"stageIds\": [3, 4], \"status\": \"RUNNING\", \"numTasks\": 40, \"numActiveTasks\": 1, \"numCompletedTasks\": 1, \"numSkippedTasks\": 0, \"numFailedTasks\": 0, \"numActiveStages\": 1, \"numCompletedStages\": 0, \"numSkippedStages\": 0, \"numFailedStages\": 0})"
      ]
     },
     "metadata": {},
     "output_type": "display_data"
    },
    {
     "data": {
      "application/javascript": [
       "refreshJobProgress_7baaa9b08eba4871822bed39cb61b615({\"jobId\": 3, \"name\": \"collect at <ipython-input-5-ed4060b10f3f>:122\", \"submissionTime\": \"2017-05-01T01:44:02.978GMT\", \"stageIds\": [3, 4], \"status\": \"RUNNING\", \"numTasks\": 40, \"numActiveTasks\": 1, \"numCompletedTasks\": 1, \"numSkippedTasks\": 0, \"numFailedTasks\": 0, \"numActiveStages\": 1, \"numCompletedStages\": 0, \"numSkippedStages\": 0, \"numFailedStages\": 0})"
      ]
     },
     "metadata": {},
     "output_type": "display_data"
    },
    {
     "data": {
      "application/javascript": [
       "refreshJobProgress_7baaa9b08eba4871822bed39cb61b615({\"jobId\": 3, \"name\": \"collect at <ipython-input-5-ed4060b10f3f>:122\", \"submissionTime\": \"2017-05-01T01:44:02.978GMT\", \"stageIds\": [3, 4], \"status\": \"RUNNING\", \"numTasks\": 40, \"numActiveTasks\": 1, \"numCompletedTasks\": 1, \"numSkippedTasks\": 0, \"numFailedTasks\": 0, \"numActiveStages\": 1, \"numCompletedStages\": 0, \"numSkippedStages\": 0, \"numFailedStages\": 0})"
      ]
     },
     "metadata": {},
     "output_type": "display_data"
    },
    {
     "data": {
      "application/javascript": [
       "refreshJobProgress_7baaa9b08eba4871822bed39cb61b615({\"jobId\": 3, \"name\": \"collect at <ipython-input-5-ed4060b10f3f>:122\", \"submissionTime\": \"2017-05-01T01:44:02.978GMT\", \"stageIds\": [3, 4], \"status\": \"RUNNING\", \"numTasks\": 40, \"numActiveTasks\": 1, \"numCompletedTasks\": 1, \"numSkippedTasks\": 0, \"numFailedTasks\": 0, \"numActiveStages\": 1, \"numCompletedStages\": 0, \"numSkippedStages\": 0, \"numFailedStages\": 0})"
      ]
     },
     "metadata": {},
     "output_type": "display_data"
    },
    {
     "data": {
      "application/javascript": [
       "refreshJobProgress_7baaa9b08eba4871822bed39cb61b615({\"jobId\": 3, \"name\": \"collect at <ipython-input-5-ed4060b10f3f>:122\", \"submissionTime\": \"2017-05-01T01:44:02.978GMT\", \"stageIds\": [3, 4], \"status\": \"RUNNING\", \"numTasks\": 40, \"numActiveTasks\": 1, \"numCompletedTasks\": 1, \"numSkippedTasks\": 0, \"numFailedTasks\": 0, \"numActiveStages\": 1, \"numCompletedStages\": 0, \"numSkippedStages\": 0, \"numFailedStages\": 0})"
      ]
     },
     "metadata": {},
     "output_type": "display_data"
    },
    {
     "data": {
      "application/javascript": [
       "refreshJobProgress_7baaa9b08eba4871822bed39cb61b615({\"jobId\": 3, \"name\": \"collect at <ipython-input-5-ed4060b10f3f>:122\", \"submissionTime\": \"2017-05-01T01:44:02.978GMT\", \"stageIds\": [3, 4], \"status\": \"RUNNING\", \"numTasks\": 40, \"numActiveTasks\": 1, \"numCompletedTasks\": 1, \"numSkippedTasks\": 0, \"numFailedTasks\": 0, \"numActiveStages\": 1, \"numCompletedStages\": 0, \"numSkippedStages\": 0, \"numFailedStages\": 0})"
      ]
     },
     "metadata": {},
     "output_type": "display_data"
    },
    {
     "data": {
      "application/javascript": [
       "refreshJobProgress_7baaa9b08eba4871822bed39cb61b615({\"jobId\": 3, \"name\": \"collect at <ipython-input-5-ed4060b10f3f>:122\", \"submissionTime\": \"2017-05-01T01:44:02.978GMT\", \"stageIds\": [3, 4], \"status\": \"RUNNING\", \"numTasks\": 40, \"numActiveTasks\": 1, \"numCompletedTasks\": 1, \"numSkippedTasks\": 0, \"numFailedTasks\": 0, \"numActiveStages\": 1, \"numCompletedStages\": 0, \"numSkippedStages\": 0, \"numFailedStages\": 0})"
      ]
     },
     "metadata": {},
     "output_type": "display_data"
    },
    {
     "data": {
      "application/javascript": [
       "refreshJobProgress_7baaa9b08eba4871822bed39cb61b615({\"jobId\": 3, \"name\": \"collect at <ipython-input-5-ed4060b10f3f>:122\", \"submissionTime\": \"2017-05-01T01:44:02.978GMT\", \"stageIds\": [3, 4], \"status\": \"RUNNING\", \"numTasks\": 40, \"numActiveTasks\": 1, \"numCompletedTasks\": 1, \"numSkippedTasks\": 0, \"numFailedTasks\": 0, \"numActiveStages\": 1, \"numCompletedStages\": 0, \"numSkippedStages\": 0, \"numFailedStages\": 0})"
      ]
     },
     "metadata": {},
     "output_type": "display_data"
    },
    {
     "data": {
      "application/javascript": [
       "refreshJobProgress_7baaa9b08eba4871822bed39cb61b615({\"jobId\": 3, \"name\": \"collect at <ipython-input-5-ed4060b10f3f>:122\", \"submissionTime\": \"2017-05-01T01:44:02.978GMT\", \"stageIds\": [3, 4], \"status\": \"RUNNING\", \"numTasks\": 40, \"numActiveTasks\": 1, \"numCompletedTasks\": 1, \"numSkippedTasks\": 0, \"numFailedTasks\": 0, \"numActiveStages\": 1, \"numCompletedStages\": 0, \"numSkippedStages\": 0, \"numFailedStages\": 0})"
      ]
     },
     "metadata": {},
     "output_type": "display_data"
    },
    {
     "data": {
      "application/javascript": [
       "refreshJobProgress_7baaa9b08eba4871822bed39cb61b615({\"jobId\": 3, \"name\": \"collect at <ipython-input-5-ed4060b10f3f>:122\", \"submissionTime\": \"2017-05-01T01:44:02.978GMT\", \"stageIds\": [3, 4], \"status\": \"RUNNING\", \"numTasks\": 40, \"numActiveTasks\": 1, \"numCompletedTasks\": 1, \"numSkippedTasks\": 0, \"numFailedTasks\": 0, \"numActiveStages\": 1, \"numCompletedStages\": 0, \"numSkippedStages\": 0, \"numFailedStages\": 0})"
      ]
     },
     "metadata": {},
     "output_type": "display_data"
    },
    {
     "data": {
      "application/javascript": [
       "refreshJobProgress_7baaa9b08eba4871822bed39cb61b615({\"jobId\": 3, \"name\": \"collect at <ipython-input-5-ed4060b10f3f>:122\", \"submissionTime\": \"2017-05-01T01:44:02.978GMT\", \"stageIds\": [3, 4], \"status\": \"RUNNING\", \"numTasks\": 40, \"numActiveTasks\": 1, \"numCompletedTasks\": 1, \"numSkippedTasks\": 0, \"numFailedTasks\": 0, \"numActiveStages\": 1, \"numCompletedStages\": 0, \"numSkippedStages\": 0, \"numFailedStages\": 0})"
      ]
     },
     "metadata": {},
     "output_type": "display_data"
    },
    {
     "data": {
      "application/javascript": [
       "refreshJobProgress_7baaa9b08eba4871822bed39cb61b615({\"jobId\": 3, \"name\": \"collect at <ipython-input-5-ed4060b10f3f>:122\", \"submissionTime\": \"2017-05-01T01:44:02.978GMT\", \"stageIds\": [3, 4], \"status\": \"RUNNING\", \"numTasks\": 40, \"numActiveTasks\": 1, \"numCompletedTasks\": 1, \"numSkippedTasks\": 0, \"numFailedTasks\": 0, \"numActiveStages\": 1, \"numCompletedStages\": 0, \"numSkippedStages\": 0, \"numFailedStages\": 0})"
      ]
     },
     "metadata": {},
     "output_type": "display_data"
    },
    {
     "data": {
      "application/javascript": [
       "refreshJobProgress_7baaa9b08eba4871822bed39cb61b615({\"jobId\": 3, \"name\": \"collect at <ipython-input-5-ed4060b10f3f>:122\", \"submissionTime\": \"2017-05-01T01:44:02.978GMT\", \"stageIds\": [3, 4], \"status\": \"RUNNING\", \"numTasks\": 40, \"numActiveTasks\": 1, \"numCompletedTasks\": 1, \"numSkippedTasks\": 0, \"numFailedTasks\": 0, \"numActiveStages\": 1, \"numCompletedStages\": 0, \"numSkippedStages\": 0, \"numFailedStages\": 0})"
      ]
     },
     "metadata": {},
     "output_type": "display_data"
    },
    {
     "data": {
      "application/javascript": [
       "refreshJobProgress_7baaa9b08eba4871822bed39cb61b615({\"jobId\": 3, \"name\": \"collect at <ipython-input-5-ed4060b10f3f>:122\", \"submissionTime\": \"2017-05-01T01:44:02.978GMT\", \"stageIds\": [3, 4], \"status\": \"RUNNING\", \"numTasks\": 40, \"numActiveTasks\": 1, \"numCompletedTasks\": 1, \"numSkippedTasks\": 0, \"numFailedTasks\": 0, \"numActiveStages\": 1, \"numCompletedStages\": 0, \"numSkippedStages\": 0, \"numFailedStages\": 0})"
      ]
     },
     "metadata": {},
     "output_type": "display_data"
    },
    {
     "data": {
      "application/javascript": [
       "refreshJobProgress_7baaa9b08eba4871822bed39cb61b615({\"jobId\": 3, \"name\": \"collect at <ipython-input-5-ed4060b10f3f>:122\", \"submissionTime\": \"2017-05-01T01:44:02.978GMT\", \"stageIds\": [3, 4], \"status\": \"RUNNING\", \"numTasks\": 40, \"numActiveTasks\": 1, \"numCompletedTasks\": 1, \"numSkippedTasks\": 0, \"numFailedTasks\": 0, \"numActiveStages\": 1, \"numCompletedStages\": 0, \"numSkippedStages\": 0, \"numFailedStages\": 0})"
      ]
     },
     "metadata": {},
     "output_type": "display_data"
    },
    {
     "data": {
      "application/javascript": [
       "refreshJobProgress_7baaa9b08eba4871822bed39cb61b615({\"jobId\": 3, \"name\": \"collect at <ipython-input-5-ed4060b10f3f>:122\", \"submissionTime\": \"2017-05-01T01:44:02.978GMT\", \"stageIds\": [3, 4], \"status\": \"RUNNING\", \"numTasks\": 40, \"numActiveTasks\": 1, \"numCompletedTasks\": 1, \"numSkippedTasks\": 0, \"numFailedTasks\": 0, \"numActiveStages\": 1, \"numCompletedStages\": 0, \"numSkippedStages\": 0, \"numFailedStages\": 0})"
      ]
     },
     "metadata": {},
     "output_type": "display_data"
    },
    {
     "data": {
      "application/javascript": [
       "refreshJobProgress_7baaa9b08eba4871822bed39cb61b615({\"jobId\": 3, \"name\": \"collect at <ipython-input-5-ed4060b10f3f>:122\", \"submissionTime\": \"2017-05-01T01:44:02.978GMT\", \"stageIds\": [3, 4], \"status\": \"RUNNING\", \"numTasks\": 40, \"numActiveTasks\": 1, \"numCompletedTasks\": 1, \"numSkippedTasks\": 0, \"numFailedTasks\": 0, \"numActiveStages\": 1, \"numCompletedStages\": 0, \"numSkippedStages\": 0, \"numFailedStages\": 0})"
      ]
     },
     "metadata": {},
     "output_type": "display_data"
    },
    {
     "data": {
      "application/javascript": [
       "refreshJobProgress_7baaa9b08eba4871822bed39cb61b615({\"jobId\": 3, \"name\": \"collect at <ipython-input-5-ed4060b10f3f>:122\", \"submissionTime\": \"2017-05-01T01:44:02.978GMT\", \"stageIds\": [3, 4], \"status\": \"RUNNING\", \"numTasks\": 40, \"numActiveTasks\": 1, \"numCompletedTasks\": 1, \"numSkippedTasks\": 0, \"numFailedTasks\": 0, \"numActiveStages\": 1, \"numCompletedStages\": 0, \"numSkippedStages\": 0, \"numFailedStages\": 0})"
      ]
     },
     "metadata": {},
     "output_type": "display_data"
    },
    {
     "data": {
      "application/javascript": [
       "refreshJobProgress_7baaa9b08eba4871822bed39cb61b615({\"jobId\": 3, \"name\": \"collect at <ipython-input-5-ed4060b10f3f>:122\", \"submissionTime\": \"2017-05-01T01:44:02.978GMT\", \"stageIds\": [3, 4], \"status\": \"RUNNING\", \"numTasks\": 40, \"numActiveTasks\": 1, \"numCompletedTasks\": 1, \"numSkippedTasks\": 0, \"numFailedTasks\": 0, \"numActiveStages\": 1, \"numCompletedStages\": 0, \"numSkippedStages\": 0, \"numFailedStages\": 0})"
      ]
     },
     "metadata": {},
     "output_type": "display_data"
    },
    {
     "data": {
      "application/javascript": [
       "refreshJobProgress_7baaa9b08eba4871822bed39cb61b615({\"jobId\": 3, \"name\": \"collect at <ipython-input-5-ed4060b10f3f>:122\", \"submissionTime\": \"2017-05-01T01:44:02.978GMT\", \"stageIds\": [3, 4], \"status\": \"RUNNING\", \"numTasks\": 40, \"numActiveTasks\": 1, \"numCompletedTasks\": 1, \"numSkippedTasks\": 0, \"numFailedTasks\": 0, \"numActiveStages\": 1, \"numCompletedStages\": 0, \"numSkippedStages\": 0, \"numFailedStages\": 0})"
      ]
     },
     "metadata": {},
     "output_type": "display_data"
    },
    {
     "data": {
      "application/javascript": [
       "refreshJobProgress_7baaa9b08eba4871822bed39cb61b615({\"jobId\": 3, \"name\": \"collect at <ipython-input-5-ed4060b10f3f>:122\", \"submissionTime\": \"2017-05-01T01:44:02.978GMT\", \"stageIds\": [3, 4], \"status\": \"RUNNING\", \"numTasks\": 40, \"numActiveTasks\": 1, \"numCompletedTasks\": 1, \"numSkippedTasks\": 0, \"numFailedTasks\": 0, \"numActiveStages\": 1, \"numCompletedStages\": 0, \"numSkippedStages\": 0, \"numFailedStages\": 0})"
      ]
     },
     "metadata": {},
     "output_type": "display_data"
    },
    {
     "data": {
      "application/javascript": [
       "refreshJobProgress_7baaa9b08eba4871822bed39cb61b615({\"jobId\": 3, \"name\": \"collect at <ipython-input-5-ed4060b10f3f>:122\", \"submissionTime\": \"2017-05-01T01:44:02.978GMT\", \"stageIds\": [3, 4], \"status\": \"RUNNING\", \"numTasks\": 40, \"numActiveTasks\": 1, \"numCompletedTasks\": 2, \"numSkippedTasks\": 0, \"numFailedTasks\": 0, \"numActiveStages\": 1, \"numCompletedStages\": 0, \"numSkippedStages\": 0, \"numFailedStages\": 0})"
      ]
     },
     "metadata": {},
     "output_type": "display_data"
    },
    {
     "data": {
      "application/javascript": [
       "refreshJobProgress_7baaa9b08eba4871822bed39cb61b615({\"jobId\": 3, \"name\": \"collect at <ipython-input-5-ed4060b10f3f>:122\", \"submissionTime\": \"2017-05-01T01:44:02.978GMT\", \"stageIds\": [3, 4], \"status\": \"RUNNING\", \"numTasks\": 40, \"numActiveTasks\": 1, \"numCompletedTasks\": 2, \"numSkippedTasks\": 0, \"numFailedTasks\": 0, \"numActiveStages\": 1, \"numCompletedStages\": 0, \"numSkippedStages\": 0, \"numFailedStages\": 0})"
      ]
     },
     "metadata": {},
     "output_type": "display_data"
    },
    {
     "data": {
      "application/javascript": [
       "refreshJobProgress_7baaa9b08eba4871822bed39cb61b615({\"jobId\": 3, \"name\": \"collect at <ipython-input-5-ed4060b10f3f>:122\", \"submissionTime\": \"2017-05-01T01:44:02.978GMT\", \"stageIds\": [3, 4], \"status\": \"RUNNING\", \"numTasks\": 40, \"numActiveTasks\": 1, \"numCompletedTasks\": 2, \"numSkippedTasks\": 0, \"numFailedTasks\": 0, \"numActiveStages\": 1, \"numCompletedStages\": 0, \"numSkippedStages\": 0, \"numFailedStages\": 0})"
      ]
     },
     "metadata": {},
     "output_type": "display_data"
    },
    {
     "data": {
      "application/javascript": [
       "refreshJobProgress_7baaa9b08eba4871822bed39cb61b615({\"jobId\": 3, \"name\": \"collect at <ipython-input-5-ed4060b10f3f>:122\", \"submissionTime\": \"2017-05-01T01:44:02.978GMT\", \"stageIds\": [3, 4], \"status\": \"RUNNING\", \"numTasks\": 40, \"numActiveTasks\": 1, \"numCompletedTasks\": 2, \"numSkippedTasks\": 0, \"numFailedTasks\": 0, \"numActiveStages\": 1, \"numCompletedStages\": 0, \"numSkippedStages\": 0, \"numFailedStages\": 0})"
      ]
     },
     "metadata": {},
     "output_type": "display_data"
    },
    {
     "data": {
      "application/javascript": [
       "refreshJobProgress_7baaa9b08eba4871822bed39cb61b615({\"jobId\": 3, \"name\": \"collect at <ipython-input-5-ed4060b10f3f>:122\", \"submissionTime\": \"2017-05-01T01:44:02.978GMT\", \"stageIds\": [3, 4], \"status\": \"RUNNING\", \"numTasks\": 40, \"numActiveTasks\": 1, \"numCompletedTasks\": 2, \"numSkippedTasks\": 0, \"numFailedTasks\": 0, \"numActiveStages\": 1, \"numCompletedStages\": 0, \"numSkippedStages\": 0, \"numFailedStages\": 0})"
      ]
     },
     "metadata": {},
     "output_type": "display_data"
    },
    {
     "data": {
      "application/javascript": [
       "refreshJobProgress_7baaa9b08eba4871822bed39cb61b615({\"jobId\": 3, \"name\": \"collect at <ipython-input-5-ed4060b10f3f>:122\", \"submissionTime\": \"2017-05-01T01:44:02.978GMT\", \"stageIds\": [3, 4], \"status\": \"RUNNING\", \"numTasks\": 40, \"numActiveTasks\": 1, \"numCompletedTasks\": 2, \"numSkippedTasks\": 0, \"numFailedTasks\": 0, \"numActiveStages\": 1, \"numCompletedStages\": 0, \"numSkippedStages\": 0, \"numFailedStages\": 0})"
      ]
     },
     "metadata": {},
     "output_type": "display_data"
    },
    {
     "data": {
      "application/javascript": [
       "refreshJobProgress_7baaa9b08eba4871822bed39cb61b615({\"jobId\": 3, \"name\": \"collect at <ipython-input-5-ed4060b10f3f>:122\", \"submissionTime\": \"2017-05-01T01:44:02.978GMT\", \"stageIds\": [3, 4], \"status\": \"RUNNING\", \"numTasks\": 40, \"numActiveTasks\": 1, \"numCompletedTasks\": 2, \"numSkippedTasks\": 0, \"numFailedTasks\": 0, \"numActiveStages\": 1, \"numCompletedStages\": 0, \"numSkippedStages\": 0, \"numFailedStages\": 0})"
      ]
     },
     "metadata": {},
     "output_type": "display_data"
    },
    {
     "data": {
      "application/javascript": [
       "refreshJobProgress_7baaa9b08eba4871822bed39cb61b615({\"jobId\": 3, \"name\": \"collect at <ipython-input-5-ed4060b10f3f>:122\", \"submissionTime\": \"2017-05-01T01:44:02.978GMT\", \"stageIds\": [3, 4], \"status\": \"RUNNING\", \"numTasks\": 40, \"numActiveTasks\": 1, \"numCompletedTasks\": 2, \"numSkippedTasks\": 0, \"numFailedTasks\": 0, \"numActiveStages\": 1, \"numCompletedStages\": 0, \"numSkippedStages\": 0, \"numFailedStages\": 0})"
      ]
     },
     "metadata": {},
     "output_type": "display_data"
    },
    {
     "data": {
      "application/javascript": [
       "refreshJobProgress_7baaa9b08eba4871822bed39cb61b615({\"jobId\": 3, \"name\": \"collect at <ipython-input-5-ed4060b10f3f>:122\", \"submissionTime\": \"2017-05-01T01:44:02.978GMT\", \"stageIds\": [3, 4], \"status\": \"RUNNING\", \"numTasks\": 40, \"numActiveTasks\": 1, \"numCompletedTasks\": 2, \"numSkippedTasks\": 0, \"numFailedTasks\": 0, \"numActiveStages\": 1, \"numCompletedStages\": 0, \"numSkippedStages\": 0, \"numFailedStages\": 0})"
      ]
     },
     "metadata": {},
     "output_type": "display_data"
    },
    {
     "data": {
      "application/javascript": [
       "refreshJobProgress_7baaa9b08eba4871822bed39cb61b615({\"jobId\": 3, \"name\": \"collect at <ipython-input-5-ed4060b10f3f>:122\", \"submissionTime\": \"2017-05-01T01:44:02.978GMT\", \"stageIds\": [3, 4], \"status\": \"RUNNING\", \"numTasks\": 40, \"numActiveTasks\": 1, \"numCompletedTasks\": 2, \"numSkippedTasks\": 0, \"numFailedTasks\": 0, \"numActiveStages\": 1, \"numCompletedStages\": 0, \"numSkippedStages\": 0, \"numFailedStages\": 0})"
      ]
     },
     "metadata": {},
     "output_type": "display_data"
    },
    {
     "data": {
      "application/javascript": [
       "refreshJobProgress_7baaa9b08eba4871822bed39cb61b615({\"jobId\": 3, \"name\": \"collect at <ipython-input-5-ed4060b10f3f>:122\", \"submissionTime\": \"2017-05-01T01:44:02.978GMT\", \"stageIds\": [3, 4], \"status\": \"RUNNING\", \"numTasks\": 40, \"numActiveTasks\": 1, \"numCompletedTasks\": 2, \"numSkippedTasks\": 0, \"numFailedTasks\": 0, \"numActiveStages\": 1, \"numCompletedStages\": 0, \"numSkippedStages\": 0, \"numFailedStages\": 0})"
      ]
     },
     "metadata": {},
     "output_type": "display_data"
    },
    {
     "data": {
      "application/javascript": [
       "refreshJobProgress_7baaa9b08eba4871822bed39cb61b615({\"jobId\": 3, \"name\": \"collect at <ipython-input-5-ed4060b10f3f>:122\", \"submissionTime\": \"2017-05-01T01:44:02.978GMT\", \"stageIds\": [3, 4], \"status\": \"RUNNING\", \"numTasks\": 40, \"numActiveTasks\": 1, \"numCompletedTasks\": 3, \"numSkippedTasks\": 0, \"numFailedTasks\": 0, \"numActiveStages\": 1, \"numCompletedStages\": 0, \"numSkippedStages\": 0, \"numFailedStages\": 0})"
      ]
     },
     "metadata": {},
     "output_type": "display_data"
    },
    {
     "data": {
      "application/javascript": [
       "refreshJobProgress_7baaa9b08eba4871822bed39cb61b615({\"jobId\": 3, \"name\": \"collect at <ipython-input-5-ed4060b10f3f>:122\", \"submissionTime\": \"2017-05-01T01:44:02.978GMT\", \"stageIds\": [3, 4], \"status\": \"RUNNING\", \"numTasks\": 40, \"numActiveTasks\": 1, \"numCompletedTasks\": 3, \"numSkippedTasks\": 0, \"numFailedTasks\": 0, \"numActiveStages\": 1, \"numCompletedStages\": 0, \"numSkippedStages\": 0, \"numFailedStages\": 0})"
      ]
     },
     "metadata": {},
     "output_type": "display_data"
    },
    {
     "data": {
      "application/javascript": [
       "refreshJobProgress_7baaa9b08eba4871822bed39cb61b615({\"jobId\": 3, \"name\": \"collect at <ipython-input-5-ed4060b10f3f>:122\", \"submissionTime\": \"2017-05-01T01:44:02.978GMT\", \"stageIds\": [3, 4], \"status\": \"RUNNING\", \"numTasks\": 40, \"numActiveTasks\": 1, \"numCompletedTasks\": 3, \"numSkippedTasks\": 0, \"numFailedTasks\": 0, \"numActiveStages\": 1, \"numCompletedStages\": 0, \"numSkippedStages\": 0, \"numFailedStages\": 0})"
      ]
     },
     "metadata": {},
     "output_type": "display_data"
    },
    {
     "data": {
      "application/javascript": [
       "refreshJobProgress_7baaa9b08eba4871822bed39cb61b615({\"jobId\": 3, \"name\": \"collect at <ipython-input-5-ed4060b10f3f>:122\", \"submissionTime\": \"2017-05-01T01:44:02.978GMT\", \"stageIds\": [3, 4], \"status\": \"RUNNING\", \"numTasks\": 40, \"numActiveTasks\": 1, \"numCompletedTasks\": 3, \"numSkippedTasks\": 0, \"numFailedTasks\": 0, \"numActiveStages\": 1, \"numCompletedStages\": 0, \"numSkippedStages\": 0, \"numFailedStages\": 0})"
      ]
     },
     "metadata": {},
     "output_type": "display_data"
    },
    {
     "data": {
      "application/javascript": [
       "refreshJobProgress_7baaa9b08eba4871822bed39cb61b615({\"jobId\": 3, \"name\": \"collect at <ipython-input-5-ed4060b10f3f>:122\", \"submissionTime\": \"2017-05-01T01:44:02.978GMT\", \"stageIds\": [3, 4], \"status\": \"RUNNING\", \"numTasks\": 40, \"numActiveTasks\": 1, \"numCompletedTasks\": 3, \"numSkippedTasks\": 0, \"numFailedTasks\": 0, \"numActiveStages\": 1, \"numCompletedStages\": 0, \"numSkippedStages\": 0, \"numFailedStages\": 0})"
      ]
     },
     "metadata": {},
     "output_type": "display_data"
    },
    {
     "data": {
      "application/javascript": [
       "refreshJobProgress_7baaa9b08eba4871822bed39cb61b615({\"jobId\": 3, \"name\": \"collect at <ipython-input-5-ed4060b10f3f>:122\", \"submissionTime\": \"2017-05-01T01:44:02.978GMT\", \"stageIds\": [3, 4], \"status\": \"RUNNING\", \"numTasks\": 40, \"numActiveTasks\": 1, \"numCompletedTasks\": 3, \"numSkippedTasks\": 0, \"numFailedTasks\": 0, \"numActiveStages\": 1, \"numCompletedStages\": 0, \"numSkippedStages\": 0, \"numFailedStages\": 0})"
      ]
     },
     "metadata": {},
     "output_type": "display_data"
    },
    {
     "data": {
      "application/javascript": [
       "refreshJobProgress_7baaa9b08eba4871822bed39cb61b615({\"jobId\": 3, \"name\": \"collect at <ipython-input-5-ed4060b10f3f>:122\", \"submissionTime\": \"2017-05-01T01:44:02.978GMT\", \"stageIds\": [3, 4], \"status\": \"RUNNING\", \"numTasks\": 40, \"numActiveTasks\": 1, \"numCompletedTasks\": 3, \"numSkippedTasks\": 0, \"numFailedTasks\": 0, \"numActiveStages\": 1, \"numCompletedStages\": 0, \"numSkippedStages\": 0, \"numFailedStages\": 0})"
      ]
     },
     "metadata": {},
     "output_type": "display_data"
    },
    {
     "data": {
      "application/javascript": [
       "refreshJobProgress_7baaa9b08eba4871822bed39cb61b615({\"jobId\": 3, \"name\": \"collect at <ipython-input-5-ed4060b10f3f>:122\", \"submissionTime\": \"2017-05-01T01:44:02.978GMT\", \"stageIds\": [3, 4], \"status\": \"RUNNING\", \"numTasks\": 40, \"numActiveTasks\": 1, \"numCompletedTasks\": 3, \"numSkippedTasks\": 0, \"numFailedTasks\": 0, \"numActiveStages\": 1, \"numCompletedStages\": 0, \"numSkippedStages\": 0, \"numFailedStages\": 0})"
      ]
     },
     "metadata": {},
     "output_type": "display_data"
    },
    {
     "data": {
      "application/javascript": [
       "refreshJobProgress_7baaa9b08eba4871822bed39cb61b615({\"jobId\": 3, \"name\": \"collect at <ipython-input-5-ed4060b10f3f>:122\", \"submissionTime\": \"2017-05-01T01:44:02.978GMT\", \"stageIds\": [3, 4], \"status\": \"RUNNING\", \"numTasks\": 40, \"numActiveTasks\": 1, \"numCompletedTasks\": 3, \"numSkippedTasks\": 0, \"numFailedTasks\": 0, \"numActiveStages\": 1, \"numCompletedStages\": 0, \"numSkippedStages\": 0, \"numFailedStages\": 0})"
      ]
     },
     "metadata": {},
     "output_type": "display_data"
    },
    {
     "data": {
      "application/javascript": [
       "refreshJobProgress_7baaa9b08eba4871822bed39cb61b615({\"jobId\": 3, \"name\": \"collect at <ipython-input-5-ed4060b10f3f>:122\", \"submissionTime\": \"2017-05-01T01:44:02.978GMT\", \"stageIds\": [3, 4], \"status\": \"RUNNING\", \"numTasks\": 40, \"numActiveTasks\": 1, \"numCompletedTasks\": 3, \"numSkippedTasks\": 0, \"numFailedTasks\": 0, \"numActiveStages\": 1, \"numCompletedStages\": 0, \"numSkippedStages\": 0, \"numFailedStages\": 0})"
      ]
     },
     "metadata": {},
     "output_type": "display_data"
    },
    {
     "data": {
      "application/javascript": [
       "refreshJobProgress_7baaa9b08eba4871822bed39cb61b615({\"jobId\": 3, \"name\": \"collect at <ipython-input-5-ed4060b10f3f>:122\", \"submissionTime\": \"2017-05-01T01:44:02.978GMT\", \"stageIds\": [3, 4], \"status\": \"RUNNING\", \"numTasks\": 40, \"numActiveTasks\": 1, \"numCompletedTasks\": 4, \"numSkippedTasks\": 0, \"numFailedTasks\": 0, \"numActiveStages\": 1, \"numCompletedStages\": 0, \"numSkippedStages\": 0, \"numFailedStages\": 0})"
      ]
     },
     "metadata": {},
     "output_type": "display_data"
    },
    {
     "data": {
      "application/javascript": [
       "refreshJobProgress_7baaa9b08eba4871822bed39cb61b615({\"jobId\": 3, \"name\": \"collect at <ipython-input-5-ed4060b10f3f>:122\", \"submissionTime\": \"2017-05-01T01:44:02.978GMT\", \"stageIds\": [3, 4], \"status\": \"RUNNING\", \"numTasks\": 40, \"numActiveTasks\": 1, \"numCompletedTasks\": 4, \"numSkippedTasks\": 0, \"numFailedTasks\": 0, \"numActiveStages\": 1, \"numCompletedStages\": 0, \"numSkippedStages\": 0, \"numFailedStages\": 0})"
      ]
     },
     "metadata": {},
     "output_type": "display_data"
    },
    {
     "data": {
      "application/javascript": [
       "refreshJobProgress_7baaa9b08eba4871822bed39cb61b615({\"jobId\": 3, \"name\": \"collect at <ipython-input-5-ed4060b10f3f>:122\", \"submissionTime\": \"2017-05-01T01:44:02.978GMT\", \"stageIds\": [3, 4], \"status\": \"RUNNING\", \"numTasks\": 40, \"numActiveTasks\": 1, \"numCompletedTasks\": 4, \"numSkippedTasks\": 0, \"numFailedTasks\": 0, \"numActiveStages\": 1, \"numCompletedStages\": 0, \"numSkippedStages\": 0, \"numFailedStages\": 0})"
      ]
     },
     "metadata": {},
     "output_type": "display_data"
    },
    {
     "data": {
      "application/javascript": [
       "refreshJobProgress_7baaa9b08eba4871822bed39cb61b615({\"jobId\": 3, \"name\": \"collect at <ipython-input-5-ed4060b10f3f>:122\", \"submissionTime\": \"2017-05-01T01:44:02.978GMT\", \"stageIds\": [3, 4], \"status\": \"RUNNING\", \"numTasks\": 40, \"numActiveTasks\": 1, \"numCompletedTasks\": 4, \"numSkippedTasks\": 0, \"numFailedTasks\": 0, \"numActiveStages\": 1, \"numCompletedStages\": 0, \"numSkippedStages\": 0, \"numFailedStages\": 0})"
      ]
     },
     "metadata": {},
     "output_type": "display_data"
    },
    {
     "data": {
      "application/javascript": [
       "refreshJobProgress_7baaa9b08eba4871822bed39cb61b615({\"jobId\": 3, \"name\": \"collect at <ipython-input-5-ed4060b10f3f>:122\", \"submissionTime\": \"2017-05-01T01:44:02.978GMT\", \"stageIds\": [3, 4], \"status\": \"RUNNING\", \"numTasks\": 40, \"numActiveTasks\": 1, \"numCompletedTasks\": 4, \"numSkippedTasks\": 0, \"numFailedTasks\": 0, \"numActiveStages\": 1, \"numCompletedStages\": 0, \"numSkippedStages\": 0, \"numFailedStages\": 0})"
      ]
     },
     "metadata": {},
     "output_type": "display_data"
    },
    {
     "data": {
      "application/javascript": [
       "refreshJobProgress_7baaa9b08eba4871822bed39cb61b615({\"jobId\": 3, \"name\": \"collect at <ipython-input-5-ed4060b10f3f>:122\", \"submissionTime\": \"2017-05-01T01:44:02.978GMT\", \"stageIds\": [3, 4], \"status\": \"RUNNING\", \"numTasks\": 40, \"numActiveTasks\": 1, \"numCompletedTasks\": 4, \"numSkippedTasks\": 0, \"numFailedTasks\": 0, \"numActiveStages\": 1, \"numCompletedStages\": 0, \"numSkippedStages\": 0, \"numFailedStages\": 0})"
      ]
     },
     "metadata": {},
     "output_type": "display_data"
    },
    {
     "data": {
      "application/javascript": [
       "refreshJobProgress_7baaa9b08eba4871822bed39cb61b615({\"jobId\": 3, \"name\": \"collect at <ipython-input-5-ed4060b10f3f>:122\", \"submissionTime\": \"2017-05-01T01:44:02.978GMT\", \"stageIds\": [3, 4], \"status\": \"RUNNING\", \"numTasks\": 40, \"numActiveTasks\": 1, \"numCompletedTasks\": 4, \"numSkippedTasks\": 0, \"numFailedTasks\": 0, \"numActiveStages\": 1, \"numCompletedStages\": 0, \"numSkippedStages\": 0, \"numFailedStages\": 0})"
      ]
     },
     "metadata": {},
     "output_type": "display_data"
    },
    {
     "data": {
      "application/javascript": [
       "refreshJobProgress_7baaa9b08eba4871822bed39cb61b615({\"jobId\": 3, \"name\": \"collect at <ipython-input-5-ed4060b10f3f>:122\", \"submissionTime\": \"2017-05-01T01:44:02.978GMT\", \"stageIds\": [3, 4], \"status\": \"RUNNING\", \"numTasks\": 40, \"numActiveTasks\": 1, \"numCompletedTasks\": 4, \"numSkippedTasks\": 0, \"numFailedTasks\": 0, \"numActiveStages\": 1, \"numCompletedStages\": 0, \"numSkippedStages\": 0, \"numFailedStages\": 0})"
      ]
     },
     "metadata": {},
     "output_type": "display_data"
    },
    {
     "data": {
      "application/javascript": [
       "refreshJobProgress_7baaa9b08eba4871822bed39cb61b615({\"jobId\": 3, \"name\": \"collect at <ipython-input-5-ed4060b10f3f>:122\", \"submissionTime\": \"2017-05-01T01:44:02.978GMT\", \"stageIds\": [3, 4], \"status\": \"RUNNING\", \"numTasks\": 40, \"numActiveTasks\": 1, \"numCompletedTasks\": 5, \"numSkippedTasks\": 0, \"numFailedTasks\": 0, \"numActiveStages\": 1, \"numCompletedStages\": 0, \"numSkippedStages\": 0, \"numFailedStages\": 0})"
      ]
     },
     "metadata": {},
     "output_type": "display_data"
    },
    {
     "data": {
      "application/javascript": [
       "refreshJobProgress_7baaa9b08eba4871822bed39cb61b615({\"jobId\": 3, \"name\": \"collect at <ipython-input-5-ed4060b10f3f>:122\", \"submissionTime\": \"2017-05-01T01:44:02.978GMT\", \"stageIds\": [3, 4], \"status\": \"RUNNING\", \"numTasks\": 40, \"numActiveTasks\": 1, \"numCompletedTasks\": 5, \"numSkippedTasks\": 0, \"numFailedTasks\": 0, \"numActiveStages\": 1, \"numCompletedStages\": 0, \"numSkippedStages\": 0, \"numFailedStages\": 0})"
      ]
     },
     "metadata": {},
     "output_type": "display_data"
    },
    {
     "data": {
      "application/javascript": [
       "refreshJobProgress_7baaa9b08eba4871822bed39cb61b615({\"jobId\": 3, \"name\": \"collect at <ipython-input-5-ed4060b10f3f>:122\", \"submissionTime\": \"2017-05-01T01:44:02.978GMT\", \"stageIds\": [3, 4], \"status\": \"RUNNING\", \"numTasks\": 40, \"numActiveTasks\": 1, \"numCompletedTasks\": 5, \"numSkippedTasks\": 0, \"numFailedTasks\": 0, \"numActiveStages\": 1, \"numCompletedStages\": 0, \"numSkippedStages\": 0, \"numFailedStages\": 0})"
      ]
     },
     "metadata": {},
     "output_type": "display_data"
    },
    {
     "data": {
      "application/javascript": [
       "refreshJobProgress_7baaa9b08eba4871822bed39cb61b615({\"jobId\": 3, \"name\": \"collect at <ipython-input-5-ed4060b10f3f>:122\", \"submissionTime\": \"2017-05-01T01:44:02.978GMT\", \"stageIds\": [3, 4], \"status\": \"RUNNING\", \"numTasks\": 40, \"numActiveTasks\": 1, \"numCompletedTasks\": 5, \"numSkippedTasks\": 0, \"numFailedTasks\": 0, \"numActiveStages\": 1, \"numCompletedStages\": 0, \"numSkippedStages\": 0, \"numFailedStages\": 0})"
      ]
     },
     "metadata": {},
     "output_type": "display_data"
    },
    {
     "data": {
      "application/javascript": [
       "refreshJobProgress_7baaa9b08eba4871822bed39cb61b615({\"jobId\": 3, \"name\": \"collect at <ipython-input-5-ed4060b10f3f>:122\", \"submissionTime\": \"2017-05-01T01:44:02.978GMT\", \"stageIds\": [3, 4], \"status\": \"RUNNING\", \"numTasks\": 40, \"numActiveTasks\": 1, \"numCompletedTasks\": 5, \"numSkippedTasks\": 0, \"numFailedTasks\": 0, \"numActiveStages\": 1, \"numCompletedStages\": 0, \"numSkippedStages\": 0, \"numFailedStages\": 0})"
      ]
     },
     "metadata": {},
     "output_type": "display_data"
    },
    {
     "data": {
      "application/javascript": [
       "refreshJobProgress_7baaa9b08eba4871822bed39cb61b615({\"jobId\": 3, \"name\": \"collect at <ipython-input-5-ed4060b10f3f>:122\", \"submissionTime\": \"2017-05-01T01:44:02.978GMT\", \"stageIds\": [3, 4], \"status\": \"RUNNING\", \"numTasks\": 40, \"numActiveTasks\": 1, \"numCompletedTasks\": 5, \"numSkippedTasks\": 0, \"numFailedTasks\": 0, \"numActiveStages\": 1, \"numCompletedStages\": 0, \"numSkippedStages\": 0, \"numFailedStages\": 0})"
      ]
     },
     "metadata": {},
     "output_type": "display_data"
    },
    {
     "data": {
      "application/javascript": [
       "refreshJobProgress_7baaa9b08eba4871822bed39cb61b615({\"jobId\": 3, \"name\": \"collect at <ipython-input-5-ed4060b10f3f>:122\", \"submissionTime\": \"2017-05-01T01:44:02.978GMT\", \"stageIds\": [3, 4], \"status\": \"RUNNING\", \"numTasks\": 40, \"numActiveTasks\": 1, \"numCompletedTasks\": 5, \"numSkippedTasks\": 0, \"numFailedTasks\": 0, \"numActiveStages\": 1, \"numCompletedStages\": 0, \"numSkippedStages\": 0, \"numFailedStages\": 0})"
      ]
     },
     "metadata": {},
     "output_type": "display_data"
    },
    {
     "data": {
      "application/javascript": [
       "refreshJobProgress_7baaa9b08eba4871822bed39cb61b615({\"jobId\": 3, \"name\": \"collect at <ipython-input-5-ed4060b10f3f>:122\", \"submissionTime\": \"2017-05-01T01:44:02.978GMT\", \"stageIds\": [3, 4], \"status\": \"RUNNING\", \"numTasks\": 40, \"numActiveTasks\": 1, \"numCompletedTasks\": 5, \"numSkippedTasks\": 0, \"numFailedTasks\": 0, \"numActiveStages\": 1, \"numCompletedStages\": 0, \"numSkippedStages\": 0, \"numFailedStages\": 0})"
      ]
     },
     "metadata": {},
     "output_type": "display_data"
    },
    {
     "data": {
      "application/javascript": [
       "refreshJobProgress_7baaa9b08eba4871822bed39cb61b615({\"jobId\": 3, \"name\": \"collect at <ipython-input-5-ed4060b10f3f>:122\", \"submissionTime\": \"2017-05-01T01:44:02.978GMT\", \"stageIds\": [3, 4], \"status\": \"RUNNING\", \"numTasks\": 40, \"numActiveTasks\": 1, \"numCompletedTasks\": 5, \"numSkippedTasks\": 0, \"numFailedTasks\": 0, \"numActiveStages\": 1, \"numCompletedStages\": 0, \"numSkippedStages\": 0, \"numFailedStages\": 0})"
      ]
     },
     "metadata": {},
     "output_type": "display_data"
    },
    {
     "data": {
      "application/javascript": [
       "refreshJobProgress_7baaa9b08eba4871822bed39cb61b615({\"jobId\": 3, \"name\": \"collect at <ipython-input-5-ed4060b10f3f>:122\", \"submissionTime\": \"2017-05-01T01:44:02.978GMT\", \"stageIds\": [3, 4], \"status\": \"RUNNING\", \"numTasks\": 40, \"numActiveTasks\": 1, \"numCompletedTasks\": 5, \"numSkippedTasks\": 0, \"numFailedTasks\": 0, \"numActiveStages\": 1, \"numCompletedStages\": 0, \"numSkippedStages\": 0, \"numFailedStages\": 0})"
      ]
     },
     "metadata": {},
     "output_type": "display_data"
    },
    {
     "data": {
      "application/javascript": [
       "refreshJobProgress_7baaa9b08eba4871822bed39cb61b615({\"jobId\": 3, \"name\": \"collect at <ipython-input-5-ed4060b10f3f>:122\", \"submissionTime\": \"2017-05-01T01:44:02.978GMT\", \"stageIds\": [3, 4], \"status\": \"RUNNING\", \"numTasks\": 40, \"numActiveTasks\": 1, \"numCompletedTasks\": 5, \"numSkippedTasks\": 0, \"numFailedTasks\": 0, \"numActiveStages\": 1, \"numCompletedStages\": 0, \"numSkippedStages\": 0, \"numFailedStages\": 0})"
      ]
     },
     "metadata": {},
     "output_type": "display_data"
    },
    {
     "data": {
      "application/javascript": [
       "refreshJobProgress_7baaa9b08eba4871822bed39cb61b615({\"jobId\": 3, \"name\": \"collect at <ipython-input-5-ed4060b10f3f>:122\", \"submissionTime\": \"2017-05-01T01:44:02.978GMT\", \"stageIds\": [3, 4], \"status\": \"RUNNING\", \"numTasks\": 40, \"numActiveTasks\": 1, \"numCompletedTasks\": 6, \"numSkippedTasks\": 0, \"numFailedTasks\": 0, \"numActiveStages\": 1, \"numCompletedStages\": 0, \"numSkippedStages\": 0, \"numFailedStages\": 0})"
      ]
     },
     "metadata": {},
     "output_type": "display_data"
    },
    {
     "data": {
      "application/javascript": [
       "refreshJobProgress_7baaa9b08eba4871822bed39cb61b615({\"jobId\": 3, \"name\": \"collect at <ipython-input-5-ed4060b10f3f>:122\", \"submissionTime\": \"2017-05-01T01:44:02.978GMT\", \"stageIds\": [3, 4], \"status\": \"RUNNING\", \"numTasks\": 40, \"numActiveTasks\": 1, \"numCompletedTasks\": 6, \"numSkippedTasks\": 0, \"numFailedTasks\": 0, \"numActiveStages\": 1, \"numCompletedStages\": 0, \"numSkippedStages\": 0, \"numFailedStages\": 0})"
      ]
     },
     "metadata": {},
     "output_type": "display_data"
    },
    {
     "data": {
      "application/javascript": [
       "refreshJobProgress_7baaa9b08eba4871822bed39cb61b615({\"jobId\": 3, \"name\": \"collect at <ipython-input-5-ed4060b10f3f>:122\", \"submissionTime\": \"2017-05-01T01:44:02.978GMT\", \"stageIds\": [3, 4], \"status\": \"RUNNING\", \"numTasks\": 40, \"numActiveTasks\": 1, \"numCompletedTasks\": 6, \"numSkippedTasks\": 0, \"numFailedTasks\": 0, \"numActiveStages\": 1, \"numCompletedStages\": 0, \"numSkippedStages\": 0, \"numFailedStages\": 0})"
      ]
     },
     "metadata": {},
     "output_type": "display_data"
    },
    {
     "data": {
      "application/javascript": [
       "refreshJobProgress_7baaa9b08eba4871822bed39cb61b615({\"jobId\": 3, \"name\": \"collect at <ipython-input-5-ed4060b10f3f>:122\", \"submissionTime\": \"2017-05-01T01:44:02.978GMT\", \"stageIds\": [3, 4], \"status\": \"RUNNING\", \"numTasks\": 40, \"numActiveTasks\": 1, \"numCompletedTasks\": 6, \"numSkippedTasks\": 0, \"numFailedTasks\": 0, \"numActiveStages\": 1, \"numCompletedStages\": 0, \"numSkippedStages\": 0, \"numFailedStages\": 0})"
      ]
     },
     "metadata": {},
     "output_type": "display_data"
    },
    {
     "data": {
      "application/javascript": [
       "refreshJobProgress_7baaa9b08eba4871822bed39cb61b615({\"jobId\": 3, \"name\": \"collect at <ipython-input-5-ed4060b10f3f>:122\", \"submissionTime\": \"2017-05-01T01:44:02.978GMT\", \"stageIds\": [3, 4], \"status\": \"RUNNING\", \"numTasks\": 40, \"numActiveTasks\": 1, \"numCompletedTasks\": 6, \"numSkippedTasks\": 0, \"numFailedTasks\": 0, \"numActiveStages\": 1, \"numCompletedStages\": 0, \"numSkippedStages\": 0, \"numFailedStages\": 0})"
      ]
     },
     "metadata": {},
     "output_type": "display_data"
    },
    {
     "data": {
      "application/javascript": [
       "refreshJobProgress_7baaa9b08eba4871822bed39cb61b615({\"jobId\": 3, \"name\": \"collect at <ipython-input-5-ed4060b10f3f>:122\", \"submissionTime\": \"2017-05-01T01:44:02.978GMT\", \"stageIds\": [3, 4], \"status\": \"RUNNING\", \"numTasks\": 40, \"numActiveTasks\": 1, \"numCompletedTasks\": 6, \"numSkippedTasks\": 0, \"numFailedTasks\": 0, \"numActiveStages\": 1, \"numCompletedStages\": 0, \"numSkippedStages\": 0, \"numFailedStages\": 0})"
      ]
     },
     "metadata": {},
     "output_type": "display_data"
    },
    {
     "data": {
      "application/javascript": [
       "refreshJobProgress_7baaa9b08eba4871822bed39cb61b615({\"jobId\": 3, \"name\": \"collect at <ipython-input-5-ed4060b10f3f>:122\", \"submissionTime\": \"2017-05-01T01:44:02.978GMT\", \"stageIds\": [3, 4], \"status\": \"RUNNING\", \"numTasks\": 40, \"numActiveTasks\": 1, \"numCompletedTasks\": 6, \"numSkippedTasks\": 0, \"numFailedTasks\": 0, \"numActiveStages\": 1, \"numCompletedStages\": 0, \"numSkippedStages\": 0, \"numFailedStages\": 0})"
      ]
     },
     "metadata": {},
     "output_type": "display_data"
    },
    {
     "data": {
      "application/javascript": [
       "refreshJobProgress_7baaa9b08eba4871822bed39cb61b615({\"jobId\": 3, \"name\": \"collect at <ipython-input-5-ed4060b10f3f>:122\", \"submissionTime\": \"2017-05-01T01:44:02.978GMT\", \"stageIds\": [3, 4], \"status\": \"RUNNING\", \"numTasks\": 40, \"numActiveTasks\": 1, \"numCompletedTasks\": 6, \"numSkippedTasks\": 0, \"numFailedTasks\": 0, \"numActiveStages\": 1, \"numCompletedStages\": 0, \"numSkippedStages\": 0, \"numFailedStages\": 0})"
      ]
     },
     "metadata": {},
     "output_type": "display_data"
    },
    {
     "data": {
      "application/javascript": [
       "refreshJobProgress_7baaa9b08eba4871822bed39cb61b615({\"jobId\": 3, \"name\": \"collect at <ipython-input-5-ed4060b10f3f>:122\", \"submissionTime\": \"2017-05-01T01:44:02.978GMT\", \"stageIds\": [3, 4], \"status\": \"RUNNING\", \"numTasks\": 40, \"numActiveTasks\": 1, \"numCompletedTasks\": 6, \"numSkippedTasks\": 0, \"numFailedTasks\": 0, \"numActiveStages\": 1, \"numCompletedStages\": 0, \"numSkippedStages\": 0, \"numFailedStages\": 0})"
      ]
     },
     "metadata": {},
     "output_type": "display_data"
    },
    {
     "data": {
      "application/javascript": [
       "refreshJobProgress_7baaa9b08eba4871822bed39cb61b615({\"jobId\": 3, \"name\": \"collect at <ipython-input-5-ed4060b10f3f>:122\", \"submissionTime\": \"2017-05-01T01:44:02.978GMT\", \"stageIds\": [3, 4], \"status\": \"RUNNING\", \"numTasks\": 40, \"numActiveTasks\": 1, \"numCompletedTasks\": 7, \"numSkippedTasks\": 0, \"numFailedTasks\": 0, \"numActiveStages\": 1, \"numCompletedStages\": 0, \"numSkippedStages\": 0, \"numFailedStages\": 0})"
      ]
     },
     "metadata": {},
     "output_type": "display_data"
    },
    {
     "data": {
      "application/javascript": [
       "refreshJobProgress_7baaa9b08eba4871822bed39cb61b615({\"jobId\": 3, \"name\": \"collect at <ipython-input-5-ed4060b10f3f>:122\", \"submissionTime\": \"2017-05-01T01:44:02.978GMT\", \"stageIds\": [3, 4], \"status\": \"RUNNING\", \"numTasks\": 40, \"numActiveTasks\": 1, \"numCompletedTasks\": 7, \"numSkippedTasks\": 0, \"numFailedTasks\": 0, \"numActiveStages\": 1, \"numCompletedStages\": 0, \"numSkippedStages\": 0, \"numFailedStages\": 0})"
      ]
     },
     "metadata": {},
     "output_type": "display_data"
    },
    {
     "data": {
      "application/javascript": [
       "refreshJobProgress_7baaa9b08eba4871822bed39cb61b615({\"jobId\": 3, \"name\": \"collect at <ipython-input-5-ed4060b10f3f>:122\", \"submissionTime\": \"2017-05-01T01:44:02.978GMT\", \"stageIds\": [3, 4], \"status\": \"RUNNING\", \"numTasks\": 40, \"numActiveTasks\": 1, \"numCompletedTasks\": 7, \"numSkippedTasks\": 0, \"numFailedTasks\": 0, \"numActiveStages\": 1, \"numCompletedStages\": 0, \"numSkippedStages\": 0, \"numFailedStages\": 0})"
      ]
     },
     "metadata": {},
     "output_type": "display_data"
    },
    {
     "data": {
      "application/javascript": [
       "refreshJobProgress_7baaa9b08eba4871822bed39cb61b615({\"jobId\": 3, \"name\": \"collect at <ipython-input-5-ed4060b10f3f>:122\", \"submissionTime\": \"2017-05-01T01:44:02.978GMT\", \"stageIds\": [3, 4], \"status\": \"RUNNING\", \"numTasks\": 40, \"numActiveTasks\": 1, \"numCompletedTasks\": 7, \"numSkippedTasks\": 0, \"numFailedTasks\": 0, \"numActiveStages\": 1, \"numCompletedStages\": 0, \"numSkippedStages\": 0, \"numFailedStages\": 0})"
      ]
     },
     "metadata": {},
     "output_type": "display_data"
    },
    {
     "data": {
      "application/javascript": [
       "refreshJobProgress_7baaa9b08eba4871822bed39cb61b615({\"jobId\": 3, \"name\": \"collect at <ipython-input-5-ed4060b10f3f>:122\", \"submissionTime\": \"2017-05-01T01:44:02.978GMT\", \"stageIds\": [3, 4], \"status\": \"RUNNING\", \"numTasks\": 40, \"numActiveTasks\": 1, \"numCompletedTasks\": 7, \"numSkippedTasks\": 0, \"numFailedTasks\": 0, \"numActiveStages\": 1, \"numCompletedStages\": 0, \"numSkippedStages\": 0, \"numFailedStages\": 0})"
      ]
     },
     "metadata": {},
     "output_type": "display_data"
    },
    {
     "data": {
      "application/javascript": [
       "refreshJobProgress_7baaa9b08eba4871822bed39cb61b615({\"jobId\": 3, \"name\": \"collect at <ipython-input-5-ed4060b10f3f>:122\", \"submissionTime\": \"2017-05-01T01:44:02.978GMT\", \"stageIds\": [3, 4], \"status\": \"RUNNING\", \"numTasks\": 40, \"numActiveTasks\": 1, \"numCompletedTasks\": 7, \"numSkippedTasks\": 0, \"numFailedTasks\": 0, \"numActiveStages\": 1, \"numCompletedStages\": 0, \"numSkippedStages\": 0, \"numFailedStages\": 0})"
      ]
     },
     "metadata": {},
     "output_type": "display_data"
    },
    {
     "data": {
      "application/javascript": [
       "refreshJobProgress_7baaa9b08eba4871822bed39cb61b615({\"jobId\": 3, \"name\": \"collect at <ipython-input-5-ed4060b10f3f>:122\", \"submissionTime\": \"2017-05-01T01:44:02.978GMT\", \"stageIds\": [3, 4], \"status\": \"RUNNING\", \"numTasks\": 40, \"numActiveTasks\": 1, \"numCompletedTasks\": 7, \"numSkippedTasks\": 0, \"numFailedTasks\": 0, \"numActiveStages\": 1, \"numCompletedStages\": 0, \"numSkippedStages\": 0, \"numFailedStages\": 0})"
      ]
     },
     "metadata": {},
     "output_type": "display_data"
    },
    {
     "data": {
      "application/javascript": [
       "refreshJobProgress_7baaa9b08eba4871822bed39cb61b615({\"jobId\": 3, \"name\": \"collect at <ipython-input-5-ed4060b10f3f>:122\", \"submissionTime\": \"2017-05-01T01:44:02.978GMT\", \"stageIds\": [3, 4], \"status\": \"RUNNING\", \"numTasks\": 40, \"numActiveTasks\": 1, \"numCompletedTasks\": 7, \"numSkippedTasks\": 0, \"numFailedTasks\": 0, \"numActiveStages\": 1, \"numCompletedStages\": 0, \"numSkippedStages\": 0, \"numFailedStages\": 0})"
      ]
     },
     "metadata": {},
     "output_type": "display_data"
    },
    {
     "data": {
      "application/javascript": [
       "refreshJobProgress_7baaa9b08eba4871822bed39cb61b615({\"jobId\": 3, \"name\": \"collect at <ipython-input-5-ed4060b10f3f>:122\", \"submissionTime\": \"2017-05-01T01:44:02.978GMT\", \"stageIds\": [3, 4], \"status\": \"RUNNING\", \"numTasks\": 40, \"numActiveTasks\": 1, \"numCompletedTasks\": 7, \"numSkippedTasks\": 0, \"numFailedTasks\": 0, \"numActiveStages\": 1, \"numCompletedStages\": 0, \"numSkippedStages\": 0, \"numFailedStages\": 0})"
      ]
     },
     "metadata": {},
     "output_type": "display_data"
    },
    {
     "data": {
      "application/javascript": [
       "refreshJobProgress_7baaa9b08eba4871822bed39cb61b615({\"jobId\": 3, \"name\": \"collect at <ipython-input-5-ed4060b10f3f>:122\", \"submissionTime\": \"2017-05-01T01:44:02.978GMT\", \"stageIds\": [3, 4], \"status\": \"RUNNING\", \"numTasks\": 40, \"numActiveTasks\": 1, \"numCompletedTasks\": 7, \"numSkippedTasks\": 0, \"numFailedTasks\": 0, \"numActiveStages\": 1, \"numCompletedStages\": 0, \"numSkippedStages\": 0, \"numFailedStages\": 0})"
      ]
     },
     "metadata": {},
     "output_type": "display_data"
    },
    {
     "data": {
      "application/javascript": [
       "refreshJobProgress_7baaa9b08eba4871822bed39cb61b615({\"jobId\": 3, \"name\": \"collect at <ipython-input-5-ed4060b10f3f>:122\", \"submissionTime\": \"2017-05-01T01:44:02.978GMT\", \"stageIds\": [3, 4], \"status\": \"RUNNING\", \"numTasks\": 40, \"numActiveTasks\": 1, \"numCompletedTasks\": 8, \"numSkippedTasks\": 0, \"numFailedTasks\": 0, \"numActiveStages\": 1, \"numCompletedStages\": 0, \"numSkippedStages\": 0, \"numFailedStages\": 0})"
      ]
     },
     "metadata": {},
     "output_type": "display_data"
    },
    {
     "data": {
      "application/javascript": [
       "refreshJobProgress_7baaa9b08eba4871822bed39cb61b615({\"jobId\": 3, \"name\": \"collect at <ipython-input-5-ed4060b10f3f>:122\", \"submissionTime\": \"2017-05-01T01:44:02.978GMT\", \"stageIds\": [3, 4], \"status\": \"RUNNING\", \"numTasks\": 40, \"numActiveTasks\": 1, \"numCompletedTasks\": 8, \"numSkippedTasks\": 0, \"numFailedTasks\": 0, \"numActiveStages\": 1, \"numCompletedStages\": 0, \"numSkippedStages\": 0, \"numFailedStages\": 0})"
      ]
     },
     "metadata": {},
     "output_type": "display_data"
    },
    {
     "data": {
      "application/javascript": [
       "refreshJobProgress_7baaa9b08eba4871822bed39cb61b615({\"jobId\": 3, \"name\": \"collect at <ipython-input-5-ed4060b10f3f>:122\", \"submissionTime\": \"2017-05-01T01:44:02.978GMT\", \"stageIds\": [3, 4], \"status\": \"RUNNING\", \"numTasks\": 40, \"numActiveTasks\": 1, \"numCompletedTasks\": 8, \"numSkippedTasks\": 0, \"numFailedTasks\": 0, \"numActiveStages\": 1, \"numCompletedStages\": 0, \"numSkippedStages\": 0, \"numFailedStages\": 0})"
      ]
     },
     "metadata": {},
     "output_type": "display_data"
    },
    {
     "data": {
      "application/javascript": [
       "refreshJobProgress_7baaa9b08eba4871822bed39cb61b615({\"jobId\": 3, \"name\": \"collect at <ipython-input-5-ed4060b10f3f>:122\", \"submissionTime\": \"2017-05-01T01:44:02.978GMT\", \"stageIds\": [3, 4], \"status\": \"RUNNING\", \"numTasks\": 40, \"numActiveTasks\": 1, \"numCompletedTasks\": 8, \"numSkippedTasks\": 0, \"numFailedTasks\": 0, \"numActiveStages\": 1, \"numCompletedStages\": 0, \"numSkippedStages\": 0, \"numFailedStages\": 0})"
      ]
     },
     "metadata": {},
     "output_type": "display_data"
    },
    {
     "data": {
      "application/javascript": [
       "refreshJobProgress_7baaa9b08eba4871822bed39cb61b615({\"jobId\": 3, \"name\": \"collect at <ipython-input-5-ed4060b10f3f>:122\", \"submissionTime\": \"2017-05-01T01:44:02.978GMT\", \"stageIds\": [3, 4], \"status\": \"RUNNING\", \"numTasks\": 40, \"numActiveTasks\": 1, \"numCompletedTasks\": 8, \"numSkippedTasks\": 0, \"numFailedTasks\": 0, \"numActiveStages\": 1, \"numCompletedStages\": 0, \"numSkippedStages\": 0, \"numFailedStages\": 0})"
      ]
     },
     "metadata": {},
     "output_type": "display_data"
    },
    {
     "data": {
      "application/javascript": [
       "refreshJobProgress_7baaa9b08eba4871822bed39cb61b615({\"jobId\": 3, \"name\": \"collect at <ipython-input-5-ed4060b10f3f>:122\", \"submissionTime\": \"2017-05-01T01:44:02.978GMT\", \"stageIds\": [3, 4], \"status\": \"RUNNING\", \"numTasks\": 40, \"numActiveTasks\": 1, \"numCompletedTasks\": 8, \"numSkippedTasks\": 0, \"numFailedTasks\": 0, \"numActiveStages\": 1, \"numCompletedStages\": 0, \"numSkippedStages\": 0, \"numFailedStages\": 0})"
      ]
     },
     "metadata": {},
     "output_type": "display_data"
    },
    {
     "data": {
      "application/javascript": [
       "refreshJobProgress_7baaa9b08eba4871822bed39cb61b615({\"jobId\": 3, \"name\": \"collect at <ipython-input-5-ed4060b10f3f>:122\", \"submissionTime\": \"2017-05-01T01:44:02.978GMT\", \"stageIds\": [3, 4], \"status\": \"RUNNING\", \"numTasks\": 40, \"numActiveTasks\": 1, \"numCompletedTasks\": 8, \"numSkippedTasks\": 0, \"numFailedTasks\": 0, \"numActiveStages\": 1, \"numCompletedStages\": 0, \"numSkippedStages\": 0, \"numFailedStages\": 0})"
      ]
     },
     "metadata": {},
     "output_type": "display_data"
    },
    {
     "data": {
      "application/javascript": [
       "refreshJobProgress_7baaa9b08eba4871822bed39cb61b615({\"jobId\": 3, \"name\": \"collect at <ipython-input-5-ed4060b10f3f>:122\", \"submissionTime\": \"2017-05-01T01:44:02.978GMT\", \"stageIds\": [3, 4], \"status\": \"RUNNING\", \"numTasks\": 40, \"numActiveTasks\": 1, \"numCompletedTasks\": 8, \"numSkippedTasks\": 0, \"numFailedTasks\": 0, \"numActiveStages\": 1, \"numCompletedStages\": 0, \"numSkippedStages\": 0, \"numFailedStages\": 0})"
      ]
     },
     "metadata": {},
     "output_type": "display_data"
    },
    {
     "data": {
      "application/javascript": [
       "refreshJobProgress_7baaa9b08eba4871822bed39cb61b615({\"jobId\": 3, \"name\": \"collect at <ipython-input-5-ed4060b10f3f>:122\", \"submissionTime\": \"2017-05-01T01:44:02.978GMT\", \"stageIds\": [3, 4], \"status\": \"RUNNING\", \"numTasks\": 40, \"numActiveTasks\": 1, \"numCompletedTasks\": 8, \"numSkippedTasks\": 0, \"numFailedTasks\": 0, \"numActiveStages\": 1, \"numCompletedStages\": 0, \"numSkippedStages\": 0, \"numFailedStages\": 0})"
      ]
     },
     "metadata": {},
     "output_type": "display_data"
    },
    {
     "data": {
      "application/javascript": [
       "refreshJobProgress_7baaa9b08eba4871822bed39cb61b615({\"jobId\": 3, \"name\": \"collect at <ipython-input-5-ed4060b10f3f>:122\", \"submissionTime\": \"2017-05-01T01:44:02.978GMT\", \"stageIds\": [3, 4], \"status\": \"RUNNING\", \"numTasks\": 40, \"numActiveTasks\": 1, \"numCompletedTasks\": 8, \"numSkippedTasks\": 0, \"numFailedTasks\": 0, \"numActiveStages\": 1, \"numCompletedStages\": 0, \"numSkippedStages\": 0, \"numFailedStages\": 0})"
      ]
     },
     "metadata": {},
     "output_type": "display_data"
    },
    {
     "data": {
      "application/javascript": [
       "refreshJobProgress_7baaa9b08eba4871822bed39cb61b615({\"jobId\": 3, \"name\": \"collect at <ipython-input-5-ed4060b10f3f>:122\", \"submissionTime\": \"2017-05-01T01:44:02.978GMT\", \"stageIds\": [3, 4], \"status\": \"RUNNING\", \"numTasks\": 40, \"numActiveTasks\": 1, \"numCompletedTasks\": 8, \"numSkippedTasks\": 0, \"numFailedTasks\": 0, \"numActiveStages\": 1, \"numCompletedStages\": 0, \"numSkippedStages\": 0, \"numFailedStages\": 0})"
      ]
     },
     "metadata": {},
     "output_type": "display_data"
    },
    {
     "data": {
      "application/javascript": [
       "refreshJobProgress_7baaa9b08eba4871822bed39cb61b615({\"jobId\": 3, \"name\": \"collect at <ipython-input-5-ed4060b10f3f>:122\", \"submissionTime\": \"2017-05-01T01:44:02.978GMT\", \"stageIds\": [3, 4], \"status\": \"RUNNING\", \"numTasks\": 40, \"numActiveTasks\": 1, \"numCompletedTasks\": 8, \"numSkippedTasks\": 0, \"numFailedTasks\": 0, \"numActiveStages\": 1, \"numCompletedStages\": 0, \"numSkippedStages\": 0, \"numFailedStages\": 0})"
      ]
     },
     "metadata": {},
     "output_type": "display_data"
    },
    {
     "data": {
      "application/javascript": [
       "refreshJobProgress_7baaa9b08eba4871822bed39cb61b615({\"jobId\": 3, \"name\": \"collect at <ipython-input-5-ed4060b10f3f>:122\", \"submissionTime\": \"2017-05-01T01:44:02.978GMT\", \"stageIds\": [3, 4], \"status\": \"RUNNING\", \"numTasks\": 40, \"numActiveTasks\": 1, \"numCompletedTasks\": 8, \"numSkippedTasks\": 0, \"numFailedTasks\": 0, \"numActiveStages\": 1, \"numCompletedStages\": 0, \"numSkippedStages\": 0, \"numFailedStages\": 0})"
      ]
     },
     "metadata": {},
     "output_type": "display_data"
    },
    {
     "data": {
      "application/javascript": [
       "refreshJobProgress_7baaa9b08eba4871822bed39cb61b615({\"jobId\": 3, \"name\": \"collect at <ipython-input-5-ed4060b10f3f>:122\", \"submissionTime\": \"2017-05-01T01:44:02.978GMT\", \"stageIds\": [3, 4], \"status\": \"RUNNING\", \"numTasks\": 40, \"numActiveTasks\": 1, \"numCompletedTasks\": 9, \"numSkippedTasks\": 0, \"numFailedTasks\": 0, \"numActiveStages\": 1, \"numCompletedStages\": 0, \"numSkippedStages\": 0, \"numFailedStages\": 0})"
      ]
     },
     "metadata": {},
     "output_type": "display_data"
    },
    {
     "data": {
      "application/javascript": [
       "refreshJobProgress_7baaa9b08eba4871822bed39cb61b615({\"jobId\": 3, \"name\": \"collect at <ipython-input-5-ed4060b10f3f>:122\", \"submissionTime\": \"2017-05-01T01:44:02.978GMT\", \"stageIds\": [3, 4], \"status\": \"RUNNING\", \"numTasks\": 40, \"numActiveTasks\": 1, \"numCompletedTasks\": 9, \"numSkippedTasks\": 0, \"numFailedTasks\": 0, \"numActiveStages\": 1, \"numCompletedStages\": 0, \"numSkippedStages\": 0, \"numFailedStages\": 0})"
      ]
     },
     "metadata": {},
     "output_type": "display_data"
    },
    {
     "data": {
      "application/javascript": [
       "refreshJobProgress_7baaa9b08eba4871822bed39cb61b615({\"jobId\": 3, \"name\": \"collect at <ipython-input-5-ed4060b10f3f>:122\", \"submissionTime\": \"2017-05-01T01:44:02.978GMT\", \"stageIds\": [3, 4], \"status\": \"RUNNING\", \"numTasks\": 40, \"numActiveTasks\": 1, \"numCompletedTasks\": 9, \"numSkippedTasks\": 0, \"numFailedTasks\": 0, \"numActiveStages\": 1, \"numCompletedStages\": 0, \"numSkippedStages\": 0, \"numFailedStages\": 0})"
      ]
     },
     "metadata": {},
     "output_type": "display_data"
    },
    {
     "data": {
      "application/javascript": [
       "refreshJobProgress_7baaa9b08eba4871822bed39cb61b615({\"jobId\": 3, \"name\": \"collect at <ipython-input-5-ed4060b10f3f>:122\", \"submissionTime\": \"2017-05-01T01:44:02.978GMT\", \"stageIds\": [3, 4], \"status\": \"RUNNING\", \"numTasks\": 40, \"numActiveTasks\": 1, \"numCompletedTasks\": 9, \"numSkippedTasks\": 0, \"numFailedTasks\": 0, \"numActiveStages\": 1, \"numCompletedStages\": 0, \"numSkippedStages\": 0, \"numFailedStages\": 0})"
      ]
     },
     "metadata": {},
     "output_type": "display_data"
    },
    {
     "data": {
      "application/javascript": [
       "refreshJobProgress_7baaa9b08eba4871822bed39cb61b615({\"jobId\": 3, \"name\": \"collect at <ipython-input-5-ed4060b10f3f>:122\", \"submissionTime\": \"2017-05-01T01:44:02.978GMT\", \"stageIds\": [3, 4], \"status\": \"RUNNING\", \"numTasks\": 40, \"numActiveTasks\": 1, \"numCompletedTasks\": 9, \"numSkippedTasks\": 0, \"numFailedTasks\": 0, \"numActiveStages\": 1, \"numCompletedStages\": 0, \"numSkippedStages\": 0, \"numFailedStages\": 0})"
      ]
     },
     "metadata": {},
     "output_type": "display_data"
    },
    {
     "data": {
      "application/javascript": [
       "refreshJobProgress_7baaa9b08eba4871822bed39cb61b615({\"jobId\": 3, \"name\": \"collect at <ipython-input-5-ed4060b10f3f>:122\", \"submissionTime\": \"2017-05-01T01:44:02.978GMT\", \"stageIds\": [3, 4], \"status\": \"RUNNING\", \"numTasks\": 40, \"numActiveTasks\": 1, \"numCompletedTasks\": 9, \"numSkippedTasks\": 0, \"numFailedTasks\": 0, \"numActiveStages\": 1, \"numCompletedStages\": 0, \"numSkippedStages\": 0, \"numFailedStages\": 0})"
      ]
     },
     "metadata": {},
     "output_type": "display_data"
    },
    {
     "data": {
      "application/javascript": [
       "refreshJobProgress_7baaa9b08eba4871822bed39cb61b615({\"jobId\": 3, \"name\": \"collect at <ipython-input-5-ed4060b10f3f>:122\", \"submissionTime\": \"2017-05-01T01:44:02.978GMT\", \"stageIds\": [3, 4], \"status\": \"RUNNING\", \"numTasks\": 40, \"numActiveTasks\": 1, \"numCompletedTasks\": 9, \"numSkippedTasks\": 0, \"numFailedTasks\": 0, \"numActiveStages\": 1, \"numCompletedStages\": 0, \"numSkippedStages\": 0, \"numFailedStages\": 0})"
      ]
     },
     "metadata": {},
     "output_type": "display_data"
    },
    {
     "data": {
      "application/javascript": [
       "refreshJobProgress_7baaa9b08eba4871822bed39cb61b615({\"jobId\": 3, \"name\": \"collect at <ipython-input-5-ed4060b10f3f>:122\", \"submissionTime\": \"2017-05-01T01:44:02.978GMT\", \"stageIds\": [3, 4], \"status\": \"RUNNING\", \"numTasks\": 40, \"numActiveTasks\": 1, \"numCompletedTasks\": 9, \"numSkippedTasks\": 0, \"numFailedTasks\": 0, \"numActiveStages\": 1, \"numCompletedStages\": 0, \"numSkippedStages\": 0, \"numFailedStages\": 0})"
      ]
     },
     "metadata": {},
     "output_type": "display_data"
    },
    {
     "data": {
      "application/javascript": [
       "refreshJobProgress_7baaa9b08eba4871822bed39cb61b615({\"jobId\": 3, \"name\": \"collect at <ipython-input-5-ed4060b10f3f>:122\", \"submissionTime\": \"2017-05-01T01:44:02.978GMT\", \"stageIds\": [3, 4], \"status\": \"RUNNING\", \"numTasks\": 40, \"numActiveTasks\": 1, \"numCompletedTasks\": 9, \"numSkippedTasks\": 0, \"numFailedTasks\": 0, \"numActiveStages\": 1, \"numCompletedStages\": 0, \"numSkippedStages\": 0, \"numFailedStages\": 0})"
      ]
     },
     "metadata": {},
     "output_type": "display_data"
    },
    {
     "data": {
      "application/javascript": [
       "refreshJobProgress_7baaa9b08eba4871822bed39cb61b615({\"jobId\": 3, \"name\": \"collect at <ipython-input-5-ed4060b10f3f>:122\", \"submissionTime\": \"2017-05-01T01:44:02.978GMT\", \"stageIds\": [3, 4], \"status\": \"RUNNING\", \"numTasks\": 40, \"numActiveTasks\": 1, \"numCompletedTasks\": 9, \"numSkippedTasks\": 0, \"numFailedTasks\": 0, \"numActiveStages\": 1, \"numCompletedStages\": 0, \"numSkippedStages\": 0, \"numFailedStages\": 0})"
      ]
     },
     "metadata": {},
     "output_type": "display_data"
    },
    {
     "data": {
      "application/javascript": [
       "refreshJobProgress_7baaa9b08eba4871822bed39cb61b615({\"jobId\": 3, \"name\": \"collect at <ipython-input-5-ed4060b10f3f>:122\", \"submissionTime\": \"2017-05-01T01:44:02.978GMT\", \"stageIds\": [3, 4], \"status\": \"RUNNING\", \"numTasks\": 40, \"numActiveTasks\": 1, \"numCompletedTasks\": 9, \"numSkippedTasks\": 0, \"numFailedTasks\": 0, \"numActiveStages\": 1, \"numCompletedStages\": 0, \"numSkippedStages\": 0, \"numFailedStages\": 0})"
      ]
     },
     "metadata": {},
     "output_type": "display_data"
    },
    {
     "data": {
      "application/javascript": [
       "refreshJobProgress_7baaa9b08eba4871822bed39cb61b615({\"jobId\": 3, \"name\": \"collect at <ipython-input-5-ed4060b10f3f>:122\", \"submissionTime\": \"2017-05-01T01:44:02.978GMT\", \"stageIds\": [3, 4], \"status\": \"RUNNING\", \"numTasks\": 40, \"numActiveTasks\": 1, \"numCompletedTasks\": 9, \"numSkippedTasks\": 0, \"numFailedTasks\": 0, \"numActiveStages\": 1, \"numCompletedStages\": 0, \"numSkippedStages\": 0, \"numFailedStages\": 0})"
      ]
     },
     "metadata": {},
     "output_type": "display_data"
    },
    {
     "data": {
      "application/javascript": [
       "refreshJobProgress_7baaa9b08eba4871822bed39cb61b615({\"jobId\": 3, \"name\": \"collect at <ipython-input-5-ed4060b10f3f>:122\", \"submissionTime\": \"2017-05-01T01:44:02.978GMT\", \"stageIds\": [3, 4], \"status\": \"RUNNING\", \"numTasks\": 40, \"numActiveTasks\": 1, \"numCompletedTasks\": 9, \"numSkippedTasks\": 0, \"numFailedTasks\": 0, \"numActiveStages\": 1, \"numCompletedStages\": 0, \"numSkippedStages\": 0, \"numFailedStages\": 0})"
      ]
     },
     "metadata": {},
     "output_type": "display_data"
    },
    {
     "data": {
      "application/javascript": [
       "refreshJobProgress_7baaa9b08eba4871822bed39cb61b615({\"jobId\": 3, \"name\": \"collect at <ipython-input-5-ed4060b10f3f>:122\", \"submissionTime\": \"2017-05-01T01:44:02.978GMT\", \"stageIds\": [3, 4], \"status\": \"RUNNING\", \"numTasks\": 40, \"numActiveTasks\": 1, \"numCompletedTasks\": 9, \"numSkippedTasks\": 0, \"numFailedTasks\": 0, \"numActiveStages\": 1, \"numCompletedStages\": 0, \"numSkippedStages\": 0, \"numFailedStages\": 0})"
      ]
     },
     "metadata": {},
     "output_type": "display_data"
    },
    {
     "data": {
      "application/javascript": [
       "refreshJobProgress_7baaa9b08eba4871822bed39cb61b615({\"jobId\": 3, \"name\": \"collect at <ipython-input-5-ed4060b10f3f>:122\", \"submissionTime\": \"2017-05-01T01:44:02.978GMT\", \"stageIds\": [3, 4], \"status\": \"RUNNING\", \"numTasks\": 40, \"numActiveTasks\": 1, \"numCompletedTasks\": 9, \"numSkippedTasks\": 0, \"numFailedTasks\": 0, \"numActiveStages\": 1, \"numCompletedStages\": 0, \"numSkippedStages\": 0, \"numFailedStages\": 0})"
      ]
     },
     "metadata": {},
     "output_type": "display_data"
    },
    {
     "data": {
      "application/javascript": [
       "refreshJobProgress_7baaa9b08eba4871822bed39cb61b615({\"jobId\": 3, \"name\": \"collect at <ipython-input-5-ed4060b10f3f>:122\", \"submissionTime\": \"2017-05-01T01:44:02.978GMT\", \"stageIds\": [3, 4], \"status\": \"RUNNING\", \"numTasks\": 40, \"numActiveTasks\": 1, \"numCompletedTasks\": 10, \"numSkippedTasks\": 0, \"numFailedTasks\": 0, \"numActiveStages\": 1, \"numCompletedStages\": 0, \"numSkippedStages\": 0, \"numFailedStages\": 0})"
      ]
     },
     "metadata": {},
     "output_type": "display_data"
    },
    {
     "data": {
      "application/javascript": [
       "refreshJobProgress_7baaa9b08eba4871822bed39cb61b615({\"jobId\": 3, \"name\": \"collect at <ipython-input-5-ed4060b10f3f>:122\", \"submissionTime\": \"2017-05-01T01:44:02.978GMT\", \"stageIds\": [3, 4], \"status\": \"RUNNING\", \"numTasks\": 40, \"numActiveTasks\": 1, \"numCompletedTasks\": 10, \"numSkippedTasks\": 0, \"numFailedTasks\": 0, \"numActiveStages\": 1, \"numCompletedStages\": 0, \"numSkippedStages\": 0, \"numFailedStages\": 0})"
      ]
     },
     "metadata": {},
     "output_type": "display_data"
    },
    {
     "data": {
      "application/javascript": [
       "refreshJobProgress_7baaa9b08eba4871822bed39cb61b615({\"jobId\": 3, \"name\": \"collect at <ipython-input-5-ed4060b10f3f>:122\", \"submissionTime\": \"2017-05-01T01:44:02.978GMT\", \"stageIds\": [3, 4], \"status\": \"RUNNING\", \"numTasks\": 40, \"numActiveTasks\": 1, \"numCompletedTasks\": 10, \"numSkippedTasks\": 0, \"numFailedTasks\": 0, \"numActiveStages\": 1, \"numCompletedStages\": 0, \"numSkippedStages\": 0, \"numFailedStages\": 0})"
      ]
     },
     "metadata": {},
     "output_type": "display_data"
    },
    {
     "data": {
      "application/javascript": [
       "refreshJobProgress_7baaa9b08eba4871822bed39cb61b615({\"jobId\": 3, \"name\": \"collect at <ipython-input-5-ed4060b10f3f>:122\", \"submissionTime\": \"2017-05-01T01:44:02.978GMT\", \"stageIds\": [3, 4], \"status\": \"RUNNING\", \"numTasks\": 40, \"numActiveTasks\": 1, \"numCompletedTasks\": 10, \"numSkippedTasks\": 0, \"numFailedTasks\": 0, \"numActiveStages\": 1, \"numCompletedStages\": 0, \"numSkippedStages\": 0, \"numFailedStages\": 0})"
      ]
     },
     "metadata": {},
     "output_type": "display_data"
    },
    {
     "data": {
      "application/javascript": [
       "refreshJobProgress_7baaa9b08eba4871822bed39cb61b615({\"jobId\": 3, \"name\": \"collect at <ipython-input-5-ed4060b10f3f>:122\", \"submissionTime\": \"2017-05-01T01:44:02.978GMT\", \"stageIds\": [3, 4], \"status\": \"RUNNING\", \"numTasks\": 40, \"numActiveTasks\": 1, \"numCompletedTasks\": 10, \"numSkippedTasks\": 0, \"numFailedTasks\": 0, \"numActiveStages\": 1, \"numCompletedStages\": 0, \"numSkippedStages\": 0, \"numFailedStages\": 0})"
      ]
     },
     "metadata": {},
     "output_type": "display_data"
    },
    {
     "data": {
      "application/javascript": [
       "refreshJobProgress_7baaa9b08eba4871822bed39cb61b615({\"jobId\": 3, \"name\": \"collect at <ipython-input-5-ed4060b10f3f>:122\", \"submissionTime\": \"2017-05-01T01:44:02.978GMT\", \"stageIds\": [3, 4], \"status\": \"RUNNING\", \"numTasks\": 40, \"numActiveTasks\": 1, \"numCompletedTasks\": 10, \"numSkippedTasks\": 0, \"numFailedTasks\": 0, \"numActiveStages\": 1, \"numCompletedStages\": 0, \"numSkippedStages\": 0, \"numFailedStages\": 0})"
      ]
     },
     "metadata": {},
     "output_type": "display_data"
    },
    {
     "data": {
      "application/javascript": [
       "refreshJobProgress_7baaa9b08eba4871822bed39cb61b615({\"jobId\": 3, \"name\": \"collect at <ipython-input-5-ed4060b10f3f>:122\", \"submissionTime\": \"2017-05-01T01:44:02.978GMT\", \"stageIds\": [3, 4], \"status\": \"RUNNING\", \"numTasks\": 40, \"numActiveTasks\": 1, \"numCompletedTasks\": 10, \"numSkippedTasks\": 0, \"numFailedTasks\": 0, \"numActiveStages\": 1, \"numCompletedStages\": 0, \"numSkippedStages\": 0, \"numFailedStages\": 0})"
      ]
     },
     "metadata": {},
     "output_type": "display_data"
    },
    {
     "data": {
      "application/javascript": [
       "refreshJobProgress_7baaa9b08eba4871822bed39cb61b615({\"jobId\": 3, \"name\": \"collect at <ipython-input-5-ed4060b10f3f>:122\", \"submissionTime\": \"2017-05-01T01:44:02.978GMT\", \"stageIds\": [3, 4], \"status\": \"RUNNING\", \"numTasks\": 40, \"numActiveTasks\": 1, \"numCompletedTasks\": 11, \"numSkippedTasks\": 0, \"numFailedTasks\": 0, \"numActiveStages\": 1, \"numCompletedStages\": 0, \"numSkippedStages\": 0, \"numFailedStages\": 0})"
      ]
     },
     "metadata": {},
     "output_type": "display_data"
    },
    {
     "data": {
      "application/javascript": [
       "refreshJobProgress_7baaa9b08eba4871822bed39cb61b615({\"jobId\": 3, \"name\": \"collect at <ipython-input-5-ed4060b10f3f>:122\", \"submissionTime\": \"2017-05-01T01:44:02.978GMT\", \"stageIds\": [3, 4], \"status\": \"RUNNING\", \"numTasks\": 40, \"numActiveTasks\": 1, \"numCompletedTasks\": 11, \"numSkippedTasks\": 0, \"numFailedTasks\": 0, \"numActiveStages\": 1, \"numCompletedStages\": 0, \"numSkippedStages\": 0, \"numFailedStages\": 0})"
      ]
     },
     "metadata": {},
     "output_type": "display_data"
    },
    {
     "data": {
      "application/javascript": [
       "refreshJobProgress_7baaa9b08eba4871822bed39cb61b615({\"jobId\": 3, \"name\": \"collect at <ipython-input-5-ed4060b10f3f>:122\", \"submissionTime\": \"2017-05-01T01:44:02.978GMT\", \"stageIds\": [3, 4], \"status\": \"RUNNING\", \"numTasks\": 40, \"numActiveTasks\": 1, \"numCompletedTasks\": 11, \"numSkippedTasks\": 0, \"numFailedTasks\": 0, \"numActiveStages\": 1, \"numCompletedStages\": 0, \"numSkippedStages\": 0, \"numFailedStages\": 0})"
      ]
     },
     "metadata": {},
     "output_type": "display_data"
    },
    {
     "data": {
      "application/javascript": [
       "refreshJobProgress_7baaa9b08eba4871822bed39cb61b615({\"jobId\": 3, \"name\": \"collect at <ipython-input-5-ed4060b10f3f>:122\", \"submissionTime\": \"2017-05-01T01:44:02.978GMT\", \"stageIds\": [3, 4], \"status\": \"RUNNING\", \"numTasks\": 40, \"numActiveTasks\": 1, \"numCompletedTasks\": 11, \"numSkippedTasks\": 0, \"numFailedTasks\": 0, \"numActiveStages\": 1, \"numCompletedStages\": 0, \"numSkippedStages\": 0, \"numFailedStages\": 0})"
      ]
     },
     "metadata": {},
     "output_type": "display_data"
    },
    {
     "data": {
      "application/javascript": [
       "refreshJobProgress_7baaa9b08eba4871822bed39cb61b615({\"jobId\": 3, \"name\": \"collect at <ipython-input-5-ed4060b10f3f>:122\", \"submissionTime\": \"2017-05-01T01:44:02.978GMT\", \"stageIds\": [3, 4], \"status\": \"RUNNING\", \"numTasks\": 40, \"numActiveTasks\": 1, \"numCompletedTasks\": 11, \"numSkippedTasks\": 0, \"numFailedTasks\": 0, \"numActiveStages\": 1, \"numCompletedStages\": 0, \"numSkippedStages\": 0, \"numFailedStages\": 0})"
      ]
     },
     "metadata": {},
     "output_type": "display_data"
    },
    {
     "data": {
      "application/javascript": [
       "refreshJobProgress_7baaa9b08eba4871822bed39cb61b615({\"jobId\": 3, \"name\": \"collect at <ipython-input-5-ed4060b10f3f>:122\", \"submissionTime\": \"2017-05-01T01:44:02.978GMT\", \"stageIds\": [3, 4], \"status\": \"RUNNING\", \"numTasks\": 40, \"numActiveTasks\": 1, \"numCompletedTasks\": 11, \"numSkippedTasks\": 0, \"numFailedTasks\": 0, \"numActiveStages\": 1, \"numCompletedStages\": 0, \"numSkippedStages\": 0, \"numFailedStages\": 0})"
      ]
     },
     "metadata": {},
     "output_type": "display_data"
    },
    {
     "data": {
      "application/javascript": [
       "refreshJobProgress_7baaa9b08eba4871822bed39cb61b615({\"jobId\": 3, \"name\": \"collect at <ipython-input-5-ed4060b10f3f>:122\", \"submissionTime\": \"2017-05-01T01:44:02.978GMT\", \"stageIds\": [3, 4], \"status\": \"RUNNING\", \"numTasks\": 40, \"numActiveTasks\": 1, \"numCompletedTasks\": 11, \"numSkippedTasks\": 0, \"numFailedTasks\": 0, \"numActiveStages\": 1, \"numCompletedStages\": 0, \"numSkippedStages\": 0, \"numFailedStages\": 0})"
      ]
     },
     "metadata": {},
     "output_type": "display_data"
    },
    {
     "data": {
      "application/javascript": [
       "refreshJobProgress_7baaa9b08eba4871822bed39cb61b615({\"jobId\": 3, \"name\": \"collect at <ipython-input-5-ed4060b10f3f>:122\", \"submissionTime\": \"2017-05-01T01:44:02.978GMT\", \"stageIds\": [3, 4], \"status\": \"RUNNING\", \"numTasks\": 40, \"numActiveTasks\": 1, \"numCompletedTasks\": 11, \"numSkippedTasks\": 0, \"numFailedTasks\": 0, \"numActiveStages\": 1, \"numCompletedStages\": 0, \"numSkippedStages\": 0, \"numFailedStages\": 0})"
      ]
     },
     "metadata": {},
     "output_type": "display_data"
    },
    {
     "data": {
      "application/javascript": [
       "refreshJobProgress_7baaa9b08eba4871822bed39cb61b615({\"jobId\": 3, \"name\": \"collect at <ipython-input-5-ed4060b10f3f>:122\", \"submissionTime\": \"2017-05-01T01:44:02.978GMT\", \"stageIds\": [3, 4], \"status\": \"RUNNING\", \"numTasks\": 40, \"numActiveTasks\": 1, \"numCompletedTasks\": 11, \"numSkippedTasks\": 0, \"numFailedTasks\": 0, \"numActiveStages\": 1, \"numCompletedStages\": 0, \"numSkippedStages\": 0, \"numFailedStages\": 0})"
      ]
     },
     "metadata": {},
     "output_type": "display_data"
    },
    {
     "data": {
      "application/javascript": [
       "refreshJobProgress_7baaa9b08eba4871822bed39cb61b615({\"jobId\": 3, \"name\": \"collect at <ipython-input-5-ed4060b10f3f>:122\", \"submissionTime\": \"2017-05-01T01:44:02.978GMT\", \"stageIds\": [3, 4], \"status\": \"RUNNING\", \"numTasks\": 40, \"numActiveTasks\": 1, \"numCompletedTasks\": 11, \"numSkippedTasks\": 0, \"numFailedTasks\": 0, \"numActiveStages\": 1, \"numCompletedStages\": 0, \"numSkippedStages\": 0, \"numFailedStages\": 0})"
      ]
     },
     "metadata": {},
     "output_type": "display_data"
    },
    {
     "data": {
      "application/javascript": [
       "refreshJobProgress_7baaa9b08eba4871822bed39cb61b615({\"jobId\": 3, \"name\": \"collect at <ipython-input-5-ed4060b10f3f>:122\", \"submissionTime\": \"2017-05-01T01:44:02.978GMT\", \"stageIds\": [3, 4], \"status\": \"RUNNING\", \"numTasks\": 40, \"numActiveTasks\": 1, \"numCompletedTasks\": 11, \"numSkippedTasks\": 0, \"numFailedTasks\": 0, \"numActiveStages\": 1, \"numCompletedStages\": 0, \"numSkippedStages\": 0, \"numFailedStages\": 0})"
      ]
     },
     "metadata": {},
     "output_type": "display_data"
    },
    {
     "data": {
      "application/javascript": [
       "refreshJobProgress_7baaa9b08eba4871822bed39cb61b615({\"jobId\": 3, \"name\": \"collect at <ipython-input-5-ed4060b10f3f>:122\", \"submissionTime\": \"2017-05-01T01:44:02.978GMT\", \"stageIds\": [3, 4], \"status\": \"RUNNING\", \"numTasks\": 40, \"numActiveTasks\": 1, \"numCompletedTasks\": 11, \"numSkippedTasks\": 0, \"numFailedTasks\": 0, \"numActiveStages\": 1, \"numCompletedStages\": 0, \"numSkippedStages\": 0, \"numFailedStages\": 0})"
      ]
     },
     "metadata": {},
     "output_type": "display_data"
    },
    {
     "data": {
      "application/javascript": [
       "refreshJobProgress_7baaa9b08eba4871822bed39cb61b615({\"jobId\": 3, \"name\": \"collect at <ipython-input-5-ed4060b10f3f>:122\", \"submissionTime\": \"2017-05-01T01:44:02.978GMT\", \"stageIds\": [3, 4], \"status\": \"RUNNING\", \"numTasks\": 40, \"numActiveTasks\": 1, \"numCompletedTasks\": 11, \"numSkippedTasks\": 0, \"numFailedTasks\": 0, \"numActiveStages\": 1, \"numCompletedStages\": 0, \"numSkippedStages\": 0, \"numFailedStages\": 0})"
      ]
     },
     "metadata": {},
     "output_type": "display_data"
    },
    {
     "data": {
      "application/javascript": [
       "refreshJobProgress_7baaa9b08eba4871822bed39cb61b615({\"jobId\": 3, \"name\": \"collect at <ipython-input-5-ed4060b10f3f>:122\", \"submissionTime\": \"2017-05-01T01:44:02.978GMT\", \"stageIds\": [3, 4], \"status\": \"RUNNING\", \"numTasks\": 40, \"numActiveTasks\": 1, \"numCompletedTasks\": 11, \"numSkippedTasks\": 0, \"numFailedTasks\": 0, \"numActiveStages\": 1, \"numCompletedStages\": 0, \"numSkippedStages\": 0, \"numFailedStages\": 0})"
      ]
     },
     "metadata": {},
     "output_type": "display_data"
    },
    {
     "data": {
      "application/javascript": [
       "refreshJobProgress_7baaa9b08eba4871822bed39cb61b615({\"jobId\": 3, \"name\": \"collect at <ipython-input-5-ed4060b10f3f>:122\", \"submissionTime\": \"2017-05-01T01:44:02.978GMT\", \"stageIds\": [3, 4], \"status\": \"RUNNING\", \"numTasks\": 40, \"numActiveTasks\": 1, \"numCompletedTasks\": 12, \"numSkippedTasks\": 0, \"numFailedTasks\": 0, \"numActiveStages\": 1, \"numCompletedStages\": 0, \"numSkippedStages\": 0, \"numFailedStages\": 0})"
      ]
     },
     "metadata": {},
     "output_type": "display_data"
    },
    {
     "data": {
      "application/javascript": [
       "refreshJobProgress_7baaa9b08eba4871822bed39cb61b615({\"jobId\": 3, \"name\": \"collect at <ipython-input-5-ed4060b10f3f>:122\", \"submissionTime\": \"2017-05-01T01:44:02.978GMT\", \"stageIds\": [3, 4], \"status\": \"RUNNING\", \"numTasks\": 40, \"numActiveTasks\": 1, \"numCompletedTasks\": 12, \"numSkippedTasks\": 0, \"numFailedTasks\": 0, \"numActiveStages\": 1, \"numCompletedStages\": 0, \"numSkippedStages\": 0, \"numFailedStages\": 0})"
      ]
     },
     "metadata": {},
     "output_type": "display_data"
    },
    {
     "data": {
      "application/javascript": [
       "refreshJobProgress_7baaa9b08eba4871822bed39cb61b615({\"jobId\": 3, \"name\": \"collect at <ipython-input-5-ed4060b10f3f>:122\", \"submissionTime\": \"2017-05-01T01:44:02.978GMT\", \"stageIds\": [3, 4], \"status\": \"RUNNING\", \"numTasks\": 40, \"numActiveTasks\": 1, \"numCompletedTasks\": 12, \"numSkippedTasks\": 0, \"numFailedTasks\": 0, \"numActiveStages\": 1, \"numCompletedStages\": 0, \"numSkippedStages\": 0, \"numFailedStages\": 0})"
      ]
     },
     "metadata": {},
     "output_type": "display_data"
    },
    {
     "data": {
      "application/javascript": [
       "refreshJobProgress_7baaa9b08eba4871822bed39cb61b615({\"jobId\": 3, \"name\": \"collect at <ipython-input-5-ed4060b10f3f>:122\", \"submissionTime\": \"2017-05-01T01:44:02.978GMT\", \"stageIds\": [3, 4], \"status\": \"RUNNING\", \"numTasks\": 40, \"numActiveTasks\": 1, \"numCompletedTasks\": 12, \"numSkippedTasks\": 0, \"numFailedTasks\": 0, \"numActiveStages\": 1, \"numCompletedStages\": 0, \"numSkippedStages\": 0, \"numFailedStages\": 0})"
      ]
     },
     "metadata": {},
     "output_type": "display_data"
    },
    {
     "data": {
      "application/javascript": [
       "refreshJobProgress_7baaa9b08eba4871822bed39cb61b615({\"jobId\": 3, \"name\": \"collect at <ipython-input-5-ed4060b10f3f>:122\", \"submissionTime\": \"2017-05-01T01:44:02.978GMT\", \"stageIds\": [3, 4], \"status\": \"RUNNING\", \"numTasks\": 40, \"numActiveTasks\": 1, \"numCompletedTasks\": 12, \"numSkippedTasks\": 0, \"numFailedTasks\": 0, \"numActiveStages\": 1, \"numCompletedStages\": 0, \"numSkippedStages\": 0, \"numFailedStages\": 0})"
      ]
     },
     "metadata": {},
     "output_type": "display_data"
    },
    {
     "data": {
      "application/javascript": [
       "refreshJobProgress_7baaa9b08eba4871822bed39cb61b615({\"jobId\": 3, \"name\": \"collect at <ipython-input-5-ed4060b10f3f>:122\", \"submissionTime\": \"2017-05-01T01:44:02.978GMT\", \"stageIds\": [3, 4], \"status\": \"RUNNING\", \"numTasks\": 40, \"numActiveTasks\": 1, \"numCompletedTasks\": 12, \"numSkippedTasks\": 0, \"numFailedTasks\": 0, \"numActiveStages\": 1, \"numCompletedStages\": 0, \"numSkippedStages\": 0, \"numFailedStages\": 0})"
      ]
     },
     "metadata": {},
     "output_type": "display_data"
    },
    {
     "data": {
      "application/javascript": [
       "refreshJobProgress_7baaa9b08eba4871822bed39cb61b615({\"jobId\": 3, \"name\": \"collect at <ipython-input-5-ed4060b10f3f>:122\", \"submissionTime\": \"2017-05-01T01:44:02.978GMT\", \"stageIds\": [3, 4], \"status\": \"RUNNING\", \"numTasks\": 40, \"numActiveTasks\": 1, \"numCompletedTasks\": 12, \"numSkippedTasks\": 0, \"numFailedTasks\": 0, \"numActiveStages\": 1, \"numCompletedStages\": 0, \"numSkippedStages\": 0, \"numFailedStages\": 0})"
      ]
     },
     "metadata": {},
     "output_type": "display_data"
    },
    {
     "data": {
      "application/javascript": [
       "refreshJobProgress_7baaa9b08eba4871822bed39cb61b615({\"jobId\": 3, \"name\": \"collect at <ipython-input-5-ed4060b10f3f>:122\", \"submissionTime\": \"2017-05-01T01:44:02.978GMT\", \"stageIds\": [3, 4], \"status\": \"RUNNING\", \"numTasks\": 40, \"numActiveTasks\": 1, \"numCompletedTasks\": 12, \"numSkippedTasks\": 0, \"numFailedTasks\": 0, \"numActiveStages\": 1, \"numCompletedStages\": 0, \"numSkippedStages\": 0, \"numFailedStages\": 0})"
      ]
     },
     "metadata": {},
     "output_type": "display_data"
    },
    {
     "data": {
      "application/javascript": [
       "refreshJobProgress_7baaa9b08eba4871822bed39cb61b615({\"jobId\": 3, \"name\": \"collect at <ipython-input-5-ed4060b10f3f>:122\", \"submissionTime\": \"2017-05-01T01:44:02.978GMT\", \"stageIds\": [3, 4], \"status\": \"RUNNING\", \"numTasks\": 40, \"numActiveTasks\": 1, \"numCompletedTasks\": 12, \"numSkippedTasks\": 0, \"numFailedTasks\": 0, \"numActiveStages\": 1, \"numCompletedStages\": 0, \"numSkippedStages\": 0, \"numFailedStages\": 0})"
      ]
     },
     "metadata": {},
     "output_type": "display_data"
    },
    {
     "data": {
      "application/javascript": [
       "refreshJobProgress_7baaa9b08eba4871822bed39cb61b615({\"jobId\": 3, \"name\": \"collect at <ipython-input-5-ed4060b10f3f>:122\", \"submissionTime\": \"2017-05-01T01:44:02.978GMT\", \"stageIds\": [3, 4], \"status\": \"RUNNING\", \"numTasks\": 40, \"numActiveTasks\": 1, \"numCompletedTasks\": 12, \"numSkippedTasks\": 0, \"numFailedTasks\": 0, \"numActiveStages\": 1, \"numCompletedStages\": 0, \"numSkippedStages\": 0, \"numFailedStages\": 0})"
      ]
     },
     "metadata": {},
     "output_type": "display_data"
    },
    {
     "data": {
      "application/javascript": [
       "refreshJobProgress_7baaa9b08eba4871822bed39cb61b615({\"jobId\": 3, \"name\": \"collect at <ipython-input-5-ed4060b10f3f>:122\", \"submissionTime\": \"2017-05-01T01:44:02.978GMT\", \"stageIds\": [3, 4], \"status\": \"RUNNING\", \"numTasks\": 40, \"numActiveTasks\": 1, \"numCompletedTasks\": 12, \"numSkippedTasks\": 0, \"numFailedTasks\": 0, \"numActiveStages\": 1, \"numCompletedStages\": 0, \"numSkippedStages\": 0, \"numFailedStages\": 0})"
      ]
     },
     "metadata": {},
     "output_type": "display_data"
    },
    {
     "data": {
      "application/javascript": [
       "refreshJobProgress_7baaa9b08eba4871822bed39cb61b615({\"jobId\": 3, \"name\": \"collect at <ipython-input-5-ed4060b10f3f>:122\", \"submissionTime\": \"2017-05-01T01:44:02.978GMT\", \"stageIds\": [3, 4], \"status\": \"RUNNING\", \"numTasks\": 40, \"numActiveTasks\": 1, \"numCompletedTasks\": 12, \"numSkippedTasks\": 0, \"numFailedTasks\": 0, \"numActiveStages\": 1, \"numCompletedStages\": 0, \"numSkippedStages\": 0, \"numFailedStages\": 0})"
      ]
     },
     "metadata": {},
     "output_type": "display_data"
    },
    {
     "data": {
      "application/javascript": [
       "refreshJobProgress_7baaa9b08eba4871822bed39cb61b615({\"jobId\": 3, \"name\": \"collect at <ipython-input-5-ed4060b10f3f>:122\", \"submissionTime\": \"2017-05-01T01:44:02.978GMT\", \"stageIds\": [3, 4], \"status\": \"RUNNING\", \"numTasks\": 40, \"numActiveTasks\": 1, \"numCompletedTasks\": 12, \"numSkippedTasks\": 0, \"numFailedTasks\": 0, \"numActiveStages\": 1, \"numCompletedStages\": 0, \"numSkippedStages\": 0, \"numFailedStages\": 0})"
      ]
     },
     "metadata": {},
     "output_type": "display_data"
    },
    {
     "data": {
      "application/javascript": [
       "refreshJobProgress_7baaa9b08eba4871822bed39cb61b615({\"jobId\": 3, \"name\": \"collect at <ipython-input-5-ed4060b10f3f>:122\", \"submissionTime\": \"2017-05-01T01:44:02.978GMT\", \"stageIds\": [3, 4], \"status\": \"RUNNING\", \"numTasks\": 40, \"numActiveTasks\": 1, \"numCompletedTasks\": 13, \"numSkippedTasks\": 0, \"numFailedTasks\": 0, \"numActiveStages\": 1, \"numCompletedStages\": 0, \"numSkippedStages\": 0, \"numFailedStages\": 0})"
      ]
     },
     "metadata": {},
     "output_type": "display_data"
    },
    {
     "data": {
      "application/javascript": [
       "refreshJobProgress_7baaa9b08eba4871822bed39cb61b615({\"jobId\": 3, \"name\": \"collect at <ipython-input-5-ed4060b10f3f>:122\", \"submissionTime\": \"2017-05-01T01:44:02.978GMT\", \"stageIds\": [3, 4], \"status\": \"RUNNING\", \"numTasks\": 40, \"numActiveTasks\": 1, \"numCompletedTasks\": 13, \"numSkippedTasks\": 0, \"numFailedTasks\": 0, \"numActiveStages\": 1, \"numCompletedStages\": 0, \"numSkippedStages\": 0, \"numFailedStages\": 0})"
      ]
     },
     "metadata": {},
     "output_type": "display_data"
    },
    {
     "data": {
      "application/javascript": [
       "refreshJobProgress_7baaa9b08eba4871822bed39cb61b615({\"jobId\": 3, \"name\": \"collect at <ipython-input-5-ed4060b10f3f>:122\", \"submissionTime\": \"2017-05-01T01:44:02.978GMT\", \"stageIds\": [3, 4], \"status\": \"RUNNING\", \"numTasks\": 40, \"numActiveTasks\": 1, \"numCompletedTasks\": 13, \"numSkippedTasks\": 0, \"numFailedTasks\": 0, \"numActiveStages\": 1, \"numCompletedStages\": 0, \"numSkippedStages\": 0, \"numFailedStages\": 0})"
      ]
     },
     "metadata": {},
     "output_type": "display_data"
    },
    {
     "data": {
      "application/javascript": [
       "refreshJobProgress_7baaa9b08eba4871822bed39cb61b615({\"jobId\": 3, \"name\": \"collect at <ipython-input-5-ed4060b10f3f>:122\", \"submissionTime\": \"2017-05-01T01:44:02.978GMT\", \"stageIds\": [3, 4], \"status\": \"RUNNING\", \"numTasks\": 40, \"numActiveTasks\": 1, \"numCompletedTasks\": 13, \"numSkippedTasks\": 0, \"numFailedTasks\": 0, \"numActiveStages\": 1, \"numCompletedStages\": 0, \"numSkippedStages\": 0, \"numFailedStages\": 0})"
      ]
     },
     "metadata": {},
     "output_type": "display_data"
    },
    {
     "data": {
      "application/javascript": [
       "refreshJobProgress_7baaa9b08eba4871822bed39cb61b615({\"jobId\": 3, \"name\": \"collect at <ipython-input-5-ed4060b10f3f>:122\", \"submissionTime\": \"2017-05-01T01:44:02.978GMT\", \"stageIds\": [3, 4], \"status\": \"RUNNING\", \"numTasks\": 40, \"numActiveTasks\": 1, \"numCompletedTasks\": 13, \"numSkippedTasks\": 0, \"numFailedTasks\": 0, \"numActiveStages\": 1, \"numCompletedStages\": 0, \"numSkippedStages\": 0, \"numFailedStages\": 0})"
      ]
     },
     "metadata": {},
     "output_type": "display_data"
    },
    {
     "data": {
      "application/javascript": [
       "refreshJobProgress_7baaa9b08eba4871822bed39cb61b615({\"jobId\": 3, \"name\": \"collect at <ipython-input-5-ed4060b10f3f>:122\", \"submissionTime\": \"2017-05-01T01:44:02.978GMT\", \"stageIds\": [3, 4], \"status\": \"RUNNING\", \"numTasks\": 40, \"numActiveTasks\": 1, \"numCompletedTasks\": 13, \"numSkippedTasks\": 0, \"numFailedTasks\": 0, \"numActiveStages\": 1, \"numCompletedStages\": 0, \"numSkippedStages\": 0, \"numFailedStages\": 0})"
      ]
     },
     "metadata": {},
     "output_type": "display_data"
    },
    {
     "data": {
      "application/javascript": [
       "refreshJobProgress_7baaa9b08eba4871822bed39cb61b615({\"jobId\": 3, \"name\": \"collect at <ipython-input-5-ed4060b10f3f>:122\", \"submissionTime\": \"2017-05-01T01:44:02.978GMT\", \"stageIds\": [3, 4], \"status\": \"RUNNING\", \"numTasks\": 40, \"numActiveTasks\": 1, \"numCompletedTasks\": 13, \"numSkippedTasks\": 0, \"numFailedTasks\": 0, \"numActiveStages\": 1, \"numCompletedStages\": 0, \"numSkippedStages\": 0, \"numFailedStages\": 0})"
      ]
     },
     "metadata": {},
     "output_type": "display_data"
    },
    {
     "data": {
      "application/javascript": [
       "refreshJobProgress_7baaa9b08eba4871822bed39cb61b615({\"jobId\": 3, \"name\": \"collect at <ipython-input-5-ed4060b10f3f>:122\", \"submissionTime\": \"2017-05-01T01:44:02.978GMT\", \"stageIds\": [3, 4], \"status\": \"RUNNING\", \"numTasks\": 40, \"numActiveTasks\": 1, \"numCompletedTasks\": 13, \"numSkippedTasks\": 0, \"numFailedTasks\": 0, \"numActiveStages\": 1, \"numCompletedStages\": 0, \"numSkippedStages\": 0, \"numFailedStages\": 0})"
      ]
     },
     "metadata": {},
     "output_type": "display_data"
    },
    {
     "data": {
      "application/javascript": [
       "refreshJobProgress_7baaa9b08eba4871822bed39cb61b615({\"jobId\": 3, \"name\": \"collect at <ipython-input-5-ed4060b10f3f>:122\", \"submissionTime\": \"2017-05-01T01:44:02.978GMT\", \"stageIds\": [3, 4], \"status\": \"RUNNING\", \"numTasks\": 40, \"numActiveTasks\": 1, \"numCompletedTasks\": 13, \"numSkippedTasks\": 0, \"numFailedTasks\": 0, \"numActiveStages\": 1, \"numCompletedStages\": 0, \"numSkippedStages\": 0, \"numFailedStages\": 0})"
      ]
     },
     "metadata": {},
     "output_type": "display_data"
    },
    {
     "data": {
      "application/javascript": [
       "refreshJobProgress_7baaa9b08eba4871822bed39cb61b615({\"jobId\": 3, \"name\": \"collect at <ipython-input-5-ed4060b10f3f>:122\", \"submissionTime\": \"2017-05-01T01:44:02.978GMT\", \"stageIds\": [3, 4], \"status\": \"RUNNING\", \"numTasks\": 40, \"numActiveTasks\": 1, \"numCompletedTasks\": 13, \"numSkippedTasks\": 0, \"numFailedTasks\": 0, \"numActiveStages\": 1, \"numCompletedStages\": 0, \"numSkippedStages\": 0, \"numFailedStages\": 0})"
      ]
     },
     "metadata": {},
     "output_type": "display_data"
    },
    {
     "data": {
      "application/javascript": [
       "refreshJobProgress_7baaa9b08eba4871822bed39cb61b615({\"jobId\": 3, \"name\": \"collect at <ipython-input-5-ed4060b10f3f>:122\", \"submissionTime\": \"2017-05-01T01:44:02.978GMT\", \"stageIds\": [3, 4], \"status\": \"RUNNING\", \"numTasks\": 40, \"numActiveTasks\": 1, \"numCompletedTasks\": 14, \"numSkippedTasks\": 0, \"numFailedTasks\": 0, \"numActiveStages\": 1, \"numCompletedStages\": 0, \"numSkippedStages\": 0, \"numFailedStages\": 0})"
      ]
     },
     "metadata": {},
     "output_type": "display_data"
    },
    {
     "data": {
      "application/javascript": [
       "refreshJobProgress_7baaa9b08eba4871822bed39cb61b615({\"jobId\": 3, \"name\": \"collect at <ipython-input-5-ed4060b10f3f>:122\", \"submissionTime\": \"2017-05-01T01:44:02.978GMT\", \"stageIds\": [3, 4], \"status\": \"RUNNING\", \"numTasks\": 40, \"numActiveTasks\": 1, \"numCompletedTasks\": 14, \"numSkippedTasks\": 0, \"numFailedTasks\": 0, \"numActiveStages\": 1, \"numCompletedStages\": 0, \"numSkippedStages\": 0, \"numFailedStages\": 0})"
      ]
     },
     "metadata": {},
     "output_type": "display_data"
    },
    {
     "data": {
      "application/javascript": [
       "refreshJobProgress_7baaa9b08eba4871822bed39cb61b615({\"jobId\": 3, \"name\": \"collect at <ipython-input-5-ed4060b10f3f>:122\", \"submissionTime\": \"2017-05-01T01:44:02.978GMT\", \"stageIds\": [3, 4], \"status\": \"RUNNING\", \"numTasks\": 40, \"numActiveTasks\": 1, \"numCompletedTasks\": 14, \"numSkippedTasks\": 0, \"numFailedTasks\": 0, \"numActiveStages\": 1, \"numCompletedStages\": 0, \"numSkippedStages\": 0, \"numFailedStages\": 0})"
      ]
     },
     "metadata": {},
     "output_type": "display_data"
    },
    {
     "data": {
      "application/javascript": [
       "refreshJobProgress_7baaa9b08eba4871822bed39cb61b615({\"jobId\": 3, \"name\": \"collect at <ipython-input-5-ed4060b10f3f>:122\", \"submissionTime\": \"2017-05-01T01:44:02.978GMT\", \"stageIds\": [3, 4], \"status\": \"RUNNING\", \"numTasks\": 40, \"numActiveTasks\": 1, \"numCompletedTasks\": 14, \"numSkippedTasks\": 0, \"numFailedTasks\": 0, \"numActiveStages\": 1, \"numCompletedStages\": 0, \"numSkippedStages\": 0, \"numFailedStages\": 0})"
      ]
     },
     "metadata": {},
     "output_type": "display_data"
    },
    {
     "data": {
      "application/javascript": [
       "refreshJobProgress_7baaa9b08eba4871822bed39cb61b615({\"jobId\": 3, \"name\": \"collect at <ipython-input-5-ed4060b10f3f>:122\", \"submissionTime\": \"2017-05-01T01:44:02.978GMT\", \"stageIds\": [3, 4], \"status\": \"RUNNING\", \"numTasks\": 40, \"numActiveTasks\": 1, \"numCompletedTasks\": 14, \"numSkippedTasks\": 0, \"numFailedTasks\": 0, \"numActiveStages\": 1, \"numCompletedStages\": 0, \"numSkippedStages\": 0, \"numFailedStages\": 0})"
      ]
     },
     "metadata": {},
     "output_type": "display_data"
    },
    {
     "data": {
      "application/javascript": [
       "refreshJobProgress_7baaa9b08eba4871822bed39cb61b615({\"jobId\": 3, \"name\": \"collect at <ipython-input-5-ed4060b10f3f>:122\", \"submissionTime\": \"2017-05-01T01:44:02.978GMT\", \"stageIds\": [3, 4], \"status\": \"RUNNING\", \"numTasks\": 40, \"numActiveTasks\": 1, \"numCompletedTasks\": 14, \"numSkippedTasks\": 0, \"numFailedTasks\": 0, \"numActiveStages\": 1, \"numCompletedStages\": 0, \"numSkippedStages\": 0, \"numFailedStages\": 0})"
      ]
     },
     "metadata": {},
     "output_type": "display_data"
    },
    {
     "data": {
      "application/javascript": [
       "refreshJobProgress_7baaa9b08eba4871822bed39cb61b615({\"jobId\": 3, \"name\": \"collect at <ipython-input-5-ed4060b10f3f>:122\", \"submissionTime\": \"2017-05-01T01:44:02.978GMT\", \"stageIds\": [3, 4], \"status\": \"RUNNING\", \"numTasks\": 40, \"numActiveTasks\": 1, \"numCompletedTasks\": 14, \"numSkippedTasks\": 0, \"numFailedTasks\": 0, \"numActiveStages\": 1, \"numCompletedStages\": 0, \"numSkippedStages\": 0, \"numFailedStages\": 0})"
      ]
     },
     "metadata": {},
     "output_type": "display_data"
    },
    {
     "data": {
      "application/javascript": [
       "refreshJobProgress_7baaa9b08eba4871822bed39cb61b615({\"jobId\": 3, \"name\": \"collect at <ipython-input-5-ed4060b10f3f>:122\", \"submissionTime\": \"2017-05-01T01:44:02.978GMT\", \"stageIds\": [3, 4], \"status\": \"RUNNING\", \"numTasks\": 40, \"numActiveTasks\": 1, \"numCompletedTasks\": 14, \"numSkippedTasks\": 0, \"numFailedTasks\": 0, \"numActiveStages\": 1, \"numCompletedStages\": 0, \"numSkippedStages\": 0, \"numFailedStages\": 0})"
      ]
     },
     "metadata": {},
     "output_type": "display_data"
    },
    {
     "data": {
      "application/javascript": [
       "refreshJobProgress_7baaa9b08eba4871822bed39cb61b615({\"jobId\": 3, \"name\": \"collect at <ipython-input-5-ed4060b10f3f>:122\", \"submissionTime\": \"2017-05-01T01:44:02.978GMT\", \"stageIds\": [3, 4], \"status\": \"RUNNING\", \"numTasks\": 40, \"numActiveTasks\": 1, \"numCompletedTasks\": 15, \"numSkippedTasks\": 0, \"numFailedTasks\": 0, \"numActiveStages\": 1, \"numCompletedStages\": 0, \"numSkippedStages\": 0, \"numFailedStages\": 0})"
      ]
     },
     "metadata": {},
     "output_type": "display_data"
    },
    {
     "data": {
      "application/javascript": [
       "refreshJobProgress_7baaa9b08eba4871822bed39cb61b615({\"jobId\": 3, \"name\": \"collect at <ipython-input-5-ed4060b10f3f>:122\", \"submissionTime\": \"2017-05-01T01:44:02.978GMT\", \"stageIds\": [3, 4], \"status\": \"RUNNING\", \"numTasks\": 40, \"numActiveTasks\": 1, \"numCompletedTasks\": 15, \"numSkippedTasks\": 0, \"numFailedTasks\": 0, \"numActiveStages\": 1, \"numCompletedStages\": 0, \"numSkippedStages\": 0, \"numFailedStages\": 0})"
      ]
     },
     "metadata": {},
     "output_type": "display_data"
    },
    {
     "data": {
      "application/javascript": [
       "refreshJobProgress_7baaa9b08eba4871822bed39cb61b615({\"jobId\": 3, \"name\": \"collect at <ipython-input-5-ed4060b10f3f>:122\", \"submissionTime\": \"2017-05-01T01:44:02.978GMT\", \"stageIds\": [3, 4], \"status\": \"RUNNING\", \"numTasks\": 40, \"numActiveTasks\": 1, \"numCompletedTasks\": 15, \"numSkippedTasks\": 0, \"numFailedTasks\": 0, \"numActiveStages\": 1, \"numCompletedStages\": 0, \"numSkippedStages\": 0, \"numFailedStages\": 0})"
      ]
     },
     "metadata": {},
     "output_type": "display_data"
    },
    {
     "data": {
      "application/javascript": [
       "refreshJobProgress_7baaa9b08eba4871822bed39cb61b615({\"jobId\": 3, \"name\": \"collect at <ipython-input-5-ed4060b10f3f>:122\", \"submissionTime\": \"2017-05-01T01:44:02.978GMT\", \"stageIds\": [3, 4], \"status\": \"RUNNING\", \"numTasks\": 40, \"numActiveTasks\": 1, \"numCompletedTasks\": 15, \"numSkippedTasks\": 0, \"numFailedTasks\": 0, \"numActiveStages\": 1, \"numCompletedStages\": 0, \"numSkippedStages\": 0, \"numFailedStages\": 0})"
      ]
     },
     "metadata": {},
     "output_type": "display_data"
    },
    {
     "data": {
      "application/javascript": [
       "refreshJobProgress_7baaa9b08eba4871822bed39cb61b615({\"jobId\": 3, \"name\": \"collect at <ipython-input-5-ed4060b10f3f>:122\", \"submissionTime\": \"2017-05-01T01:44:02.978GMT\", \"stageIds\": [3, 4], \"status\": \"RUNNING\", \"numTasks\": 40, \"numActiveTasks\": 1, \"numCompletedTasks\": 15, \"numSkippedTasks\": 0, \"numFailedTasks\": 0, \"numActiveStages\": 1, \"numCompletedStages\": 0, \"numSkippedStages\": 0, \"numFailedStages\": 0})"
      ]
     },
     "metadata": {},
     "output_type": "display_data"
    },
    {
     "data": {
      "application/javascript": [
       "refreshJobProgress_7baaa9b08eba4871822bed39cb61b615({\"jobId\": 3, \"name\": \"collect at <ipython-input-5-ed4060b10f3f>:122\", \"submissionTime\": \"2017-05-01T01:44:02.978GMT\", \"stageIds\": [3, 4], \"status\": \"RUNNING\", \"numTasks\": 40, \"numActiveTasks\": 1, \"numCompletedTasks\": 15, \"numSkippedTasks\": 0, \"numFailedTasks\": 0, \"numActiveStages\": 1, \"numCompletedStages\": 0, \"numSkippedStages\": 0, \"numFailedStages\": 0})"
      ]
     },
     "metadata": {},
     "output_type": "display_data"
    },
    {
     "data": {
      "application/javascript": [
       "refreshJobProgress_7baaa9b08eba4871822bed39cb61b615({\"jobId\": 3, \"name\": \"collect at <ipython-input-5-ed4060b10f3f>:122\", \"submissionTime\": \"2017-05-01T01:44:02.978GMT\", \"stageIds\": [3, 4], \"status\": \"RUNNING\", \"numTasks\": 40, \"numActiveTasks\": 1, \"numCompletedTasks\": 15, \"numSkippedTasks\": 0, \"numFailedTasks\": 0, \"numActiveStages\": 1, \"numCompletedStages\": 0, \"numSkippedStages\": 0, \"numFailedStages\": 0})"
      ]
     },
     "metadata": {},
     "output_type": "display_data"
    },
    {
     "data": {
      "application/javascript": [
       "refreshJobProgress_7baaa9b08eba4871822bed39cb61b615({\"jobId\": 3, \"name\": \"collect at <ipython-input-5-ed4060b10f3f>:122\", \"submissionTime\": \"2017-05-01T01:44:02.978GMT\", \"stageIds\": [3, 4], \"status\": \"RUNNING\", \"numTasks\": 40, \"numActiveTasks\": 1, \"numCompletedTasks\": 15, \"numSkippedTasks\": 0, \"numFailedTasks\": 0, \"numActiveStages\": 1, \"numCompletedStages\": 0, \"numSkippedStages\": 0, \"numFailedStages\": 0})"
      ]
     },
     "metadata": {},
     "output_type": "display_data"
    },
    {
     "data": {
      "application/javascript": [
       "refreshJobProgress_7baaa9b08eba4871822bed39cb61b615({\"jobId\": 3, \"name\": \"collect at <ipython-input-5-ed4060b10f3f>:122\", \"submissionTime\": \"2017-05-01T01:44:02.978GMT\", \"stageIds\": [3, 4], \"status\": \"RUNNING\", \"numTasks\": 40, \"numActiveTasks\": 1, \"numCompletedTasks\": 15, \"numSkippedTasks\": 0, \"numFailedTasks\": 0, \"numActiveStages\": 1, \"numCompletedStages\": 0, \"numSkippedStages\": 0, \"numFailedStages\": 0})"
      ]
     },
     "metadata": {},
     "output_type": "display_data"
    },
    {
     "data": {
      "application/javascript": [
       "refreshJobProgress_7baaa9b08eba4871822bed39cb61b615({\"jobId\": 3, \"name\": \"collect at <ipython-input-5-ed4060b10f3f>:122\", \"submissionTime\": \"2017-05-01T01:44:02.978GMT\", \"stageIds\": [3, 4], \"status\": \"RUNNING\", \"numTasks\": 40, \"numActiveTasks\": 1, \"numCompletedTasks\": 15, \"numSkippedTasks\": 0, \"numFailedTasks\": 0, \"numActiveStages\": 1, \"numCompletedStages\": 0, \"numSkippedStages\": 0, \"numFailedStages\": 0})"
      ]
     },
     "metadata": {},
     "output_type": "display_data"
    },
    {
     "data": {
      "application/javascript": [
       "refreshJobProgress_7baaa9b08eba4871822bed39cb61b615({\"jobId\": 3, \"name\": \"collect at <ipython-input-5-ed4060b10f3f>:122\", \"submissionTime\": \"2017-05-01T01:44:02.978GMT\", \"stageIds\": [3, 4], \"status\": \"RUNNING\", \"numTasks\": 40, \"numActiveTasks\": 1, \"numCompletedTasks\": 16, \"numSkippedTasks\": 0, \"numFailedTasks\": 0, \"numActiveStages\": 1, \"numCompletedStages\": 0, \"numSkippedStages\": 0, \"numFailedStages\": 0})"
      ]
     },
     "metadata": {},
     "output_type": "display_data"
    },
    {
     "data": {
      "application/javascript": [
       "refreshJobProgress_7baaa9b08eba4871822bed39cb61b615({\"jobId\": 3, \"name\": \"collect at <ipython-input-5-ed4060b10f3f>:122\", \"submissionTime\": \"2017-05-01T01:44:02.978GMT\", \"stageIds\": [3, 4], \"status\": \"RUNNING\", \"numTasks\": 40, \"numActiveTasks\": 1, \"numCompletedTasks\": 16, \"numSkippedTasks\": 0, \"numFailedTasks\": 0, \"numActiveStages\": 1, \"numCompletedStages\": 0, \"numSkippedStages\": 0, \"numFailedStages\": 0})"
      ]
     },
     "metadata": {},
     "output_type": "display_data"
    },
    {
     "data": {
      "application/javascript": [
       "refreshJobProgress_7baaa9b08eba4871822bed39cb61b615({\"jobId\": 3, \"name\": \"collect at <ipython-input-5-ed4060b10f3f>:122\", \"submissionTime\": \"2017-05-01T01:44:02.978GMT\", \"stageIds\": [3, 4], \"status\": \"RUNNING\", \"numTasks\": 40, \"numActiveTasks\": 1, \"numCompletedTasks\": 16, \"numSkippedTasks\": 0, \"numFailedTasks\": 0, \"numActiveStages\": 1, \"numCompletedStages\": 0, \"numSkippedStages\": 0, \"numFailedStages\": 0})"
      ]
     },
     "metadata": {},
     "output_type": "display_data"
    },
    {
     "data": {
      "application/javascript": [
       "refreshJobProgress_7baaa9b08eba4871822bed39cb61b615({\"jobId\": 3, \"name\": \"collect at <ipython-input-5-ed4060b10f3f>:122\", \"submissionTime\": \"2017-05-01T01:44:02.978GMT\", \"stageIds\": [3, 4], \"status\": \"RUNNING\", \"numTasks\": 40, \"numActiveTasks\": 1, \"numCompletedTasks\": 16, \"numSkippedTasks\": 0, \"numFailedTasks\": 0, \"numActiveStages\": 1, \"numCompletedStages\": 0, \"numSkippedStages\": 0, \"numFailedStages\": 0})"
      ]
     },
     "metadata": {},
     "output_type": "display_data"
    },
    {
     "data": {
      "application/javascript": [
       "refreshJobProgress_7baaa9b08eba4871822bed39cb61b615({\"jobId\": 3, \"name\": \"collect at <ipython-input-5-ed4060b10f3f>:122\", \"submissionTime\": \"2017-05-01T01:44:02.978GMT\", \"stageIds\": [3, 4], \"status\": \"RUNNING\", \"numTasks\": 40, \"numActiveTasks\": 1, \"numCompletedTasks\": 16, \"numSkippedTasks\": 0, \"numFailedTasks\": 0, \"numActiveStages\": 1, \"numCompletedStages\": 0, \"numSkippedStages\": 0, \"numFailedStages\": 0})"
      ]
     },
     "metadata": {},
     "output_type": "display_data"
    },
    {
     "data": {
      "application/javascript": [
       "refreshJobProgress_7baaa9b08eba4871822bed39cb61b615({\"jobId\": 3, \"name\": \"collect at <ipython-input-5-ed4060b10f3f>:122\", \"submissionTime\": \"2017-05-01T01:44:02.978GMT\", \"stageIds\": [3, 4], \"status\": \"RUNNING\", \"numTasks\": 40, \"numActiveTasks\": 1, \"numCompletedTasks\": 16, \"numSkippedTasks\": 0, \"numFailedTasks\": 0, \"numActiveStages\": 1, \"numCompletedStages\": 0, \"numSkippedStages\": 0, \"numFailedStages\": 0})"
      ]
     },
     "metadata": {},
     "output_type": "display_data"
    },
    {
     "data": {
      "application/javascript": [
       "refreshJobProgress_7baaa9b08eba4871822bed39cb61b615({\"jobId\": 3, \"name\": \"collect at <ipython-input-5-ed4060b10f3f>:122\", \"submissionTime\": \"2017-05-01T01:44:02.978GMT\", \"stageIds\": [3, 4], \"status\": \"RUNNING\", \"numTasks\": 40, \"numActiveTasks\": 1, \"numCompletedTasks\": 17, \"numSkippedTasks\": 0, \"numFailedTasks\": 0, \"numActiveStages\": 1, \"numCompletedStages\": 0, \"numSkippedStages\": 0, \"numFailedStages\": 0})"
      ]
     },
     "metadata": {},
     "output_type": "display_data"
    },
    {
     "data": {
      "application/javascript": [
       "refreshJobProgress_7baaa9b08eba4871822bed39cb61b615({\"jobId\": 3, \"name\": \"collect at <ipython-input-5-ed4060b10f3f>:122\", \"submissionTime\": \"2017-05-01T01:44:02.978GMT\", \"stageIds\": [3, 4], \"status\": \"RUNNING\", \"numTasks\": 40, \"numActiveTasks\": 1, \"numCompletedTasks\": 17, \"numSkippedTasks\": 0, \"numFailedTasks\": 0, \"numActiveStages\": 1, \"numCompletedStages\": 0, \"numSkippedStages\": 0, \"numFailedStages\": 0})"
      ]
     },
     "metadata": {},
     "output_type": "display_data"
    },
    {
     "data": {
      "application/javascript": [
       "refreshJobProgress_7baaa9b08eba4871822bed39cb61b615({\"jobId\": 3, \"name\": \"collect at <ipython-input-5-ed4060b10f3f>:122\", \"submissionTime\": \"2017-05-01T01:44:02.978GMT\", \"stageIds\": [3, 4], \"status\": \"RUNNING\", \"numTasks\": 40, \"numActiveTasks\": 1, \"numCompletedTasks\": 17, \"numSkippedTasks\": 0, \"numFailedTasks\": 0, \"numActiveStages\": 1, \"numCompletedStages\": 0, \"numSkippedStages\": 0, \"numFailedStages\": 0})"
      ]
     },
     "metadata": {},
     "output_type": "display_data"
    },
    {
     "data": {
      "application/javascript": [
       "refreshJobProgress_7baaa9b08eba4871822bed39cb61b615({\"jobId\": 3, \"name\": \"collect at <ipython-input-5-ed4060b10f3f>:122\", \"submissionTime\": \"2017-05-01T01:44:02.978GMT\", \"stageIds\": [3, 4], \"status\": \"RUNNING\", \"numTasks\": 40, \"numActiveTasks\": 1, \"numCompletedTasks\": 17, \"numSkippedTasks\": 0, \"numFailedTasks\": 0, \"numActiveStages\": 1, \"numCompletedStages\": 0, \"numSkippedStages\": 0, \"numFailedStages\": 0})"
      ]
     },
     "metadata": {},
     "output_type": "display_data"
    },
    {
     "data": {
      "application/javascript": [
       "refreshJobProgress_7baaa9b08eba4871822bed39cb61b615({\"jobId\": 3, \"name\": \"collect at <ipython-input-5-ed4060b10f3f>:122\", \"submissionTime\": \"2017-05-01T01:44:02.978GMT\", \"stageIds\": [3, 4], \"status\": \"RUNNING\", \"numTasks\": 40, \"numActiveTasks\": 1, \"numCompletedTasks\": 17, \"numSkippedTasks\": 0, \"numFailedTasks\": 0, \"numActiveStages\": 1, \"numCompletedStages\": 0, \"numSkippedStages\": 0, \"numFailedStages\": 0})"
      ]
     },
     "metadata": {},
     "output_type": "display_data"
    },
    {
     "data": {
      "application/javascript": [
       "refreshJobProgress_7baaa9b08eba4871822bed39cb61b615({\"jobId\": 3, \"name\": \"collect at <ipython-input-5-ed4060b10f3f>:122\", \"submissionTime\": \"2017-05-01T01:44:02.978GMT\", \"stageIds\": [3, 4], \"status\": \"RUNNING\", \"numTasks\": 40, \"numActiveTasks\": 1, \"numCompletedTasks\": 17, \"numSkippedTasks\": 0, \"numFailedTasks\": 0, \"numActiveStages\": 1, \"numCompletedStages\": 0, \"numSkippedStages\": 0, \"numFailedStages\": 0})"
      ]
     },
     "metadata": {},
     "output_type": "display_data"
    },
    {
     "data": {
      "application/javascript": [
       "refreshJobProgress_7baaa9b08eba4871822bed39cb61b615({\"jobId\": 3, \"name\": \"collect at <ipython-input-5-ed4060b10f3f>:122\", \"submissionTime\": \"2017-05-01T01:44:02.978GMT\", \"stageIds\": [3, 4], \"status\": \"RUNNING\", \"numTasks\": 40, \"numActiveTasks\": 1, \"numCompletedTasks\": 17, \"numSkippedTasks\": 0, \"numFailedTasks\": 0, \"numActiveStages\": 1, \"numCompletedStages\": 0, \"numSkippedStages\": 0, \"numFailedStages\": 0})"
      ]
     },
     "metadata": {},
     "output_type": "display_data"
    },
    {
     "data": {
      "application/javascript": [
       "refreshJobProgress_7baaa9b08eba4871822bed39cb61b615({\"jobId\": 3, \"name\": \"collect at <ipython-input-5-ed4060b10f3f>:122\", \"submissionTime\": \"2017-05-01T01:44:02.978GMT\", \"stageIds\": [3, 4], \"status\": \"RUNNING\", \"numTasks\": 40, \"numActiveTasks\": 1, \"numCompletedTasks\": 17, \"numSkippedTasks\": 0, \"numFailedTasks\": 0, \"numActiveStages\": 1, \"numCompletedStages\": 0, \"numSkippedStages\": 0, \"numFailedStages\": 0})"
      ]
     },
     "metadata": {},
     "output_type": "display_data"
    },
    {
     "data": {
      "application/javascript": [
       "refreshJobProgress_7baaa9b08eba4871822bed39cb61b615({\"jobId\": 3, \"name\": \"collect at <ipython-input-5-ed4060b10f3f>:122\", \"submissionTime\": \"2017-05-01T01:44:02.978GMT\", \"stageIds\": [3, 4], \"status\": \"RUNNING\", \"numTasks\": 40, \"numActiveTasks\": 1, \"numCompletedTasks\": 17, \"numSkippedTasks\": 0, \"numFailedTasks\": 0, \"numActiveStages\": 1, \"numCompletedStages\": 0, \"numSkippedStages\": 0, \"numFailedStages\": 0})"
      ]
     },
     "metadata": {},
     "output_type": "display_data"
    },
    {
     "data": {
      "application/javascript": [
       "refreshJobProgress_7baaa9b08eba4871822bed39cb61b615({\"jobId\": 3, \"name\": \"collect at <ipython-input-5-ed4060b10f3f>:122\", \"submissionTime\": \"2017-05-01T01:44:02.978GMT\", \"stageIds\": [3, 4], \"status\": \"RUNNING\", \"numTasks\": 40, \"numActiveTasks\": 1, \"numCompletedTasks\": 17, \"numSkippedTasks\": 0, \"numFailedTasks\": 0, \"numActiveStages\": 1, \"numCompletedStages\": 0, \"numSkippedStages\": 0, \"numFailedStages\": 0})"
      ]
     },
     "metadata": {},
     "output_type": "display_data"
    },
    {
     "data": {
      "application/javascript": [
       "refreshJobProgress_7baaa9b08eba4871822bed39cb61b615({\"jobId\": 3, \"name\": \"collect at <ipython-input-5-ed4060b10f3f>:122\", \"submissionTime\": \"2017-05-01T01:44:02.978GMT\", \"stageIds\": [3, 4], \"status\": \"RUNNING\", \"numTasks\": 40, \"numActiveTasks\": 1, \"numCompletedTasks\": 18, \"numSkippedTasks\": 0, \"numFailedTasks\": 0, \"numActiveStages\": 1, \"numCompletedStages\": 0, \"numSkippedStages\": 0, \"numFailedStages\": 0})"
      ]
     },
     "metadata": {},
     "output_type": "display_data"
    },
    {
     "data": {
      "application/javascript": [
       "refreshJobProgress_7baaa9b08eba4871822bed39cb61b615({\"jobId\": 3, \"name\": \"collect at <ipython-input-5-ed4060b10f3f>:122\", \"submissionTime\": \"2017-05-01T01:44:02.978GMT\", \"stageIds\": [3, 4], \"status\": \"RUNNING\", \"numTasks\": 40, \"numActiveTasks\": 1, \"numCompletedTasks\": 18, \"numSkippedTasks\": 0, \"numFailedTasks\": 0, \"numActiveStages\": 1, \"numCompletedStages\": 0, \"numSkippedStages\": 0, \"numFailedStages\": 0})"
      ]
     },
     "metadata": {},
     "output_type": "display_data"
    },
    {
     "data": {
      "application/javascript": [
       "refreshJobProgress_7baaa9b08eba4871822bed39cb61b615({\"jobId\": 3, \"name\": \"collect at <ipython-input-5-ed4060b10f3f>:122\", \"submissionTime\": \"2017-05-01T01:44:02.978GMT\", \"stageIds\": [3, 4], \"status\": \"RUNNING\", \"numTasks\": 40, \"numActiveTasks\": 1, \"numCompletedTasks\": 18, \"numSkippedTasks\": 0, \"numFailedTasks\": 0, \"numActiveStages\": 1, \"numCompletedStages\": 0, \"numSkippedStages\": 0, \"numFailedStages\": 0})"
      ]
     },
     "metadata": {},
     "output_type": "display_data"
    },
    {
     "data": {
      "application/javascript": [
       "refreshJobProgress_7baaa9b08eba4871822bed39cb61b615({\"jobId\": 3, \"name\": \"collect at <ipython-input-5-ed4060b10f3f>:122\", \"submissionTime\": \"2017-05-01T01:44:02.978GMT\", \"stageIds\": [3, 4], \"status\": \"RUNNING\", \"numTasks\": 40, \"numActiveTasks\": 1, \"numCompletedTasks\": 18, \"numSkippedTasks\": 0, \"numFailedTasks\": 0, \"numActiveStages\": 1, \"numCompletedStages\": 0, \"numSkippedStages\": 0, \"numFailedStages\": 0})"
      ]
     },
     "metadata": {},
     "output_type": "display_data"
    },
    {
     "data": {
      "application/javascript": [
       "refreshJobProgress_7baaa9b08eba4871822bed39cb61b615({\"jobId\": 3, \"name\": \"collect at <ipython-input-5-ed4060b10f3f>:122\", \"submissionTime\": \"2017-05-01T01:44:02.978GMT\", \"stageIds\": [3, 4], \"status\": \"RUNNING\", \"numTasks\": 40, \"numActiveTasks\": 1, \"numCompletedTasks\": 18, \"numSkippedTasks\": 0, \"numFailedTasks\": 0, \"numActiveStages\": 1, \"numCompletedStages\": 0, \"numSkippedStages\": 0, \"numFailedStages\": 0})"
      ]
     },
     "metadata": {},
     "output_type": "display_data"
    },
    {
     "data": {
      "application/javascript": [
       "refreshJobProgress_7baaa9b08eba4871822bed39cb61b615({\"jobId\": 3, \"name\": \"collect at <ipython-input-5-ed4060b10f3f>:122\", \"submissionTime\": \"2017-05-01T01:44:02.978GMT\", \"stageIds\": [3, 4], \"status\": \"RUNNING\", \"numTasks\": 40, \"numActiveTasks\": 1, \"numCompletedTasks\": 18, \"numSkippedTasks\": 0, \"numFailedTasks\": 0, \"numActiveStages\": 1, \"numCompletedStages\": 0, \"numSkippedStages\": 0, \"numFailedStages\": 0})"
      ]
     },
     "metadata": {},
     "output_type": "display_data"
    },
    {
     "data": {
      "application/javascript": [
       "refreshJobProgress_7baaa9b08eba4871822bed39cb61b615({\"jobId\": 3, \"name\": \"collect at <ipython-input-5-ed4060b10f3f>:122\", \"submissionTime\": \"2017-05-01T01:44:02.978GMT\", \"stageIds\": [3, 4], \"status\": \"RUNNING\", \"numTasks\": 40, \"numActiveTasks\": 1, \"numCompletedTasks\": 18, \"numSkippedTasks\": 0, \"numFailedTasks\": 0, \"numActiveStages\": 1, \"numCompletedStages\": 0, \"numSkippedStages\": 0, \"numFailedStages\": 0})"
      ]
     },
     "metadata": {},
     "output_type": "display_data"
    },
    {
     "data": {
      "application/javascript": [
       "refreshJobProgress_7baaa9b08eba4871822bed39cb61b615({\"jobId\": 3, \"name\": \"collect at <ipython-input-5-ed4060b10f3f>:122\", \"submissionTime\": \"2017-05-01T01:44:02.978GMT\", \"stageIds\": [3, 4], \"status\": \"RUNNING\", \"numTasks\": 40, \"numActiveTasks\": 1, \"numCompletedTasks\": 18, \"numSkippedTasks\": 0, \"numFailedTasks\": 0, \"numActiveStages\": 1, \"numCompletedStages\": 0, \"numSkippedStages\": 0, \"numFailedStages\": 0})"
      ]
     },
     "metadata": {},
     "output_type": "display_data"
    },
    {
     "data": {
      "application/javascript": [
       "refreshJobProgress_7baaa9b08eba4871822bed39cb61b615({\"jobId\": 3, \"name\": \"collect at <ipython-input-5-ed4060b10f3f>:122\", \"submissionTime\": \"2017-05-01T01:44:02.978GMT\", \"stageIds\": [3, 4], \"status\": \"RUNNING\", \"numTasks\": 40, \"numActiveTasks\": 1, \"numCompletedTasks\": 18, \"numSkippedTasks\": 0, \"numFailedTasks\": 0, \"numActiveStages\": 1, \"numCompletedStages\": 0, \"numSkippedStages\": 0, \"numFailedStages\": 0})"
      ]
     },
     "metadata": {},
     "output_type": "display_data"
    },
    {
     "data": {
      "application/javascript": [
       "refreshJobProgress_7baaa9b08eba4871822bed39cb61b615({\"jobId\": 3, \"name\": \"collect at <ipython-input-5-ed4060b10f3f>:122\", \"submissionTime\": \"2017-05-01T01:44:02.978GMT\", \"stageIds\": [3, 4], \"status\": \"RUNNING\", \"numTasks\": 40, \"numActiveTasks\": 1, \"numCompletedTasks\": 19, \"numSkippedTasks\": 0, \"numFailedTasks\": 0, \"numActiveStages\": 1, \"numCompletedStages\": 0, \"numSkippedStages\": 0, \"numFailedStages\": 0})"
      ]
     },
     "metadata": {},
     "output_type": "display_data"
    },
    {
     "data": {
      "application/javascript": [
       "refreshJobProgress_7baaa9b08eba4871822bed39cb61b615({\"jobId\": 3, \"name\": \"collect at <ipython-input-5-ed4060b10f3f>:122\", \"submissionTime\": \"2017-05-01T01:44:02.978GMT\", \"stageIds\": [3, 4], \"status\": \"RUNNING\", \"numTasks\": 40, \"numActiveTasks\": 1, \"numCompletedTasks\": 19, \"numSkippedTasks\": 0, \"numFailedTasks\": 0, \"numActiveStages\": 1, \"numCompletedStages\": 0, \"numSkippedStages\": 0, \"numFailedStages\": 0})"
      ]
     },
     "metadata": {},
     "output_type": "display_data"
    },
    {
     "data": {
      "application/javascript": [
       "refreshJobProgress_7baaa9b08eba4871822bed39cb61b615({\"jobId\": 3, \"name\": \"collect at <ipython-input-5-ed4060b10f3f>:122\", \"submissionTime\": \"2017-05-01T01:44:02.978GMT\", \"stageIds\": [3, 4], \"status\": \"RUNNING\", \"numTasks\": 40, \"numActiveTasks\": 1, \"numCompletedTasks\": 19, \"numSkippedTasks\": 0, \"numFailedTasks\": 0, \"numActiveStages\": 1, \"numCompletedStages\": 0, \"numSkippedStages\": 0, \"numFailedStages\": 0})"
      ]
     },
     "metadata": {},
     "output_type": "display_data"
    },
    {
     "data": {
      "application/javascript": [
       "refreshJobProgress_7baaa9b08eba4871822bed39cb61b615({\"jobId\": 3, \"name\": \"collect at <ipython-input-5-ed4060b10f3f>:122\", \"submissionTime\": \"2017-05-01T01:44:02.978GMT\", \"stageIds\": [3, 4], \"status\": \"RUNNING\", \"numTasks\": 40, \"numActiveTasks\": 1, \"numCompletedTasks\": 19, \"numSkippedTasks\": 0, \"numFailedTasks\": 0, \"numActiveStages\": 1, \"numCompletedStages\": 0, \"numSkippedStages\": 0, \"numFailedStages\": 0})"
      ]
     },
     "metadata": {},
     "output_type": "display_data"
    },
    {
     "data": {
      "application/javascript": [
       "refreshJobProgress_7baaa9b08eba4871822bed39cb61b615({\"jobId\": 3, \"name\": \"collect at <ipython-input-5-ed4060b10f3f>:122\", \"submissionTime\": \"2017-05-01T01:44:02.978GMT\", \"stageIds\": [3, 4], \"status\": \"RUNNING\", \"numTasks\": 40, \"numActiveTasks\": 1, \"numCompletedTasks\": 19, \"numSkippedTasks\": 0, \"numFailedTasks\": 0, \"numActiveStages\": 1, \"numCompletedStages\": 0, \"numSkippedStages\": 0, \"numFailedStages\": 0})"
      ]
     },
     "metadata": {},
     "output_type": "display_data"
    },
    {
     "data": {
      "application/javascript": [
       "refreshJobProgress_7baaa9b08eba4871822bed39cb61b615({\"jobId\": 3, \"name\": \"collect at <ipython-input-5-ed4060b10f3f>:122\", \"submissionTime\": \"2017-05-01T01:44:02.978GMT\", \"stageIds\": [3, 4], \"status\": \"RUNNING\", \"numTasks\": 40, \"numActiveTasks\": 1, \"numCompletedTasks\": 19, \"numSkippedTasks\": 0, \"numFailedTasks\": 0, \"numActiveStages\": 1, \"numCompletedStages\": 0, \"numSkippedStages\": 0, \"numFailedStages\": 0})"
      ]
     },
     "metadata": {},
     "output_type": "display_data"
    },
    {
     "data": {
      "application/javascript": [
       "refreshJobProgress_7baaa9b08eba4871822bed39cb61b615({\"jobId\": 3, \"name\": \"collect at <ipython-input-5-ed4060b10f3f>:122\", \"submissionTime\": \"2017-05-01T01:44:02.978GMT\", \"stageIds\": [3, 4], \"status\": \"RUNNING\", \"numTasks\": 40, \"numActiveTasks\": 1, \"numCompletedTasks\": 19, \"numSkippedTasks\": 0, \"numFailedTasks\": 0, \"numActiveStages\": 1, \"numCompletedStages\": 0, \"numSkippedStages\": 0, \"numFailedStages\": 0})"
      ]
     },
     "metadata": {},
     "output_type": "display_data"
    },
    {
     "data": {
      "application/javascript": [
       "refreshJobProgress_7baaa9b08eba4871822bed39cb61b615({\"jobId\": 3, \"name\": \"collect at <ipython-input-5-ed4060b10f3f>:122\", \"submissionTime\": \"2017-05-01T01:44:02.978GMT\", \"stageIds\": [3, 4], \"status\": \"RUNNING\", \"numTasks\": 40, \"numActiveTasks\": 1, \"numCompletedTasks\": 19, \"numSkippedTasks\": 0, \"numFailedTasks\": 0, \"numActiveStages\": 1, \"numCompletedStages\": 0, \"numSkippedStages\": 0, \"numFailedStages\": 0})"
      ]
     },
     "metadata": {},
     "output_type": "display_data"
    },
    {
     "data": {
      "application/javascript": [
       "refreshJobProgress_7baaa9b08eba4871822bed39cb61b615({\"jobId\": 3, \"name\": \"collect at <ipython-input-5-ed4060b10f3f>:122\", \"submissionTime\": \"2017-05-01T01:44:02.978GMT\", \"stageIds\": [3, 4], \"status\": \"RUNNING\", \"numTasks\": 40, \"numActiveTasks\": 0, \"numCompletedTasks\": 20, \"numSkippedTasks\": 0, \"numFailedTasks\": 0, \"numActiveStages\": 1, \"numCompletedStages\": 0, \"numSkippedStages\": 0, \"numFailedStages\": 0})"
      ]
     },
     "metadata": {},
     "output_type": "display_data"
    },
    {
     "data": {
      "application/javascript": [
       "refreshJobProgress_7baaa9b08eba4871822bed39cb61b615({\"jobId\": 3, \"name\": \"collect at <ipython-input-5-ed4060b10f3f>:122\", \"submissionTime\": \"2017-05-01T01:44:02.978GMT\", \"stageIds\": [3, 4], \"status\": \"RUNNING\", \"numTasks\": 40, \"numActiveTasks\": 0, \"numCompletedTasks\": 20, \"numSkippedTasks\": 0, \"numFailedTasks\": 0, \"numActiveStages\": 0, \"numCompletedStages\": 1, \"numSkippedStages\": 0, \"numFailedStages\": 0})"
      ]
     },
     "metadata": {},
     "output_type": "display_data"
    },
    {
     "data": {
      "application/javascript": [
       "refreshJobProgress_7baaa9b08eba4871822bed39cb61b615({\"jobId\": 3, \"name\": \"collect at <ipython-input-5-ed4060b10f3f>:122\", \"submissionTime\": \"2017-05-01T01:44:02.978GMT\", \"stageIds\": [3, 4], \"status\": \"RUNNING\", \"numTasks\": 40, \"numActiveTasks\": 0, \"numCompletedTasks\": 20, \"numSkippedTasks\": 0, \"numFailedTasks\": 0, \"numActiveStages\": 1, \"numCompletedStages\": 1, \"numSkippedStages\": 0, \"numFailedStages\": 0})"
      ]
     },
     "metadata": {},
     "output_type": "display_data"
    },
    {
     "data": {
      "application/javascript": [
       "refreshJobProgress_7baaa9b08eba4871822bed39cb61b615({\"jobId\": 3, \"name\": \"collect at <ipython-input-5-ed4060b10f3f>:122\", \"submissionTime\": \"2017-05-01T01:44:02.978GMT\", \"stageIds\": [3, 4], \"status\": \"RUNNING\", \"numTasks\": 40, \"numActiveTasks\": 1, \"numCompletedTasks\": 20, \"numSkippedTasks\": 0, \"numFailedTasks\": 0, \"numActiveStages\": 1, \"numCompletedStages\": 1, \"numSkippedStages\": 0, \"numFailedStages\": 0})"
      ]
     },
     "metadata": {},
     "output_type": "display_data"
    },
    {
     "data": {
      "application/javascript": [
       "refreshJobProgress_7baaa9b08eba4871822bed39cb61b615({\"jobId\": 3, \"name\": \"collect at <ipython-input-5-ed4060b10f3f>:122\", \"submissionTime\": \"2017-05-01T01:44:02.978GMT\", \"stageIds\": [3, 4], \"status\": \"RUNNING\", \"numTasks\": 40, \"numActiveTasks\": 1, \"numCompletedTasks\": 20, \"numSkippedTasks\": 0, \"numFailedTasks\": 0, \"numActiveStages\": 1, \"numCompletedStages\": 1, \"numSkippedStages\": 0, \"numFailedStages\": 0})"
      ]
     },
     "metadata": {},
     "output_type": "display_data"
    },
    {
     "data": {
      "application/javascript": [
       "refreshJobProgress_7baaa9b08eba4871822bed39cb61b615({\"jobId\": 3, \"name\": \"collect at <ipython-input-5-ed4060b10f3f>:122\", \"submissionTime\": \"2017-05-01T01:44:02.978GMT\", \"stageIds\": [3, 4], \"status\": \"RUNNING\", \"numTasks\": 40, \"numActiveTasks\": 1, \"numCompletedTasks\": 20, \"numSkippedTasks\": 0, \"numFailedTasks\": 0, \"numActiveStages\": 1, \"numCompletedStages\": 1, \"numSkippedStages\": 0, \"numFailedStages\": 0})"
      ]
     },
     "metadata": {},
     "output_type": "display_data"
    },
    {
     "data": {
      "application/javascript": [
       "refreshJobProgress_7baaa9b08eba4871822bed39cb61b615({\"jobId\": 3, \"name\": \"collect at <ipython-input-5-ed4060b10f3f>:122\", \"submissionTime\": \"2017-05-01T01:44:02.978GMT\", \"stageIds\": [3, 4], \"status\": \"RUNNING\", \"numTasks\": 40, \"numActiveTasks\": 1, \"numCompletedTasks\": 20, \"numSkippedTasks\": 0, \"numFailedTasks\": 0, \"numActiveStages\": 1, \"numCompletedStages\": 1, \"numSkippedStages\": 0, \"numFailedStages\": 0})"
      ]
     },
     "metadata": {},
     "output_type": "display_data"
    },
    {
     "data": {
      "application/javascript": [
       "refreshJobProgress_7baaa9b08eba4871822bed39cb61b615({\"jobId\": 3, \"name\": \"collect at <ipython-input-5-ed4060b10f3f>:122\", \"submissionTime\": \"2017-05-01T01:44:02.978GMT\", \"stageIds\": [3, 4], \"status\": \"RUNNING\", \"numTasks\": 40, \"numActiveTasks\": 1, \"numCompletedTasks\": 20, \"numSkippedTasks\": 0, \"numFailedTasks\": 0, \"numActiveStages\": 1, \"numCompletedStages\": 1, \"numSkippedStages\": 0, \"numFailedStages\": 0})"
      ]
     },
     "metadata": {},
     "output_type": "display_data"
    },
    {
     "data": {
      "application/javascript": [
       "refreshJobProgress_7baaa9b08eba4871822bed39cb61b615({\"jobId\": 3, \"name\": \"collect at <ipython-input-5-ed4060b10f3f>:122\", \"submissionTime\": \"2017-05-01T01:44:02.978GMT\", \"stageIds\": [3, 4], \"status\": \"RUNNING\", \"numTasks\": 40, \"numActiveTasks\": 1, \"numCompletedTasks\": 20, \"numSkippedTasks\": 0, \"numFailedTasks\": 0, \"numActiveStages\": 1, \"numCompletedStages\": 1, \"numSkippedStages\": 0, \"numFailedStages\": 0})"
      ]
     },
     "metadata": {},
     "output_type": "display_data"
    },
    {
     "data": {
      "application/javascript": [
       "refreshJobProgress_7baaa9b08eba4871822bed39cb61b615({\"jobId\": 3, \"name\": \"collect at <ipython-input-5-ed4060b10f3f>:122\", \"submissionTime\": \"2017-05-01T01:44:02.978GMT\", \"stageIds\": [3, 4], \"status\": \"RUNNING\", \"numTasks\": 40, \"numActiveTasks\": 1, \"numCompletedTasks\": 20, \"numSkippedTasks\": 0, \"numFailedTasks\": 0, \"numActiveStages\": 1, \"numCompletedStages\": 1, \"numSkippedStages\": 0, \"numFailedStages\": 0})"
      ]
     },
     "metadata": {},
     "output_type": "display_data"
    },
    {
     "data": {
      "application/javascript": [
       "refreshJobProgress_7baaa9b08eba4871822bed39cb61b615({\"jobId\": 3, \"name\": \"collect at <ipython-input-5-ed4060b10f3f>:122\", \"submissionTime\": \"2017-05-01T01:44:02.978GMT\", \"stageIds\": [3, 4], \"status\": \"RUNNING\", \"numTasks\": 40, \"numActiveTasks\": 1, \"numCompletedTasks\": 20, \"numSkippedTasks\": 0, \"numFailedTasks\": 0, \"numActiveStages\": 1, \"numCompletedStages\": 1, \"numSkippedStages\": 0, \"numFailedStages\": 0})"
      ]
     },
     "metadata": {},
     "output_type": "display_data"
    },
    {
     "data": {
      "application/javascript": [
       "refreshJobProgress_7baaa9b08eba4871822bed39cb61b615({\"jobId\": 3, \"name\": \"collect at <ipython-input-5-ed4060b10f3f>:122\", \"submissionTime\": \"2017-05-01T01:44:02.978GMT\", \"stageIds\": [3, 4], \"status\": \"RUNNING\", \"numTasks\": 40, \"numActiveTasks\": 1, \"numCompletedTasks\": 21, \"numSkippedTasks\": 0, \"numFailedTasks\": 0, \"numActiveStages\": 1, \"numCompletedStages\": 1, \"numSkippedStages\": 0, \"numFailedStages\": 0})"
      ]
     },
     "metadata": {},
     "output_type": "display_data"
    },
    {
     "data": {
      "application/javascript": [
       "refreshJobProgress_7baaa9b08eba4871822bed39cb61b615({\"jobId\": 3, \"name\": \"collect at <ipython-input-5-ed4060b10f3f>:122\", \"submissionTime\": \"2017-05-01T01:44:02.978GMT\", \"stageIds\": [3, 4], \"status\": \"RUNNING\", \"numTasks\": 40, \"numActiveTasks\": 1, \"numCompletedTasks\": 21, \"numSkippedTasks\": 0, \"numFailedTasks\": 0, \"numActiveStages\": 1, \"numCompletedStages\": 1, \"numSkippedStages\": 0, \"numFailedStages\": 0})"
      ]
     },
     "metadata": {},
     "output_type": "display_data"
    },
    {
     "data": {
      "application/javascript": [
       "refreshJobProgress_7baaa9b08eba4871822bed39cb61b615({\"jobId\": 3, \"name\": \"collect at <ipython-input-5-ed4060b10f3f>:122\", \"submissionTime\": \"2017-05-01T01:44:02.978GMT\", \"stageIds\": [3, 4], \"status\": \"RUNNING\", \"numTasks\": 40, \"numActiveTasks\": 1, \"numCompletedTasks\": 21, \"numSkippedTasks\": 0, \"numFailedTasks\": 0, \"numActiveStages\": 1, \"numCompletedStages\": 1, \"numSkippedStages\": 0, \"numFailedStages\": 0})"
      ]
     },
     "metadata": {},
     "output_type": "display_data"
    },
    {
     "data": {
      "application/javascript": [
       "refreshJobProgress_7baaa9b08eba4871822bed39cb61b615({\"jobId\": 3, \"name\": \"collect at <ipython-input-5-ed4060b10f3f>:122\", \"submissionTime\": \"2017-05-01T01:44:02.978GMT\", \"stageIds\": [3, 4], \"status\": \"RUNNING\", \"numTasks\": 40, \"numActiveTasks\": 1, \"numCompletedTasks\": 21, \"numSkippedTasks\": 0, \"numFailedTasks\": 0, \"numActiveStages\": 1, \"numCompletedStages\": 1, \"numSkippedStages\": 0, \"numFailedStages\": 0})"
      ]
     },
     "metadata": {},
     "output_type": "display_data"
    },
    {
     "data": {
      "application/javascript": [
       "refreshJobProgress_7baaa9b08eba4871822bed39cb61b615({\"jobId\": 3, \"name\": \"collect at <ipython-input-5-ed4060b10f3f>:122\", \"submissionTime\": \"2017-05-01T01:44:02.978GMT\", \"stageIds\": [3, 4], \"status\": \"RUNNING\", \"numTasks\": 40, \"numActiveTasks\": 1, \"numCompletedTasks\": 22, \"numSkippedTasks\": 0, \"numFailedTasks\": 0, \"numActiveStages\": 1, \"numCompletedStages\": 1, \"numSkippedStages\": 0, \"numFailedStages\": 0})"
      ]
     },
     "metadata": {},
     "output_type": "display_data"
    },
    {
     "data": {
      "application/javascript": [
       "refreshJobProgress_7baaa9b08eba4871822bed39cb61b615({\"jobId\": 3, \"name\": \"collect at <ipython-input-5-ed4060b10f3f>:122\", \"submissionTime\": \"2017-05-01T01:44:02.978GMT\", \"stageIds\": [3, 4], \"status\": \"RUNNING\", \"numTasks\": 40, \"numActiveTasks\": 1, \"numCompletedTasks\": 22, \"numSkippedTasks\": 0, \"numFailedTasks\": 0, \"numActiveStages\": 1, \"numCompletedStages\": 1, \"numSkippedStages\": 0, \"numFailedStages\": 0})"
      ]
     },
     "metadata": {},
     "output_type": "display_data"
    },
    {
     "data": {
      "application/javascript": [
       "refreshJobProgress_7baaa9b08eba4871822bed39cb61b615({\"jobId\": 3, \"name\": \"collect at <ipython-input-5-ed4060b10f3f>:122\", \"submissionTime\": \"2017-05-01T01:44:02.978GMT\", \"stageIds\": [3, 4], \"status\": \"RUNNING\", \"numTasks\": 40, \"numActiveTasks\": 1, \"numCompletedTasks\": 22, \"numSkippedTasks\": 0, \"numFailedTasks\": 0, \"numActiveStages\": 1, \"numCompletedStages\": 1, \"numSkippedStages\": 0, \"numFailedStages\": 0})"
      ]
     },
     "metadata": {},
     "output_type": "display_data"
    },
    {
     "data": {
      "application/javascript": [
       "refreshJobProgress_7baaa9b08eba4871822bed39cb61b615({\"jobId\": 3, \"name\": \"collect at <ipython-input-5-ed4060b10f3f>:122\", \"submissionTime\": \"2017-05-01T01:44:02.978GMT\", \"stageIds\": [3, 4], \"status\": \"RUNNING\", \"numTasks\": 40, \"numActiveTasks\": 1, \"numCompletedTasks\": 22, \"numSkippedTasks\": 0, \"numFailedTasks\": 0, \"numActiveStages\": 1, \"numCompletedStages\": 1, \"numSkippedStages\": 0, \"numFailedStages\": 0})"
      ]
     },
     "metadata": {},
     "output_type": "display_data"
    },
    {
     "data": {
      "application/javascript": [
       "refreshJobProgress_7baaa9b08eba4871822bed39cb61b615({\"jobId\": 3, \"name\": \"collect at <ipython-input-5-ed4060b10f3f>:122\", \"submissionTime\": \"2017-05-01T01:44:02.978GMT\", \"stageIds\": [3, 4], \"status\": \"RUNNING\", \"numTasks\": 40, \"numActiveTasks\": 1, \"numCompletedTasks\": 23, \"numSkippedTasks\": 0, \"numFailedTasks\": 0, \"numActiveStages\": 1, \"numCompletedStages\": 1, \"numSkippedStages\": 0, \"numFailedStages\": 0})"
      ]
     },
     "metadata": {},
     "output_type": "display_data"
    },
    {
     "data": {
      "application/javascript": [
       "refreshJobProgress_7baaa9b08eba4871822bed39cb61b615({\"jobId\": 3, \"name\": \"collect at <ipython-input-5-ed4060b10f3f>:122\", \"submissionTime\": \"2017-05-01T01:44:02.978GMT\", \"stageIds\": [3, 4], \"status\": \"RUNNING\", \"numTasks\": 40, \"numActiveTasks\": 1, \"numCompletedTasks\": 23, \"numSkippedTasks\": 0, \"numFailedTasks\": 0, \"numActiveStages\": 1, \"numCompletedStages\": 1, \"numSkippedStages\": 0, \"numFailedStages\": 0})"
      ]
     },
     "metadata": {},
     "output_type": "display_data"
    },
    {
     "data": {
      "application/javascript": [
       "refreshJobProgress_7baaa9b08eba4871822bed39cb61b615({\"jobId\": 3, \"name\": \"collect at <ipython-input-5-ed4060b10f3f>:122\", \"submissionTime\": \"2017-05-01T01:44:02.978GMT\", \"stageIds\": [3, 4], \"status\": \"RUNNING\", \"numTasks\": 40, \"numActiveTasks\": 1, \"numCompletedTasks\": 23, \"numSkippedTasks\": 0, \"numFailedTasks\": 0, \"numActiveStages\": 1, \"numCompletedStages\": 1, \"numSkippedStages\": 0, \"numFailedStages\": 0})"
      ]
     },
     "metadata": {},
     "output_type": "display_data"
    },
    {
     "data": {
      "application/javascript": [
       "refreshJobProgress_7baaa9b08eba4871822bed39cb61b615({\"jobId\": 3, \"name\": \"collect at <ipython-input-5-ed4060b10f3f>:122\", \"submissionTime\": \"2017-05-01T01:44:02.978GMT\", \"stageIds\": [3, 4], \"status\": \"RUNNING\", \"numTasks\": 40, \"numActiveTasks\": 1, \"numCompletedTasks\": 23, \"numSkippedTasks\": 0, \"numFailedTasks\": 0, \"numActiveStages\": 1, \"numCompletedStages\": 1, \"numSkippedStages\": 0, \"numFailedStages\": 0})"
      ]
     },
     "metadata": {},
     "output_type": "display_data"
    },
    {
     "data": {
      "application/javascript": [
       "refreshJobProgress_7baaa9b08eba4871822bed39cb61b615({\"jobId\": 3, \"name\": \"collect at <ipython-input-5-ed4060b10f3f>:122\", \"submissionTime\": \"2017-05-01T01:44:02.978GMT\", \"stageIds\": [3, 4], \"status\": \"RUNNING\", \"numTasks\": 40, \"numActiveTasks\": 1, \"numCompletedTasks\": 23, \"numSkippedTasks\": 0, \"numFailedTasks\": 0, \"numActiveStages\": 1, \"numCompletedStages\": 1, \"numSkippedStages\": 0, \"numFailedStages\": 0})"
      ]
     },
     "metadata": {},
     "output_type": "display_data"
    },
    {
     "data": {
      "application/javascript": [
       "refreshJobProgress_7baaa9b08eba4871822bed39cb61b615({\"jobId\": 3, \"name\": \"collect at <ipython-input-5-ed4060b10f3f>:122\", \"submissionTime\": \"2017-05-01T01:44:02.978GMT\", \"stageIds\": [3, 4], \"status\": \"RUNNING\", \"numTasks\": 40, \"numActiveTasks\": 1, \"numCompletedTasks\": 23, \"numSkippedTasks\": 0, \"numFailedTasks\": 0, \"numActiveStages\": 1, \"numCompletedStages\": 1, \"numSkippedStages\": 0, \"numFailedStages\": 0})"
      ]
     },
     "metadata": {},
     "output_type": "display_data"
    },
    {
     "data": {
      "application/javascript": [
       "refreshJobProgress_7baaa9b08eba4871822bed39cb61b615({\"jobId\": 3, \"name\": \"collect at <ipython-input-5-ed4060b10f3f>:122\", \"submissionTime\": \"2017-05-01T01:44:02.978GMT\", \"stageIds\": [3, 4], \"status\": \"RUNNING\", \"numTasks\": 40, \"numActiveTasks\": 1, \"numCompletedTasks\": 24, \"numSkippedTasks\": 0, \"numFailedTasks\": 0, \"numActiveStages\": 1, \"numCompletedStages\": 1, \"numSkippedStages\": 0, \"numFailedStages\": 0})"
      ]
     },
     "metadata": {},
     "output_type": "display_data"
    },
    {
     "data": {
      "application/javascript": [
       "refreshJobProgress_7baaa9b08eba4871822bed39cb61b615({\"jobId\": 3, \"name\": \"collect at <ipython-input-5-ed4060b10f3f>:122\", \"submissionTime\": \"2017-05-01T01:44:02.978GMT\", \"stageIds\": [3, 4], \"status\": \"RUNNING\", \"numTasks\": 40, \"numActiveTasks\": 1, \"numCompletedTasks\": 24, \"numSkippedTasks\": 0, \"numFailedTasks\": 0, \"numActiveStages\": 1, \"numCompletedStages\": 1, \"numSkippedStages\": 0, \"numFailedStages\": 0})"
      ]
     },
     "metadata": {},
     "output_type": "display_data"
    },
    {
     "data": {
      "application/javascript": [
       "refreshJobProgress_7baaa9b08eba4871822bed39cb61b615({\"jobId\": 3, \"name\": \"collect at <ipython-input-5-ed4060b10f3f>:122\", \"submissionTime\": \"2017-05-01T01:44:02.978GMT\", \"stageIds\": [3, 4], \"status\": \"RUNNING\", \"numTasks\": 40, \"numActiveTasks\": 1, \"numCompletedTasks\": 24, \"numSkippedTasks\": 0, \"numFailedTasks\": 0, \"numActiveStages\": 1, \"numCompletedStages\": 1, \"numSkippedStages\": 0, \"numFailedStages\": 0})"
      ]
     },
     "metadata": {},
     "output_type": "display_data"
    },
    {
     "data": {
      "application/javascript": [
       "refreshJobProgress_7baaa9b08eba4871822bed39cb61b615({\"jobId\": 3, \"name\": \"collect at <ipython-input-5-ed4060b10f3f>:122\", \"submissionTime\": \"2017-05-01T01:44:02.978GMT\", \"stageIds\": [3, 4], \"status\": \"RUNNING\", \"numTasks\": 40, \"numActiveTasks\": 1, \"numCompletedTasks\": 24, \"numSkippedTasks\": 0, \"numFailedTasks\": 0, \"numActiveStages\": 1, \"numCompletedStages\": 1, \"numSkippedStages\": 0, \"numFailedStages\": 0})"
      ]
     },
     "metadata": {},
     "output_type": "display_data"
    },
    {
     "data": {
      "application/javascript": [
       "refreshJobProgress_7baaa9b08eba4871822bed39cb61b615({\"jobId\": 3, \"name\": \"collect at <ipython-input-5-ed4060b10f3f>:122\", \"submissionTime\": \"2017-05-01T01:44:02.978GMT\", \"stageIds\": [3, 4], \"status\": \"RUNNING\", \"numTasks\": 40, \"numActiveTasks\": 1, \"numCompletedTasks\": 24, \"numSkippedTasks\": 0, \"numFailedTasks\": 0, \"numActiveStages\": 1, \"numCompletedStages\": 1, \"numSkippedStages\": 0, \"numFailedStages\": 0})"
      ]
     },
     "metadata": {},
     "output_type": "display_data"
    },
    {
     "data": {
      "application/javascript": [
       "refreshJobProgress_7baaa9b08eba4871822bed39cb61b615({\"jobId\": 3, \"name\": \"collect at <ipython-input-5-ed4060b10f3f>:122\", \"submissionTime\": \"2017-05-01T01:44:02.978GMT\", \"stageIds\": [3, 4], \"status\": \"RUNNING\", \"numTasks\": 40, \"numActiveTasks\": 1, \"numCompletedTasks\": 25, \"numSkippedTasks\": 0, \"numFailedTasks\": 0, \"numActiveStages\": 1, \"numCompletedStages\": 1, \"numSkippedStages\": 0, \"numFailedStages\": 0})"
      ]
     },
     "metadata": {},
     "output_type": "display_data"
    },
    {
     "data": {
      "application/javascript": [
       "refreshJobProgress_7baaa9b08eba4871822bed39cb61b615({\"jobId\": 3, \"name\": \"collect at <ipython-input-5-ed4060b10f3f>:122\", \"submissionTime\": \"2017-05-01T01:44:02.978GMT\", \"stageIds\": [3, 4], \"status\": \"RUNNING\", \"numTasks\": 40, \"numActiveTasks\": 1, \"numCompletedTasks\": 25, \"numSkippedTasks\": 0, \"numFailedTasks\": 0, \"numActiveStages\": 1, \"numCompletedStages\": 1, \"numSkippedStages\": 0, \"numFailedStages\": 0})"
      ]
     },
     "metadata": {},
     "output_type": "display_data"
    },
    {
     "data": {
      "application/javascript": [
       "refreshJobProgress_7baaa9b08eba4871822bed39cb61b615({\"jobId\": 3, \"name\": \"collect at <ipython-input-5-ed4060b10f3f>:122\", \"submissionTime\": \"2017-05-01T01:44:02.978GMT\", \"stageIds\": [3, 4], \"status\": \"RUNNING\", \"numTasks\": 40, \"numActiveTasks\": 1, \"numCompletedTasks\": 25, \"numSkippedTasks\": 0, \"numFailedTasks\": 0, \"numActiveStages\": 1, \"numCompletedStages\": 1, \"numSkippedStages\": 0, \"numFailedStages\": 0})"
      ]
     },
     "metadata": {},
     "output_type": "display_data"
    },
    {
     "data": {
      "application/javascript": [
       "refreshJobProgress_7baaa9b08eba4871822bed39cb61b615({\"jobId\": 3, \"name\": \"collect at <ipython-input-5-ed4060b10f3f>:122\", \"submissionTime\": \"2017-05-01T01:44:02.978GMT\", \"stageIds\": [3, 4], \"status\": \"RUNNING\", \"numTasks\": 40, \"numActiveTasks\": 1, \"numCompletedTasks\": 25, \"numSkippedTasks\": 0, \"numFailedTasks\": 0, \"numActiveStages\": 1, \"numCompletedStages\": 1, \"numSkippedStages\": 0, \"numFailedStages\": 0})"
      ]
     },
     "metadata": {},
     "output_type": "display_data"
    },
    {
     "data": {
      "application/javascript": [
       "refreshJobProgress_7baaa9b08eba4871822bed39cb61b615({\"jobId\": 3, \"name\": \"collect at <ipython-input-5-ed4060b10f3f>:122\", \"submissionTime\": \"2017-05-01T01:44:02.978GMT\", \"stageIds\": [3, 4], \"status\": \"RUNNING\", \"numTasks\": 40, \"numActiveTasks\": 1, \"numCompletedTasks\": 26, \"numSkippedTasks\": 0, \"numFailedTasks\": 0, \"numActiveStages\": 1, \"numCompletedStages\": 1, \"numSkippedStages\": 0, \"numFailedStages\": 0})"
      ]
     },
     "metadata": {},
     "output_type": "display_data"
    },
    {
     "data": {
      "application/javascript": [
       "refreshJobProgress_7baaa9b08eba4871822bed39cb61b615({\"jobId\": 3, \"name\": \"collect at <ipython-input-5-ed4060b10f3f>:122\", \"submissionTime\": \"2017-05-01T01:44:02.978GMT\", \"stageIds\": [3, 4], \"status\": \"RUNNING\", \"numTasks\": 40, \"numActiveTasks\": 1, \"numCompletedTasks\": 26, \"numSkippedTasks\": 0, \"numFailedTasks\": 0, \"numActiveStages\": 1, \"numCompletedStages\": 1, \"numSkippedStages\": 0, \"numFailedStages\": 0})"
      ]
     },
     "metadata": {},
     "output_type": "display_data"
    },
    {
     "data": {
      "application/javascript": [
       "refreshJobProgress_7baaa9b08eba4871822bed39cb61b615({\"jobId\": 3, \"name\": \"collect at <ipython-input-5-ed4060b10f3f>:122\", \"submissionTime\": \"2017-05-01T01:44:02.978GMT\", \"stageIds\": [3, 4], \"status\": \"RUNNING\", \"numTasks\": 40, \"numActiveTasks\": 1, \"numCompletedTasks\": 26, \"numSkippedTasks\": 0, \"numFailedTasks\": 0, \"numActiveStages\": 1, \"numCompletedStages\": 1, \"numSkippedStages\": 0, \"numFailedStages\": 0})"
      ]
     },
     "metadata": {},
     "output_type": "display_data"
    },
    {
     "data": {
      "application/javascript": [
       "refreshJobProgress_7baaa9b08eba4871822bed39cb61b615({\"jobId\": 3, \"name\": \"collect at <ipython-input-5-ed4060b10f3f>:122\", \"submissionTime\": \"2017-05-01T01:44:02.978GMT\", \"stageIds\": [3, 4], \"status\": \"RUNNING\", \"numTasks\": 40, \"numActiveTasks\": 1, \"numCompletedTasks\": 26, \"numSkippedTasks\": 0, \"numFailedTasks\": 0, \"numActiveStages\": 1, \"numCompletedStages\": 1, \"numSkippedStages\": 0, \"numFailedStages\": 0})"
      ]
     },
     "metadata": {},
     "output_type": "display_data"
    },
    {
     "data": {
      "application/javascript": [
       "refreshJobProgress_7baaa9b08eba4871822bed39cb61b615({\"jobId\": 3, \"name\": \"collect at <ipython-input-5-ed4060b10f3f>:122\", \"submissionTime\": \"2017-05-01T01:44:02.978GMT\", \"stageIds\": [3, 4], \"status\": \"RUNNING\", \"numTasks\": 40, \"numActiveTasks\": 1, \"numCompletedTasks\": 26, \"numSkippedTasks\": 0, \"numFailedTasks\": 0, \"numActiveStages\": 1, \"numCompletedStages\": 1, \"numSkippedStages\": 0, \"numFailedStages\": 0})"
      ]
     },
     "metadata": {},
     "output_type": "display_data"
    },
    {
     "data": {
      "application/javascript": [
       "refreshJobProgress_7baaa9b08eba4871822bed39cb61b615({\"jobId\": 3, \"name\": \"collect at <ipython-input-5-ed4060b10f3f>:122\", \"submissionTime\": \"2017-05-01T01:44:02.978GMT\", \"stageIds\": [3, 4], \"status\": \"RUNNING\", \"numTasks\": 40, \"numActiveTasks\": 1, \"numCompletedTasks\": 26, \"numSkippedTasks\": 0, \"numFailedTasks\": 0, \"numActiveStages\": 1, \"numCompletedStages\": 1, \"numSkippedStages\": 0, \"numFailedStages\": 0})"
      ]
     },
     "metadata": {},
     "output_type": "display_data"
    },
    {
     "data": {
      "application/javascript": [
       "refreshJobProgress_7baaa9b08eba4871822bed39cb61b615({\"jobId\": 3, \"name\": \"collect at <ipython-input-5-ed4060b10f3f>:122\", \"submissionTime\": \"2017-05-01T01:44:02.978GMT\", \"stageIds\": [3, 4], \"status\": \"RUNNING\", \"numTasks\": 40, \"numActiveTasks\": 1, \"numCompletedTasks\": 26, \"numSkippedTasks\": 0, \"numFailedTasks\": 0, \"numActiveStages\": 1, \"numCompletedStages\": 1, \"numSkippedStages\": 0, \"numFailedStages\": 0})"
      ]
     },
     "metadata": {},
     "output_type": "display_data"
    },
    {
     "data": {
      "application/javascript": [
       "refreshJobProgress_7baaa9b08eba4871822bed39cb61b615({\"jobId\": 3, \"name\": \"collect at <ipython-input-5-ed4060b10f3f>:122\", \"submissionTime\": \"2017-05-01T01:44:02.978GMT\", \"stageIds\": [3, 4], \"status\": \"RUNNING\", \"numTasks\": 40, \"numActiveTasks\": 1, \"numCompletedTasks\": 26, \"numSkippedTasks\": 0, \"numFailedTasks\": 0, \"numActiveStages\": 1, \"numCompletedStages\": 1, \"numSkippedStages\": 0, \"numFailedStages\": 0})"
      ]
     },
     "metadata": {},
     "output_type": "display_data"
    },
    {
     "data": {
      "application/javascript": [
       "refreshJobProgress_7baaa9b08eba4871822bed39cb61b615({\"jobId\": 3, \"name\": \"collect at <ipython-input-5-ed4060b10f3f>:122\", \"submissionTime\": \"2017-05-01T01:44:02.978GMT\", \"stageIds\": [3, 4], \"status\": \"RUNNING\", \"numTasks\": 40, \"numActiveTasks\": 1, \"numCompletedTasks\": 26, \"numSkippedTasks\": 0, \"numFailedTasks\": 0, \"numActiveStages\": 1, \"numCompletedStages\": 1, \"numSkippedStages\": 0, \"numFailedStages\": 0})"
      ]
     },
     "metadata": {},
     "output_type": "display_data"
    },
    {
     "data": {
      "application/javascript": [
       "refreshJobProgress_7baaa9b08eba4871822bed39cb61b615({\"jobId\": 3, \"name\": \"collect at <ipython-input-5-ed4060b10f3f>:122\", \"submissionTime\": \"2017-05-01T01:44:02.978GMT\", \"stageIds\": [3, 4], \"status\": \"RUNNING\", \"numTasks\": 40, \"numActiveTasks\": 1, \"numCompletedTasks\": 26, \"numSkippedTasks\": 0, \"numFailedTasks\": 0, \"numActiveStages\": 1, \"numCompletedStages\": 1, \"numSkippedStages\": 0, \"numFailedStages\": 0})"
      ]
     },
     "metadata": {},
     "output_type": "display_data"
    },
    {
     "data": {
      "application/javascript": [
       "refreshJobProgress_7baaa9b08eba4871822bed39cb61b615({\"jobId\": 3, \"name\": \"collect at <ipython-input-5-ed4060b10f3f>:122\", \"submissionTime\": \"2017-05-01T01:44:02.978GMT\", \"stageIds\": [3, 4], \"status\": \"RUNNING\", \"numTasks\": 40, \"numActiveTasks\": 1, \"numCompletedTasks\": 26, \"numSkippedTasks\": 0, \"numFailedTasks\": 0, \"numActiveStages\": 1, \"numCompletedStages\": 1, \"numSkippedStages\": 0, \"numFailedStages\": 0})"
      ]
     },
     "metadata": {},
     "output_type": "display_data"
    },
    {
     "data": {
      "application/javascript": [
       "refreshJobProgress_7baaa9b08eba4871822bed39cb61b615({\"jobId\": 3, \"name\": \"collect at <ipython-input-5-ed4060b10f3f>:122\", \"submissionTime\": \"2017-05-01T01:44:02.978GMT\", \"stageIds\": [3, 4], \"status\": \"RUNNING\", \"numTasks\": 40, \"numActiveTasks\": 1, \"numCompletedTasks\": 27, \"numSkippedTasks\": 0, \"numFailedTasks\": 0, \"numActiveStages\": 1, \"numCompletedStages\": 1, \"numSkippedStages\": 0, \"numFailedStages\": 0})"
      ]
     },
     "metadata": {},
     "output_type": "display_data"
    },
    {
     "data": {
      "application/javascript": [
       "refreshJobProgress_7baaa9b08eba4871822bed39cb61b615({\"jobId\": 3, \"name\": \"collect at <ipython-input-5-ed4060b10f3f>:122\", \"submissionTime\": \"2017-05-01T01:44:02.978GMT\", \"stageIds\": [3, 4], \"status\": \"RUNNING\", \"numTasks\": 40, \"numActiveTasks\": 1, \"numCompletedTasks\": 27, \"numSkippedTasks\": 0, \"numFailedTasks\": 0, \"numActiveStages\": 1, \"numCompletedStages\": 1, \"numSkippedStages\": 0, \"numFailedStages\": 0})"
      ]
     },
     "metadata": {},
     "output_type": "display_data"
    },
    {
     "data": {
      "application/javascript": [
       "refreshJobProgress_7baaa9b08eba4871822bed39cb61b615({\"jobId\": 3, \"name\": \"collect at <ipython-input-5-ed4060b10f3f>:122\", \"submissionTime\": \"2017-05-01T01:44:02.978GMT\", \"stageIds\": [3, 4], \"status\": \"RUNNING\", \"numTasks\": 40, \"numActiveTasks\": 1, \"numCompletedTasks\": 27, \"numSkippedTasks\": 0, \"numFailedTasks\": 0, \"numActiveStages\": 1, \"numCompletedStages\": 1, \"numSkippedStages\": 0, \"numFailedStages\": 0})"
      ]
     },
     "metadata": {},
     "output_type": "display_data"
    },
    {
     "data": {
      "application/javascript": [
       "refreshJobProgress_7baaa9b08eba4871822bed39cb61b615({\"jobId\": 3, \"name\": \"collect at <ipython-input-5-ed4060b10f3f>:122\", \"submissionTime\": \"2017-05-01T01:44:02.978GMT\", \"stageIds\": [3, 4], \"status\": \"RUNNING\", \"numTasks\": 40, \"numActiveTasks\": 1, \"numCompletedTasks\": 27, \"numSkippedTasks\": 0, \"numFailedTasks\": 0, \"numActiveStages\": 1, \"numCompletedStages\": 1, \"numSkippedStages\": 0, \"numFailedStages\": 0})"
      ]
     },
     "metadata": {},
     "output_type": "display_data"
    },
    {
     "data": {
      "application/javascript": [
       "refreshJobProgress_7baaa9b08eba4871822bed39cb61b615({\"jobId\": 3, \"name\": \"collect at <ipython-input-5-ed4060b10f3f>:122\", \"submissionTime\": \"2017-05-01T01:44:02.978GMT\", \"stageIds\": [3, 4], \"status\": \"RUNNING\", \"numTasks\": 40, \"numActiveTasks\": 1, \"numCompletedTasks\": 27, \"numSkippedTasks\": 0, \"numFailedTasks\": 0, \"numActiveStages\": 1, \"numCompletedStages\": 1, \"numSkippedStages\": 0, \"numFailedStages\": 0})"
      ]
     },
     "metadata": {},
     "output_type": "display_data"
    },
    {
     "data": {
      "application/javascript": [
       "refreshJobProgress_7baaa9b08eba4871822bed39cb61b615({\"jobId\": 3, \"name\": \"collect at <ipython-input-5-ed4060b10f3f>:122\", \"submissionTime\": \"2017-05-01T01:44:02.978GMT\", \"stageIds\": [3, 4], \"status\": \"RUNNING\", \"numTasks\": 40, \"numActiveTasks\": 1, \"numCompletedTasks\": 28, \"numSkippedTasks\": 0, \"numFailedTasks\": 0, \"numActiveStages\": 1, \"numCompletedStages\": 1, \"numSkippedStages\": 0, \"numFailedStages\": 0})"
      ]
     },
     "metadata": {},
     "output_type": "display_data"
    },
    {
     "data": {
      "application/javascript": [
       "refreshJobProgress_7baaa9b08eba4871822bed39cb61b615({\"jobId\": 3, \"name\": \"collect at <ipython-input-5-ed4060b10f3f>:122\", \"submissionTime\": \"2017-05-01T01:44:02.978GMT\", \"stageIds\": [3, 4], \"status\": \"RUNNING\", \"numTasks\": 40, \"numActiveTasks\": 1, \"numCompletedTasks\": 28, \"numSkippedTasks\": 0, \"numFailedTasks\": 0, \"numActiveStages\": 1, \"numCompletedStages\": 1, \"numSkippedStages\": 0, \"numFailedStages\": 0})"
      ]
     },
     "metadata": {},
     "output_type": "display_data"
    },
    {
     "data": {
      "application/javascript": [
       "refreshJobProgress_7baaa9b08eba4871822bed39cb61b615({\"jobId\": 3, \"name\": \"collect at <ipython-input-5-ed4060b10f3f>:122\", \"submissionTime\": \"2017-05-01T01:44:02.978GMT\", \"stageIds\": [3, 4], \"status\": \"RUNNING\", \"numTasks\": 40, \"numActiveTasks\": 1, \"numCompletedTasks\": 28, \"numSkippedTasks\": 0, \"numFailedTasks\": 0, \"numActiveStages\": 1, \"numCompletedStages\": 1, \"numSkippedStages\": 0, \"numFailedStages\": 0})"
      ]
     },
     "metadata": {},
     "output_type": "display_data"
    },
    {
     "data": {
      "application/javascript": [
       "refreshJobProgress_7baaa9b08eba4871822bed39cb61b615({\"jobId\": 3, \"name\": \"collect at <ipython-input-5-ed4060b10f3f>:122\", \"submissionTime\": \"2017-05-01T01:44:02.978GMT\", \"stageIds\": [3, 4], \"status\": \"RUNNING\", \"numTasks\": 40, \"numActiveTasks\": 1, \"numCompletedTasks\": 28, \"numSkippedTasks\": 0, \"numFailedTasks\": 0, \"numActiveStages\": 1, \"numCompletedStages\": 1, \"numSkippedStages\": 0, \"numFailedStages\": 0})"
      ]
     },
     "metadata": {},
     "output_type": "display_data"
    },
    {
     "data": {
      "application/javascript": [
       "refreshJobProgress_7baaa9b08eba4871822bed39cb61b615({\"jobId\": 3, \"name\": \"collect at <ipython-input-5-ed4060b10f3f>:122\", \"submissionTime\": \"2017-05-01T01:44:02.978GMT\", \"stageIds\": [3, 4], \"status\": \"RUNNING\", \"numTasks\": 40, \"numActiveTasks\": 1, \"numCompletedTasks\": 28, \"numSkippedTasks\": 0, \"numFailedTasks\": 0, \"numActiveStages\": 1, \"numCompletedStages\": 1, \"numSkippedStages\": 0, \"numFailedStages\": 0})"
      ]
     },
     "metadata": {},
     "output_type": "display_data"
    },
    {
     "data": {
      "application/javascript": [
       "refreshJobProgress_7baaa9b08eba4871822bed39cb61b615({\"jobId\": 3, \"name\": \"collect at <ipython-input-5-ed4060b10f3f>:122\", \"submissionTime\": \"2017-05-01T01:44:02.978GMT\", \"stageIds\": [3, 4], \"status\": \"RUNNING\", \"numTasks\": 40, \"numActiveTasks\": 1, \"numCompletedTasks\": 29, \"numSkippedTasks\": 0, \"numFailedTasks\": 0, \"numActiveStages\": 1, \"numCompletedStages\": 1, \"numSkippedStages\": 0, \"numFailedStages\": 0})"
      ]
     },
     "metadata": {},
     "output_type": "display_data"
    },
    {
     "data": {
      "application/javascript": [
       "refreshJobProgress_7baaa9b08eba4871822bed39cb61b615({\"jobId\": 3, \"name\": \"collect at <ipython-input-5-ed4060b10f3f>:122\", \"submissionTime\": \"2017-05-01T01:44:02.978GMT\", \"stageIds\": [3, 4], \"status\": \"RUNNING\", \"numTasks\": 40, \"numActiveTasks\": 1, \"numCompletedTasks\": 29, \"numSkippedTasks\": 0, \"numFailedTasks\": 0, \"numActiveStages\": 1, \"numCompletedStages\": 1, \"numSkippedStages\": 0, \"numFailedStages\": 0})"
      ]
     },
     "metadata": {},
     "output_type": "display_data"
    },
    {
     "data": {
      "application/javascript": [
       "refreshJobProgress_7baaa9b08eba4871822bed39cb61b615({\"jobId\": 3, \"name\": \"collect at <ipython-input-5-ed4060b10f3f>:122\", \"submissionTime\": \"2017-05-01T01:44:02.978GMT\", \"stageIds\": [3, 4], \"status\": \"RUNNING\", \"numTasks\": 40, \"numActiveTasks\": 1, \"numCompletedTasks\": 29, \"numSkippedTasks\": 0, \"numFailedTasks\": 0, \"numActiveStages\": 1, \"numCompletedStages\": 1, \"numSkippedStages\": 0, \"numFailedStages\": 0})"
      ]
     },
     "metadata": {},
     "output_type": "display_data"
    },
    {
     "data": {
      "application/javascript": [
       "refreshJobProgress_7baaa9b08eba4871822bed39cb61b615({\"jobId\": 3, \"name\": \"collect at <ipython-input-5-ed4060b10f3f>:122\", \"submissionTime\": \"2017-05-01T01:44:02.978GMT\", \"stageIds\": [3, 4], \"status\": \"RUNNING\", \"numTasks\": 40, \"numActiveTasks\": 1, \"numCompletedTasks\": 29, \"numSkippedTasks\": 0, \"numFailedTasks\": 0, \"numActiveStages\": 1, \"numCompletedStages\": 1, \"numSkippedStages\": 0, \"numFailedStages\": 0})"
      ]
     },
     "metadata": {},
     "output_type": "display_data"
    },
    {
     "data": {
      "application/javascript": [
       "refreshJobProgress_7baaa9b08eba4871822bed39cb61b615({\"jobId\": 3, \"name\": \"collect at <ipython-input-5-ed4060b10f3f>:122\", \"submissionTime\": \"2017-05-01T01:44:02.978GMT\", \"stageIds\": [3, 4], \"status\": \"RUNNING\", \"numTasks\": 40, \"numActiveTasks\": 1, \"numCompletedTasks\": 29, \"numSkippedTasks\": 0, \"numFailedTasks\": 0, \"numActiveStages\": 1, \"numCompletedStages\": 1, \"numSkippedStages\": 0, \"numFailedStages\": 0})"
      ]
     },
     "metadata": {},
     "output_type": "display_data"
    },
    {
     "data": {
      "application/javascript": [
       "refreshJobProgress_7baaa9b08eba4871822bed39cb61b615({\"jobId\": 3, \"name\": \"collect at <ipython-input-5-ed4060b10f3f>:122\", \"submissionTime\": \"2017-05-01T01:44:02.978GMT\", \"stageIds\": [3, 4], \"status\": \"RUNNING\", \"numTasks\": 40, \"numActiveTasks\": 1, \"numCompletedTasks\": 30, \"numSkippedTasks\": 0, \"numFailedTasks\": 0, \"numActiveStages\": 1, \"numCompletedStages\": 1, \"numSkippedStages\": 0, \"numFailedStages\": 0})"
      ]
     },
     "metadata": {},
     "output_type": "display_data"
    },
    {
     "data": {
      "application/javascript": [
       "refreshJobProgress_7baaa9b08eba4871822bed39cb61b615({\"jobId\": 3, \"name\": \"collect at <ipython-input-5-ed4060b10f3f>:122\", \"submissionTime\": \"2017-05-01T01:44:02.978GMT\", \"stageIds\": [3, 4], \"status\": \"RUNNING\", \"numTasks\": 40, \"numActiveTasks\": 1, \"numCompletedTasks\": 30, \"numSkippedTasks\": 0, \"numFailedTasks\": 0, \"numActiveStages\": 1, \"numCompletedStages\": 1, \"numSkippedStages\": 0, \"numFailedStages\": 0})"
      ]
     },
     "metadata": {},
     "output_type": "display_data"
    },
    {
     "data": {
      "application/javascript": [
       "refreshJobProgress_7baaa9b08eba4871822bed39cb61b615({\"jobId\": 3, \"name\": \"collect at <ipython-input-5-ed4060b10f3f>:122\", \"submissionTime\": \"2017-05-01T01:44:02.978GMT\", \"stageIds\": [3, 4], \"status\": \"RUNNING\", \"numTasks\": 40, \"numActiveTasks\": 1, \"numCompletedTasks\": 30, \"numSkippedTasks\": 0, \"numFailedTasks\": 0, \"numActiveStages\": 1, \"numCompletedStages\": 1, \"numSkippedStages\": 0, \"numFailedStages\": 0})"
      ]
     },
     "metadata": {},
     "output_type": "display_data"
    },
    {
     "data": {
      "application/javascript": [
       "refreshJobProgress_7baaa9b08eba4871822bed39cb61b615({\"jobId\": 3, \"name\": \"collect at <ipython-input-5-ed4060b10f3f>:122\", \"submissionTime\": \"2017-05-01T01:44:02.978GMT\", \"stageIds\": [3, 4], \"status\": \"RUNNING\", \"numTasks\": 40, \"numActiveTasks\": 1, \"numCompletedTasks\": 31, \"numSkippedTasks\": 0, \"numFailedTasks\": 0, \"numActiveStages\": 1, \"numCompletedStages\": 1, \"numSkippedStages\": 0, \"numFailedStages\": 0})"
      ]
     },
     "metadata": {},
     "output_type": "display_data"
    },
    {
     "data": {
      "application/javascript": [
       "refreshJobProgress_7baaa9b08eba4871822bed39cb61b615({\"jobId\": 3, \"name\": \"collect at <ipython-input-5-ed4060b10f3f>:122\", \"submissionTime\": \"2017-05-01T01:44:02.978GMT\", \"stageIds\": [3, 4], \"status\": \"RUNNING\", \"numTasks\": 40, \"numActiveTasks\": 1, \"numCompletedTasks\": 31, \"numSkippedTasks\": 0, \"numFailedTasks\": 0, \"numActiveStages\": 1, \"numCompletedStages\": 1, \"numSkippedStages\": 0, \"numFailedStages\": 0})"
      ]
     },
     "metadata": {},
     "output_type": "display_data"
    },
    {
     "data": {
      "application/javascript": [
       "refreshJobProgress_7baaa9b08eba4871822bed39cb61b615({\"jobId\": 3, \"name\": \"collect at <ipython-input-5-ed4060b10f3f>:122\", \"submissionTime\": \"2017-05-01T01:44:02.978GMT\", \"stageIds\": [3, 4], \"status\": \"RUNNING\", \"numTasks\": 40, \"numActiveTasks\": 1, \"numCompletedTasks\": 31, \"numSkippedTasks\": 0, \"numFailedTasks\": 0, \"numActiveStages\": 1, \"numCompletedStages\": 1, \"numSkippedStages\": 0, \"numFailedStages\": 0})"
      ]
     },
     "metadata": {},
     "output_type": "display_data"
    },
    {
     "data": {
      "application/javascript": [
       "refreshJobProgress_7baaa9b08eba4871822bed39cb61b615({\"jobId\": 3, \"name\": \"collect at <ipython-input-5-ed4060b10f3f>:122\", \"submissionTime\": \"2017-05-01T01:44:02.978GMT\", \"stageIds\": [3, 4], \"status\": \"RUNNING\", \"numTasks\": 40, \"numActiveTasks\": 1, \"numCompletedTasks\": 32, \"numSkippedTasks\": 0, \"numFailedTasks\": 0, \"numActiveStages\": 1, \"numCompletedStages\": 1, \"numSkippedStages\": 0, \"numFailedStages\": 0})"
      ]
     },
     "metadata": {},
     "output_type": "display_data"
    },
    {
     "data": {
      "application/javascript": [
       "refreshJobProgress_7baaa9b08eba4871822bed39cb61b615({\"jobId\": 3, \"name\": \"collect at <ipython-input-5-ed4060b10f3f>:122\", \"submissionTime\": \"2017-05-01T01:44:02.978GMT\", \"stageIds\": [3, 4], \"status\": \"RUNNING\", \"numTasks\": 40, \"numActiveTasks\": 1, \"numCompletedTasks\": 32, \"numSkippedTasks\": 0, \"numFailedTasks\": 0, \"numActiveStages\": 1, \"numCompletedStages\": 1, \"numSkippedStages\": 0, \"numFailedStages\": 0})"
      ]
     },
     "metadata": {},
     "output_type": "display_data"
    },
    {
     "data": {
      "application/javascript": [
       "refreshJobProgress_7baaa9b08eba4871822bed39cb61b615({\"jobId\": 3, \"name\": \"collect at <ipython-input-5-ed4060b10f3f>:122\", \"submissionTime\": \"2017-05-01T01:44:02.978GMT\", \"stageIds\": [3, 4], \"status\": \"RUNNING\", \"numTasks\": 40, \"numActiveTasks\": 1, \"numCompletedTasks\": 32, \"numSkippedTasks\": 0, \"numFailedTasks\": 0, \"numActiveStages\": 1, \"numCompletedStages\": 1, \"numSkippedStages\": 0, \"numFailedStages\": 0})"
      ]
     },
     "metadata": {},
     "output_type": "display_data"
    },
    {
     "data": {
      "application/javascript": [
       "refreshJobProgress_7baaa9b08eba4871822bed39cb61b615({\"jobId\": 3, \"name\": \"collect at <ipython-input-5-ed4060b10f3f>:122\", \"submissionTime\": \"2017-05-01T01:44:02.978GMT\", \"stageIds\": [3, 4], \"status\": \"RUNNING\", \"numTasks\": 40, \"numActiveTasks\": 1, \"numCompletedTasks\": 32, \"numSkippedTasks\": 0, \"numFailedTasks\": 0, \"numActiveStages\": 1, \"numCompletedStages\": 1, \"numSkippedStages\": 0, \"numFailedStages\": 0})"
      ]
     },
     "metadata": {},
     "output_type": "display_data"
    },
    {
     "data": {
      "application/javascript": [
       "refreshJobProgress_7baaa9b08eba4871822bed39cb61b615({\"jobId\": 3, \"name\": \"collect at <ipython-input-5-ed4060b10f3f>:122\", \"submissionTime\": \"2017-05-01T01:44:02.978GMT\", \"stageIds\": [3, 4], \"status\": \"RUNNING\", \"numTasks\": 40, \"numActiveTasks\": 1, \"numCompletedTasks\": 33, \"numSkippedTasks\": 0, \"numFailedTasks\": 0, \"numActiveStages\": 1, \"numCompletedStages\": 1, \"numSkippedStages\": 0, \"numFailedStages\": 0})"
      ]
     },
     "metadata": {},
     "output_type": "display_data"
    },
    {
     "data": {
      "application/javascript": [
       "refreshJobProgress_7baaa9b08eba4871822bed39cb61b615({\"jobId\": 3, \"name\": \"collect at <ipython-input-5-ed4060b10f3f>:122\", \"submissionTime\": \"2017-05-01T01:44:02.978GMT\", \"stageIds\": [3, 4], \"status\": \"RUNNING\", \"numTasks\": 40, \"numActiveTasks\": 1, \"numCompletedTasks\": 33, \"numSkippedTasks\": 0, \"numFailedTasks\": 0, \"numActiveStages\": 1, \"numCompletedStages\": 1, \"numSkippedStages\": 0, \"numFailedStages\": 0})"
      ]
     },
     "metadata": {},
     "output_type": "display_data"
    },
    {
     "data": {
      "application/javascript": [
       "refreshJobProgress_7baaa9b08eba4871822bed39cb61b615({\"jobId\": 3, \"name\": \"collect at <ipython-input-5-ed4060b10f3f>:122\", \"submissionTime\": \"2017-05-01T01:44:02.978GMT\", \"stageIds\": [3, 4], \"status\": \"RUNNING\", \"numTasks\": 40, \"numActiveTasks\": 1, \"numCompletedTasks\": 33, \"numSkippedTasks\": 0, \"numFailedTasks\": 0, \"numActiveStages\": 1, \"numCompletedStages\": 1, \"numSkippedStages\": 0, \"numFailedStages\": 0})"
      ]
     },
     "metadata": {},
     "output_type": "display_data"
    },
    {
     "data": {
      "application/javascript": [
       "refreshJobProgress_7baaa9b08eba4871822bed39cb61b615({\"jobId\": 3, \"name\": \"collect at <ipython-input-5-ed4060b10f3f>:122\", \"submissionTime\": \"2017-05-01T01:44:02.978GMT\", \"stageIds\": [3, 4], \"status\": \"RUNNING\", \"numTasks\": 40, \"numActiveTasks\": 1, \"numCompletedTasks\": 33, \"numSkippedTasks\": 0, \"numFailedTasks\": 0, \"numActiveStages\": 1, \"numCompletedStages\": 1, \"numSkippedStages\": 0, \"numFailedStages\": 0})"
      ]
     },
     "metadata": {},
     "output_type": "display_data"
    },
    {
     "data": {
      "application/javascript": [
       "refreshJobProgress_7baaa9b08eba4871822bed39cb61b615({\"jobId\": 3, \"name\": \"collect at <ipython-input-5-ed4060b10f3f>:122\", \"submissionTime\": \"2017-05-01T01:44:02.978GMT\", \"stageIds\": [3, 4], \"status\": \"RUNNING\", \"numTasks\": 40, \"numActiveTasks\": 1, \"numCompletedTasks\": 34, \"numSkippedTasks\": 0, \"numFailedTasks\": 0, \"numActiveStages\": 1, \"numCompletedStages\": 1, \"numSkippedStages\": 0, \"numFailedStages\": 0})"
      ]
     },
     "metadata": {},
     "output_type": "display_data"
    },
    {
     "data": {
      "application/javascript": [
       "refreshJobProgress_7baaa9b08eba4871822bed39cb61b615({\"jobId\": 3, \"name\": \"collect at <ipython-input-5-ed4060b10f3f>:122\", \"submissionTime\": \"2017-05-01T01:44:02.978GMT\", \"stageIds\": [3, 4], \"status\": \"RUNNING\", \"numTasks\": 40, \"numActiveTasks\": 1, \"numCompletedTasks\": 34, \"numSkippedTasks\": 0, \"numFailedTasks\": 0, \"numActiveStages\": 1, \"numCompletedStages\": 1, \"numSkippedStages\": 0, \"numFailedStages\": 0})"
      ]
     },
     "metadata": {},
     "output_type": "display_data"
    },
    {
     "data": {
      "application/javascript": [
       "refreshJobProgress_7baaa9b08eba4871822bed39cb61b615({\"jobId\": 3, \"name\": \"collect at <ipython-input-5-ed4060b10f3f>:122\", \"submissionTime\": \"2017-05-01T01:44:02.978GMT\", \"stageIds\": [3, 4], \"status\": \"RUNNING\", \"numTasks\": 40, \"numActiveTasks\": 1, \"numCompletedTasks\": 34, \"numSkippedTasks\": 0, \"numFailedTasks\": 0, \"numActiveStages\": 1, \"numCompletedStages\": 1, \"numSkippedStages\": 0, \"numFailedStages\": 0})"
      ]
     },
     "metadata": {},
     "output_type": "display_data"
    },
    {
     "data": {
      "application/javascript": [
       "refreshJobProgress_7baaa9b08eba4871822bed39cb61b615({\"jobId\": 3, \"name\": \"collect at <ipython-input-5-ed4060b10f3f>:122\", \"submissionTime\": \"2017-05-01T01:44:02.978GMT\", \"stageIds\": [3, 4], \"status\": \"RUNNING\", \"numTasks\": 40, \"numActiveTasks\": 1, \"numCompletedTasks\": 34, \"numSkippedTasks\": 0, \"numFailedTasks\": 0, \"numActiveStages\": 1, \"numCompletedStages\": 1, \"numSkippedStages\": 0, \"numFailedStages\": 0})"
      ]
     },
     "metadata": {},
     "output_type": "display_data"
    },
    {
     "data": {
      "application/javascript": [
       "refreshJobProgress_7baaa9b08eba4871822bed39cb61b615({\"jobId\": 3, \"name\": \"collect at <ipython-input-5-ed4060b10f3f>:122\", \"submissionTime\": \"2017-05-01T01:44:02.978GMT\", \"stageIds\": [3, 4], \"status\": \"RUNNING\", \"numTasks\": 40, \"numActiveTasks\": 1, \"numCompletedTasks\": 35, \"numSkippedTasks\": 0, \"numFailedTasks\": 0, \"numActiveStages\": 1, \"numCompletedStages\": 1, \"numSkippedStages\": 0, \"numFailedStages\": 0})"
      ]
     },
     "metadata": {},
     "output_type": "display_data"
    },
    {
     "data": {
      "application/javascript": [
       "refreshJobProgress_7baaa9b08eba4871822bed39cb61b615({\"jobId\": 3, \"name\": \"collect at <ipython-input-5-ed4060b10f3f>:122\", \"submissionTime\": \"2017-05-01T01:44:02.978GMT\", \"stageIds\": [3, 4], \"status\": \"RUNNING\", \"numTasks\": 40, \"numActiveTasks\": 1, \"numCompletedTasks\": 35, \"numSkippedTasks\": 0, \"numFailedTasks\": 0, \"numActiveStages\": 1, \"numCompletedStages\": 1, \"numSkippedStages\": 0, \"numFailedStages\": 0})"
      ]
     },
     "metadata": {},
     "output_type": "display_data"
    },
    {
     "data": {
      "application/javascript": [
       "refreshJobProgress_7baaa9b08eba4871822bed39cb61b615({\"jobId\": 3, \"name\": \"collect at <ipython-input-5-ed4060b10f3f>:122\", \"submissionTime\": \"2017-05-01T01:44:02.978GMT\", \"stageIds\": [3, 4], \"status\": \"RUNNING\", \"numTasks\": 40, \"numActiveTasks\": 1, \"numCompletedTasks\": 35, \"numSkippedTasks\": 0, \"numFailedTasks\": 0, \"numActiveStages\": 1, \"numCompletedStages\": 1, \"numSkippedStages\": 0, \"numFailedStages\": 0})"
      ]
     },
     "metadata": {},
     "output_type": "display_data"
    },
    {
     "data": {
      "application/javascript": [
       "refreshJobProgress_7baaa9b08eba4871822bed39cb61b615({\"jobId\": 3, \"name\": \"collect at <ipython-input-5-ed4060b10f3f>:122\", \"submissionTime\": \"2017-05-01T01:44:02.978GMT\", \"stageIds\": [3, 4], \"status\": \"RUNNING\", \"numTasks\": 40, \"numActiveTasks\": 1, \"numCompletedTasks\": 36, \"numSkippedTasks\": 0, \"numFailedTasks\": 0, \"numActiveStages\": 1, \"numCompletedStages\": 1, \"numSkippedStages\": 0, \"numFailedStages\": 0})"
      ]
     },
     "metadata": {},
     "output_type": "display_data"
    },
    {
     "data": {
      "application/javascript": [
       "refreshJobProgress_7baaa9b08eba4871822bed39cb61b615({\"jobId\": 3, \"name\": \"collect at <ipython-input-5-ed4060b10f3f>:122\", \"submissionTime\": \"2017-05-01T01:44:02.978GMT\", \"stageIds\": [3, 4], \"status\": \"RUNNING\", \"numTasks\": 40, \"numActiveTasks\": 1, \"numCompletedTasks\": 36, \"numSkippedTasks\": 0, \"numFailedTasks\": 0, \"numActiveStages\": 1, \"numCompletedStages\": 1, \"numSkippedStages\": 0, \"numFailedStages\": 0})"
      ]
     },
     "metadata": {},
     "output_type": "display_data"
    },
    {
     "data": {
      "application/javascript": [
       "refreshJobProgress_7baaa9b08eba4871822bed39cb61b615({\"jobId\": 3, \"name\": \"collect at <ipython-input-5-ed4060b10f3f>:122\", \"submissionTime\": \"2017-05-01T01:44:02.978GMT\", \"stageIds\": [3, 4], \"status\": \"RUNNING\", \"numTasks\": 40, \"numActiveTasks\": 1, \"numCompletedTasks\": 36, \"numSkippedTasks\": 0, \"numFailedTasks\": 0, \"numActiveStages\": 1, \"numCompletedStages\": 1, \"numSkippedStages\": 0, \"numFailedStages\": 0})"
      ]
     },
     "metadata": {},
     "output_type": "display_data"
    },
    {
     "data": {
      "application/javascript": [
       "refreshJobProgress_7baaa9b08eba4871822bed39cb61b615({\"jobId\": 3, \"name\": \"collect at <ipython-input-5-ed4060b10f3f>:122\", \"submissionTime\": \"2017-05-01T01:44:02.978GMT\", \"stageIds\": [3, 4], \"status\": \"RUNNING\", \"numTasks\": 40, \"numActiveTasks\": 1, \"numCompletedTasks\": 36, \"numSkippedTasks\": 0, \"numFailedTasks\": 0, \"numActiveStages\": 1, \"numCompletedStages\": 1, \"numSkippedStages\": 0, \"numFailedStages\": 0})"
      ]
     },
     "metadata": {},
     "output_type": "display_data"
    },
    {
     "data": {
      "application/javascript": [
       "refreshJobProgress_7baaa9b08eba4871822bed39cb61b615({\"jobId\": 3, \"name\": \"collect at <ipython-input-5-ed4060b10f3f>:122\", \"submissionTime\": \"2017-05-01T01:44:02.978GMT\", \"stageIds\": [3, 4], \"status\": \"RUNNING\", \"numTasks\": 40, \"numActiveTasks\": 1, \"numCompletedTasks\": 37, \"numSkippedTasks\": 0, \"numFailedTasks\": 0, \"numActiveStages\": 1, \"numCompletedStages\": 1, \"numSkippedStages\": 0, \"numFailedStages\": 0})"
      ]
     },
     "metadata": {},
     "output_type": "display_data"
    },
    {
     "data": {
      "application/javascript": [
       "refreshJobProgress_7baaa9b08eba4871822bed39cb61b615({\"jobId\": 3, \"name\": \"collect at <ipython-input-5-ed4060b10f3f>:122\", \"submissionTime\": \"2017-05-01T01:44:02.978GMT\", \"stageIds\": [3, 4], \"status\": \"RUNNING\", \"numTasks\": 40, \"numActiveTasks\": 1, \"numCompletedTasks\": 37, \"numSkippedTasks\": 0, \"numFailedTasks\": 0, \"numActiveStages\": 1, \"numCompletedStages\": 1, \"numSkippedStages\": 0, \"numFailedStages\": 0})"
      ]
     },
     "metadata": {},
     "output_type": "display_data"
    },
    {
     "data": {
      "application/javascript": [
       "refreshJobProgress_7baaa9b08eba4871822bed39cb61b615({\"jobId\": 3, \"name\": \"collect at <ipython-input-5-ed4060b10f3f>:122\", \"submissionTime\": \"2017-05-01T01:44:02.978GMT\", \"stageIds\": [3, 4], \"status\": \"RUNNING\", \"numTasks\": 40, \"numActiveTasks\": 1, \"numCompletedTasks\": 37, \"numSkippedTasks\": 0, \"numFailedTasks\": 0, \"numActiveStages\": 1, \"numCompletedStages\": 1, \"numSkippedStages\": 0, \"numFailedStages\": 0})"
      ]
     },
     "metadata": {},
     "output_type": "display_data"
    },
    {
     "data": {
      "application/javascript": [
       "refreshJobProgress_7baaa9b08eba4871822bed39cb61b615({\"jobId\": 3, \"name\": \"collect at <ipython-input-5-ed4060b10f3f>:122\", \"submissionTime\": \"2017-05-01T01:44:02.978GMT\", \"stageIds\": [3, 4], \"status\": \"RUNNING\", \"numTasks\": 40, \"numActiveTasks\": 1, \"numCompletedTasks\": 37, \"numSkippedTasks\": 0, \"numFailedTasks\": 0, \"numActiveStages\": 1, \"numCompletedStages\": 1, \"numSkippedStages\": 0, \"numFailedStages\": 0})"
      ]
     },
     "metadata": {},
     "output_type": "display_data"
    },
    {
     "data": {
      "application/javascript": [
       "refreshJobProgress_7baaa9b08eba4871822bed39cb61b615({\"jobId\": 3, \"name\": \"collect at <ipython-input-5-ed4060b10f3f>:122\", \"submissionTime\": \"2017-05-01T01:44:02.978GMT\", \"stageIds\": [3, 4], \"status\": \"RUNNING\", \"numTasks\": 40, \"numActiveTasks\": 1, \"numCompletedTasks\": 38, \"numSkippedTasks\": 0, \"numFailedTasks\": 0, \"numActiveStages\": 1, \"numCompletedStages\": 1, \"numSkippedStages\": 0, \"numFailedStages\": 0})"
      ]
     },
     "metadata": {},
     "output_type": "display_data"
    },
    {
     "data": {
      "application/javascript": [
       "refreshJobProgress_7baaa9b08eba4871822bed39cb61b615({\"jobId\": 3, \"name\": \"collect at <ipython-input-5-ed4060b10f3f>:122\", \"submissionTime\": \"2017-05-01T01:44:02.978GMT\", \"stageIds\": [3, 4], \"status\": \"RUNNING\", \"numTasks\": 40, \"numActiveTasks\": 1, \"numCompletedTasks\": 38, \"numSkippedTasks\": 0, \"numFailedTasks\": 0, \"numActiveStages\": 1, \"numCompletedStages\": 1, \"numSkippedStages\": 0, \"numFailedStages\": 0})"
      ]
     },
     "metadata": {},
     "output_type": "display_data"
    },
    {
     "data": {
      "application/javascript": [
       "refreshJobProgress_7baaa9b08eba4871822bed39cb61b615({\"jobId\": 3, \"name\": \"collect at <ipython-input-5-ed4060b10f3f>:122\", \"submissionTime\": \"2017-05-01T01:44:02.978GMT\", \"stageIds\": [3, 4], \"status\": \"RUNNING\", \"numTasks\": 40, \"numActiveTasks\": 1, \"numCompletedTasks\": 38, \"numSkippedTasks\": 0, \"numFailedTasks\": 0, \"numActiveStages\": 1, \"numCompletedStages\": 1, \"numSkippedStages\": 0, \"numFailedStages\": 0})"
      ]
     },
     "metadata": {},
     "output_type": "display_data"
    },
    {
     "data": {
      "application/javascript": [
       "refreshJobProgress_7baaa9b08eba4871822bed39cb61b615({\"jobId\": 3, \"name\": \"collect at <ipython-input-5-ed4060b10f3f>:122\", \"submissionTime\": \"2017-05-01T01:44:02.978GMT\", \"stageIds\": [3, 4], \"status\": \"RUNNING\", \"numTasks\": 40, \"numActiveTasks\": 1, \"numCompletedTasks\": 39, \"numSkippedTasks\": 0, \"numFailedTasks\": 0, \"numActiveStages\": 1, \"numCompletedStages\": 1, \"numSkippedStages\": 0, \"numFailedStages\": 0})"
      ]
     },
     "metadata": {},
     "output_type": "display_data"
    },
    {
     "data": {
      "application/javascript": [
       "refreshJobProgress_7baaa9b08eba4871822bed39cb61b615({\"jobId\": 3, \"name\": \"collect at <ipython-input-5-ed4060b10f3f>:122\", \"submissionTime\": \"2017-05-01T01:44:02.978GMT\", \"stageIds\": [3, 4], \"status\": \"RUNNING\", \"numTasks\": 40, \"numActiveTasks\": 1, \"numCompletedTasks\": 39, \"numSkippedTasks\": 0, \"numFailedTasks\": 0, \"numActiveStages\": 1, \"numCompletedStages\": 1, \"numSkippedStages\": 0, \"numFailedStages\": 0})"
      ]
     },
     "metadata": {},
     "output_type": "display_data"
    },
    {
     "data": {
      "application/javascript": [
       "refreshJobProgress_7baaa9b08eba4871822bed39cb61b615({\"jobId\": 3, \"name\": \"collect at <ipython-input-5-ed4060b10f3f>:122\", \"submissionTime\": \"2017-05-01T01:44:02.978GMT\", \"stageIds\": [3, 4], \"status\": \"RUNNING\", \"numTasks\": 40, \"numActiveTasks\": 1, \"numCompletedTasks\": 39, \"numSkippedTasks\": 0, \"numFailedTasks\": 0, \"numActiveStages\": 1, \"numCompletedStages\": 1, \"numSkippedStages\": 0, \"numFailedStages\": 0})"
      ]
     },
     "metadata": {},
     "output_type": "display_data"
    },
    {
     "data": {
      "application/javascript": [
       "refreshJobProgress_7baaa9b08eba4871822bed39cb61b615({\"jobId\": 3, \"name\": \"collect at <ipython-input-5-ed4060b10f3f>:122\", \"submissionTime\": \"2017-05-01T01:44:02.978GMT\", \"stageIds\": [3, 4], \"status\": \"RUNNING\", \"numTasks\": 40, \"numActiveTasks\": 1, \"numCompletedTasks\": 39, \"numSkippedTasks\": 0, \"numFailedTasks\": 0, \"numActiveStages\": 1, \"numCompletedStages\": 1, \"numSkippedStages\": 0, \"numFailedStages\": 0})"
      ]
     },
     "metadata": {},
     "output_type": "display_data"
    },
    {
     "data": {
      "application/javascript": [
       "refreshJobProgress_7baaa9b08eba4871822bed39cb61b615({\"jobId\": 3, \"name\": \"collect at <ipython-input-5-ed4060b10f3f>:122\", \"submissionTime\": \"2017-05-01T01:44:02.978GMT\", \"stageIds\": [3, 4], \"status\": \"RUNNING\", \"numTasks\": 40, \"numActiveTasks\": 0, \"numCompletedTasks\": 40, \"numSkippedTasks\": 0, \"numFailedTasks\": 0, \"numActiveStages\": 1, \"numCompletedStages\": 1, \"numSkippedStages\": 0, \"numFailedStages\": 0})"
      ]
     },
     "metadata": {},
     "output_type": "display_data"
    },
    {
     "name": "stdout",
     "output_type": "stream",
     "text": [
      "Letter      Freq\n",
      "     a      4249\n",
      "     b       656\n",
      "     c      2181\n",
      "     d      1509\n",
      "     e      5889\n",
      "     f       532\n",
      "     g       612\n",
      "     h       291\n",
      "     i      5261\n",
      "     j        65\n",
      "     k         0\n",
      "     l      3090\n",
      "     m      2439\n",
      "     n      3193\n",
      "     o      2184\n",
      "     p      1233\n",
      "     q       712\n",
      "     r      2910\n",
      "     s      4364\n",
      "     t      4338\n",
      "     u      4697\n",
      "     v       896\n",
      "     w         0\n",
      "     x       101\n",
      "     y         0\n",
      "     z         0\n"
     ]
    }
   ],
   "source": [
    "spark_job_4 = SparkLetterHistogram()\n",
    "\n",
    "with open('./Lorem ipsum.txt', 'r') as text:\n",
    "    text = text.read()\n",
    "    spark_job_4.apply(text)\n",
    "\n",
    "    print(\"{0:>6s}  {1:>8s}\".format(\"Letter\", \"Freq\"))\n",
    "    for l, f in spark_job_4.histogram:\n",
    "        print(\"{0:>6s}  {1:>8d}\".format(l,f))"
   ]
  },
  {
   "cell_type": "code",
   "execution_count": 7,
   "metadata": {
    "collapsed": false,
    "scrolled": false
   },
   "outputs": [
    {
     "data": {
      "text/html": [
       "<html>\n",
       "    <head>\n",
       "        <meta charset=\"utf-8\">\n",
       "        <style>\n",
       "            .plot.panel {\n",
       "                background-color: #ffffff;\n",
       "                border: 1px solid orange;\n",
       "                border-left: 0.4rem solid orange;\n",
       "                border-radius: 0.4rem;\n",
       "                margin-left: -0.4rem;\n",
       "                margin-right: -0.4rem;\n",
       "                padding: 1rem;\n",
       "            }\n",
       "        </style>\n",
       "        <script type=\"text/javascript\">\n",
       "            function load_highcharts(d, s, id, src) {\n",
       "                var js, fjs = d.getElementsByTagName(s)[0];\n",
       "                if (d.getElementById(id)) {\n",
       "                    return;\n",
       "                }\n",
       "                js = d.createElement(s);\n",
       "                js.id = id;\n",
       "                js.src = src;\n",
       "                fjs.parentNode.insertBefore(js, fjs);\n",
       "            };\n",
       "            \n",
       "            (function () {\n",
       "                load_highcharts(document, 'script', 'highcharts', \"https://code.highcharts.com/highcharts.js\");\n",
       "                load_highcharts(document, 'script', 'highcharts-exporting', \"https://code.highcharts.com/highcharts.js\");\n",
       "            })();\n",
       "        </script>\n",
       "        <script type=\"text/javascript\" async defer>\n",
       "            function plot_7baaa9b08eba4871822bed39cb61b615(data, height, width){\n",
       "                console.log(data[\"categories\"]);\n",
       "                console.log(data[\"frequency\"]);\n",
       "                \n",
       "                Highcharts.chart('plot-panel-7baaa9b08eba4871822bed39cb61b615', {\n",
       "                    chart: {\n",
       "                        type: 'bar',\n",
       "                        width: width,\n",
       "                        height: height,\n",
       "                    },\n",
       "                    title: {\n",
       "                        text: 'Letter Histogram'\n",
       "                    },\n",
       "                    subtitle: {\n",
       "                        text: 'Source: ' + $(\"#progress-panel-7baaa9b08eba4871822bed39cb61b615 .job.id\").text() + \":&lt;\" + $(\"#progress-panel-7baaa9b08eba4871822bed39cb61b615 .job.name\").text() + \"&gt;\"\n",
       "                    },\n",
       "                    xAxis: {\n",
       "                        categories: data[\"categories\"],\n",
       "                        title: {\n",
       "                            text: null\n",
       "                        }\n",
       "                    },\n",
       "                    yAxis: {\n",
       "                        min: 0,\n",
       "                        title: {\n",
       "                            text: 'Frecuency',\n",
       "                            align: 'high'\n",
       "                        },\n",
       "                        labels: {\n",
       "                            overflow: 'justify'\n",
       "                        }\n",
       "                    },\n",
       "                    plotOptions: {\n",
       "                        bar: {\n",
       "                            dataLabels: {\n",
       "                                enabled: true\n",
       "                            }\n",
       "                        }\n",
       "                    },\n",
       "                    legend: {\n",
       "                        layout: 'vertical',\n",
       "                        align: 'right',\n",
       "                        verticalAlign: 'top',\n",
       "                        x: -40,\n",
       "                        y: 80,\n",
       "                        floating: true,\n",
       "                        borderWidth: 1,\n",
       "                        backgroundColor: ((Highcharts.theme && Highcharts.theme.legendBackgroundColor) || '#FFFFFF'),\n",
       "                        shadow: true\n",
       "                    },\n",
       "                    credits: {\n",
       "                        enabled: false\n",
       "                    },\n",
       "                    series: [{\n",
       "                        name: $(\"#progress-panel-7baaa9b08eba4871822bed39cb61b615 .job.id\").text() + \":&lt;\" + $(\"#progress-panel-7baaa9b08eba4871822bed39cb61b615 .job.name\").text() + \"&gt;\",\n",
       "                        data: data[\"frequency\"],\n",
       "                    }]\n",
       "                });\n",
       "            }\n",
       "        </script>\n",
       "    </head>\n",
       "    <body>\n",
       "        <div id=\"plot-panel-7baaa9b08eba4871822bed39cb61b615\" class=\"plot panel\">\n",
       "        </div>\n",
       "    </body>\n",
       "</html>\n"
      ]
     },
     "metadata": {},
     "output_type": "display_data"
    },
    {
     "data": {
      "application/javascript": [
       "plot_7baaa9b08eba4871822bed39cb61b615({\"categories\": [\"a\", \"b\", \"c\", \"d\", \"e\", \"f\", \"g\", \"h\", \"i\", \"j\", \"k\", \"l\", \"m\", \"n\", \"o\", \"p\", \"q\", \"r\", \"s\", \"t\", \"u\", \"v\", \"w\", \"x\", \"y\", \"z\"], \"frequency\": [4249, 656, 2181, 1509, 5889, 532, 612, 291, 5261, 65, 0, 3090, 2439, 3193, 2184, 1233, 712, 2910, 4364, 4338, 4697, 896, 0, 101, 0, 0]}, 600, null)"
      ]
     },
     "metadata": {},
     "output_type": "display_data"
    }
   ],
   "source": [
    "spark_job_4.plot(height=600)"
   ]
  }
 ],
 "metadata": {
  "kernelspec": {
   "display_name": "Python 3",
   "language": "python",
   "name": "python3"
  },
  "language_info": {
   "codemirror_mode": {
    "name": "ipython",
    "version": 3
   },
   "file_extension": ".py",
   "mimetype": "text/x-python",
   "name": "python",
   "nbconvert_exporter": "python",
   "pygments_lexer": "ipython3",
   "version": "3.6.0"
  }
 },
 "nbformat": 4,
 "nbformat_minor": 2
}
