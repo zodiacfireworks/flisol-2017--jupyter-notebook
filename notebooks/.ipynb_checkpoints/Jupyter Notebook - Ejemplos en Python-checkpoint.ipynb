{
 "cells": [
  {
   "cell_type": "markdown",
   "metadata": {},
   "source": [
    "<div class=\"clearfix\" style=\"padding: 10px; padding-left: 0px\">\n",
    "<img src=\"resources/img/jupyter-logo.png\" class=\"pull-left\"  style=\"display: block; height: 20px; margin-top: 10px;\">\n",
    "<img src=\"resources/img/softbutterfly-logo.png\" class=\"pull-right\" style=\"display: block; height: 40px; margin: 0;\">\n",
    "</div>"
   ]
  },
  {
   "cell_type": "markdown",
   "metadata": {},
   "source": [
    "<h1>Jupyter Notebok: Un entorno de programación interactivo<br><small>Parte I: Ejemplos básico</small><h1>"
   ]
  },
  {
   "cell_type": "markdown",
   "metadata": {},
   "source": [
    "<b>Martín Josemaría Vuelta Rojas</b><br><br>\n",
    "<i>Universidad Nacional Mayor de San Marcos</i><br>\n",
    "<span>Facultad de Ciencias Físicas</span><br><br>\n",
    "<i>SoftButterfly</i><br>\n",
    "<span>Líder del Área de Desarrollo</span>"
   ]
  },
  {
   "cell_type": "markdown",
   "metadata": {},
   "source": [
    "<h2>Algunos ejemplos de <a href=\"https://projecteuler.net/\" taget=\"_blank\" style=\"text-decoration: none;\">Proyecto Euler</a></h2>"
   ]
  },
  {
   "cell_type": "markdown",
   "metadata": {},
   "source": [
    "<div style=\"padding: 16px; border: 1px solid #dedede; border-left: 5px solid #1b809e; border-radius: 4px;margin:0;\">\n",
    "<h3 style=\"color:#1b809e; margin: 0; font-weight: normal;\">Problema 1</h3>\n",
    "\n",
    "<p>\n",
    "Si enumeramos todos los números naturales por debajo de 10 que son múltiplos de 3 o 5, obtenemos 3, 5, 6 y 9. La suma de estos múltiplos es 23.\n",
    "</p>\n",
    "\n",
    "<p>\n",
    "Calcula la suma de todos los múltiplos de 3 o 5 por debajo de 1000.\n",
    "</p>\n",
    "</div>"
   ]
  },
  {
   "cell_type": "code",
   "execution_count": null,
   "metadata": {
    "collapsed": true
   },
   "outputs": [],
   "source": [
    "result = 0\n",
    "\n",
    "for n in range(1000):\n",
    "    if n % 3 == 0 or n % 5 == 0:\n",
    "        result = result + n\n",
    "\n",
    "print(\"Result: {0}\".format(result))       "
   ]
  },
  {
   "cell_type": "code",
   "execution_count": null,
   "metadata": {
    "collapsed": true
   },
   "outputs": [],
   "source": [
    "print(\"Result: {0}\".format(sum(filter(lambda x: x % 3 == 0 or x % 5 == 0, range(1000)))))"
   ]
  },
  {
   "cell_type": "markdown",
   "metadata": {},
   "source": [
    "<div style=\"padding: 16px; border: 1px solid #dedede; border-left: 5px solid #1b809e; border-radius: 4px;margin:0;\">\n",
    "<h3 style=\"color:#1b809e; margin: 0; font-weight: normal;\">Problema 2</h3>\n",
    "\n",
    "<p>\n",
    "Cada nuevo término en la secuencia de Fibonacci se genera sumando los dos términos anteriores. Comenzando con 1 y 2, los primeros 10 términos serán:\n",
    "</p>\n",
    "\n",
    "<center>\n",
    "1, 2, 3, 5, 8, 13, 21, 34, 55, 89, ...\n",
    "</center>\n",
    "\n",
    "<p>\n",
    "Considerando los términos en la secuencia de Fibonacci cuyos valores no exceden los cuatro millones, encuentre la suma de los términos pares.\n",
    "</p>\n",
    "</div>"
   ]
  },
  {
   "cell_type": "code",
   "execution_count": null,
   "metadata": {
    "collapsed": true
   },
   "outputs": [],
   "source": [
    "def fib(n):\n",
    "    if n < 1:\n",
    "        raise(ValueError('Positional argument \"n\" ust be greater than 0'))\n",
    "    if n == 1 or n == 2:\n",
    "        return 1\n",
    "    \n",
    "    return fib(n-1) + fib(n-2)\n",
    "\n",
    "n = 1\n",
    "fibn = 0\n",
    "result = 0\n",
    "\n",
    "while fibn < 4000000:\n",
    "    if n % 2 == 0:\n",
    "        fibn = fib(n)\n",
    "        result = result + fibn\n",
    "    \n",
    "    n = n + 1\n",
    "\n",
    "print(\"Result: {0}\".format(result))"
   ]
  },
  {
   "cell_type": "markdown",
   "metadata": {},
   "source": [
    "<h2>Plinomios de Hermite</h2>"
   ]
  },
  {
   "cell_type": "markdown",
   "metadata": {},
   "source": [
    "<div style=\"padding: 16px; border: 1px solid #dedede; border-left: 5px solid #1b809e; border-radius: 4px;margin:0;\">\n",
    "<h3 style=\"color:#1b809e; margin: 0; font-weight: normal;\">Polinomios de Hermite</h3>\n",
    "\n",
    "<p>\n",
    "Los polinomios de Hermite se pueden representar mendiante su f+ormula de Rodriguez como\n",
    "</p>\n",
    "\n",
    "<p>\n",
    "$$\n",
    "H_{k}\\left(x\\right) = \\left(1\\right)^k{\\textrm{e}}^{{x}^{2}}\\frac{\\partial ^k}{\\partial x^k}\\left({\\textrm{e}}^{-{x}^{2}}\\right)\n",
    "$$\n",
    "</p>\n",
    "<p>\n",
    "El cálculo de $H_k\\left(x\\right)$ se hace uso de la regla de recurrencia\n",
    "</p>\n",
    "\n",
    "<p>\n",
    "$$\n",
    "H_{k+1}(\\xi)=2{\\xi}H_k{\\xi}-2kH_{k-1}{\\xi}.\n",
    "$$\n",
    "</p>\n",
    "</div>"
   ]
  },
  {
   "cell_type": "code",
   "execution_count": null,
   "metadata": {
    "collapsed": true
   },
   "outputs": [],
   "source": [
    "def factorial(n):\n",
    "    return 1 if n == 0 else n * factorial(n - 1)"
   ]
  },
  {
   "cell_type": "code",
   "execution_count": null,
   "metadata": {
    "collapsed": true
   },
   "outputs": [],
   "source": [
    "def Hermite(n, x):\n",
    "    if n == 0:\n",
    "        return 1\n",
    "    \n",
    "    hermite_v = [1, 2 * x]\n",
    "    \n",
    "    for m in range(2, n + 1):\n",
    "        hermite_v.append(\n",
    "            2 * x * hermite_v[m - 1] - 2 * (m - 1) * hermite_v[m - 2]\n",
    "        )\n",
    "        \n",
    "    return hermite_v[n]"
   ]
  },
  {
   "cell_type": "code",
   "execution_count": null,
   "metadata": {
    "collapsed": true
   },
   "outputs": [],
   "source": [
    "%matplotlib inline"
   ]
  },
  {
   "cell_type": "code",
   "execution_count": null,
   "metadata": {
    "collapsed": true
   },
   "outputs": [],
   "source": [
    "# Ajustes generales para los gráficos\n",
    "# Para poder usar 'usetex=True' es necesario haber instalado latex\n",
    "from matplotlib.font_manager import *\n",
    "from matplotlib.pylab import *\n",
    "\n",
    "ioff()\n",
    "\n",
    "rc(\n",
    "    'lines',\n",
    "    linewidth=1)\n",
    "\n",
    "rc(\n",
    "    'text',\n",
    "    usetex=True)\n",
    "\n",
    "rc(\n",
    "    'font',\n",
    "    family='Times New Roman')\n",
    "\n",
    "font_title = FontProperties(size=24)\n",
    "font_label = FontProperties(size=22)\n",
    "font_ticks = FontProperties(size=16)\n",
    "font_legend = FontProperties(size=20)"
   ]
  },
  {
   "cell_type": "code",
   "execution_count": null,
   "metadata": {
    "collapsed": true
   },
   "outputs": [],
   "source": [
    "# Gráfico de los polinomios de hermite de ordenes 0 hasta el 4\n",
    "fig = figure(figsize=(12, 8), frameon=False)\n",
    "axs = fig.add_subplot('111')\n",
    "\n",
    "X = linspace(-3, 4, 300)\n",
    "\n",
    "for n in range(5):\n",
    "    Y = [Hermite(n, x) for x in X]\n",
    "    axs.plot(X, Y, label=\"$\\mathcal{H}_{\" + \"{0}\".format(n) + \"}$\")\n",
    "\n",
    "axs.set_xlim(-3, 4)\n",
    "axs.set_xlabel(\"$x$\", fontproperties=font_label)\n",
    "axs.set_xticks([x for x in range(-3,5)])\n",
    "axs.set_xticklabels([\"${0}$\".format(x) for x in range(-3,5)], fontproperties=font_ticks)\n",
    "\n",
    "axs.set_ylim(-30, 30)\n",
    "axs.set_ylabel(\"$\\mathcal{H}_n(x)$\", fontproperties=font_label)\n",
    "axs.set_yticks([x for x in range(-30,40,10)])\n",
    "axs.set_yticklabels([\"${0}$\".format(x) for x in range(-30,40,10)], fontproperties=font_ticks)\n",
    "\n",
    "axs.set_title(\"$\\mathrm{Polinomios\\ de\\ Hermite}$\", fontproperties=font_title)\n",
    "\n",
    "axs.legend(loc=4, prop=font_legend)\n",
    "axs.grid('on', color='0.5',linestyle='--')\n",
    "tight_layout()\n",
    "show()"
   ]
  },
  {
   "cell_type": "markdown",
   "metadata": {},
   "source": [
    "<h2>Función de onda del Oscilador Armónico Cuántico</h2>"
   ]
  },
  {
   "cell_type": "markdown",
   "metadata": {},
   "source": [
    "<div style=\"padding: 16px; border: 1px solid #dedede; border-left: 5px solid #1b809e; border-radius: 4px;margin:0;\">\n",
    "<h3 style=\"color:#1b809e; margin: 0; font-weight: normal;\">Función de onda</h3>\n",
    "\n",
    "<p>\n",
    "La funcion de onda del oscilador armónico cuántico se expresa en términos de los polinomios de Hermite de la siguiente forma\n",
    "</p>\n",
    "\n",
    "<p>\n",
    "$$\n",
    "\\psi_k(\\xi)=\n",
    "\\frac{1}{\\sqrt{k!2^k\\sqrt{\\pi}}}\n",
    "H_k\\left(\\xi\\right)\n",
    "{\\textrm{e}}^{-{\\frac{1}{2}\\xi^2}}\n",
    "$$\n",
    "</p>\n",
    "</div>"
   ]
  },
  {
   "cell_type": "code",
   "execution_count": null,
   "metadata": {
    "collapsed": true
   },
   "outputs": [],
   "source": [
    "def Psi(n, x):\n",
    "    return (\n",
    "        pow(pi, -0.25) * \n",
    "        pow(2.0, -0.5 * n) *\n",
    "        pow(factorial(n), -0.5) *\n",
    "        Hermite(n, x) *\n",
    "        exp(-0.5*pow(x,2))\n",
    "    )"
   ]
  },
  {
   "cell_type": "code",
   "execution_count": null,
   "metadata": {
    "collapsed": true
   },
   "outputs": [],
   "source": [
    "# Neat Example!!\n",
    "# Gráfico de las funciones de onda desde el orden 0 hasta el 12\n",
    "C = {\n",
    "    -1: \"#212121\",\n",
    "    0: \"#F44336\",\n",
    "    1: \"#E91E63\",\n",
    "    2: \"#9C27B0\",\n",
    "    3: \"#673AB7\",\n",
    "    4: \"#3F51B5\",\n",
    "    5: \"#2196F3\",\n",
    "    6: \"#03A9F4\",\n",
    "    7: \"#00BCD4\",\n",
    "    8: \"#009688\",\n",
    "    9: \"#4CAF50\",\n",
    "    10: \"#8BC34A\",\n",
    "    11: \"#CDDC39\",\n",
    "    12: \"#FFEB3B\",\n",
    "    13: \"#FFC107\",\n",
    "    14: \"#FF9800\",\n",
    "    15: \"#FF5722\",\n",
    "}\n",
    "\n",
    "fig = figure(figsize=(12, 8), frameon=False)\n",
    "\n",
    "axs = fig.add_subplot('111')\n",
    "\n",
    "X = linspace(-6, 6, 300)\n",
    "Y = [0.5*x**2 for x in X]\n",
    "\n",
    "axs.plot(X, Y, label=\"$\\mathcal{V}(x)=\\\\frac{1}{2}x^{2}$\", color=C[-1], alpha=0.5, linewidth=1)\n",
    "\n",
    "\n",
    "for n in range(13):\n",
    "    X = linspace(-6, 6, 300)\n",
    "    Y = [Psi(n, x)**2 + n + 0.5 for x in X]\n",
    "    \n",
    "    axs.fill_between(X, n+0.5, Y, label=\"$\\\\left|\\mathcal{\\psi}_{\" + \"{0}\".format(n) + \"}\\\\right|^{2}$\",\n",
    "                    facecolor=C[n%16], alpha=0.5, color=C[n%16] )\n",
    "\n",
    "axs.set_xlim(-6, 6)\n",
    "axs.set_xlabel(\"$x$\", fontproperties=font_label)\n",
    "axs.set_xticks([x for x in range(-6,7)])\n",
    "axs.set_xticklabels([\"${0}$\".format(x) for x in range(-6,7)], fontproperties=font_ticks)\n",
    "\n",
    "axs.set_ylim(-0.5, 13.5)\n",
    "axs.set_ylabel(\"$\\\\left|\\mathcal{\\psi}_n(x)\\\\right|^{2} + n + \\\\frac{1}{2}$\", fontproperties=font_label)\n",
    "axs.set_yticks(linspace(-0.5,13.5,15))\n",
    "axs.set_yticklabels([\"${0:.2f}$\".format(y) for y in linspace(-0.5,13.5,15)], fontproperties=font_ticks)\n",
    "\n",
    "axs.set_title(\"$\\mathrm{Densidad\\ de\\ probabilidad\\ dentro\\ del\\ pozo\\ potencial}$\", fontproperties=font_title)\n",
    "\n",
    "axs.legend(loc='center right', bbox_to_anchor=(1.275, 0.5), prop=font_legend, title=\"Legend\")\n",
    "\n",
    "axs.grid('on')\n",
    "\n",
    "tight_layout()    \n",
    "show()"
   ]
  }
 ],
 "metadata": {
  "kernelspec": {
   "display_name": "Python 3",
   "language": "python",
   "name": "python3"
  },
  "language_info": {
   "codemirror_mode": {
    "name": "ipython",
    "version": 3
   },
   "file_extension": ".py",
   "mimetype": "text/x-python",
   "name": "python",
   "nbconvert_exporter": "python",
   "pygments_lexer": "ipython3",
   "version": "3.6.0"
  }
 },
 "nbformat": 4,
 "nbformat_minor": 2
}
